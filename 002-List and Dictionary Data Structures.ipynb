{
 "cells": [
  {
   "cell_type": "markdown",
   "id": "344de744-54f8-4399-a878-a69280d3da82",
   "metadata": {},
   "source": [
    "#### Problem 1:\n",
    "- Example List: numbers = [34, 1, 23, 4, 3]\n",
    "- Task: Sort the list in ascending order using the sort() function.\n",
    "- Expected Output: A sorted list in ascending order, e.g., [1, 3, 4, 23, 34]."
   ]
  },
  {
   "cell_type": "code",
   "execution_count": 2,
   "id": "874cd835-1aac-4d1f-8b19-95382eb7564f",
   "metadata": {},
   "outputs": [
    {
     "name": "stdout",
     "output_type": "stream",
     "text": [
      "[1, 3, 4, 23, 34]\n"
     ]
    }
   ],
   "source": [
    "myNums = [34, 1, 23, 4, 3]\n",
    "\n",
    "myNums.sort()\n",
    "print(myNums)"
   ]
  },
  {
   "cell_type": "markdown",
   "id": "c688cd99-2ccf-47b4-ab46-c87c8cbf3db3",
   "metadata": {},
   "source": [
    "#### Problem 2:\n",
    "- Example List: fruits = ['apple', 'banana', 'cherry', 'date']\n",
    "- Task: Sort the list in descending order using the sorted() function.\n",
    "- Expected Output: A list sorted in descending order, e.g., ['date', 'cherry', 'banana', 'apple']."
   ]
  },
  {
   "cell_type": "code",
   "execution_count": 4,
   "id": "161adbe5-22b2-427b-b0a0-dbf40a9c4841",
   "metadata": {},
   "outputs": [
    {
     "name": "stdout",
     "output_type": "stream",
     "text": [
      "['date', 'cherry', 'banana', 'apple']\n"
     ]
    }
   ],
   "source": [
    "fruits = ['apple', 'banana', 'cherry', 'date']\n",
    "fruits.sort(reverse = True)\n",
    "\n",
    "print(fruits)"
   ]
  },
  {
   "cell_type": "code",
   "execution_count": 5,
   "id": "ad8f1b81-5b95-4b07-bd0d-d656e8bc7397",
   "metadata": {
    "scrolled": true
   },
   "outputs": [
    {
     "name": "stdout",
     "output_type": "stream",
     "text": [
      "['date', 'cherry', 'banana', 'apple']\n"
     ]
    }
   ],
   "source": [
    "fruits = ['apple', 'banana', 'cherry', 'date']\n",
    "sorted_fruit = sorted(fruits, reverse = True)\n",
    "print(f\"{sorted_fruit}\")"
   ]
  },
  {
   "cell_type": "markdown",
   "id": "9e4ad46a-a3f4-4e2f-8919-70d1ff531d2d",
   "metadata": {},
   "source": [
    "#### Problem 3:\n",
    "- Example List: numbers = [42, 19, 73, 11, 65]\n",
    "- Task: Find the maximum and minimum values using the max() and min() functions.\n",
    "- Expected Output: The maximum value, e.g., 73, and the minimum value, e.g., 11."
   ]
  },
  {
   "cell_type": "code",
   "execution_count": 7,
   "id": "10f13939-88a5-4141-a25a-6752b684a310",
   "metadata": {},
   "outputs": [
    {
     "name": "stdout",
     "output_type": "stream",
     "text": [
      "73\n",
      "11\n"
     ]
    }
   ],
   "source": [
    "numbers = [42, 19, 73, 11, 65]\n",
    "\n",
    "maxNum = max(numbers)\n",
    "minNum = min(numbers)\n",
    "\n",
    "print(maxNum)\n",
    "print(minNum)"
   ]
  },
  {
   "cell_type": "markdown",
   "id": "554bb565-3fdd-4cca-8d28-60a64657c3f3",
   "metadata": {},
   "source": [
    "#### Problem 4:\n",
    "- Example List: names = ['Alice', 'Bob', 'Charlie', 'Diana']\n",
    "- Task: Reverse the order of the list using the reverse() function.\n",
    "- Expected Output: A list with the order reversed, e.g., ['Diana', 'Charlie', 'Bob', 'Alice']."
   ]
  },
  {
   "cell_type": "code",
   "execution_count": 9,
   "id": "e8423f2f-1995-4023-a49b-bf81c68998fe",
   "metadata": {},
   "outputs": [
    {
     "name": "stdout",
     "output_type": "stream",
     "text": [
      "['Diana', 'Charlie', 'Bob', 'Alice']\n"
     ]
    }
   ],
   "source": [
    "names = ['Alice', 'Bob', 'Charlie', 'Diana']\n",
    "names.reverse()\n",
    "\n",
    "print(names)"
   ]
  },
  {
   "cell_type": "markdown",
   "id": "ff3441f7-575b-4e0d-a565-bc7e39328fff",
   "metadata": {},
   "source": [
    "#### Problem 5:\n",
    "- Example Lists: list1 = [1, 2, 3], list2 = [4, 5, 6]\n",
    "- Task: Merge the two lists into one using the extend() function.\n",
    "- Expected Output: A combined list, e.g., [1, 2, 3, 4, 5, 6]."
   ]
  },
  {
   "cell_type": "code",
   "execution_count": 2,
   "id": "3675116c-c915-454d-bb53-68bbe4a91c65",
   "metadata": {},
   "outputs": [
    {
     "name": "stdout",
     "output_type": "stream",
     "text": [
      "[1, 2, 3, 4, 5, 6]\n"
     ]
    }
   ],
   "source": [
    "list1 = [1, 2, 3]\n",
    "list2 = [4, 5, 6]\n",
    "\n",
    "list1.extend(list2)\n",
    "\n",
    "print(f'{list1}')"
   ]
  },
  {
   "cell_type": "markdown",
   "id": "b293012b-a9dc-4293-bf95-e0b9c9128e37",
   "metadata": {},
   "source": [
    "#### Problem 6:\n",
    "- Example List: numbers = [5, 3, 8, 3, 5, 2]\n",
    "- Task: Remove the duplicates and sort the list.\n",
    "- Expected Output: A sorted list without duplicates, e.g., [2, 3, 5, 8]."
   ]
  },
  {
   "cell_type": "code",
   "execution_count": 13,
   "id": "0c954cb7-4357-48bd-85a6-3068316fe2c1",
   "metadata": {},
   "outputs": [
    {
     "name": "stdout",
     "output_type": "stream",
     "text": [
      "[2, 3, 5, 8]\n"
     ]
    }
   ],
   "source": [
    "numbers = [5, 3, 8, 3, 5, 2]\n",
    "\n",
    "new_numbers = set(numbers)\n",
    "sorted_numbers = sorted(new_numbers)\n",
    "\n",
    "print(sorted_numbers)"
   ]
  },
  {
   "cell_type": "markdown",
   "id": "a7959dfc-1d6c-48b6-8916-df5aee1d57a4",
   "metadata": {},
   "source": [
    "#### Problem 7:\n",
    "- Example List: mixed = [23, 'apple', 42.5, 'banana', 11]\n",
    "- Task: Sort only the numeric values in ascending order.\n",
    "- Expected Output: A sorted list of numeric values, e.g., [11, 23, 42.5]."
   ]
  },
  {
   "cell_type": "code",
   "execution_count": 15,
   "id": "6f0f0eb4-2051-4593-8a06-7d4a6efd810e",
   "metadata": {},
   "outputs": [
    {
     "name": "stdout",
     "output_type": "stream",
     "text": [
      "[11, 23, 42.5]\n"
     ]
    }
   ],
   "source": [
    "mixed = [23, 'apple', 42.5, 'banana', 11]\n",
    "\n",
    "#filter only numeric values\n",
    "numeric_values = [x for x in mixed if isinstance(x,(int, float))]\n",
    "#sort the list\n",
    "sorted_list = sorted(numeric_values)\n",
    "                  \n",
    "print(sorted_list)"
   ]
  },
  {
   "cell_type": "markdown",
   "id": "81afefa0-c001-4d27-bed3-d256d0852659",
   "metadata": {},
   "source": [
    "#### Problem 8:\n",
    "- Example List: words = ['table', 'chair', 'laptop', 'cupboard']\n",
    "- Task: Find the word with the maximum length.\n",
    "- Expected Output: The word with the maximum length, e.g., 'cupboard'."
   ]
  },
  {
   "cell_type": "code",
   "execution_count": 56,
   "id": "bbc222a6-6724-451b-809e-d1e14e8c0b89",
   "metadata": {},
   "outputs": [
    {
     "name": "stdout",
     "output_type": "stream",
     "text": [
      "cupboard\n"
     ]
    }
   ],
   "source": [
    "words = ['table', 'chair', 'laptop', 'cupboard']\n",
    "max_word = max(words, key=len)\n",
    "\n",
    "print(max_word)"
   ]
  },
  {
   "cell_type": "markdown",
   "id": "3f04e4a0-9e8c-427f-ad02-e2baa31fbdd4",
   "metadata": {},
   "source": [
    "#### Problem 9:\n",
    "- Example List: people = [('Alice', 30), ('Bob', 25), ('Charlie', 35)]\n",
    "- Task: Sort the list by age.\n",
    "- Expected Output: A list of tuples sorted by age, e.g., [('Bob', 25), ('Alice', 30), ('Charlie', 35)]."
   ]
  },
  {
   "cell_type": "code",
   "execution_count": 19,
   "id": "e1f272ce-7e11-40d3-acb6-048d75414b8d",
   "metadata": {},
   "outputs": [
    {
     "name": "stdout",
     "output_type": "stream",
     "text": [
      "[('Bob', 25), ('Alice', 30), ('Charlie', 35)]\n"
     ]
    }
   ],
   "source": [
    "people = [('Alice', 30), ('Bob', 25), ('Charlie', 35)]\n",
    "ppl_sort = sorted(people, key=lambda x:x[1])\n",
    "\n",
    "print(ppl_sort)\n"
   ]
  },
  {
   "cell_type": "markdown",
   "id": "66781e72-613d-44a6-8d23-53e1b6312a94",
   "metadata": {},
   "source": [
    "#### Problem 10:\n",
    "- Example List: numbers = [2, 4, 6]\n",
    "- Task: Add the number 8 to the end of the list using the append() function.\n",
    "- Expected Output: A list with the number 8 added, e.g., [2, 4, 6, 8]."
   ]
  },
  {
   "cell_type": "code",
   "execution_count": 46,
   "id": "fa092434-9334-43af-8a27-3e29a7ff1fd1",
   "metadata": {},
   "outputs": [
    {
     "name": "stdout",
     "output_type": "stream",
     "text": [
      "[2, 4, 6, 8]\n"
     ]
    }
   ],
   "source": [
    "numbers = [2, 4, 6]\n",
    "numbers.append(8)\n",
    "\n",
    "print(numbers)\n"
   ]
  },
  {
   "cell_type": "markdown",
   "id": "95a25987-1f19-44c2-9fe7-a0084a2cdf38",
   "metadata": {},
   "source": [
    "## Dictionaries\n",
    "#### Problem 11:\n",
    "- Example Dictionary: person = {'name': 'Alice', 'age': 30}\n",
    "- Task: Retrieve the value associated with the key 'name' using the get() function.\n",
    "- Expected Output: The value 'Alice'."
   ]
  },
  {
   "cell_type": "code",
   "execution_count": 50,
   "id": "6805e51d-830a-4d9e-8cda-c5e4316ebf4e",
   "metadata": {},
   "outputs": [
    {
     "name": "stdout",
     "output_type": "stream",
     "text": [
      "Alice\n",
      "30\n"
     ]
    }
   ],
   "source": [
    "person = {'name': 'Alice', 'age': 30}\n",
    "#retrieve the value for the key 'name'\n",
    "name = person.get('name')\n",
    "age = person.get('age')\n",
    "\n",
    "print(name)  #print output\n",
    "print(age)    #prints age\n"
   ]
  },
  {
   "cell_type": "markdown",
   "id": "b6eec555-c9ca-45bb-9dd0-01b41e2ae43c",
   "metadata": {},
   "source": [
    "#### Problem 12:\n",
    "- Example Dictionary: scores = {'Alice': 90, 'Bob': 85, 'Charlie': 92}\n",
    "- Task: Add a new key-value pair ('Diana', 88) to the dictionary.\n",
    "- Expected Output: The updated dictionary, e.g., {'Alice': 90, 'Bob': 85, 'Charlie': 92, 'Diana': 88}."
   ]
  },
  {
   "cell_type": "code",
   "execution_count": 54,
   "id": "a647e6b4-3c0f-49c9-9d38-57bda5a831b8",
   "metadata": {},
   "outputs": [
    {
     "name": "stdout",
     "output_type": "stream",
     "text": [
      "{'Alice': 90, 'Bob': 85, 'Charlie': 92, 'Diana': 88}\n"
     ]
    }
   ],
   "source": [
    "scores = {'Alice': 90, 'Bob': 85, 'Charlie': 92}\n",
    "new_person = {'Diana': 88}\n",
    "scores.update(new_person)\n",
    "\n",
    "print(scores)"
   ]
  },
  {
   "cell_type": "markdown",
   "id": "c1d0f31f-44d7-49ca-984f-2caf2536bac0",
   "metadata": {},
   "source": [
    "#### Problem 13:\n",
    "- Example Dictionary: inventory = {'apples': 5, 'bananas': 2, 'oranges': 3}\n",
    "- Task: Update the value of the key 'bananas' to 6.\n",
    "- Expected Output: The updated dictionary, e.g., {'apples': 5, 'bananas': 6, 'oranges': 3}."
   ]
  },
  {
   "cell_type": "code",
   "execution_count": 60,
   "id": "3940282b-caed-40fb-bae2-6cd604706bb3",
   "metadata": {},
   "outputs": [
    {
     "name": "stdout",
     "output_type": "stream",
     "text": [
      "{'apples': 5, 'bananas': 6, 'oranges': 3}\n"
     ]
    }
   ],
   "source": [
    "inventory = {'apples': 5, 'bananas': 2, 'oranges': 3}\n",
    "new_value = {'bananas': 6}\n",
    "inventory.update(new_value)\n",
    "\n",
    "print(inventory)"
   ]
  },
  {
   "cell_type": "markdown",
   "id": "660e7de5-9238-4fbe-a56d-3b53b004b6d4",
   "metadata": {},
   "source": [
    "#### Problem 14:\n",
    "- Example Dictionary: student = {'name': 'Bob', 'age': 20, 'grade': 'A'}\n",
    "- Task: Remove the key 'grade' from the dictionary.\n",
    "- Expected Output: The dictionary without the 'grade' key, e.g., {'name': 'Bob', 'age': 20}."
   ]
  },
  {
   "cell_type": "code",
   "execution_count": 68,
   "id": "4abfea80-0c88-45bd-9c93-512ce39a9228",
   "metadata": {},
   "outputs": [
    {
     "name": "stdout",
     "output_type": "stream",
     "text": [
      "{'name': 'Bob', 'age': 20}\n"
     ]
    }
   ],
   "source": [
    "student = {'name': 'Bob', 'age': 20, 'grade': 'A'}\n",
    "student.pop('grade')\n",
    "\n",
    "print(student)"
   ]
  },
  {
   "cell_type": "markdown",
   "id": "a576cf8b-6327-47d1-a8f1-936a82dd58d5",
   "metadata": {},
   "source": [
    "#### Problem 15:\n",
    "- Example Dictionary: points = {'A': 1, 'B': 3, 'C': 5}\n",
    "- Task: Check if the key 'D' exists in the dictionary using the in operator.\n",
    "- Expected Output: A boolean value indicating whether 'D' exists"
   ]
  },
  {
   "cell_type": "code",
   "execution_count": 70,
   "id": "7d23f5fd-fdf1-4c42-8a89-ed32ea7cdcca",
   "metadata": {},
   "outputs": [
    {
     "name": "stdout",
     "output_type": "stream",
     "text": [
      "False\n"
     ]
    }
   ],
   "source": [
    "points = {'A': 1, 'B': 3, 'C': 5}\n",
    "result = 'D' in points\n",
    "\n",
    "print(result)"
   ]
  },
  {
   "cell_type": "markdown",
   "id": "ffb9cd86-835b-46b5-a1d6-45e1a092b5ca",
   "metadata": {},
   "source": [
    "#### Problem 16:\n",
    "- Example Dictionary: car = {'make': 'Toyota', 'model': 'Corolla', 'year': 2015}\n",
    "- Task: Retrieve all the keys from the dictionary using the keys() function.\n",
    "- Expected Output: A list or view of all the keys, e.g., ['make', 'model', 'year']."
   ]
  },
  {
   "cell_type": "code",
   "execution_count": 76,
   "id": "b8a2224c-ec30-46a5-9939-9e939bf308a3",
   "metadata": {},
   "outputs": [
    {
     "name": "stdout",
     "output_type": "stream",
     "text": [
      "dict_keys(['make', 'model', 'year'])\n"
     ]
    }
   ],
   "source": [
    "car = {'make': 'Toyota', 'model': 'Corolla', 'year': 2015}\n",
    "car_keys = car.keys()\n",
    "\n",
    "print(car_keys)"
   ]
  },
  {
   "cell_type": "markdown",
   "id": "bff3cc4a-637f-40e5-917a-34a9b99d9fe8",
   "metadata": {},
   "source": [
    "#### Problem 17:\n",
    "- Example Dictionary: grades = {'Alice': 'A', 'Bob': 'B', 'Charlie': 'C'}\n",
    "- Task: Retrieve all the values from the dictionary using the values() function.\n",
    "- Expected Output: A list or view of all the values, e.g., ['A', 'B', 'C']."
   ]
  },
  {
   "cell_type": "code",
   "execution_count": 78,
   "id": "30491ac1-80f9-4228-90f4-765977265b4f",
   "metadata": {},
   "outputs": [
    {
     "name": "stdout",
     "output_type": "stream",
     "text": [
      "dict_values(['A', 'B', 'C'])\n"
     ]
    }
   ],
   "source": [
    "grades = {'Alice': 'A', 'Bob': 'B', 'Charlie': 'C'}\n",
    "values = grades.values()\n",
    "\n",
    "print(values)"
   ]
  },
  {
   "cell_type": "markdown",
   "id": "46f9957f-28ba-4fd1-a1a4-6cdebead327c",
   "metadata": {},
   "source": [
    "#### Problem 18:\n",
    "- Example Dictionary: capitals = {'France': 'Paris', 'Germany': 'Berlin', 'Italy': 'Rome'}\n",
    "- Task: Merge another dictionary {'Spain': 'Madrid'} into the original dictionary.\n",
    "- Expected Output: The merged dictionary, e.g., {'France': 'Paris', 'Germany': 'Berlin', 'Italy': 'Rome', 'Spain': 'Madrid'}."
   ]
  },
  {
   "cell_type": "code",
   "execution_count": 80,
   "id": "32f41d08-5946-4d12-b9cb-225ac6a4d85d",
   "metadata": {},
   "outputs": [
    {
     "name": "stdout",
     "output_type": "stream",
     "text": [
      "{'France': 'Paris', 'Germany': 'Berlin', 'Italy': 'Rome', 'Spain': 'Madrid'}\n"
     ]
    }
   ],
   "source": [
    "capitals = {'France': 'Paris', 'Germany': 'Berlin', 'Italy': 'Rome'}\n",
    "new_capital =  {'Spain': 'Madrid'}\n",
    "capitals.update(new_capital)\n",
    "\n",
    "print(capitals)"
   ]
  },
  {
   "cell_type": "markdown",
   "id": "7e133c6e-2456-4e03-8784-ccebac3ac22c",
   "metadata": {},
   "source": [
    "#### Problem 19:\n",
    "- Example Dictionary: person = {'name': 'Charlie', 'age': 30}\n",
    "- Task: Create a copy of the dictionary using the copy() function.\n",
    "- Expected Output: A new dictionary that is a copy of the original, e.g., {'name': 'Charlie', 'age': 30}."
   ]
  },
  {
   "cell_type": "code",
   "execution_count": 86,
   "id": "fd33aa3c-d8ed-454b-be4e-b8d97c512486",
   "metadata": {},
   "outputs": [
    {
     "name": "stdout",
     "output_type": "stream",
     "text": [
      "{'name': 'Charlie', 'age': 30}\n"
     ]
    }
   ],
   "source": [
    "person = {'name': 'Charlie', 'age': 30}\n",
    "new_person = person.copy()\n",
    "\n",
    "print(new_person)"
   ]
  },
  {
   "cell_type": "markdown",
   "id": "cf3357c9-d77b-40f0-8721-31b0cf9a46ac",
   "metadata": {},
   "source": [
    "#### Problem 20:\n",
    "- Example Dictionary: items = {'pen': 1, 'notebook': 3, 'eraser': 2}\n",
    "- Task: Clear all the items from the dictionary using the clear() function.\n",
    "- Expected Output: An empty dictionary, e.g., {}."
   ]
  },
  {
   "cell_type": "code",
   "execution_count": 88,
   "id": "d1ce34b7-ca46-4ee5-93b7-81d461e4d1c0",
   "metadata": {},
   "outputs": [
    {
     "name": "stdout",
     "output_type": "stream",
     "text": [
      "{}\n"
     ]
    }
   ],
   "source": [
    "items = {'pen': 1, 'notebook': 3, 'eraser': 2}\n",
    "items.clear()\n",
    "\n",
    "print(items)"
   ]
  }
 ],
 "metadata": {
  "kernelspec": {
   "display_name": "Python 3 (ipykernel)",
   "language": "python",
   "name": "python3"
  },
  "language_info": {
   "codemirror_mode": {
    "name": "ipython",
    "version": 3
   },
   "file_extension": ".py",
   "mimetype": "text/x-python",
   "name": "python",
   "nbconvert_exporter": "python",
   "pygments_lexer": "ipython3",
   "version": "3.12.5"
  }
 },
 "nbformat": 4,
 "nbformat_minor": 5
}
