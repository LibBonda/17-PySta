{
 "cells": [
  {
   "cell_type": "code",
   "execution_count": null,
   "metadata": {},
   "outputs": [],
   "source": [
    "import pandas as pd\n",
    "import numpy as np\n",
    "import matplotlib.pyplot as plt\n",
    "import seaborn as sns\n",
    "import datetime as dt\n",
    "import missingno as msno"
   ]
  },
  {
   "cell_type": "markdown",
   "metadata": {},
   "source": [
    "### 40-Introduction to Data Cleaning\n",
    "\n",
    "#### 1.1 What is Data Cleaning?\n",
    "- Data Cleaning is the process of detecting and correcting (or removing) incorrect, incomplete, or irrelevant data from a dataset to improve data quality.\n",
    "\n",
    "#### 1.2 Why is Data Cleaning Important?\n",
    "- Accuracy: Clean data leads to more accurate insights and predictions.\n",
    "- Reliability: Consistent and reliable data builds trust in your analysis.\n",
    "- Efficiency: Spending time cleaning data upfront saves time and effort later.\n",
    "- Better Decision Making: Clean data supports informed decision-making.\n",
    "\n",
    "#### 1.3 The Data Cleaning Process:\n",
    "- Identify Data Issues: \n",
    "      - Understanding the types of problems in the data (missing values, duplicates, inconsistencies).\n",
    "- Handle Missing Values: \n",
    "      - Deciding how to deal with missing data, missing values and outliers (imputation, removal).\n",
    "- Remove Duplicates: \n",
    "      - Identifying and removing duplicate and inconsistent data records.\n",
    "- Correct Inconsistent Data: \n",
    "      - Standardizing formats, correcting typos, and resolving inconsistencies improves model performance in machine learning.\n",
    "- Validate Data: \n",
    "      - Ensuring the cleaned data meets quality standards, accuracy and reliability.\n",
    "\n",
    "#### 1.4 Example:\n",
    "- Take for instance, customer data with inconsistent phone number formats (e.g., \"(123) 456-7890\", \"123-456-7890\", \"123.456.7890\").\n",
    "- Data cleaning would involve standardizing these formats to a single consistent one.\n",
    "\n",
    "#### 40.2: Data Types in Python:\n",
    "- Data types define the kind of values a variable can hold.\n",
    "- Numeric: int(integers), float(floating-point numbers), complex (complex numbers)\n",
    "- String: (text)\n",
    "- Boolean: (True or False)\n",
    "- Sequence: (list, tuple, range)\n",
    "- Mapping: dict(dictionaries)\n"
   ]
  },
  {
   "cell_type": "code",
   "execution_count": null,
   "metadata": {},
   "outputs": [
    {
     "name": "stdout",
     "output_type": "stream",
     "text": [
      "James\n"
     ]
    }
   ],
   "source": [
    "# Numeric Types:\n",
    "age = 30 # int\n",
    "price = 99.99 # float\n",
    "complex_num = 2 +3j # complex\n",
    "\n",
    "# Strings\n",
    "name = 'Bond, James Bond'\n",
    "sms = 'Hello, World!'\n",
    "\n",
    "# Booleans\n",
    "is_mossad_agent = False #bool\n",
    "is_licensed_to_kill = True #bool\n",
    "\n",
    "# Tuples\n",
    "my_tuple = (1, 2, 'agent')\n",
    "# my_tuple[1] = 5 # will trigger an error because tuples are immutable\n",
    "\n",
    "# Dictionaries: Key-Value pairs\n",
    "my_dict = {'name': 'James',\n",
    "           'surname': 'Bond',\n",
    "           'age': 32,\n",
    "           'employer': 'GCHQ'\n",
    "           }\n",
    "\n",
    "print(my_dict['name']) #prints James\n",
    "\n",
    "\n",
    "\n"
   ]
  }
 ],
 "metadata": {
  "kernelspec": {
   "display_name": "base",
   "language": "python",
   "name": "python3"
  },
  "language_info": {
   "codemirror_mode": {
    "name": "ipython",
    "version": 3
   },
   "file_extension": ".py",
   "mimetype": "text/x-python",
   "name": "python",
   "nbconvert_exporter": "python",
   "pygments_lexer": "ipython3",
   "version": "3.12.7"
  }
 },
 "nbformat": 4,
 "nbformat_minor": 2
}
