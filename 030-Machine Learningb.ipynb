{
 "cells": [
  {
   "cell_type": "markdown",
   "metadata": {},
   "source": [
    "#### 001 Machine Learning\n",
    "- Machine Learning is making the computer learn from studying data and statistics.\n",
    "- Machine Learning is a step into the direction of artificial intelligence (AI).\n",
    "- Machine Learning is a program that analyses data and learns to predict the outcome.\n",
    "\n",
    "#### Data Set\n",
    "- In the mind of a computer, a data set is any collection of data. It can be anything from an array to a complete database.\n",
    "- Example of an array:\n",
    "    [99,86,87,88,111,86,103,87,94,78,77,85,86]"
   ]
  },
  {
   "cell_type": "markdown",
   "metadata": {},
   "source": [
    "#### 002 Data Types\n",
    "- Determine what type of data we are dealing with.\n",
    "\n",
    "##### Data Types:\n",
    "- Numerical\n",
    "- Categorical\n",
    "- Ordinal\n",
    "\n",
    "##### Numerical Data\n",
    "- These are numbers, and can be split into two numerical categories:\n",
    "\n",
    "##### Discrete Data:\n",
    "- counted data that are limited to integers. Example: The number of cars passing by.\n",
    "\n",
    "##### Continuous Data:\n",
    "- measured data that can be any number. Example: The price of an item, or the size of an item\n",
    "\n",
    "##### Categorical Data:\n",
    "- Categorical Data are values that cannot be measured up against each other. Example: a color value, or any yes/no values.\n",
    "\n",
    "##### Ordinal Data\n",
    "- Ordinal Data are like categorical data, but can be measured up against each other. Example: school grades where A is better than B and so on.\n",
    "\n",
    "Knowing the data type of your data source will enable to know what technique to use when analyzing them."
   ]
  },
  {
   "cell_type": "markdown",
   "metadata": {},
   "source": [
    "##### 002 Mean, Median, and Mode\n",
    "- Mean: The average value\n",
    "- Median: The mid point value\n",
    "- Mode: The most common value"
   ]
  },
  {
   "cell_type": "markdown",
   "metadata": {
    "vscode": {
     "languageId": "plaintext"
    }
   },
   "source": [
    "##### Mean:\n",
    "- is the sum of all values divided by number of values."
   ]
  },
  {
   "cell_type": "code",
   "execution_count": 2,
   "metadata": {},
   "outputs": [
    {
     "name": "stdout",
     "output_type": "stream",
     "text": [
      "89.76923076923077\n"
     ]
    }
   ],
   "source": [
    "#Check the speed of 13 cars and calculate the mean\n",
    "\n",
    "speed = [99,86,87,88,111,86,103,87,94,78,77,85,86]\n",
    "\n",
    "meanSpeed = sum(speed)/len(speed)\n",
    "\n",
    "print(meanSpeed)"
   ]
  },
  {
   "cell_type": "code",
   "execution_count": null,
   "metadata": {},
   "outputs": [
    {
     "name": "stdout",
     "output_type": "stream",
     "text": [
      "89.76923076923077\n"
     ]
    }
   ],
   "source": [
    "#Using the NumPy mean() method to find the average speed:\n",
    "\n",
    "import numpy as np\n",
    "\n",
    "speed = [99,86,87,88,111,86,103,87,94,78,77,85,86]\n",
    "\n",
    "meanSpeed = np.mean(speed)\n",
    "\n",
    "print(meanSpeed)"
   ]
  },
  {
   "cell_type": "markdown",
   "metadata": {},
   "source": [
    "##### Median\n",
    "- The median value is the value in the middle, after you have sorted all the values:\n",
    "\n",
    "- If there are two numbers in the middle, divide the sum of those numbers by two.\n",
    "        eg. 77, 78, 85, 86, 86, 86, 87, 87, 94, 98, 99, 103\n",
    "            (86 + 87) / 2 = 86.5"
   ]
  },
  {
   "cell_type": "code",
   "execution_count": null,
   "metadata": {},
   "outputs": [
    {
     "name": "stdout",
     "output_type": "stream",
     "text": [
      "[77, 78, 85, 86, 86, 86, 87, 87, 88, 94, 99, 103, 111]\n",
      "87\n"
     ]
    }
   ],
   "source": [
    "#Calculate the median\n",
    "\n",
    "speed = [99,86,87,88,111,86,103,87,94,78,77,85,86]\n",
    "\n",
    "speed.sort()\n",
    "\n",
    "if len(speed) % 2 == 0:\n",
    "    #Even number of elements, median is the average of the middle two elements.\n",
    "    median = (speed[int(len(speed)/2)] + (speed[int(len(speed)/2 -1)]))/2\n",
    "\n",
    "else:\n",
    "     #Odd number of elements, median is the middle element\n",
    "     median = speed[int(len(speed)/2)]\n",
    "\n",
    "print(speed)\n",
    "print(median)"
   ]
  },
  {
   "cell_type": "code",
   "execution_count": 6,
   "metadata": {},
   "outputs": [
    {
     "name": "stdout",
     "output_type": "stream",
     "text": [
      "86.5\n"
     ]
    }
   ],
   "source": [
    "#using Numpy module\n",
    "import numpy\n",
    "\n",
    "speed = [99,86,87,88,86,103,87,94,78,77,85,86]\n",
    "\n",
    "x = numpy.median(speed)\n",
    "\n",
    "print(x)"
   ]
  },
  {
   "cell_type": "markdown",
   "metadata": {},
   "source": [
    "##### Mode:\n",
    "- The Mode value is the value that appears the most number of times:\n",
    "    eg. 99, 86, 87, 88, 111, 86, 103, 87, 94, 78, 77, 85, 86 = 86"
   ]
  },
  {
   "cell_type": "code",
   "execution_count": null,
   "metadata": {},
   "outputs": [
    {
     "name": "stdout",
     "output_type": "stream",
     "text": [
      "mode is ModeResult(mode=86, count=3)\n"
     ]
    },
    {
     "ename": "",
     "evalue": "",
     "output_type": "error",
     "traceback": [
      "\u001b[1;31mThe Kernel crashed while executing code in the current cell or a previous cell. \n",
      "\u001b[1;31mPlease review the code in the cell(s) to identify a possible cause of the failure. \n",
      "\u001b[1;31mClick <a href='https://aka.ms/vscodeJupyterKernelCrash'>here</a> for more info. \n",
      "\u001b[1;31mView Jupyter <a href='command:jupyter.viewOutput'>log</a> for further details."
     ]
    }
   ],
   "source": [
    "#using SciPy\n",
    "\n",
    "from scipy import stats\n",
    "\n",
    "speed = [99, 86, 87, 88, 111, 86, 103, 87, 94, 78, 77, 85, 86]\n",
    "\n",
    "x = stats.mode(speed)\n",
    "\n",
    "print(f'mode is: {x}')\n"
   ]
  }
 ],
 "metadata": {
  "kernelspec": {
   "display_name": "base",
   "language": "python",
   "name": "python3"
  },
  "language_info": {
   "codemirror_mode": {
    "name": "ipython",
    "version": 3
   },
   "file_extension": ".py",
   "mimetype": "text/x-python",
   "name": "python",
   "nbconvert_exporter": "python",
   "pygments_lexer": "ipython3",
   "version": "3.11.7"
  }
 },
 "nbformat": 4,
 "nbformat_minor": 2
}
