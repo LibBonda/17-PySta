{
 "cells": [
  {
   "cell_type": "markdown",
   "metadata": {},
   "source": [
    "#### 05 Data Preprocessing for Machine Learning\n",
    "\n",
    "- Encoding in Data Science\n",
    "\n",
    "- Definition of Encoding\n",
    "Encoding refers to the process of converting categorical data into numerical format, so that machine learning algorithms can process it effectively.\n",
    "Many machine learning models work with numerical input and do not directly understand categorical values. \n",
    "Encoding enables transforming categorical variables into a form suitable for modeling"
   ]
  },
  {
   "cell_type": "markdown",
   "metadata": {},
   "source": [
    "##### Methods of Encoding\n",
    "\n",
    "###### 01. One-Hot Encoding\n",
    "One-Hot Encoding is a technique used to convert categorical "
   ]
  },
  {
   "cell_type": "code",
   "execution_count": null,
   "metadata": {},
   "outputs": [],
   "source": []
  }
 ],
 "metadata": {
  "language_info": {
   "name": "python"
  }
 },
 "nbformat": 4,
 "nbformat_minor": 2
}
