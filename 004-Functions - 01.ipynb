{
 "cells": [
  {
   "cell_type": "markdown",
   "id": "6561a8d7-807b-4390-abdd-5db438d55155",
   "metadata": {},
   "source": [
    "### Intermediate Python Questionsd stores it in a dictionary."
   ]
  },
  {
   "cell_type": "markdown",
   "id": "5f7ebb17-3ac5-4bcd-b893-bff8e2777958",
   "metadata": {},
   "source": [
    "### 001.\n",
    "Write a Python function `is_prime(n)` that takes an integer `n` and returns `True` if it is a prime number, otherwise `False`. Optimize it to check divisibility only up to the square root of `n`."
   ]
  },
  {
   "cell_type": "code",
   "execution_count": 3,
   "id": "2e94cb6a-f791-4729-994d-e7ee3d299839",
   "metadata": {},
   "outputs": [
    {
     "name": "stdin",
     "output_type": "stream",
     "text": [
      "Enter a number:  2\n"
     ]
    }
   ],
   "source": [
    "# initiate the Prime Number function\n",
    "def is_prime(n):\n",
    "    \"\"\"checks whether integer n is a prime number\n",
    "    and checks divisibility only up to the square root of 'n'\n",
    "\n",
    "    Args:\n",
    "        n: is theinteger to check\n",
    "\n",
    "    Returns:\n",
    "    True or False \"\"\"\n",
    "    for i in range(2, int(n**0.5) + 1):\n",
    "        if n % 2 == 0:\n",
    "            return False\n",
    "        return True\n",
    "\n",
    "n = int(input(\"Enter a number: \"))\n",
    "is_prime(n)    "
   ]
  },
  {
   "cell_type": "markdown",
   "id": "7f5b687f-2141-4e5a-a461-018ca5ec4f5a",
   "metadata": {},
   "source": [
    "### 002. \n",
    "Create a function `fibonacci(n)` that returns the nth Fibonacci number. For example, `fibonacci(5)` should return `5`."
   ]
  },
  {
   "cell_type": "code",
   "execution_count": 5,
   "id": "b58fd4e6-ea7e-42de-9841-9c441b42388e",
   "metadata": {},
   "outputs": [
    {
     "name": "stdin",
     "output_type": "stream",
     "text": [
      "Enter your number:  5\n"
     ]
    },
    {
     "name": "stdout",
     "output_type": "stream",
     "text": [
      "The 5th Fibonacci number is: 5\n"
     ]
    }
   ],
   "source": [
    "#initiate Fibonacci function\n",
    "\n",
    "def fibonacci(n):\n",
    "    \"\"\"calculates the nth Fibonacci number.\n",
    "\n",
    "    Args:\n",
    "        n: index of Fibonacci number to calculate\n",
    "\n",
    "    Returns:\n",
    "    The nth Fibonacci number \"\"\"\n",
    "\n",
    "    if n <= 0:\n",
    "        return 0\n",
    "        \n",
    "    elif n == 1:\n",
    "        return 1\n",
    "    else:\n",
    "        return fibonacci(n -1) + fibonacci(n -2)\n",
    "\n",
    "n = int(input(\"Enter your number: \"))\n",
    "result = fibonacci(n)\n",
    "print(f'The {n}th Fibonacci number is: {result}')\n"
   ]
  },
  {
   "cell_type": "markdown",
   "id": "27836c21-c2d2-4449-b650-16522df83ea7",
   "metadata": {},
   "source": [
    "### 003.\n",
    "Write a Python program using a `for` loop to reverse a given string without using any built-in reverse functions. "
   ]
  },
  {
   "cell_type": "code",
   "execution_count": 6,
   "id": "64c60cb8-f8e4-41e9-939c-f2b00589ef15",
   "metadata": {},
   "outputs": [
    {
     "name": "stdin",
     "output_type": "stream",
     "text": [
      "Enter your text:  my wagamama goes boom\n"
     ]
    },
    {
     "name": "stdout",
     "output_type": "stream",
     "text": [
      "reveresed string : moob seog amamagaw ym \n"
     ]
    }
   ],
   "source": [
    "#initiate function\n",
    "def loopRev(myStr):\n",
    "    newStr = \" \"\n",
    "    for char in myStr:\n",
    "        newStr = char + newStr\n",
    "    return newStr\n",
    "\n",
    "myStr = input(\"Enter your text: \")\n",
    "reversedStr = loopRev(myStr)\n",
    "print(f'reveresed string : {reversedStr}')\n",
    "    "
   ]
  },
  {
   "cell_type": "markdown",
   "id": "0c5d2b52-25f2-4540-9cb2-8bf1f3720750",
   "metadata": {},
   "source": [
    "### 004.\n",
    "Write a `while` loop that keeps asking the user to input a number until they input a number greater than 100. Once they do, print \"You did it!\""
   ]
  },
  {
   "cell_type": "code",
   "execution_count": 9,
   "id": "cdcb0a5b-3490-4ccd-8ec8-a526e64d8f2c",
   "metadata": {},
   "outputs": [
    {
     "name": "stdin",
     "output_type": "stream",
     "text": [
      "Enter number:  5\n",
      "Enter number:  500\n"
     ]
    },
    {
     "name": "stdout",
     "output_type": "stream",
     "text": [
      "You did it\n"
     ]
    }
   ],
   "source": [
    "#initiate the function\n",
    "while True:\n",
    "    x = int(input(\"Enter number: \"))\n",
    "    if x > 100:\n",
    "            break\n",
    "            \n",
    "print(\"You did it\")"
   ]
  },
  {
   "cell_type": "markdown",
   "id": "2051a623-47ab-4f64-890c-049a2bde3ce1",
   "metadata": {},
   "source": [
    "### 005.\n",
    "5.  Write a Python program that takes an integer input and checks:\n",
    "   - If it is divisible by 3, print \"Fizz\"\n",
    "   - If it is divisible by 5, print \"Buzz\"\n",
    "   - If it is divisible by both, print \"FizzBuzz\"\n",
    "   - Otherwise, print the number itself."
   ]
  },
  {
   "cell_type": "code",
   "execution_count": 11,
   "id": "657e6e71-c192-4619-9bc5-853bbcf17a90",
   "metadata": {},
   "outputs": [
    {
     "name": "stdin",
     "output_type": "stream",
     "text": [
      "Enter number:  25\n"
     ]
    },
    {
     "name": "stdout",
     "output_type": "stream",
     "text": [
      "Buzz\n"
     ]
    }
   ],
   "source": [
    "num = int(input(\"Enter number: \"))\n",
    "\n",
    "if num % 3 == 0 and num % 5 == 0:\n",
    "    print(\"FizzBuzz\")\n",
    "    \n",
    "elif num % 3 == 0:\n",
    "          print(\"Fizz\")\n",
    "    \n",
    "elif num % 5 == 0:\n",
    "    print(\"Buzz\")\n",
    "    \n",
    "else:\n",
    "    print(num)\n"
   ]
  },
  {
   "cell_type": "code",
   "execution_count": 12,
   "id": "b8496862-a8fc-4fdb-bffe-87f9b80a2696",
   "metadata": {},
   "outputs": [
    {
     "name": "stdin",
     "output_type": "stream",
     "text": [
      "Enter number:  25\n"
     ]
    },
    {
     "name": "stdout",
     "output_type": "stream",
     "text": [
      "Buzz\n"
     ]
    }
   ],
   "source": [
    "# initiate the function\n",
    "def fizz(x):\n",
    "    if num % 3 == 0 and num % 5 == 0:\n",
    "        print(\"FizzBuzz\")\n",
    "        \n",
    "    elif num % 3 == 0:\n",
    "        print(\"Fizz\")\n",
    "    \n",
    "    elif num % 5 == 0:\n",
    "        print(\"Buzz\")\n",
    "    \n",
    "    else: \n",
    "        print(num)\n",
    "\n",
    "num = int(input(\"Enter number: \"))  \n",
    "result = fizz(x)   \n",
    "    "
   ]
  },
  {
   "cell_type": "markdown",
   "id": "ba8d6593-5176-4432-9f66-92b32a4bcf17",
   "metadata": {},
   "source": [
    "### 006.\n",
    "Given three sides of a triangle as inputs, write a Python program to determine if the triangle is equilateral, isosceles, or scalene using if-else conditions."
   ]
  },
  {
   "cell_type": "code",
   "execution_count": 33,
   "id": "d6edeeb5-8240-4a81-bb46-3900285a6a66",
   "metadata": {},
   "outputs": [
    {
     "name": "stdin",
     "output_type": "stream",
     "text": [
      "Enter 1st side:  15\n",
      "Enter 2nd side:  20\n",
      "Enter 3rd side:  21\n"
     ]
    },
    {
     "name": "stdout",
     "output_type": "stream",
     "text": [
      "scalene\n"
     ]
    }
   ],
   "source": [
    "# initaite function\n",
    "def triangleType(side1, side2, side3):\n",
    "    if side1 == side2 and side1 == side3:\n",
    "        print(\"Equilateral\")\n",
    "    elif side1 == side2 or side1 == side3:\n",
    "        print(\"Isoceles\")\n",
    "    else:\n",
    "        print(\"scalene\")\n",
    "\n",
    "side1 = int(input(\"Enter 1st side: \"))\n",
    "side2 = int(input(\"Enter 2nd side: \"))\n",
    "side3 = int(input(\"Enter 3rd side: \"))\n",
    "\n",
    "triangleType(side1, side2, side3) #call the function   "
   ]
  },
  {
   "cell_type": "markdown",
   "id": "48ad26c4-e472-4d01-bbc9-b13676a32d31",
   "metadata": {},
   "source": [
    "### 007.\n",
    "Write a Python function `count_vowels(s)` that takes a string `s` and returns the number of vowels (a, e, i, o, u) in it, both uppercase and lowercase.\n"
   ]
  },
  {
   "cell_type": "code",
   "execution_count": 38,
   "id": "3d589f67-17d7-4467-82d0-83e0318c9271",
   "metadata": {},
   "outputs": [
    {
     "name": "stdin",
     "output_type": "stream",
     "text": [
      "Enter string text:  iwe wega\n"
     ]
    },
    {
     "name": "stdout",
     "output_type": "stream",
     "text": [
      "Number of vowels: 4\n"
     ]
    }
   ],
   "source": [
    "# 1. initialise function\n",
    "def count_vowels(s):\n",
    "    vowels = \"aeiouAEIOU\" # define a string with all vowels\n",
    "    count = 0  # initialise vowel count\n",
    "    \n",
    "    for char in s:\n",
    "        if char in vowels: # check if a character is a vowel\n",
    "            count += 1  # increment the count if a vowel is found\n",
    "            \n",
    "    return count    # return total number of vowels\n",
    "            \n",
    "s = input(\"Enter string text: \")\n",
    "print(f\"Number of vowels: {count_vowels(s)}\")"
   ]
  },
  {
   "cell_type": "code",
   "execution_count": 40,
   "id": "26cd4cb0-bdac-46b8-9759-99f4a09072c1",
   "metadata": {},
   "outputs": [
    {
     "name": "stdin",
     "output_type": "stream",
     "text": [
      "Enter string text:  mama mia\n"
     ]
    },
    {
     "name": "stdout",
     "output_type": "stream",
     "text": [
      "Number of vowels: 4\n"
     ]
    }
   ],
   "source": [
    "# 2. initialise function\n",
    "def count_vowels(s):\n",
    "    vowels = \"aeiouAEIOU\" # define a string with all vowels\n",
    "    return len([char for char in s if char in vowels])\n",
    "\n",
    "s = input(\"Enter string text: \")\n",
    "print(f\"Number of vowels: {count_vowels(s)}\")"
   ]
  },
  {
   "cell_type": "markdown",
   "id": "5e45e75a-cf05-490a-98c4-ee61799ca8d6",
   "metadata": {},
   "source": [
    "### 008.\n",
    "Write a Python function `is_palindrome(s)` that checks whether a given string `s` is a palindrome (reads the same forwards and backwards). Ignore spaces and capitalization."
   ]
  },
  {
   "cell_type": "code",
   "execution_count": 76,
   "id": "601dbd46-be62-425c-a84f-b8c059ca1996",
   "metadata": {},
   "outputs": [
    {
     "name": "stdin",
     "output_type": "stream",
     "text": [
      "Enter your word:  when\n"
     ]
    },
    {
     "name": "stdout",
     "output_type": "stream",
     "text": [
      "Not Palindrome\n"
     ]
    }
   ],
   "source": [
    "# initialise function\n",
    "def is_palindrome(s):\n",
    "    word = s.lower()  # convert the input to lowercase\n",
    "    \n",
    "    if word == word[::-1]: #check if word is the same when reversed\n",
    "            return True    #return True if palindrome\n",
    "    else:\n",
    "        return False #return false if not palindrome\n",
    "    \n",
    "s = input(\"Enter your word: \") #user input\n",
    "\n",
    "if is_palindrome(s):\n",
    "    print(\"Palindrome\")\n",
    "else:\n",
    "    print(\"Not Palindrome\")"
   ]
  },
  {
   "cell_type": "markdown",
   "id": "afbdfa4e-5ae6-4fea-b3e8-b65fea2fdb31",
   "metadata": {},
   "source": [
    "### 009.  \n",
    "Given a dictionary of students `names and their scores, write a Python function `average_score(student_scores)` that takes the dictionary and returns the average score.\n",
    "\n",
    "   Example:\n",
    "   ```python\n",
    "   student_scores = {\"Alice\": 85, \"Bob\": 92, \"Charlie\": 78}"
   ]
  },
  {
   "cell_type": "code",
   "execution_count": 121,
   "id": "039651d0-cefc-49b5-87da-02f530b9a95c",
   "metadata": {},
   "outputs": [
    {
     "name": "stdout",
     "output_type": "stream",
     "text": [
      "Average score: 95\n"
     ]
    }
   ],
   "source": [
    "# initialise function\n",
    "def average_score(student_scores):\n",
    "    names = student_scores.keys()  \n",
    "    scores = student_scores.values() # Use .values() to extract the scores\n",
    "    students = len(names)   # Calculate the total number of students\n",
    "    sum_scores = sum(scores)    # Calculate the sum of the scores\n",
    "    average_score = sum_scores / students   # Calculate the average score\n",
    "    return average_score\n",
    "\n",
    "student_scores = {\"Alice\": 85, \"Bob\": 122, \"Charlie\": 78}  # Dictionary of student names and scores\n",
    "\n",
    "print(f\"Average score: {average_score(student_scores):.0f}\") # Call the function and print the result"
   ]
  },
  {
   "cell_type": "code",
   "execution_count": 111,
   "id": "7e0b233d-b81f-4820-a436-e3c9dedbe87f",
   "metadata": {},
   "outputs": [
    {
     "name": "stdout",
     "output_type": "stream",
     "text": [
      "Average score: 85.00\n"
     ]
    }
   ],
   "source": [
    "# Function to calculate the average score from the dictionary\n",
    "def average_score(student_scores):\n",
    "    # Get the list of scores from the dictionary\n",
    "    scores = student_scores.values()  # Use .values() to extract the scores\n",
    "    \n",
    "    # Calculate the total number of students\n",
    "    num_students = len(student_scores)\n",
    "    \n",
    "    # Calculate the sum of the scores\n",
    "    sum_scores = sum(scores)\n",
    "    \n",
    "    # Calculate the average score\n",
    "    avg_score = sum_scores / num_students\n",
    "    \n",
    "    return avg_score\n",
    "\n",
    "# Dictionary of student names and scores\n",
    "student_scores = {\"Alice\": 85, \"Bob\": 92, \"Charlie\": 78}\n",
    "\n",
    "# Call the function and print the result\n",
    "print(f\"Average score: {average_score(student_scores):.2f}\")"
   ]
  },
  {
   "cell_type": "markdown",
   "id": "159385c7-0d60-4c55-acd0-1f4a3b404a2f",
   "metadata": {},
   "source": [
    "### 010.  \n",
    "Write a Python program that counts the frequency of each word in a given sentence and stores it in a dictionary."
   ]
  },
  {
   "cell_type": "code",
   "execution_count": 123,
   "id": "40bdca1a-3a52-49cd-8643-b9798c2aa3ba",
   "metadata": {},
   "outputs": [
    {
     "name": "stdin",
     "output_type": "stream",
     "text": [
      "Enter sentence:  hello hello merry christmas ho ho ho\n"
     ]
    },
    {
     "name": "stdout",
     "output_type": "stream",
     "text": [
      "{'hello': 2, 'merry': 1, 'christmas': 1, 'ho': 3}\n"
     ]
    }
   ],
   "source": [
    "# initialiase function\n",
    "def word_count(n):\n",
    "    words = sentence.split() # Split the sentence into words using spaces\n",
    "    word_count = {}    # Initialize an empty dictionary to store the word frequencies\n",
    "\n",
    "    # Loop through each word in the sentence\n",
    "    for word in words:\n",
    "        if word in word_count:  # If the word is already in the dictionary, increment its count\n",
    "            word_count[word] += 1\n",
    "        else:                     \n",
    "            word_count[word] = 1   # If the word is not in the dictionary, add it with count 1\n",
    "            \n",
    "    return word_count   # Return the dictionary with word frequencies\n",
    "    \n",
    "sentence = input(\"Enter sentence: \") # Input sentence from the user\n",
    "result = word_count(sentence)     # Call the function and print the word frequencies\n",
    "print(result)   "
   ]
  },
  {
   "cell_type": "code",
   "execution_count": null,
   "id": "f6b5d05c-e0f3-40d3-8e48-7eb675833e02",
   "metadata": {},
   "outputs": [],
   "source": []
  }
 ],
 "metadata": {
  "kernelspec": {
   "display_name": "Python 3 (ipykernel)",
   "language": "python",
   "name": "python3"
  },
  "language_info": {
   "codemirror_mode": {
    "name": "ipython",
    "version": 3
   },
   "file_extension": ".py",
   "mimetype": "text/x-python",
   "name": "python",
   "nbconvert_exporter": "python",
   "pygments_lexer": "ipython3",
   "version": "3.11.7"
  }
 },
 "nbformat": 4,
 "nbformat_minor": 5
}
