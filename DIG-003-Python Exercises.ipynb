{
 "cells": [
  {
   "cell_type": "markdown",
   "metadata": {},
   "source": []
  },
  {
   "cell_type": "markdown",
   "metadata": {},
   "source": [
    "### 001 \n",
    "What is []?"
   ]
  },
  {
   "cell_type": "markdown",
   "metadata": {},
   "source": [
    "denotes an empty List"
   ]
  },
  {
   "cell_type": "markdown",
   "metadata": {},
   "source": [
    "### 002\n",
    "How would you assign the value 'hello' as the third value in a list stored in a variable named spam? (Assume spam contains [2, 4, 6, 8, 10].)"
   ]
  },
  {
   "cell_type": "code",
   "execution_count": 2,
   "metadata": {},
   "outputs": [
    {
     "name": "stdout",
     "output_type": "stream",
     "text": [
      "[2, 4, 'hello', 8, 10]\n"
     ]
    }
   ],
   "source": [
    "spam = [2, 4, 6, 8, 10]\n",
    "spam[2] = 'hello'\n",
    "\n",
    "print(spam)"
   ]
  },
  {
   "cell_type": "markdown",
   "metadata": {},
   "source": [
    "### 003\n",
    "if spam contains the list ['a', 'b', 'c', 'd'].\n",
    "3. What does spam[int(int('3' * 2) // 11)] evaluate to?\n",
    "\n",
    "4. What does spam[-1] evaluate to?\n",
    "\n",
    "5. What does spam[:2] evaluate to?"
   ]
  },
  {
   "cell_type": "code",
   "execution_count": 14,
   "metadata": {},
   "outputs": [
    {
     "name": "stdout",
     "output_type": "stream",
     "text": [
      "d\n",
      "['a', 'b']\n"
     ]
    }
   ],
   "source": [
    "spam = ['a', 'b', 'c', 'd']\n",
    "\n",
    "spam[int(int('3' * 2) // 11)]\n",
    "# '3' * 2 = '33' and int('33') = 33\n",
    "\n",
    "spam[int(33//11)] = 'd'\n",
    "\n",
    "print(spam[-1])\n",
    "\n",
    "print(spam[:2])\n"
   ]
  },
  {
   "cell_type": "code",
   "execution_count": 13,
   "metadata": {},
   "outputs": [
    {
     "name": "stdout",
     "output_type": "stream",
     "text": [
      "yM emaN si ,dnoB semaJ dnoB\n"
     ]
    }
   ],
   "source": [
    "#Reverse the string\n",
    "def reverse_words(Sentence):\n",
    "    phrase = Sentence.split(\" \")\n",
    "    \n",
    "    # iterate and reverse each word using ::-1\n",
    "    new_word_list = [word[::-1] for word in phrase]\n",
    "\n",
    "    #join the new list of words\n",
    "    res_str = \" \".join(new_word_list)\n",
    "\n",
    "    return res_str\n",
    "\n",
    "#Given string\n",
    "str1 = 'My Name is Bond, James Bond'\n",
    "\n",
    "print(reverse_words(str1))"
   ]
  }
 ],
 "metadata": {
  "kernelspec": {
   "display_name": "base",
   "language": "python",
   "name": "python3"
  },
  "language_info": {
   "codemirror_mode": {
    "name": "ipython",
    "version": 3
   },
   "file_extension": ".py",
   "mimetype": "text/x-python",
   "name": "python",
   "nbconvert_exporter": "python",
   "pygments_lexer": "ipython3",
   "version": "3.12.7"
  }
 },
 "nbformat": 4,
 "nbformat_minor": 2
}
