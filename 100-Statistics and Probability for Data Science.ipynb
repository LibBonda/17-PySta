{
 "cells": [
  {
   "cell_type": "markdown",
   "metadata": {},
   "source": [
    "### 001. Introduction to Data Foundations\n",
    "#### Key learning points\n",
    "- Define, categorize, and evaluate data\n",
    "- Organize data\n",
    "- Identify ways to use data in business and everyday life\n",
    "- Describe key steps of the data analysis process\n",
    "\n",
    "#### Data\n",
    "- Data is the plural of datum, which is a single fact that is recorded, measured, or collected through some type of observation, either by humans or machines.\n",
    "- A single datum or fact can be a number, word, measurement, observation (e.g., visual, auditory, etc.), or description of something. \n",
    "- Consequently, the plural form (data) is a collection of recorded facts. \n",
    "\n",
    "#### Unstructured Data\n",
    "- Unstructured data is that it doesn't fit into a predetermined structure or format, such as rows and columns.\n",
    "- For this reason, we call this type of data unstructured data.\n",
    "- A lot of unstructured data consists of text, but it includes many other formats (e.g., image, audio, location, and more).\n",
    "- Due to its lack of structure, we can't store unstructured data in spreadsheets.\n",
    "- Instead, we typically store data in its raw format in vast repositories — without imposing a predefined structure, such as rows and columns.\n",
    "\n",
    "#### Semi-Structured Data\n",
    "- Semi-structured data contains elements of both structured and unstructured data. \n",
    "- Semi-structured data doesn't have the structure of tabular or spreadsheet data, but it has some structure in the form of tags and metadata that help people group, describe, and analyze the data. JSON and XML are two common types of semi-structured data.\n",
    "\n",
    "- Unstructured data that is accompanied by metadata becomes semi-structured. \n",
    "\n",
    "#### Metadata \n",
    "- Metadata is data about data, or data that describes data. \n",
    "- Metadata provides basic information about the data, such as when it was created and why, who created the data, where the data was created, the data file size, and other information. eg. an online photo or video...with metadata on it the image or video becomes semi-structured"
   ]
  },
  {
   "cell_type": "code",
   "execution_count": null,
   "metadata": {},
   "outputs": [],
   "source": [
    "#JSON Example of semi-structured data\n",
    "\n",
    "{\n",
    "  \"employees\": {\n",
    "    \"employee\": [\n",
    "      {\n",
    "        \"id\": \"1\",\n",
    "        \"firstName\": \"Tom\",\n",
    "        \"lastName\": \"Cruise\"\n",
    "      },\n",
    "      {\n",
    "        \"id\": \"2\",\n",
    "        \"firstName\": \"Jane\",\n",
    "        \"lastName\": \"Bourne\"\n",
    "      },\n",
    "      {\n",
    "        \"id\": \"3\",\n",
    "        \"firstName\": \"James\",\n",
    "        \"lastName\": \"Bond\"\n",
    "      }\n",
    "    ]\n",
    "  }\n",
    "}"
   ]
  },
  {
   "cell_type": "markdown",
   "metadata": {},
   "source": [
    "#### Variable\n",
    "- A variable is a category of information that is likely to vary among the many observations within a dataset. \n",
    "- When working with tabular data, a variable is also referred to as a field or a column."
   ]
  },
  {
   "cell_type": "markdown",
   "metadata": {},
   "source": [
    "#### 006 Quantitative and Qualitative Data\n",
    "- Quantitative Data\n",
    "\n",
    "- Quantitative data is also called numerical because we can count it, measure it, and represent it with numbers. Examples of quantitative data include weight, salary, pieces of pie eaten, years of education, and number of orders. \n",
    "- All these examples are things that we can count or measure, and we must represent their values as numbers.\n",
    "\n",
    "- For example, a person can weigh 186.5 pounds, a salary can be $57,933.45 per year.\n",
    "\n",
    "#### 007 Qualitative Data\n",
    "- Qualitative, or categorical data, means that we cannot count or measure the data; therefore, it isn't numerical. \n",
    "- Qualitative data differs from quantitative data in that it classifies or categorizes different objects.\n",
    "- For example, hair color is qualitative. Possible values of hair color include black, brown, red, blonde, gray, white (and maybe more). Black, brown, red, blond, grey, and white are different categories of hair color and not measures or counts of hair color.\n",
    "\n",
    "- A similar example of qualitative data in a company might be office location.\n",
    "- The values of a company's office location might be New York, Chicago, Boston, Los Angeles, and Houston. These aren't counts or measurements, but we can consider them categories.\n",
    "\n",
    "#### 008 Nominal Data\n",
    "- Nominal Data, is when categories of the data can be named or listed, but there is no inherent order to them. eg. the categorical variable hair color. \n",
    "- The different categories included black, brown, red, blond, gray, and white. However, these are simply names for the different kinds of hair colors; there is no natural order of \"smallest to largest\" or \"worst to best\" among the various hair colors.\n",
    "- The same is true for office location. If a company has offices in New York, Chicago, Boston, Los Angeles, and Houston, these are the labels or names for office location, but do not have inherent order \n",
    "\n",
    "#### 009 Ordinal Data\n",
    "- Ordinal data has categories, but we can order them from smallest to largest, least to most, worst to best, or in other ordered ways. Shirt size (small, medium, large, and extra-large) is an ordinal variable because we can order the categories of shirt size from smallest to largest (and vice versa).\n",
    "- Also seniority is also ordinal because there is a hierarchy of less to more among the categories of entry-level, intermediate, mid-level, and senior or executive-level. The categories are still not counts or measurements, but we know that an entry-level position implies less experience, expertise, pay, and/or other attributes than an intermediate, mid-level, or senior position.\n",
    "- For ordinal data is that the space or distance between any two values isn't necessarily the same. For example, the difference in size between a small and a medium shirt isn't necessarily the same as the difference in size between a medium and a large shirt.\n",
    "- While ordinal data is qualitative, it often uses numbers to represent the categories, such as in customer satisfaction surveys or the order in which runners finish a race.\n",
    "\n",
    "\n",
    "#### 010 Discrete and Continuous Data\n",
    "\n",
    "##### Discrete data \n",
    "is counted using using whole numbers which will not allow any fractions or decimals. For example, number of siblings is discrete because we have to use whole numbers to count our siblings (e.g., 1, 2, 3, and so on). It's impossible to have 2.3 siblings or 3/2 siblings. Similarly, the number of books in our office is discrete. We might have 10 books or 100 books\n",
    "\n",
    "##### Continuous data, \n",
    "- Is numerical data that can take on any value between two whole numbers. In other words, it can have decimals and fractions. \n",
    "- A lot of the data that we measure, as opposed to count, is continuous. eg.salary is continuous and can be any value between two whole dollar amounts (e.g., $60,000.25)."
   ]
  }
 ],
 "metadata": {
  "language_info": {
   "name": "python"
  }
 },
 "nbformat": 4,
 "nbformat_minor": 2
}
