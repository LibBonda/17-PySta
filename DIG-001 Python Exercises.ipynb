{
 "cells": [
  {
   "cell_type": "markdown",
   "id": "db4a5a8e-0864-4151-a153-d90cddc20b88",
   "metadata": {},
   "source": [
    "### Problem 1: Password Validator\r\n",
    "Write a program that checks if a password is valid based on the following criteria:\r\n",
    "\r\n",
    "Conditions:\r\n",
    "- The password length should be at least 8 characters.\r\n",
    "- The password should contain at least one uppercase letter.\r\n",
    "- The password should contain at least one lowercase letter.\r\n",
    "- The password should contain at least one digit."
   ]
  },
  {
   "cell_type": "code",
   "execution_count": 2,
   "id": "859e453c-4a50-469f-bde6-4ac269932a4f",
   "metadata": {},
   "outputs": [
    {
     "name": "stdin",
     "output_type": "stream",
     "text": [
      "Enter new password:  gege\n"
     ]
    },
    {
     "name": "stdout",
     "output_type": "stream",
     "text": [
      "password is too short\n"
     ]
    }
   ],
   "source": [
    "password = str(input(\"Enter new password: \"))\n",
    "nums = str(1234567890)\n",
    "caps = \"ABCDEFGHIJKLMNOPQRSTUVWXYZ\"\n",
    "smalls = \"abcdefghijklmnopqrstuvwxyz\"\n",
    "permitted_specials = \"!£$%&*()\"\n",
    "\n",
    "#check that password contains at lease one uppercase character, at least one lowercase char and at least one digit, and that password is at least 8 chars long\n",
    "#check password uses at least one special character and is not greater than 25 chars\n",
    "if len(password) < 8 :\n",
    "    print(\"password is too short\")\n",
    "elif not any(char in nums for char in password):\n",
    "    print(\"Password must contain at least one digit\")\n",
    "elif not any(char in caps for char in password):\n",
    "    print(\"Password must contain at least one uppercase character\")\n",
    "elif not any(char in smalls for char in password):\n",
    "    print(\"Password must contain at least one lowercase character\")\n",
    "elif not any(char in permitted_specials for char in password):\n",
    "    print(\"use permitted special character, please try again\")\n",
    "elif len(password) > 25:    \n",
    "    print(\"invalid or too long password\")\n",
    "else:\n",
    "   print(\"login successful\")"
   ]
  },
  {
   "cell_type": "markdown",
   "id": "075edaaa-f26c-41d2-8f3d-7a3d1fb01e0c",
   "metadata": {},
   "source": [
    "### Problem 2: Palindrome Checker\n",
    "Create a program that checks if a given string is a palindrome (reads the same backward as forward).\n",
    "\n",
    "Conditions:\n",
    "- Ignore spaces and case when checking if a string is a palindrome.\n",
    "- Example: \"Racecar\" should be considered a palindrome."
   ]
  },
  {
   "cell_type": "code",
   "execution_count": 4,
   "id": "4d5e90f8-8328-4765-a089-d1bf99868486",
   "metadata": {},
   "outputs": [
    {
     "name": "stdin",
     "output_type": "stream",
     "text": [
      "enter Word:  hrere\n"
     ]
    },
    {
     "name": "stdout",
     "output_type": "stream",
     "text": [
      "Try again\n"
     ]
    }
   ],
   "source": [
    "word = input(\"enter Word: \")\n",
    "word = word.lower()\n",
    "if word == word[::-1]:\n",
    "    print(\"Word is a palindrome\")\n",
    "else:\n",
    "    print(\"Try again\")"
   ]
  },
  {
   "cell_type": "markdown",
   "id": "3aacac69-75ee-4993-b537-a4cdf83d9add",
   "metadata": {},
   "source": [
    "### Problem 3: Email Validator\n",
    "Write a program that validates an email address based on simple rules:\n",
    "\n",
    "Conditions:\n",
    "- It should contain exactly one \"@\" symbol.\n",
    "- It should have at least one \".\" after the \"@\" symbol.\n",
    "- Example: \"user@example.com\" is valid, but \"userexample.com\" and \"user@com\" are not."
   ]
  },
  {
   "cell_type": "markdown",
   "id": "240012d0-c03d-4461-ac23-12b5a7efc7e3",
   "metadata": {},
   "source": [
    "email = input(\"Enter your email: \").lower()\n",
    "suffix = \".com\"\n",
    "symbol = \"@\"\n",
    "\n",
    "if not email.endswith(suffix):\n",
    "    print(\"incorrect email domain\")\n",
    "elif not any(char in symbol for char in email):\n",
    "    print(\"email not valid\")\n",
    "else:\n",
    "    print(f'{email}, is a valid email' )"
   ]
  },
  {
   "cell_type": "markdown",
   "id": "f04a5742-78cd-49e0-a5bb-c535f7ad7b13",
   "metadata": {},
   "source": [
    "#improved version\n",
    "email = input(\"Enter your email: \").lower()\n",
    "symbol = \"@\"\n",
    "suffix = \". \"\n",
    "\n",
    "if not email.endswith(suffix):\n",
    "    print(\"incorrect email domain\")\n",
    "elif not symbol in email:\n",
    "    print(\"invalid email\")\n",
    "elif email.index(symbol) + 1 >= len(email):\n",
    "    print(\"invalid email\")\n",
    "else:\n",
    "    print(f'{email} is a valid email')\n"
   ]
  },
  {
   "cell_type": "code",
   "execution_count": 53,
   "id": "02cf9067-039c-4dd4-86cb-f368fdb32d72",
   "metadata": {},
   "outputs": [
    {
     "name": "stdin",
     "output_type": "stream",
     "text": [
      "Enter email: li@ucas.co\n"
     ]
    },
    {
     "name": "stdout",
     "output_type": "stream",
     "text": [
      "Valid Email!\n"
     ]
    }
   ],
   "source": [
    "#basic email check\n",
    "newEmail = input(\"Enter email:\")\n",
    "\n",
    "if newEmail.count('@') == 1 and newEmail.index('@') < newEmail.index('.'):\n",
    "    print(\"Valid Email!\")\n",
    "else:\n",
    "    print(\"Not a valid email\")"
   ]
  },
  {
   "cell_type": "markdown",
   "id": "cf08c72b-d7f6-44b3-977b-86cca0da5e07",
   "metadata": {},
   "source": [
    "### Problem 4: Case Converter\r\n",
    "Design a program that converts the case of a string:\r\n",
    "\r\n",
    "Conditions:\r\n",
    "- If the string is all lowercase, convert it to uppercase.\r\n",
    "- If the string is all uppercase, convert it to lowercase.\r\n",
    "- If the string is mixed case, display \"Mixed case\"."
   ]
  },
  {
   "cell_type": "code",
   "execution_count": 9,
   "id": "2d260cc8-04a5-483b-b993-6231abdb68e8",
   "metadata": {},
   "outputs": [
    {
     "name": "stdin",
     "output_type": "stream",
     "text": [
      "Enter your Text:  trgrt\n"
     ]
    },
    {
     "name": "stdout",
     "output_type": "stream",
     "text": [
      "TRGRT\n"
     ]
    }
   ],
   "source": [
    "new_word = str(input(\"Enter your Text: \"))\n",
    "\n",
    "if new_word.isupper():\n",
    "    print(new_word.lower())\n",
    "elif new_word.islower():\n",
    "    print(new_word.upper())\n",
    "else:\n",
    "    print(\"Mixed Case\")"
   ]
  },
  {
   "cell_type": "markdown",
   "id": "5d10c926-8dca-4cc9-941e-2d52ac9658da",
   "metadata": {},
   "source": [
    "### Problem 5: Substring Checker\r\n",
    "Create a program that checks if a smaller string (substring) is present within a larger string.\r\n",
    "\r\n",
    "Conditions:\r\n",
    "- If the substring is found, display \"Substring found\".\r\n",
    "- If the substring is not found, display \"Substring not found\"."
   ]
  },
  {
   "cell_type": "code",
   "execution_count": 17,
   "id": "97181350-7d69-47ee-a6dd-a183603ac45e",
   "metadata": {},
   "outputs": [
    {
     "name": "stdin",
     "output_type": "stream",
     "text": [
      "Enter your sentence:  Hello Mama Africa\n",
      "Enter your substring:  Hell yeah\n"
     ]
    },
    {
     "name": "stdout",
     "output_type": "stream",
     "text": [
      "Substring not found\n"
     ]
    }
   ],
   "source": [
    "mainStr = input(\"Enter your sentence: \")\n",
    "minorStr = input(\"Enter your substring: \")\n",
    "\n",
    "if minorStr in mainStr:\n",
    "    print(\"Substring found\")\n",
    "else:\n",
    "    print(\"Substring not found\")"
   ]
  },
  {
   "cell_type": "markdown",
   "id": "ae731ac4-4dc2-4cc2-9af0-8f316767cc1f",
   "metadata": {},
   "source": [
    "### Problem 6: Character Count\n",
    "Write a program that counts the number of vowels and consonants in a string.\n",
    "\n",
    "Conditions:\n",
    "- Count both uppercase and lowercase vowels (a, e, i, o, u).\n",
    "- All other alphabet characters are considered consonants.\n",
    "- Example: \"Hello\" has 2 vowels and 3 consonants."
   ]
  },
  {
   "cell_type": "code",
   "execution_count": 59,
   "id": "6a9b9b5b-0e1a-43a1-8cff-bceebeca404a",
   "metadata": {},
   "outputs": [
    {
     "name": "stdin",
     "output_type": "stream",
     "text": [
      "Enter your text:  ytrebil arakamadnob\n"
     ]
    },
    {
     "name": "stdout",
     "output_type": "stream",
     "text": [
      "Vowels: 7\n",
      "Consonants: 11\n"
     ]
    }
   ],
   "source": [
    "word = input(\"Enter your text: \")\n",
    "vowels = \"aeiou\"\n",
    "vowel_count = 0\n",
    "consonant_count = 0\n",
    "\n",
    "for char in word.lower():    #convert to lowercase to ignore case sensitivity\n",
    "    if char in vowels:       #check if any vowels are in the word\n",
    "        vowel_count += 1\n",
    "    elif char.isalpha():         #check if character is a letter\n",
    "        consonant_count += 1\n",
    "\n",
    "print(\"Vowels:\", vowel_count)\n",
    "print(\"Consonants:\", consonant_count)"
   ]
  },
  {
   "cell_type": "markdown",
   "id": "9f96a1a4-ddc5-445f-9f7c-e61e5a94527d",
   "metadata": {},
   "source": [
    "### Problem 7: String Length Categorizer\r\n",
    "Design a program that categorizes a string based on its length.\r\n",
    "\r\n",
    "Conditions:\r\n",
    "- Length < 5: \"Very short string\"\r\n",
    "- 5 <= Length < 10: \"Short string\"\r\n",
    "- 10 <= Length < 20: \"Medium string\"\r\n",
    "- Length >= 20: \"Long string\""
   ]
  },
  {
   "cell_type": "code",
   "execution_count": 65,
   "id": "e0ec884b-4508-45e0-986d-8092b6ca7934",
   "metadata": {},
   "outputs": [
    {
     "name": "stdin",
     "output_type": "stream",
     "text": [
      "Enter phrase or sentence:  leb\n"
     ]
    },
    {
     "name": "stdout",
     "output_type": "stream",
     "text": [
      "Very short string\n"
     ]
    }
   ],
   "source": [
    "newString = input(\"Enter phrase or sentence: \")\n",
    "\n",
    "if len(newString) < 5 :\n",
    "    print(\"Very short string\")\n",
    "elif len(newString) < 10 :\n",
    "    print(\"Short string\")\n",
    "elif len(newString) < 20 :\n",
    "    print(\"Medium string\")\n",
    "else:\n",
    "    print(\"Long string\")"
   ]
  },
  {
   "cell_type": "markdown",
   "id": "7a2af02d-4cfa-417f-b407-4bdc0ef21169",
   "metadata": {},
   "source": [
    "### Problem 8: Username Validator\r\n",
    "Create a program that checks if a username is valid based on the following criteria:\r\n",
    "\r\n",
    "Conditions:\r\n",
    "- The username should be between 6 and 12 characters long.\r\n",
    "- It should contain only letters and digits.\r\n",
    "- It should start with a letter.\r\n",
    "- Example: \"User123\" is valid, but \"123User\" and \"User_123\" are not."
   ]
  },
  {
   "cell_type": "code",
   "execution_count": 153,
   "id": "d9250953-b3d2-4f7d-94ea-879cb72277ff",
   "metadata": {},
   "outputs": [
    {
     "name": "stdin",
     "output_type": "stream",
     "text": [
      "Enter username:  Cara4\n"
     ]
    },
    {
     "name": "stdout",
     "output_type": "stream",
     "text": [
      "username must be between 6 and 12 characters long\n",
      "Invalid username: Must contain alphanumeric characters\n"
     ]
    }
   ],
   "source": [
    "username = input(\"Enter username: \")\n",
    "has_letter = False\n",
    "has_digit = False\n",
    "\n",
    "if not ( 6 <= len(username) <= 12 ) :\n",
    "    print(\"username must be between 6 and 12 characters long\")\n",
    "elif not username[0].isalpha():\n",
    "    print(\"invalid first character\")\n",
    "else:\n",
    "    for char in username:\n",
    "        if char.isalpha():\n",
    "            has_letter = True\n",
    "        elif char.isdigit():\n",
    "            has_digit = True\n",
    "\n",
    "if has_letter and has_digit:\n",
    "    print(f'{username}, \"is a valid username\" ')\n",
    "else:\n",
    "    print(\"Invalid username: Must contain alphanumeric characters\")"
   ]
  },
  {
   "cell_type": "markdown",
   "id": "c0444201-cbf8-4050-9d82-28a4d01fac8e",
   "metadata": {},
   "source": [
    "### Problem 9: String Prefix/Suffix Checker\n",
    "Write a program that checks if a string starts with a specific prefix or ends with a specific suffix.\n",
    "\n",
    "Conditions:\n",
    "- If the string starts with \"pre\", display \"Starts with 'pre'\".\n",
    "- If the string ends with \"ing\", display \"Ends with 'ing'\".\n",
    "- If neither condition is met, display \"No"
   ]
  },
  {
   "cell_type": "code",
   "execution_count": 159,
   "id": "79a933d1-0fa8-435a-ae1b-25f25528cc4f",
   "metadata": {},
   "outputs": [
    {
     "name": "stdin",
     "output_type": "stream",
     "text": [
      "Enter word:  wedded\n"
     ]
    },
    {
     "name": "stdout",
     "output_type": "stream",
     "text": [
      "No\n"
     ]
    }
   ],
   "source": [
    "newStr = input(\"Enter word: \")\n",
    "prefix = \"pre\"\n",
    "suffix = \"ing\"\n",
    "\n",
    "if newStr.startswith(prefix):\n",
    "    print(\"Starts with 'pre' \")\n",
    "elif newStr.endswith(suffix):\n",
    "    print(\"End with 'ing' \")\n",
    "else:\n",
    "    print(\"No\")"
   ]
  },
  {
   "cell_type": "markdown",
   "id": "67cccf0b-2683-4062-831e-d38be72d9cad",
   "metadata": {},
   "source": [
    "Ends with 'ing'\".\r\n",
    "- If neither condition is met, display \"No match\".\r\n",
    "\r\n",
    "### Problem 10: Word Counter\r\n",
    "Design a program that counts the number of words in a sentence.\r\n",
    "\r\n",
    "Conditions:\r\n",
    "- A word is defined as any sequence of characters separated by spaces.\r\n",
    "- Example: \"Hello world\" has 2 words."
   ]
  },
  {
   "cell_type": "code",
   "execution_count": 173,
   "id": "c6e81de9-f075-4443-bd36-4f300cff1d98",
   "metadata": {},
   "outputs": [
    {
     "name": "stdin",
     "output_type": "stream",
     "text": [
      "enter sentence:  Wanga uchi wanganga wangu\n"
     ]
    },
    {
     "name": "stdout",
     "output_type": "stream",
     "text": [
      "sentence has 4 words\n"
     ]
    }
   ],
   "source": [
    "sentence = input(\"enter sentence: \")\n",
    "\n",
    "newSentence = sentence.split()\n",
    "print(f'sentence has {len(newSentence)} words')\n",
    "\n"
   ]
  },
  {
   "cell_type": "code",
   "execution_count": null,
   "id": "ef0bb328-561f-4f72-a4bc-f09042c1a4b8",
   "metadata": {},
   "outputs": [],
   "source": []
  }
 ],
 "metadata": {
  "kernelspec": {
   "display_name": "Python 3 (ipykernel)",
   "language": "python",
   "name": "python3"
  },
  "language_info": {
   "codemirror_mode": {
    "name": "ipython",
    "version": 3
   },
   "file_extension": ".py",
   "mimetype": "text/x-python",
   "name": "python",
   "nbconvert_exporter": "python",
   "pygments_lexer": "ipython3",
   "version": "3.11.7"
  }
 },
 "nbformat": 4,
 "nbformat_minor": 5
}
