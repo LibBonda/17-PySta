{
 "cells": [
  {
   "cell_type": "markdown",
   "id": "20effebd-0dee-4864-9bc8-bc5fdc6ff219",
   "metadata": {},
   "source": [
    "### 001\n",
    "write code to iterate through a string to generate as many combinations of the individual characters within the string."
   ]
  },
  {
   "cell_type": "code",
   "execution_count": null,
   "id": "22137692-bcd9-4b04-ad13-2418f322de76",
   "metadata": {},
   "outputs": [],
   "source": [
    "#initialise function\n",
    "def my_combo(my_str):\n",
    "    \"\"\"Generates all possible combinations of characters in a string.\n",
    "\n",
    "    Args:\n",
    "        my_str: The input string.\n",
    "\n",
    "    Returns:\n",
    "        A list of all possible combinations.\n",
    "    \"\"\"\n",
    "\n",
    "    if len(my_str) == 1:\n",
    "        return [my_str]\n",
    "\n",
    "    combinations = set()\n",
    "    for i in range(len(my_str)):\n",
    "        char = my_str[i]\n",
    "        remaining_chars = my_str[:i] + my_str[i + 1:]\n",
    "        sub_combinations = my_combo(remaining_chars)\n",
    "        for sub_combo in sub_combinations:\n",
    "            combinations.add(char + sub_combo)\n",
    "            \n",
    "    return combinations\n",
    "\n",
    "my_str = input(\"Enter your string: \")\n",
    "combinations = my_combo(my_str)\n",
    "print(combinations)"
   ]
  },
  {
   "cell_type": "code",
   "execution_count": null,
   "id": "3c336fdd-77e4-46e5-87da-a0fd1460f89a",
   "metadata": {},
   "outputs": [
    {
     "name": "stdout",
     "output_type": "stream",
     "text": [
      "4\n",
      "10\n",
      "5\n",
      "2\n",
      "5\n"
     ]
    }
   ],
   "source": []
  }
 ],
 "metadata": {
  "kernelspec": {
   "display_name": "base",
   "language": "python",
   "name": "python3"
  },
  "language_info": {
   "codemirror_mode": {
    "name": "ipython",
    "version": 3
   },
   "file_extension": ".py",
   "mimetype": "text/x-python",
   "name": "python",
   "nbconvert_exporter": "python",
   "pygments_lexer": "ipython3",
   "version": "3.12.7"
  }
 },
 "nbformat": 4,
 "nbformat_minor": 5
}
