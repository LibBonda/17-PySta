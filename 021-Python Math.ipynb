{
 "cells": [
  {
   "cell_type": "markdown",
   "metadata": {},
   "source": [
    "### 001  Python Math\n",
    "- Python has a set of built-in math functions, including an extensive math module, that allows you to perform mathematical tasks on numbers\n",
    "\n",
    "##### Built-in Math Functions\n",
    "The min() and max() functions can be used to find the lowest or highest value in an iterable:"
   ]
  },
  {
   "cell_type": "code",
   "execution_count": 2,
   "metadata": {},
   "outputs": [
    {
     "name": "stdout",
     "output_type": "stream",
     "text": [
      "5\n",
      "30\n",
      "35\n",
      "150\n",
      "7.25\n"
     ]
    }
   ],
   "source": [
    "# min() and max() functions\n",
    "x = min(5, 10, 25, 30)\n",
    "\n",
    "y = max(5, 10, 25, 30)\n",
    "\n",
    "print(x)\n",
    "print(y)\n",
    "print(x + y)\n",
    "print( x * y)\n",
    "\n",
    "# The abs() function returns the absolute (positive) value of the specified number:\n",
    "\n",
    "x = abs(-7.25)\n",
    "\n",
    "print(x)"
   ]
  },
  {
   "cell_type": "code",
   "execution_count": 3,
   "metadata": {},
   "outputs": [
    {
     "name": "stdout",
     "output_type": "stream",
     "text": [
      "64\n"
     ]
    }
   ],
   "source": [
    "#The pow(x, y) function returns the value of x to the power of y (xy).\n",
    "\n",
    "x = pow(4, 3)\n",
    "\n",
    "print(x)"
   ]
  },
  {
   "cell_type": "markdown",
   "metadata": {},
   "source": [
    "#### The Math Module\n",
    "- Python has also a built-in module called math, which extends the list of mathematical functions.\n",
    "- To use it, you must import the math module:"
   ]
  },
  {
   "cell_type": "code",
   "execution_count": null,
   "metadata": {},
   "outputs": [],
   "source": [
    "import math\n",
    "\n",
    "x = math.sqrt(64) #The math.sqrt() method returns the square root of a number\n",
    "\n",
    "print(x)"
   ]
  },
  {
   "cell_type": "code",
   "execution_count": 5,
   "metadata": {},
   "outputs": [
    {
     "name": "stdout",
     "output_type": "stream",
     "text": [
      "2\n",
      "1\n",
      "3.141592653589793\n"
     ]
    }
   ],
   "source": [
    " \n",
    "import math                 \n",
    "\n",
    "x = math.ceil(1.4)      # The math.ceil() method rounds a number upwards to its nearest integer.\n",
    "\n",
    "y = math.floor(1.4)     # The math.floor() method rounds a number downwards to its nearest integer\n",
    "\n",
    "z = math.pi             # The math.pi constant, returns the value of PI (3.14...):\n",
    "\n",
    "print(x)\n",
    "print(y)\n",
    "print(z)"
   ]
  }
 ],
 "metadata": {
  "kernelspec": {
   "display_name": "mypyenv",
   "language": "python",
   "name": "python3"
  },
  "language_info": {
   "codemirror_mode": {
    "name": "ipython",
    "version": 3
   },
   "file_extension": ".py",
   "mimetype": "text/x-python",
   "name": "python",
   "nbconvert_exporter": "python",
   "pygments_lexer": "ipython3",
   "version": "3.12.5"
  }
 },
 "nbformat": 4,
 "nbformat_minor": 2
}
