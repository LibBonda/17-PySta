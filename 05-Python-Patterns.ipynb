{
 "cells": [
  {
   "cell_type": "code",
   "execution_count": 1,
   "id": "5840d7f9-c199-44ae-aca5-f4e8e7c8597b",
   "metadata": {},
   "outputs": [
    {
     "name": "stdout",
     "output_type": "stream",
     "text": [
      " \n",
      "1  \n",
      "2 2  \n",
      "3 3 3  \n",
      "4 4 4 4  \n",
      "5 5 5 5 5  \n",
      "6 6 6 6 6 6  \n"
     ]
    }
   ],
   "source": [
    "rows = 6 #outer loop\n",
    "for i in range(rows+1): #nested loop\n",
    "    for j in range(i): #display number\n",
    "        print(i, end = ' ') \n",
    "    print(' ')\n"
   ]
  },
  {
   "cell_type": "code",
   "execution_count": 2,
   "id": "fdcff799-f463-4767-aad4-85b8e63513d5",
   "metadata": {},
   "outputs": [
    {
     "name": "stdin",
     "output_type": "stream",
     "text": [
      "Enter number of rows:  5\n"
     ]
    },
    {
     "name": "stdout",
     "output_type": "stream",
     "text": [
      "\n",
      "1 \n",
      "2 2 \n",
      "3 3 3 \n",
      "4 4 4 4 \n"
     ]
    }
   ],
   "source": [
    "rows = int(input(\"Enter number of rows: \"))\n",
    "for i in range(rows): #outer loop\n",
    "    for j in range(i): #nested loop\n",
    "        print(i, end = ' ') #display number\n",
    "    print('') #new line after each row\n"
   ]
  },
  {
   "cell_type": "markdown",
   "id": "1144c638-9310-4ac4-8767-e2ad87875d0f",
   "metadata": {},
   "source": [
    "Half pyramid pattern"
   ]
  },
  {
   "cell_type": "code",
   "execution_count": 4,
   "id": "250a44be-ad45-4f5e-9d94-8ef9840d85af",
   "metadata": {},
   "outputs": [
    {
     "name": "stdout",
     "output_type": "stream",
     "text": [
      "1  \n",
      "1 2  \n",
      "1 2 3  \n",
      "1 2 3 4  \n",
      "1 2 3 4 5  \n",
      "1 2 3 4 5 6  \n"
     ]
    }
   ],
   "source": [
    "rows = 6\n",
    "for i in range(1, rows +1):\n",
    "    for j in range(1, i + 1):\n",
    "        print(j, end=' ')\n",
    "    print(' ')"
   ]
  },
  {
   "cell_type": "markdown",
   "id": "4266c580-7682-4ba4-9464-acb40358c4c4",
   "metadata": {},
   "source": [
    "Re3verse Half -Pyramid Pattern"
   ]
  },
  {
   "cell_type": "code",
   "execution_count": 6,
   "id": "d635d8d4-9c80-489a-b0ef-7a35c697d91b",
   "metadata": {
    "scrolled": true
   },
   "outputs": [
    {
     "name": "stdout",
     "output_type": "stream",
     "text": [
      "1 1 1 1 1 \n",
      "2 2 2 2 \n",
      "3 3 3 \n",
      "4 4 \n",
      "5 \n"
     ]
    }
   ],
   "source": [
    "rows = 5\n",
    "b = 0 \n",
    "#reverse for loop from 5 to 0\n",
    "for i in range(rows, 0, -1):\n",
    "    b += 1\n",
    "    for j in range(1, i + 1):\n",
    "        print(b, end=' ')\n",
    "    print('\\r')"
   ]
  },
  {
   "cell_type": "markdown",
   "id": "616d03d6-2f84-4375-9f8c-36009d476e33",
   "metadata": {},
   "source": [
    "inverted pyramid with the same number "
   ]
  },
  {
   "cell_type": "code",
   "execution_count": 8,
   "id": "5df0efb6-d4c0-4195-8616-d135faa9c171",
   "metadata": {},
   "outputs": [
    {
     "name": "stdout",
     "output_type": "stream",
     "text": [
      "8 8 8 8 8 8 8 8 \n",
      "8 8 8 8 8 8 8 \n",
      "8 8 8 8 8 8 \n",
      "8 8 8 8 8 \n",
      "8 8 8 8 \n",
      "8 8 8 \n",
      "8 8 \n",
      "8 \n"
     ]
    }
   ],
   "source": [
    "rows = 8\n",
    "num = rows\n",
    "#reverse for loop \n",
    "for i in range(rows, 0, -1):\n",
    "    for j in range(0, i):\n",
    "        print(num, end=' ')\n",
    "    print('\\r')"
   ]
  },
  {
   "cell_type": "markdown",
   "id": "cdde3ef2-0183-456b-8629-9510932dfa3d",
   "metadata": {},
   "source": [
    "inverted  half-pyramid with a number"
   ]
  },
  {
   "cell_type": "code",
   "execution_count": 10,
   "id": "438b23b2-b5f2-48ba-bd80-5894bf307398",
   "metadata": {},
   "outputs": [
    {
     "name": "stdout",
     "output_type": "stream",
     "text": [
      "0 1 2 3 4 5 \n",
      "0 1 2 3 4 \n",
      "0 1 2 3 \n",
      "0 1 2 \n",
      "0 1 \n"
     ]
    }
   ],
   "source": [
    "rows = 5\n",
    "for i in range(rows, 0, -1):\n",
    "    for j in range(0, i + 1):\n",
    "        print(j, end = ' ')\n",
    "    print(\"\\r\")"
   ]
  },
  {
   "cell_type": "markdown",
   "id": "ea839699-a92f-46b3-b070-6b92d9eb9272",
   "metadata": {},
   "source": [
    "Alternate numbers pattern using a while loop"
   ]
  },
  {
   "cell_type": "code",
   "execution_count": 12,
   "id": "f765a4cb-7b00-43cb-b1c4-fd4664a9d7aa",
   "metadata": {},
   "outputs": [
    {
     "name": "stdout",
     "output_type": "stream",
     "text": [
      "1  \n",
      "3 3  \n",
      "5 5 5  \n",
      "7 7 7 7  \n",
      "9 9 9 9 9  \n"
     ]
    }
   ],
   "source": [
    "rows = 5\n",
    "i = 1\n",
    "while i <= rows:\n",
    "    j = 1\n",
    "    while j <= i:\n",
    "        print((i * 2 - 1), end=\" \")\n",
    "        j = j + 1\n",
    "    i = i + 1\n",
    "    print(' ')"
   ]
  },
  {
   "cell_type": "markdown",
   "id": "2cb2d987-4aa3-44d9-a7a5-32d9b08d17a5",
   "metadata": {},
   "source": [
    "Reverse number pattern"
   ]
  },
  {
   "cell_type": "code",
   "execution_count": 24,
   "id": "ea04c301-064b-413a-88e7-8d7d8619bdda",
   "metadata": {},
   "outputs": [
    {
     "name": "stdout",
     "output_type": "stream",
     "text": [
      "5 5 5 5 5 \n",
      "4 4 4 4 \n",
      "3 3 3 \n",
      "2 2 \n",
      "1 \n"
     ]
    }
   ],
   "source": [
    "rows = 5\n",
    "\n",
    "for i in range(rows, 0, -1):\n",
    "    num = i\n",
    "    for j in range(0, i):\n",
    "        print(num, end=' ')\n",
    "    print(\"\\r\")"
   ]
  },
  {
   "cell_type": "markdown",
   "id": "24ce8f6f-588f-432a-8e32-422a41dd48a9",
   "metadata": {},
   "source": [
    "Reverse Pyramid with Downward increment pattern where numbers get increased in each iteration. At each row, the amount of number is equal to the current row number."
   ]
  },
  {
   "cell_type": "code",
   "execution_count": null,
   "id": "2c49df22-387e-490a-a899-9cbbbeacc06b",
   "metadata": {},
   "outputs": [],
   "source": [
    "rows = 6\n",
    "for i in range(1, rows)\n",
    "    for j in range(i, 0, -1):\n",
    "        print(j, end=' ')\n",
    "    print(\"\")"
   ]
  }
 ],
 "metadata": {
  "kernelspec": {
   "display_name": "Python 3 (ipykernel)",
   "language": "python",
   "name": "python3"
  },
  "language_info": {
   "codemirror_mode": {
    "name": "ipython",
    "version": 3
   },
   "file_extension": ".py",
   "mimetype": "text/x-python",
   "name": "python",
   "nbconvert_exporter": "python",
   "pygments_lexer": "ipython3",
   "version": "3.11.7"
  }
 },
 "nbformat": 4,
 "nbformat_minor": 5
}
