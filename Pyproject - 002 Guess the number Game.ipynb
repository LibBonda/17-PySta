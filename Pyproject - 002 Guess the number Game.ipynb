{
 "cells": [
  {
   "cell_type": "markdown",
   "id": "419bf4af-b6a0-467e-b516-0064e968656b",
   "metadata": {},
   "source": [
    "### 001\n",
    "Print random numbers"
   ]
  },
  {
   "cell_type": "code",
   "execution_count": 14,
   "id": "e1aedfb7-01ab-44f0-a542-8e2c0743a628",
   "metadata": {},
   "outputs": [
    {
     "name": "stdout",
     "output_type": "stream",
     "text": [
      "3\n",
      "8\n",
      "2\n",
      "3\n",
      "6\n"
     ]
    }
   ],
   "source": [
    "import random\n",
    "\n",
    "for i in range(5):\n",
    "  \n",
    "    \n",
    "    print(random.randint(1, 10))"
   ]
  },
  {
   "cell_type": "markdown",
   "id": "be6193c8-4e04-4f9c-9929-15747bb63160",
   "metadata": {},
   "source": [
    "### 002\n",
    "Generate a list of random numbers"
   ]
  },
  {
   "cell_type": "code",
   "execution_count": 24,
   "id": "eb4d15f5-5bb5-48d5-ad4a-36f07da77754",
   "metadata": {},
   "outputs": [
    {
     "name": "stdout",
     "output_type": "stream",
     "text": [
      "[9, 8, 7, 5, 5]\n"
     ]
    }
   ],
   "source": [
    "import random\n",
    "nums = [ ]\n",
    "\n",
    "\n",
    "for i in range(5):\n",
    "    random_num = random.randint(1, 10)\n",
    "    nums.append(random_num)\n",
    "\n",
    "print(nums)"
   ]
  },
  {
   "cell_type": "markdown",
   "id": "402b8ed8-4e09-4e6e-a2b4-95a9c66e794f",
   "metadata": {},
   "source": [
    "### 003 \n",
    "Guess the number Game\n",
    "I am thinking of a number between 1 and 20.\r\n",
    "Take a guess.\r\n",
    "10\r\n",
    "Your guess is too low.\r\n",
    "Take a guess.\r\n",
    "15\r\n",
    "Your guess is too low.\r\n",
    "Take a guess.\r\n",
    "17\r\n",
    "Your guess is too high.\r\n",
    "Take a guess.\r\n",
    "16\r\n",
    "Good job! You guessed my number in 4 guesses!"
   ]
  },
  {
   "cell_type": "code",
   "execution_count": 32,
   "id": "67bd4934-91ee-459f-be68-f9393f774403",
   "metadata": {},
   "outputs": [
    {
     "name": "stdout",
     "output_type": "stream",
     "text": [
      "I'm thinking of a number between 1 and 20.\n",
      "Take a guess.\n"
     ]
    },
    {
     "name": "stdin",
     "output_type": "stream",
     "text": [
      " 19\n"
     ]
    },
    {
     "name": "stdout",
     "output_type": "stream",
     "text": [
      "Your guess is too high\n",
      "Take a guess.\n"
     ]
    },
    {
     "name": "stdin",
     "output_type": "stream",
     "text": [
      " 11\n"
     ]
    },
    {
     "name": "stdout",
     "output_type": "stream",
     "text": [
      "Your guess is too high\n",
      "Take a guess.\n"
     ]
    },
    {
     "name": "stdin",
     "output_type": "stream",
     "text": [
      " 5\n"
     ]
    },
    {
     "name": "stdout",
     "output_type": "stream",
     "text": [
      "Your guess is too low.\n",
      "Take a guess.\n"
     ]
    },
    {
     "name": "stdin",
     "output_type": "stream",
     "text": [
      " 7\n"
     ]
    },
    {
     "name": "stdout",
     "output_type": "stream",
     "text": [
      "Your guess is too low.\n",
      "Take a guess.\n"
     ]
    },
    {
     "name": "stdin",
     "output_type": "stream",
     "text": [
      " 9\n"
     ]
    },
    {
     "name": "stdout",
     "output_type": "stream",
     "text": [
      "Your guess is too low.\n",
      "Take a guess.\n"
     ]
    },
    {
     "name": "stdin",
     "output_type": "stream",
     "text": [
      " 10\n"
     ]
    },
    {
     "name": "stdout",
     "output_type": "stream",
     "text": [
      "Great job! you guessed my number in 6 guesses!\n"
     ]
    }
   ],
   "source": [
    "# Guess the number game\n",
    "import random\n",
    "secretNum = random.randint(1, 20)\n",
    "print(\"I'm thinking of a number between 1 and 20.\")\n",
    "\n",
    "# Ask the player to guess six times\n",
    "for guessesTaken in range(1, 7):\n",
    "    print(\"Take a guess.\")\n",
    "    guess = int(input())\n",
    "\n",
    "    if guess < secretNum:\n",
    "        print('Your guess is too low.')\n",
    "\n",
    "    elif guess > secretNum:\n",
    "        print('Your guess is too high')\n",
    "\n",
    "    else:\n",
    "        break #This condition is the correct guess!\n",
    "if guess == secretNum:\n",
    "    print('Great job! you guessed my number in ' + str(guessesTaken) + ' guesses!')\n",
    "\n",
    "else:\n",
    "    print('Nah, the number I was thinking of was ' + str(secretNum))"
   ]
  },
  {
   "cell_type": "code",
   "execution_count": null,
   "id": "6e2dbb13-7252-46f6-bc1c-06bc7f93e389",
   "metadata": {},
   "outputs": [],
   "source": []
  }
 ],
 "metadata": {
  "kernelspec": {
   "display_name": "Python 3 (ipykernel)",
   "language": "python",
   "name": "python3"
  },
  "language_info": {
   "codemirror_mode": {
    "name": "ipython",
    "version": 3
   },
   "file_extension": ".py",
   "mimetype": "text/x-python",
   "name": "python",
   "nbconvert_exporter": "python",
   "pygments_lexer": "ipython3",
   "version": "3.11.7"
  }
 },
 "nbformat": 4,
 "nbformat_minor": 5
}
