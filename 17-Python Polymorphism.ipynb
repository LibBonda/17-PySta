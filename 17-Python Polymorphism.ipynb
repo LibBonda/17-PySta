{
 "cells": [
  {
   "cell_type": "markdown",
   "metadata": {},
   "source": [
    "### 001 Polymorphism in Python \n",
    "- is a concept from object-oriented programming (OOP) that allows objects of different types to be treated in a uniform manner. \n",
    "- It refers to the ability of a single function, method, or operator to behave differently based on the object (or data type) it is operating on. \n",
    "- polymorphism allows the same operation or function to be used for different types of objects.\n",
    "- It makes it possible write more flexible and reusable code by allowing you to interact with objects based on their common interface rather than their specific type."
   ]
  },
  {
   "cell_type": "markdown",
   "metadata": {},
   "source": [
    "### 002 Key Features\n",
    "# Method Overriding (in Inheritance): \n",
    "-In a subclass, a method can have the same name as one in the parent class, but can provide a different implementation.\n",
    "- This is called method overriding which allows a child class to modify or extend the behavior of its parent class.\n",
    "\n",
    "# Duck Typing: \n",
    "- Python uses duck typing, which means that the type of an object is not explicitly checked at compile time.\n",
    "- Instead, the object's behavior is checked at runtime. \n",
    "- If an object has the necessary methods or attributes, it can be treated as if it were of that type.\n",
    "\n",
    "# Dynamic Binding: \n",
    "- The specific method that is called on an object is determined at runtime based on the object's actual type. \n",
    "- This is known as dynamic binding or late binding."
   ]
  },
  {
   "cell_type": "markdown",
   "metadata": {},
   "source": []
  }
 ],
 "metadata": {
  "language_info": {
   "name": "python"
  }
 },
 "nbformat": 4,
 "nbformat_minor": 2
}
