{
 "cells": [
  {
   "cell_type": "markdown",
   "id": "a865ea76-dfe8-44e7-ae80-655dbb966aaf",
   "metadata": {},
   "source": [
    "### Problem 1:\n",
    "Given a list of integers, remove all the odd numbers and print the remaining list."
   ]
  },
  {
   "cell_type": "code",
   "execution_count": 2,
   "id": "db85a0ef-85cb-4305-9d99-3b64fceed265",
   "metadata": {},
   "outputs": [
    {
     "name": "stdout",
     "output_type": "stream",
     "text": [
      "[2]\n"
     ]
    }
   ],
   "source": [
    "def remove_odd_numbers(numbers):\n",
    "    #Use list comprehension to filter out odd numbers\n",
    "    even_numbers = [num for num in numbers if num % 2 == 0]\n",
    "    return even_numbers\n",
    "\n",
    "input_list = [2, 3, 11, 7, 9]\n",
    "result = remove_odd_numbers(input_list)\n",
    "\n",
    "print(result)\n",
    "        \n",
    "    "
   ]
  },
  {
   "cell_type": "code",
   "execution_count": 49,
   "id": "9ec6192c-0b96-4b99-a7a8-9f33506d28af",
   "metadata": {},
   "outputs": [
    {
     "name": "stdout",
     "output_type": "stream",
     "text": [
      "Enter the number of elements:  3\n",
      "Enter number:  1\n",
      "Enter number:  2\n",
      "Enter number:  3\n"
     ]
    },
    {
     "name": "stdout",
     "output_type": "stream",
     "text": [
      "[2]\n"
     ]
    }
   ],
   "source": [
    "def remove_odd_numbers(numbers):\n",
    "    even_numbers = []\n",
    "    for num in numbers:\n",
    "        if num % 2 == 0:\n",
    "            even_numbers.append(num)\n",
    "            return even_numbers\n",
    "            \n",
    "#Get input from user\n",
    "num_elements = int(input(\"Enter the number of elements: \"))\n",
    "list1 = []\n",
    "\n",
    "for i in range (num_elements):\n",
    "    num = int(input(\"Enter number: \"))\n",
    "    list1.append(num)\n",
    "#Remove odd numbers and print the result\n",
    "result = remove_odd_numbers(list1)\n",
    "\n",
    "print(result)"
   ]
  },
  {
   "cell_type": "markdown",
   "id": "46777365-ddae-48b0-a0ce-6eacd240d031",
   "metadata": {},
   "source": [
    "### a. Write some code in python\n",
    "which takes n as input and finds the sum of all even numbers till n."
   ]
  },
  {
   "cell_type": "code",
   "execution_count": null,
   "id": "1ad2403e-7ef9-45e4-9e9a-17990dc0bd3a",
   "metadata": {},
   "outputs": [],
   "source": [
    "n = 20\n",
    "sum = 0\n",
    "\n",
    "for num in range(n+1): # (any even number) % 2 will be always be 0\n",
    "    if num % 2 == 0: #checks for even numbers\n",
    "        sum = sum + num\n",
    "print(f'sum of even numbers till {n} is : ', sum)"
   ]
  },
  {
   "cell_type": "markdown",
   "id": "8c6f3c63-427c-4998-b946-8b6e8ee1deb7",
   "metadata": {},
   "source": [
    "## b. \n",
    "Write some code in python which to find the sum of all even numbers given a range between number a and number b"
   ]
  },
  {
   "cell_type": "code",
   "execution_count": 2,
   "id": "b8f5558c-b41e-4789-ad10-87f6c8c5d135",
   "metadata": {},
   "outputs": [
    {
     "name": "stdout",
     "output_type": "stream",
     "text": [
      "The sum of even numbers between, 2 and 6 is, 12\n"
     ]
    }
   ],
   "source": [
    "sum = 0\n",
    "a = int(input(\"Enter start number: \"))\n",
    "b = int(input(\"Enter start number: \"))\n",
    "\n",
    "for num in range(a, b+1): # (any even number) % 2 will be always be 0\n",
    "    if num % 2 == 0:\n",
    "        sum += num\n",
    "\n",
    "print(f\"The sum of even numbers between, {a} and {b} is, {sum}\")\n"
   ]
  },
  {
   "cell_type": "code",
   "execution_count": 19,
   "id": "70ce4a68-2fba-4569-a9de-6782d6d298d6",
   "metadata": {},
   "outputs": [
    {
     "name": "stdout",
     "output_type": "stream",
     "text": [
      "[1, 2, 3, 4, 5]\n",
      "[2, 4]\n"
     ]
    }
   ],
   "source": [
    "# Given a list of integers, remove all the odd numbers and print the remaining list.\n",
    "myStr = input(\"Enter your numbers: \")\n",
    "myList = list(myStr)\n",
    "\n",
    "# Convert the list of strings to a list of integers\n",
    "myList = [int(num) for num in myList]\n",
    "\n",
    "newList = []\n",
    "\n",
    "for num in myList:\n",
    "    if num % 2 == 0:\n",
    "        newList.append(num)\n",
    "\n",
    "print(myList)\n",
    "print(newList)"
   ]
  },
  {
   "cell_type": "markdown",
   "id": "f5fc7f58-ff55-4311-a5b9-f43a3df0b219",
   "metadata": {},
   "source": [
    "### Problem 2:\n",
    "You are given a string containing digits. Create a new string that consists of only the even digits from the original string\n"
   ]
  },
  {
   "cell_type": "code",
   "execution_count": null,
   "id": "8fa77b7c-55be-4750-b22a-13c6d9fb1075",
   "metadata": {},
   "outputs": [],
   "source": [
    "strOg = \"1, 2, 3, 4, 5, 6, 7, 8, 9, 10 \"\n",
    "\n",
    "#split thestring into a list of numbers.\n",
    "numbers = strOg.split(\",\")\n",
    "\n",
    "newStr = \" \" # Create an empty string to store even numbers\n",
    "\n",
    "for x in numbers:\n",
    "    if int(x) % 2 == 0 : #check if number is even\n",
    "        newStr += str(x) + \",\" #concatenate even numbers\n",
    "\n",
    "print(f'newStr = {newStr} ')"
   ]
  },
  {
   "cell_type": "markdown",
   "id": "948add56-54d9-4d5e-bbe3-847c2575ada6",
   "metadata": {},
   "source": [
    "### Problem 3:\n",
    "Given a dictionary where keys are names of students and values are their grades, check if any student has failed (assume grade less than 40 is a fail). If so, print their names.\n"
   ]
  },
  {
   "cell_type": "code",
   "execution_count": null,
   "id": "28408345-95d1-4a16-999c-5af02c915fc4",
   "metadata": {},
   "outputs": [],
   "source": [
    "#create student dictionary\n",
    "\n",
    "students = {\"Amos\":60, \"Cindy\":30, \"Jamie\":70, \"Mike\":27, \"Alan\":88}\n",
    "names = students.keys()\n",
    "grades = students.values()\n",
    "failed_students = [ ]\n",
    "\n",
    "for name, grade in students.items():\n",
    "    if grade < 40:\n",
    "        failed_students.append(name)        \n",
    "        \n",
    "print(failed_students)\n"
   ]
  },
  {
   "cell_type": "markdown",
   "id": "ae13f3d3-dee8-4f42-8fa3-42abef55581c",
   "metadata": {},
   "source": [
    "### Problem 4:\n",
    "Given two lists of integers, find the common elements between them and store the result in a new list."
   ]
  },
  {
   "cell_type": "code",
   "execution_count": null,
   "id": "2e5d9b20-e24a-4fe1-bbf1-54d048d56d15",
   "metadata": {},
   "outputs": [],
   "source": [
    "listA = [2, 8, 15, 4, 17, 11, 5, 9]\n",
    "listB = [4, 10, 9, 18, 8, 5]\n",
    "\n",
    "setA = set(listA)\n",
    "setB = set(listB)\n",
    "newSet = setA & setB\n",
    "newList = list(newSet)\n",
    "print(newList)"
   ]
  },
  {
   "cell_type": "markdown",
   "id": "da568c47-3a8d-4c44-9a6a-241211f61c76",
   "metadata": {},
   "source": [
    "### Problem 5:\n",
    "You have a list of integers. Print the index of the maximum number in the list. If there are multiple, print the index of the first occurrence."
   ]
  },
  {
   "cell_type": "code",
   "execution_count": null,
   "id": "58cfa911-e28e-42d7-8e09-420a6d0e59c2",
   "metadata": {},
   "outputs": [],
   "source": [
    "nums = [6, 8, 15, 4, 17, 11, 5, 9]\n",
    "\n",
    "maxNum = max(nums)\n",
    "minNum = min(nums)\n",
    "maxNumPos = nums.index(maxNum) #use the index() to find the index of the highest value\n",
    "minNumPos = nums.index(minNum)\n",
    "\n",
    "print(maxNumPos)\n",
    "print(minNumPos)"
   ]
  },
  {
   "cell_type": "markdown",
   "id": "9eefeade-03dc-4ef9-add2-053051b23644",
   "metadata": {},
   "source": [
    "### Problem 6:\n",
    "Create a list of all numbers from 1 to 100 that are divisible by both 2 and 3."
   ]
  },
  {
   "cell_type": "code",
   "execution_count": null,
   "id": "dfc836c3-6816-45eb-8995-ab4b2b7df090",
   "metadata": {},
   "outputs": [],
   "source": [
    "numbers = range(1,101,1)\n",
    "newList = []\n",
    "\n",
    "for i in range(1, 101, 1):\n",
    "    if i%2 == 0 and i%3 == 0:\n",
    "        newList.append(i)\n",
    "        \n",
    "print(newList)"
   ]
  },
  {
   "cell_type": "markdown",
   "id": "b385dbc1-8842-4edc-a054-8389e8e8d8dd",
   "metadata": {},
   "source": [
    "### Problem 7:\n",
    "You are given a list of dictionaries where each dictionary contains the name and age of a person. Find and print the name of the oldest person."
   ]
  },
  {
   "cell_type": "code",
   "execution_count": null,
   "id": "e970bf04-0959-4043-9faf-2a36bad095b4",
   "metadata": {},
   "outputs": [],
   "source": [
    "persons = {\"John\": 8, \"Peter\": 17, \"Andy\": 24, \"James\": 15, \"Tom\": 12, \"Jude\": 12, \"Nat\": 13}\n",
    "oldest = []\n",
    "#names = persons.keys()\n",
    "age = persons.values()\n",
    "maxAge = max(age)\n",
    "\n",
    "for name, age in persons.items():\n",
    "    if age == maxAge:\n",
    "        oldest.append(name)    \n",
    "    \n",
    "print(oldest)"
   ]
  },
  {
   "cell_type": "markdown",
   "id": "278105b9-5ef9-41fc-95ad-26fd912890f3",
   "metadata": {},
   "source": [
    "### Problem 8:\n",
    "You have a string that contains both letters and digits. Separate the digits into a new list and print them."
   ]
  },
  {
   "cell_type": "code",
   "execution_count": null,
   "id": "4a53e8ea-e7f9-46d1-96d0-bcfcaac7a478",
   "metadata": {},
   "outputs": [],
   "source": [
    "strAll = \"abcd1234efgh5678ijkl9\"\n",
    "newList = []\n",
    "for char in strAll:\n",
    "    if char.isnumeric():\n",
    "        newList.append(char)\n",
    "print(\"Numbers in the string:\", newList )\n",
    "    "
   ]
  },
  {
   "cell_type": "markdown",
   "id": "0bdc7893-92a6-4b9c-b8bf-a6dc7d2a5e51",
   "metadata": {},
   "source": [
    "### Problem 9:\n",
    "Given a list of numbers, create a new list containing only numbers greater than the average of the original list."
   ]
  },
  {
   "cell_type": "code",
   "execution_count": null,
   "id": "c61c5cfe-4582-4fd6-b7d2-7de927d12653",
   "metadata": {},
   "outputs": [],
   "source": [
    "myList = [20, 3, 17, 22, 9, 11, 15, 6, 11, 13]\n",
    "newList = []\n",
    "aveRage = sum(myList)/len(myList)\n",
    "\n",
    "for num in myList:\n",
    "    if num > aveRage:\n",
    "        newList.append(num)\n",
    "        newList.sort()\n",
    "        \n",
    "print(newList)"
   ]
  },
  {
   "cell_type": "markdown",
   "id": "fb1215d2-7d06-407a-bef8-9b140e35c23e",
   "metadata": {},
   "source": [
    "### Problem 10:\n",
    "Write a program to calculate the sum of all digits of an integer provided in a string format."
   ]
  },
  {
   "cell_type": "code",
   "execution_count": null,
   "id": "cc602ddd-38af-40e0-bd20-d718176e9b22",
   "metadata": {},
   "outputs": [],
   "source": [
    "myStr = \"p581we736a\"\n",
    "newList = []\n",
    "\n",
    "\n",
    "\n",
    "for char in myStr:\n",
    "    if char.isnumeric():\n",
    "        newList.append(int(char)) #convert string to integer   \n",
    "\n",
    "sumAll = sum(newList)        \n",
    "print(sumAll)"
   ]
  },
  {
   "cell_type": "markdown",
   "id": "236e6441-528d-453c-9bba-ec5c0c887126",
   "metadata": {},
   "source": [
    "### Problem 11:\n",
    "You are given a list of dictionaries where each dictionary represents an item in a store with a \"name\" and \"price\". Print the name of the item with the highest price."
   ]
  },
  {
   "cell_type": "code",
   "execution_count": null,
   "id": "4aff8caa-7d69-49c8-8fd7-4c41acd88892",
   "metadata": {},
   "outputs": [],
   "source": [
    "stock = { \"eggs\": 5, \"milk\": 15, \"butter\": 18, \"sugar\": 12, \"bread\": 13, \"coffee\": 13}\n",
    "goods = stock.keys()\n",
    "price = stock.values()\n",
    "maxPrice = max(price)\n",
    "pricyGoods = []\n",
    "\n",
    "for goods, price in stock.items():\n",
    "    if price == maxPrice:\n",
    "        pricyGoods.append(goods)\n",
    "                \n",
    "print(f'\"The product with the highest price is: {pricyGoods}\"')"
   ]
  },
  {
   "cell_type": "markdown",
   "id": "8edb8259-7199-46b3-8380-70201770ee0e",
   "metadata": {},
   "source": [
    "### Problem 12:\n",
    "Given a list of words, remove all words that contain any digits and print the resulting list."
   ]
  },
  {
   "cell_type": "code",
   "execution_count": null,
   "id": "4dd5074b-9c6b-4585-a342-af6ccd86278b",
   "metadata": {},
   "outputs": [],
   "source": [
    "myList = [\"work\", \"spot10\", \"manA\", \"radio2\", \"3piece\", \"suit\"]\n",
    "newList = [word for word in myList if not any(char.isdigit()for char in word)]\n",
    "                \n",
    "print(newList)        \n",
    "        "
   ]
  },
  {
   "cell_type": "markdown",
   "id": "5a221b73-65ec-409f-af76-17ae24b6a743",
   "metadata": {},
   "source": [
    "### Problem 13:\n",
    "You are given a dictionary where keys are countries and values are their populations. Sort the dictionary by population and print the country with the second-largest population."
   ]
  },
  {
   "cell_type": "code",
   "execution_count": 59,
   "id": "906376d1-b3ea-4f0d-b0fb-b81896cb9e81",
   "metadata": {},
   "outputs": [
    {
     "name": "stdout",
     "output_type": "stream",
     "text": [
      "Country with the second biggest population is:  United Kingdom\n"
     ]
    }
   ],
   "source": [
    "demographics = { \"United Kingdom\": 40, \"Czechia\": 12, \"USA\": 400, \"Zimbabwe\": 15, \"Ireland\": 4, \"Colombia\":35 }\n",
    "population = demographics.values()\n",
    "\n",
    "#sort values in descending order\n",
    "demoSortedValues = sorted(demographics.values(), reverse=True)\n",
    "\n",
    "#get the second highest value\n",
    "secondHighValue = demoSortedValues[1]\n",
    "\n",
    "#Find the key associated with seocongHighValue\n",
    "for country, population in demographics.items():\n",
    "    if population == secondHighValue:\n",
    "        secondHighKey = country\n",
    "        break        \n",
    "\n",
    "print(\"Country with the second largest population is: \",secondHighKey )\n",
    "    "
   ]
  },
  {
   "cell_type": "markdown",
   "id": "81760247-2c47-4ef9-b243-92514da0a613",
   "metadata": {},
   "source": [
    "### Problem 14:\n",
    "You have a list of integers. Find the difference between the largest and smallest numbers in the list."
   ]
  },
  {
   "cell_type": "code",
   "execution_count": 82,
   "id": "42f5b28d-f395-4fd2-9737-4314d71f3848",
   "metadata": {},
   "outputs": [
    {
     "name": "stdout",
     "output_type": "stream",
     "text": [
      "[28, 32, 33, 40, 44]\n",
      "16\n"
     ]
    }
   ],
   "source": [
    "myList = [33, 40, 28, 32, 44]\n",
    "\n",
    "#sort the list in ascending order\n",
    "sortedList = sorted(myList)\n",
    "maxNum = sortedList[-1]\n",
    "minNum = sortedList[0]\n",
    "\n",
    "diff = maxNum - minNum\n",
    "\n",
    "print(sortedList)\n",
    "print(diff)\n"
   ]
  },
  {
   "cell_type": "markdown",
   "id": "eaaf5f4a-2885-4c58-86c3-315637b60a3f",
   "metadata": {},
   "source": [
    "### Problem 15:\n",
    "You are given a string containing numbers and letters. Extract the sum of all the digits in the string and print the result.\n"
   ]
  },
  {
   "cell_type": "code",
   "execution_count": 92,
   "id": "0e2dda7f-001d-46d2-99dd-610e10834446",
   "metadata": {},
   "outputs": [
    {
     "name": "stdout",
     "output_type": "stream",
     "text": [
      "Sum of all digits is: 50\n"
     ]
    }
   ],
   "source": [
    "myStr = \"154abef9863sergv2417\"\n",
    "newList = []\n",
    "\n",
    "for char in myStr:\n",
    "    if char.isnumeric():\n",
    "        newList.append(int(char)) # convert to integers\n",
    "\n",
    "sumAllDigits = sum(newList)\n",
    "#print(newList) #check newList\n",
    "print(\"Sum of all digits is:\", sumAllDigits)\n"
   ]
  },
  {
   "cell_type": "markdown",
   "id": "ae7074f8-edd6-4e3e-adac-d56c96dfcc38",
   "metadata": {},
   "source": [
    "### Problem 16:\n",
    "You are given a list of integers. Check if the list is sorted in ascending order. If not, print the first out-of-order element."
   ]
  },
  {
   "cell_type": "code",
   "execution_count": 160,
   "id": "9fea166f-a5cd-4d9c-8f30-70947bdc34df",
   "metadata": {},
   "outputs": [
    {
     "name": "stdout",
     "output_type": "stream",
     "text": [
      "This list is not in ascending order. First out_of_order element: 7\n"
     ]
    }
   ],
   "source": [
    "def check_ascending(numList):\n",
    "    #Loop trough the list. start from the second element\n",
    "    for i in range(1, len(numList)):\n",
    "        if numList[i] < numList[i - 1]: #if the element is smaller than the previous one, return the element\n",
    "            return False, numList[i]\n",
    "            \n",
    "    #If the loop completes without finding an issue, the list is sorted\n",
    "    return True, None\n",
    "\n",
    "numList = [11, 21, 7, 14, 15]\n",
    "\n",
    "#Call the function to check if the list is sorted.\n",
    "is_sorted, out_of_order_element = check_ascending(numList)\n",
    "\n",
    "if is_sorted:\n",
    "    print(\"This list is in ascending order\")\n",
    "\n",
    "else:\n",
    "    print(f\"This list is not in ascending order. First out_of_order element: {out_of_order_element}\")\n",
    "\n"
   ]
  },
  {
   "cell_type": "markdown",
   "id": "73f70d89-64ad-41cf-a6dd-4fdee3fce261",
   "metadata": {},
   "source": [
    "### Problem 17:\n",
    "You are given a dictionary of students and their scores. Find the student with the most scores greater than 80 and print their name."
   ]
  },
  {
   "cell_type": "code",
   "execution_count": 232,
   "id": "6966bae6-34e5-4c33-9a80-136181025103",
   "metadata": {},
   "outputs": [
    {
     "name": "stdout",
     "output_type": "stream",
     "text": [
      "Student with highest score above 80 is Cara\n"
     ]
    }
   ],
   "source": [
    "students = { \"Amanda\": 80, \"Thembie\": 73, \"Bev\": 75, \"Levi\": 80, \"Cara\": 82, \"Tara\": 78, \"Zara\": 54}\n",
    "highScore = max(students.values())\n",
    "bestStudent = []\n",
    "\n",
    "if highScore > 80:\n",
    "    # Loop through the dictionary to find all students with highest score\n",
    "    for name, score in students.items():\n",
    "        if score == highScore:\n",
    "            bestStudent.append(name)\n",
    "\n",
    "        #Print the list of best students\n",
    "    print(f\"Student with highest score above 80 is {','.join(bestStudent)}\")\n",
    "else:\n",
    "    print(\"No student scored above 80\")"
   ]
  },
  {
   "cell_type": "markdown",
   "id": "de026474-f1e6-4875-ab5c-d04283040a4b",
   "metadata": {},
   "source": [
    "### Problem 18:\n",
    "You have a list of integers. Print the sum of all numbers at even indices in the list."
   ]
  },
  {
   "cell_type": "code",
   "execution_count": 240,
   "id": "06cc3704-7d7c-4307-9ac9-fc758e0a9937",
   "metadata": {},
   "outputs": [
    {
     "name": "stdout",
     "output_type": "stream",
     "text": [
      "Sum of numbers at even indices: 9\n"
     ]
    }
   ],
   "source": [
    "intList = [1, 2, 3, 4, 5, 6]\n",
    "\n",
    "#initailise the sum variable\n",
    "SumEvenIndex = 0\n",
    "\n",
    "#loop thru the list and access elements at even indices\n",
    "\n",
    "for i in range(0, len(intList), 2):\n",
    "    SumEvenIndex += intList[i]\n",
    "\n",
    "# Print the sum of elements at even indices\n",
    "\n",
    "print(f\"Sum of numbers at even indices: {SumEvenIndex}\")"
   ]
  },
  {
   "cell_type": "markdown",
   "id": "d3c9187b-e0c5-46cf-8790-51977a7d2332",
   "metadata": {},
   "source": [
    "### Problem 19:\n",
    "Given a string containing only letters, count the number of occurrences of each letter and store the result in a dictionary."
   ]
  },
  {
   "cell_type": "code",
   "execution_count": 248,
   "id": "109d846d-ee2a-4e62-92d1-5541feee775d",
   "metadata": {},
   "outputs": [
    {
     "name": "stdout",
     "output_type": "stream",
     "text": [
      "{'a': 1, 'l': 2, 'k': 3, 'd': 2, 'f': 3, 'z': 3, 'c': 1, 'n': 2, 'y': 2, 'r': 1, 'h': 2, 'x': 1, 's': 2}\n"
     ]
    }
   ],
   "source": [
    "myStr = \"alkdazcnyryhzxfnhsskkzldf\"\n",
    "\n",
    "#initialise dictionary\n",
    "newDict = { }\n",
    "\n",
    "#loop thru the string and count occurrences of individual elements\n",
    "for char in myStr:\n",
    "    if char in newDict:\n",
    "        #if the character is already in the dictionary, increment its count\n",
    "        newDict[char] += 1\n",
    "    else:\n",
    "        #If character is not in the dictionary, add it with a count of 1\n",
    "        newDict[char] = 1\n",
    "\n",
    "#print the result.\n",
    "print(newDict)\n",
    "        \n"
   ]
  },
  {
   "cell_type": "markdown",
   "id": "05e2e54a-eeab-4345-9691-cdbbd0b5bff1",
   "metadata": {},
   "source": [
    "### Problem 20:\n",
    "You are given a list of numbers. For each number, if it is odd, subtract 1 from it. If it is even, add 2 to it. Print the resulting list."
   ]
  },
  {
   "cell_type": "code",
   "execution_count": 294,
   "id": "60e75630-69db-4b5a-893e-e2ba9f8503bc",
   "metadata": {},
   "outputs": [
    {
     "name": "stdout",
     "output_type": "stream",
     "text": [
      "[0, 4, 2, 6, 4]\n"
     ]
    }
   ],
   "source": [
    "myNums = [1, 2, 3, 4, 5]\n",
    "\n",
    "newList = []\n",
    "\n",
    "# Loop through each number in the list\n",
    "for i in myNums:\n",
    "    if i % 2 == 0: # If the number is even, add 2 to it\n",
    "        i += 2\n",
    "    else:\n",
    "        i -= 1 # If the number is odd, subtract 1 from it\n",
    "        \n",
    "    # Append the modified number to the new list\n",
    "    newList.append(i)\n",
    "print(newList)"
   ]
  }
 ],
 "metadata": {
  "kernelspec": {
   "display_name": "Python 3 (ipykernel)",
   "language": "python",
   "name": "python3"
  },
  "language_info": {
   "codemirror_mode": {
    "name": "ipython",
    "version": 3
   },
   "file_extension": ".py",
   "mimetype": "text/x-python",
   "name": "python",
   "nbconvert_exporter": "python",
   "pygments_lexer": "ipython3",
   "version": "3.12.5"
  }
 },
 "nbformat": 4,
 "nbformat_minor": 5
}
