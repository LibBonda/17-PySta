{
 "cells": [
  {
   "cell_type": "markdown",
   "metadata": {},
   "source": [
    "### 001 Python Classes/Objects\n",
    "- Python is an object oriented programming language.\n",
    "\n",
    "- A class is a blueprint or template for creating objects.\n",
    "- It defines the attributes(data) and methods (functions) that class will have. more like a cookie cutter that defines the shape and characteristics of the cookies you'll create.\n",
    "\n",
    "Purpose and Usage:\n",
    "\n",
    "Modularity: Classes encapsulate related data and functions into a single unit, making code more organized and easier to manage.\n",
    "Reusability: Once you've defined a class, you can create multiple objects (instances) of that class, reusing the code and avoiding redundancy.\n",
    "Abstraction: Classes allow you to focus on the behavior of objects without worrying about the underlying implementation details.\n",
    "Inheritance: Classes can inherit attributes and methods from other classes, promoting code reuse and creating hierarchies of related classes.\n",
    "Polymorphism: Objects of different classes can be treated as if they were of the same type, allowing for flexible and dynamic programming.\n",
    "\n",
    "### Logic behind Classes\n",
    "- Attributes: are variables that store data associated with an object. They define the state of the object. For example, a Person class might have attributes like name, age, and address.\n",
    "- Methods: are functions defined within a class. They define the behavior of the object. For example, a Person class might have methods like walk, talk, and eat.\n",
    "- Constructor: The constructor is a special method called when an object of the class is created. It's often used to initialize the attributes of the object. The constructor is typically named    __init__.\n",
    "- Instance Variables: Instance variables are variables that belong to a specific instance of a class. They store the unique data for that object. For example, two Person objects might have different values for their name and age attributes.\n",
    "- Class Variables: are variables that belong to the class itself, rather than to individual instances. They are shared by all objects of that class. For example, a Circle class might have a class variable pi that is used by all Circle objects."
   ]
  },
  {
   "cell_type": "code",
   "execution_count": 5,
   "metadata": {},
   "outputs": [
    {
     "name": "stdout",
     "output_type": "stream",
     "text": [
      "<class '__main__.myClass'>\n",
      "5\n"
     ]
    }
   ],
   "source": [
    "#Creating a Class. Create a class named myClass using the keyword class\n",
    "class myClass:\n",
    "    x = 5\n",
    "\n",
    "print(myClass)\n",
    "\n",
    "#Create an Object\n",
    "# create an object named p1, and print the value of x:\n",
    "\n",
    "p1 = myClass()\n",
    "print(p1.x)"
   ]
  },
  {
   "cell_type": "markdown",
   "metadata": {},
   "source": [
    "### 002 The __init__() Function\n",
    "- All classes have a function called __init__(), that is always exexcuted when the class is initiated.\n",
    "- Use the __init__() function to assign values to object properties, or other operations that are necessary to do when the object is being created."
   ]
  },
  {
   "cell_type": "code",
   "execution_count": 6,
   "metadata": {},
   "outputs": [
    {
     "name": "stdout",
     "output_type": "stream",
     "text": [
      "John\n",
      "36\n"
     ]
    }
   ],
   "source": [
    "#Create  a class named Person, use the __init__() function to assign values for name and age:\n",
    "\n",
    "class Person:\n",
    "    def __init__(self, name, age):\n",
    "        self.name = name\n",
    "        self.age = age\n",
    "\n",
    "p1 = Person(\"John\", 36)\n",
    "\n",
    "print(p1.name)\n",
    "print(p1.age)\n",
    "\n",
    "#The __init__() function is called automatically every time the class is being used to create a new object."
   ]
  },
  {
   "cell_type": "markdown",
   "metadata": {},
   "source": [
    "### 003 The __str__() Function\n",
    "- The __str__() function controls what should be returned when the class object is represented as a string.\n",
    "- If the __str__() function is not set, the string representation of the object is returned:"
   ]
  },
  {
   "cell_type": "code",
   "execution_count": 11,
   "metadata": {},
   "outputs": [
    {
     "name": "stdout",
     "output_type": "stream",
     "text": [
      "<__main__.Person object at 0x00000237F7BFE6C0>\n"
     ]
    }
   ],
   "source": [
    "class Person:\n",
    "    def __init__(self, name, age):\n",
    "        self.name = name\n",
    "        self.age = age\n",
    "\n",
    "p1 = Person(\"John\", 36)\n",
    "\n",
    "print(p1)"
   ]
  },
  {
   "cell_type": "code",
   "execution_count": 12,
   "metadata": {},
   "outputs": [
    {
     "name": "stdout",
     "output_type": "stream",
     "text": [
      "John(36)\n"
     ]
    }
   ],
   "source": [
    "# The string representation of an object with the __str__() function:\n",
    "\n",
    "class Person:\n",
    "    def __init__(self, name, age):\n",
    "        self.name = name\n",
    "        self.age = age\n",
    "\n",
    "    def __str__(self):\n",
    "        return f'{self.name}({self.age})'\n",
    "    \n",
    "p1 = Person(\"John\", 36)\n",
    "\n",
    "print(p1)        "
   ]
  },
  {
   "cell_type": "markdown",
   "metadata": {},
   "source": [
    "### 004 Object Methods\n",
    "- Objects can also contain methods. Methods in objects are functions that belong to the object."
   ]
  },
  {
   "cell_type": "code",
   "execution_count": 15,
   "metadata": {},
   "outputs": [
    {
     "name": "stdout",
     "output_type": "stream",
     "text": [
      "Hello my name is John\n",
      "Hello my name is Jane\n"
     ]
    }
   ],
   "source": [
    "# create a method in the Person class:\n",
    "\n",
    "class Person:\n",
    "    def __init__(self, name, age):\n",
    "        self.name = name\n",
    "        self.age = age\n",
    "    \n",
    "    def myfunc(self):\n",
    "        print(\"Hello my name is \" + self.name)\n",
    "\n",
    "p1 = Person(\"John\", 36)\n",
    "p1.myfunc()\n",
    "\n",
    "p2 = Person(\"Jane\", 32)\n",
    "p2.myfunc()\n"
   ]
  },
  {
   "cell_type": "markdown",
   "metadata": {},
   "source": [
    "### 005 The self Parameter\n",
    "- The self parameter is a reference to the current instance of the class, and is used to access variables that belong to the class.\n",
    "- It does not have to be named self, you can call it whatever you like, but it has to be the first parameter of any function in the class:"
   ]
  },
  {
   "cell_type": "code",
   "execution_count": 31,
   "metadata": {},
   "outputs": [
    {
     "name": "stdout",
     "output_type": "stream",
     "text": [
      "Hello my name is John I am 36 years old and I like red\n",
      "Hello my name is Jane I am 40 years old and I like pink\n"
     ]
    }
   ],
   "source": [
    "# Use other words (myThingy and abc) instead of self:\n",
    "class Person:\n",
    "    def __init__(myThingy, name, age, color):\n",
    "        myThingy.name = name\n",
    "        myThingy.age = age\n",
    "        myThingy.color = color\n",
    "\n",
    "    def myfunc2(abc):\n",
    "        print(\"Hello my name is \" + abc.name + \" I am \" + str(abc.age) + \" years old and I like \" + abc.color )\n",
    "\n",
    "p1 = Person(\"John\", 36, \"red\")\n",
    "p1.myfunc2()\n",
    "\n",
    "p2 = Person(\"Jane\", 32, \"pink\")\n",
    "p2.age = 40\n",
    "p2.myfunc2()\n"
   ]
  },
  {
   "cell_type": "markdown",
   "metadata": {},
   "source": [
    "## Delete Object Properties\n",
    "- using the del keyword delete properties on objects eg. del p1.age\n",
    "\n",
    "## Delete Objects\n",
    "- using the del keyword delete objects eg. del p1"
   ]
  },
  {
   "cell_type": "markdown",
   "metadata": {},
   "source": [
    "### The Pass statement:\n",
    "- class definitions cannot be empty, but if you for some reason have a class definition with no content, put in the pass statement to avoid getting an error."
   ]
  },
  {
   "cell_type": "code",
   "execution_count": 32,
   "metadata": {},
   "outputs": [],
   "source": [
    "class Cars:\n",
    "    pass"
   ]
  }
 ],
 "metadata": {
  "kernelspec": {
   "display_name": "mypyenv",
   "language": "python",
   "name": "python3"
  },
  "language_info": {
   "codemirror_mode": {
    "name": "ipython",
    "version": 3
   },
   "file_extension": ".py",
   "mimetype": "text/x-python",
   "name": "python",
   "nbconvert_exporter": "python",
   "pygments_lexer": "ipython3",
   "version": "3.12.5"
  }
 },
 "nbformat": 4,
 "nbformat_minor": 2
}
