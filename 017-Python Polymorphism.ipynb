{
 "cells": [
  {
   "cell_type": "markdown",
   "metadata": {},
   "source": [
    "## 001 Polymorphism in Python \n",
    "- is a concept from object-oriented programming (OOP) that allows objects of different types to be treated in a uniform manner. \n",
    "- It refers to the ability of a single function, method, or operator to behave differently based on the object (or data type) it is operating on. \n",
    "- polymorphism allows the same operation or function to be used for different types of objects.\n",
    "- It makes it possible write more flexible and reusable code by allowing you to interact with objects based on their common interface rather than their specific type.\n",
    "\n",
    "## 002 Key Features\n",
    "# Method Overriding (in Inheritance): \n",
    "- In a subclass, a method can have the same name as one in the parent class, but can provide a different implementation.\n",
    "- This is called method overriding which allows a child class to modify or extend the behavior of its parent class.\n",
    "\n",
    "# Duck Typing: \n",
    "- Python uses duck typing, which means that the type of an object is not explicitly checked at compile time.\n",
    "- Instead, the object's behavior is checked at runtime. \n",
    "- If an object has the necessary methods or attributes, it can be treated as if it were of that type.\n",
    "\n",
    "# Dynamic Binding: \n",
    "- The specific method that is called on an object is determined at runtime based on the object's actual type. \n",
    "- This is known as dynamic binding or late binding.\n",
    "\n",
    "# Method Overloading:\n",
    "- While Python doesn’t support method overloading (having multiple methods with the same name but different signatures), it can achieve a similar effect by using default arguments or by checking the type of input within a method."
   ]
  },
  {
   "cell_type": "code",
   "execution_count": 1,
   "metadata": {},
   "outputs": [
    {
     "name": "stdout",
     "output_type": "stream",
     "text": [
      "Bark\n",
      "Meow\n"
     ]
    }
   ],
   "source": [
    "#  Method Overriding:\n",
    "#  when a derived class defines a method with the same name as a method in its base class, it overrides the base class's method.\n",
    "#  This allows the derived class to provide a different implementation for the method\n",
    "\n",
    "class Animal:\n",
    "    def sound(self):\n",
    "        return \"generic animal sound\"\n",
    "    \n",
    "class Dog:\n",
    "    def sound(self):\n",
    "        return \"Bark\"\n",
    "    \n",
    "class Cat:\n",
    "    def sound(self):\n",
    "        return \"Meow\"\n",
    "    \n",
    "def make_sound(animal):\n",
    "    print(animal.sound())\n",
    "\n",
    "dog = Dog()\n",
    "cat = Cat()\n",
    "\n",
    "make_sound(dog) # Output: Bark\n",
    "make_sound(cat) # Output: Meow\n",
    "\n",
    "# the sound() method is overridden in the Dog and Cat classes, demonstrating polymorphism through method overriding.\n"
   ]
  },
  {
   "cell_type": "code",
   "execution_count": 3,
   "metadata": {},
   "outputs": [
    {
     "name": "stdout",
     "output_type": "stream",
     "text": [
      "3\n",
      "6\n"
     ]
    }
   ],
   "source": [
    "# Method Overloading example\n",
    "\n",
    "def add(a, b, c=0):\n",
    "    return a + b + c\n",
    "\n",
    "print(add(1, 2))    # Output: 3\n",
    "print(add(1, 2, 3)) #Output: 6"
   ]
  },
  {
   "cell_type": "markdown",
   "metadata": {},
   "source": []
  },
  {
   "cell_type": "code",
   "execution_count": 4,
   "metadata": {},
   "outputs": [
    {
     "name": "stdout",
     "output_type": "stream",
     "text": [
      "Car is starting\n",
      "Bike is starting\n"
     ]
    }
   ],
   "source": [
    "### Polymorphism with Functions and Objects: \n",
    "# Polymorphism allows functions to use different types of objects as input without needing to know the specific class.\n",
    "# As long as the object behaves correctly (e.g., has the required methods or attributes), it can be used.\n",
    "\n",
    "# Example\n",
    "\n",
    "class Car:\n",
    "    def start(self):\n",
    "        return \"Car is starting\"\n",
    "    \n",
    "class Bike:\n",
    "    def start(self):\n",
    "        return \"Bike is starting\"\n",
    "    \n",
    "def vehicle_start(vehicle):\n",
    "    print(vehicle.start())\n",
    "\n",
    "car = Car()\n",
    "bike = Bike()\n",
    "\n",
    "vehicle_start(car)  # Output: Car is starting\n",
    "vehicle_start(bike) # Output: Bike is starting"
   ]
  },
  {
   "cell_type": "markdown",
   "metadata": {},
   "source": [
    "### 003\n",
    "# Types of Polymorphism in Python:\n",
    "- Compile-time Polymorphism (Not available in Python):\n",
    "- In languages like Java or C++, compile-time polymorphism occurs through method overloading or operator overloading.\n",
    "- However, Python does not support compile-time polymorphism explicitly.\n",
    "\n",
    "# Run-time Polymorphism: \n",
    "- Python mainly supports run-time polymorphism, where the actual method or function being called is determined at runtime.\n",
    "- Method overriding is a typical example of run-time polymorphism.\n",
    "\n",
    "### 004 Benefits of Polymorphism:\n",
    "Code Flexibility:\n",
    "- You can write more generic and reusable code that works with objects of different types without modifying the code for each new type.\n",
    "\n",
    "# Maintainability: \n",
    "- Easier to maintain and extend because adding new object types doesn’t require changing the existing code structure.\n",
    "\n",
    "# Extensibility:\n",
    "- When new classes are added, they can inherit or override methods and be seamlessly integrated without affecting existing functionality."
   ]
  },
  {
   "cell_type": "markdown",
   "metadata": {},
   "source": [
    "### 004 Conclusion\n",
    "- In Python, polymorphism enhances the flexibility and reusability of code by allowing functions and methods to operate on different types of objects. \n",
    "- It supports dynamic behavior where the exact method or function executed depends on the type of object passed at runtime."
   ]
  },
  {
   "cell_type": "code",
   "execution_count": 10,
   "metadata": {},
   "outputs": [
    {
     "name": "stdout",
     "output_type": "stream",
     "text": [
      "14\n",
      "4\n",
      "5\n"
     ]
    }
   ],
   "source": [
    "### Fuction Polymorphism\n",
    "# The len() function can be used on different objects\n",
    "\n",
    "# On strings len() returns number of characters:\n",
    "myStr = 'Hello Suckers!'\n",
    "\n",
    "print(len(myStr)) #prints 14, the number od chars in the string\n",
    "\n",
    "# For Tuples:\n",
    "myTuple = (\"apple\", \"banana\", \"cherry\", \"mango\")\n",
    "\n",
    "print(len(myTuple)) #prints 4, the number of items in the tuple \n",
    "\n",
    "#For Dictionaries:\n",
    "myPhone = {\n",
    "    'brand': 'Samsung',\n",
    "    'model': 'Galaxy S24',\n",
    "    'color': 'blue',\n",
    "    'chipset':'Exynos2000',\n",
    "    'year': 2024\n",
    "}\n",
    "\n",
    "print(len(myPhone))"
   ]
  },
  {
   "cell_type": "markdown",
   "metadata": {},
   "source": [
    "### 005 Class Polymorphism\n",
    "- Is used in Class methods, where multiple classes can have the same method name.\n",
    "eg.  classes: Car, Boat, Plane and they all have a method called move():"
   ]
  },
  {
   "cell_type": "code",
   "execution_count": 11,
   "metadata": {},
   "outputs": [
    {
     "name": "stdout",
     "output_type": "stream",
     "text": [
      "Drive!\n",
      "Sail!\n",
      "Fly!\n"
     ]
    }
   ],
   "source": [
    "class Car:\n",
    "    def __init__(self, brand, model):\n",
    "        self.brand = brand\n",
    "        self.model = model\n",
    "\n",
    "    def move(self):\n",
    "        print(\"Drive!\")\n",
    "\n",
    "class Boat:\n",
    "    def __init__(self, brand, model):\n",
    "        self.brand = brand\n",
    "        self.model = model\n",
    "\n",
    "    def move(self):\n",
    "        print(\"Sail!\")\n",
    "\n",
    "class Plane:\n",
    "    def __init__(self, brand, model):\n",
    "        self.brand = brand\n",
    "        self.model = model\n",
    "\n",
    "    def move(self):\n",
    "        print(\"Fly!\")\n",
    "\n",
    "car1 = Car(\"Ford\", \"Mustang\")       # create a Car class\n",
    "boat1 = Boat(\"Ibiza\", \"Touring20\")  # create a Boat class\n",
    "plane1 = Plane(\"Boeing\", \"747\")     # create a Plane class\n",
    "\n",
    "for x in (car1, boat1, plane1):     # With the for loop at the end, polymorphism enables us to execute the same method for all three classes.\n",
    "    x.move()"
   ]
  },
  {
   "cell_type": "markdown",
   "metadata": {},
   "source": [
    "### 006 Inheritance Class Polymorphism\n",
    "- Polymorphism can be applied to classes with child classes with the same names."
   ]
  },
  {
   "cell_type": "code",
   "execution_count": 14,
   "metadata": {},
   "outputs": [
    {
     "name": "stdout",
     "output_type": "stream",
     "text": [
      "Jeep\n",
      "Cherokee\n",
      "Move!\n",
      "Ibiza\n",
      "Touring 20\n",
      "Sail!\n",
      "Boeing\n",
      "747\n",
      "Fly!\n"
     ]
    },
    {
     "ename": "",
     "evalue": "",
     "output_type": "error",
     "traceback": [
      "\u001b[1;31mThe Kernel crashed while executing code in the current cell or a previous cell. \n",
      "\u001b[1;31mPlease review the code in the cell(s) to identify a possible cause of the failure. \n",
      "\u001b[1;31mClick <a href='https://aka.ms/vscodeJupyterKernelCrash'>here</a> for more info. \n",
      "\u001b[1;31mView Jupyter <a href='command:jupyter.viewOutput'>log</a> for further details."
     ]
    }
   ],
   "source": [
    "# Example: \n",
    "# parent class Vehicle and make Car, Boat, Plane child classes of Vehicle:\n",
    "\n",
    "class Vehicle:\n",
    "    def __init__(self, brand, model):\n",
    "        self.brand = brand\n",
    "        self.model = model\n",
    "\n",
    "    def move(self):\n",
    "        print(\"Move!\")\n",
    "\n",
    "class Car(Vehicle):\n",
    "    pass\n",
    "\n",
    "class Boat(Vehicle):\n",
    "    def move(self):\n",
    "        print(\"Sail!\")\n",
    "    \n",
    "class Plane(Vehicle):\n",
    "    def move(self):\n",
    "        print(\"Fly!\")\n",
    "\n",
    "car1 = Car(\"Jeep\", \"Cherokee\")          #create Car object\n",
    "boat1 = Boat(\"Ibiza\", \"Touring 20\")     #create Boat object\n",
    "plane1 = Plane(\"Boeing\", \"747\")         #create a Plane object\n",
    "\n",
    "for x in (car1, boat1, plane1):\n",
    "    print(x.brand)\n",
    "    print(x.model)\n",
    "    x.move()\n",
    "\n",
    "# Child classes inherits the properties and methods from the parent class.\n",
    "# In the example above the Car class is empty, but it inherits brand, model, and move() from Vehicle.\n",
    "# The Boat and Plane classes also inherit brand, model, and move() from Vehicle, but they both override the move() method.\n",
    "# Because of polymorphism we can execute the same method for all classes."
   ]
  }
 ],
 "metadata": {
  "kernelspec": {
   "display_name": "mypyenv",
   "language": "python",
   "name": "python3"
  },
  "language_info": {
   "codemirror_mode": {
    "name": "ipython",
    "version": 3
   },
   "file_extension": ".py",
   "mimetype": "text/x-python",
   "name": "python",
   "nbconvert_exporter": "python",
   "pygments_lexer": "ipython3",
   "version": "3.12.5"
  }
 },
 "nbformat": 4,
 "nbformat_minor": 2
}
