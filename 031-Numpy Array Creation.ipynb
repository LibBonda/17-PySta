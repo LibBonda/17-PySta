{
 "cells": [
  {
   "cell_type": "markdown",
   "metadata": {},
   "source": [
    "#### 001 Numpy\n",
    "- NumPy (Numerical Python) is an open-source library in Python designed for numerical computation.\n",
    "- It provides high-performance tools for working with arrays, matrices, and a large collection of mathematical functions to operate on these data structures.\n",
    "\n",
    "##### Key features\n",
    "\n",
    "- Multi-Dimensional Arrays: \n",
    "    The core data structure of NumPy is the ndarray (n-dimensional array), which is efficient and supports multi-dimensional data.\n",
    "- Mathematical Functions: \n",
    "    NumPy provides functions for basic arithmetic, trigonometry, statistical operations, and linear algebra.\n",
    "- Broadcasting: \n",
    "    Enables element-wise operations on arrays of different shapes and sizes, avoiding the need for explicit loops.\n",
    "- Efficient Computation: \n",
    "    Operations on NumPy arrays are performed in C, making them much faster than equivalent Python operations on lists.\n",
    "- Integration with Other Libraries: \n",
    "    NumPy is foundational to other scientific computing libraries like SciPy, Pandas, and TensorFlow."
   ]
  },
  {
   "cell_type": "markdown",
   "metadata": {},
   "source": [
    "#### 002 Explanation and Use Cases\n",
    "\n",
    "##### Array Manipulation\n",
    "- NumPy arrays (ndarray) are similar to Python lists but allow element-wise operations, slicing, reshaping, and more.\n",
    "Example: np.array([1, 2, 3]) creates a 1-dimensional array.\n",
    "\n",
    "##### Mathematical Computation\n",
    "- Includes functions for:\n",
    "        Arithmetic (np.add, np.multiply)\n",
    "        Trigonometry (np.sin, np.cos)\n",
    "        Statistics (np.mean, np.std)\n",
    "        Linear algebra (np.dot, np.linalg.inv)\n",
    "\n",
    "##### Data Analysis\n",
    "- Used extensively in pre-processing datasets, performing statistical analysis, and handling large data volumes.\n",
    "\n",
    "##### Scientific Computing\n",
    "- Widely used in engineering, physics, and bioinformatics for simulations and numerical modeling.\n",
    "\n",
    "##### Machine Learning\n",
    "- Foundational in frameworks like TensorFlow and PyTorch for numerical back-end computations.\n",
    "\n",
    "##### Image Processing\n",
    "- Handles image arrays for transformations, filtering, and manipulation."
   ]
  },
  {
   "cell_type": "markdown",
   "metadata": {},
   "source": [
    "#### Importance of NumPy\n",
    "\n",
    "- Performance:\n",
    "    NumPy is much faster than standard Python operations due to its use of optimized C libraries for array operations.\n",
    "\n",
    "- Ease of Use:\n",
    "    Its clean syntax and rich functionality simplify complex numerical tasks.\n",
    "\n",
    "- Community and Ecosystem:\n",
    "    It is the backbone of Python’s scientific computing stack, with strong community support and documentation.\n",
    "\n",
    "- Compatibility:\n",
    "    Integrates seamlessly with Python’s data ecosystem (e.g., Pandas, Matplotlib, SciPy).\n",
    "\n",
    "- Memory Efficiency:\n",
    "    Consumes less memory compared to Python lists."
   ]
  },
  {
   "cell_type": "markdown",
   "metadata": {},
   "source": [
    "#### Summary\n",
    "- NumPy is a cornerstone library for numerical and scientific computing in Python.\n",
    "- Its efficient array handling, extensive mathematical operations, and interoperability with other libraries make it indispensable for data science, machine learning, and other computational tasks."
   ]
  },
  {
   "cell_type": "markdown",
   "metadata": {},
   "source": [
    "#### 003 Creating Arrays\n",
    "\n",
    "##### Definition:\n",
    "- NumPy arrays, also known as ndarray (n-dimensional arrays), are the core data structure of the NumPy library. \n",
    "- They are multi-dimensional, homogeneous collections of data elements indexed by a tuple of non-negative integers. \n",
    "- Unlike Python lists, NumPy arrays are fixed in size and type, providing high performance and efficient memory use.\n",
    "\n",
    "##### Key Characteristics of NumPy Arrays\n",
    "- Homogeneity:\n",
    "    - All elements in a NumPy array must have the same data type (e.g., integers, floats).\n",
    "    - This uniformity allows faster computations as type checking is not repeated for each element.\n",
    "\n",
    "- Multi-Dimensional:\n",
    "    - NumPy arrays support 1D, 2D, and higher-dimensional structures.\n",
    "    Example:\n",
    "        1D Array: [1, 2, 3]\n",
    "        2D Array: [[1, 2], [3, 4]]\n",
    "        3D Array: [[[1, 2], [3, 4]], [[5, 6], [7, 8]]]\n",
    "\n",
    "- Efficient Memory Management:\n",
    "    - NumPy arrays are implemented in C, reducing memory overhead and increasing performance compared to Python lists.\n",
    "\n",
    "- Vectorized Operations:\n",
    "    - Operations on arrays are element-wise and use broadcasting, eliminating the need for explicit loops.\n",
    "\n",
    "- Indexing and Slicing: \n",
    "    - NumPy arrays support advanced indexing and slicing for efficient data access and modification."
   ]
  },
  {
   "cell_type": "markdown",
   "metadata": {},
   "source": [
    "##### 004 Explanation of NumPy Arrays\n",
    "\n",
    "- Creating Arrays:\n",
    "- NumPy arrays can be created from:\n",
    "        - Python lists or tuples using np.array().\n",
    "        - Functions like np.zeros(), np.ones(), np.linspace(), and np.arange().\n",
    "\n",
    "- Shape and Dimensions\n",
    "        - Each array has attributes like .shape, .size, and .ndim to indicate its structure and size.\n",
    "            -Example:\n",
    "\n",
    "            arr = np.array([[1, 2, 3], [4, 5, 6]])\n",
    "            print(arr.shape)  # (2, 3)\n",
    "            print(arr.ndim)   # 2"
   ]
  },
  {
   "cell_type": "code",
   "execution_count": 53,
   "metadata": {},
   "outputs": [
    {
     "ename": "ModuleNotFoundError",
     "evalue": "No module named 'svg'",
     "output_type": "error",
     "traceback": [
      "\u001b[1;31m---------------------------------------------------------------------------\u001b[0m",
      "\u001b[1;31mModuleNotFoundError\u001b[0m                       Traceback (most recent call last)",
      "Cell \u001b[1;32mIn[53], line 4\u001b[0m\n\u001b[0;32m      1\u001b[0m \u001b[38;5;66;03m#### Create a numpy array 4x4 where the first diagonal is 1 and all other values are 0\u001b[39;00m\n\u001b[0;32m      3\u001b[0m \u001b[38;5;28;01mimport\u001b[39;00m \u001b[38;5;21;01mnumpy\u001b[39;00m \u001b[38;5;28;01mas\u001b[39;00m \u001b[38;5;21;01mnp\u001b[39;00m\n\u001b[1;32m----> 4\u001b[0m \u001b[38;5;28;01mimport\u001b[39;00m \u001b[38;5;21;01msvg\u001b[39;00m \u001b[38;5;28;01mas\u001b[39;00m \u001b[38;5;21;01msvg\u001b[39;00m\n\u001b[0;32m      5\u001b[0m \u001b[38;5;28;01mfrom\u001b[39;00m \u001b[38;5;21;01msvg\u001b[39;00m \u001b[38;5;28;01mimport\u001b[39;00m numpy_to_svg\n\u001b[0;32m      7\u001b[0m mylist \u001b[38;5;241m=\u001b[39m [\u001b[38;5;241m2\u001b[39m, \u001b[38;5;241m5\u001b[39m, \u001b[38;5;241m3\u001b[39m, \u001b[38;5;241m9\u001b[39m, \u001b[38;5;241m5\u001b[39m, \u001b[38;5;241m2\u001b[39m]\n",
      "\u001b[1;31mModuleNotFoundError\u001b[0m: No module named 'svg'"
     ]
    }
   ],
   "source": [
    "#### Create a numpy array 4x4 where the first diagonal is 1 and all other values are 0\n",
    "\n",
    "import numpy as np\n",
    "import svg as svg\n",
    "from svg import numpy_to_svg\n",
    "\n",
    "mylist = [2, 5, 3, 9, 5, 2]\n",
    "\n",
    "print(mylist)\n",
    "\n",
    "myarray = np.array(mylist)\n",
    "\n",
    "print(myarray)\n",
    "\n",
    "type(myarray)"
   ]
  },
  {
   "cell_type": "code",
   "execution_count": null,
   "metadata": {},
   "outputs": [
    {
     "name": "stdout",
     "output_type": "stream",
     "text": [
      "[1, 2, 3, 4, 5]\n",
      "[1 2 3 4 5]\n"
     ]
    },
    {
     "data": {
      "text/plain": [
       "numpy.ndarray"
      ]
     },
     "execution_count": 7,
     "metadata": {},
     "output_type": "execute_result"
    }
   ],
   "source": [
    "lst = [1, 2, 3, 4, 5]\n",
    "print(lst)\n",
    "\n",
    "arr = np.array(lst)\n",
    "print(arr)\n",
    "\n",
    "type(arr)\n"
   ]
  },
  {
   "cell_type": "code",
   "execution_count": 8,
   "metadata": {},
   "outputs": [
    {
     "data": {
      "text/plain": [
       "dtype('int32')"
      ]
     },
     "execution_count": 8,
     "metadata": {},
     "output_type": "execute_result"
    }
   ],
   "source": [
    "arr.dtype"
   ]
  },
  {
   "cell_type": "markdown",
   "metadata": {},
   "source": [
    "We see that ```myarray``` is a Numpy array thanks to the ```array``` specification in the output. The type also says that we have a numpy ndarray (n-dimensional). At this point we don't see a big difference with regular lists, but we'll see in the following sections all the operations we can do with these objects.\n",
    "\n",
    "We can already see a difference with two basic attributes of arrays: their type and shape."
   ]
  },
  {
   "cell_type": "markdown",
   "metadata": {},
   "source": [
    "#### 005 Array Type\n",
    "\n",
    "Just like when we create regular variables in Python, arrays receive a type when created. Unlike regular list, **all** elements of an array always have the same type. The type of an array can be recovered through the ```.dtype``` method:"
   ]
  },
  {
   "cell_type": "code",
   "execution_count": 9,
   "metadata": {},
   "outputs": [
    {
     "data": {
      "text/plain": [
       "dtype('int32')"
      ]
     },
     "execution_count": 9,
     "metadata": {},
     "output_type": "execute_result"
    }
   ],
   "source": [
    "myarray.dtype"
   ]
  },
  {
   "cell_type": "markdown",
   "metadata": {},
   "source": [
    "#### 006 Array shape\n",
    "\n",
    "A very important property of an array is its **shape** or in other words the dimensions of each axis. That property can be accessed via the ```.shape``` property:"
   ]
  },
  {
   "cell_type": "code",
   "execution_count": 39,
   "metadata": {},
   "outputs": [
    {
     "data": {
      "text/plain": [
       "array([2, 5, 3, 9, 5, 2])"
      ]
     },
     "execution_count": 39,
     "metadata": {},
     "output_type": "execute_result"
    }
   ],
   "source": [
    "myarray"
   ]
  },
  {
   "cell_type": "code",
   "execution_count": 40,
   "metadata": {},
   "outputs": [
    {
     "data": {
      "text/plain": [
       "(6,)"
      ]
     },
     "execution_count": 40,
     "metadata": {},
     "output_type": "execute_result"
    }
   ],
   "source": [
    "myarray.shape"
   ]
  },
  {
   "cell_type": "markdown",
   "metadata": {},
   "source": [
    "our simple array has only one dimension of length 6. Now of course we can create more complex arrays. Let's create for example a *list of two lists*:"
   ]
  },
  {
   "cell_type": "code",
   "execution_count": 41,
   "metadata": {},
   "outputs": [
    {
     "data": {
      "text/plain": [
       "array([[1, 2, 3],\n",
       "       [4, 5, 6]])"
      ]
     },
     "execution_count": 41,
     "metadata": {},
     "output_type": "execute_result"
    }
   ],
   "source": [
    "my2d_list = [[1,2,3], [4,5,6]]\n",
    "\n",
    "my2d_array = np.array(my2d_list)\n",
    "my2d_array"
   ]
  },
  {
   "cell_type": "code",
   "execution_count": 42,
   "metadata": {},
   "outputs": [
    {
     "data": {
      "text/plain": [
       "(2, 3)"
      ]
     },
     "execution_count": 42,
     "metadata": {},
     "output_type": "execute_result"
    }
   ],
   "source": [
    "my2d_array.shape"
   ]
  },
  {
   "cell_type": "markdown",
   "metadata": {},
   "source": [
    "It's now clear, that the shape of this array is *two-dimensional*. We also see that we have 2 lists of 3 elements. In fact at this point we should forget that we have a list of lists and simply consider this object as a *matrix* with *two rows and three columns*. We'll use the follwing graphical representation to clarify some concepts:"
   ]
  },
  {
   "cell_type": "code",
   "execution_count": 1,
   "metadata": {},
   "outputs": [
    {
     "ename": "NameError",
     "evalue": "name 'numpy_to_svg' is not defined",
     "output_type": "error",
     "traceback": [
      "\u001b[1;31m---------------------------------------------------------------------------\u001b[0m",
      "\u001b[1;31mNameError\u001b[0m                                 Traceback (most recent call last)",
      "Cell \u001b[1;32mIn[1], line 1\u001b[0m\n\u001b[1;32m----> 1\u001b[0m numpy_to_svg(my2d_array)\n",
      "\u001b[1;31mNameError\u001b[0m: name 'numpy_to_svg' is not defined"
     ]
    }
   ],
   "source": [
    "numpy_to_svg(my2d_array)"
   ]
  },
  {
   "cell_type": "code",
   "execution_count": null,
   "metadata": {},
   "outputs": [],
   "source": [
    "zero_arr = np.zeros((2,3))\n",
    "\n",
    "zero_arr"
   ]
  },
  {
   "cell_type": "code",
   "execution_count": null,
   "metadata": {},
   "outputs": [
    {
     "data": {
      "text/plain": [
       "array([[1., 0., 0.],\n",
       "       [0., 1., 0.],\n",
       "       [0., 0., 1.]])"
      ]
     },
     "execution_count": 14,
     "metadata": {},
     "output_type": "execute_result"
    }
   ],
   "source": [
    "### Create a diagonal Matrix\n",
    "\n",
    "x = np.eye(3)\n",
    "x"
   ]
  },
  {
   "cell_type": "code",
   "execution_count": 15,
   "metadata": {},
   "outputs": [
    {
     "data": {
      "text/plain": [
       "(3, 3)"
      ]
     },
     "execution_count": 15,
     "metadata": {},
     "output_type": "execute_result"
    }
   ],
   "source": [
    "#check shape\n",
    "x.shape"
   ]
  },
  {
   "cell_type": "markdown",
   "metadata": {},
   "source": [
    "By default NumPy creates float arrays:"
   ]
  },
  {
   "cell_type": "code",
   "execution_count": 17,
   "metadata": {},
   "outputs": [
    {
     "data": {
      "text/plain": [
       "array([[1., 1., 1.],\n",
       "       [1., 1., 1.]])"
      ]
     },
     "execution_count": 17,
     "metadata": {},
     "output_type": "execute_result"
    }
   ],
   "source": [
    "one_array = np.ones((2,3))\n",
    "one_array"
   ]
  },
  {
   "cell_type": "code",
   "execution_count": 18,
   "metadata": {},
   "outputs": [
    {
     "data": {
      "text/plain": [
       "dtype('float64')"
      ]
     },
     "execution_count": 18,
     "metadata": {},
     "output_type": "execute_result"
    }
   ],
   "source": [
    "one_array.dtype"
   ]
  },
  {
   "cell_type": "markdown",
   "metadata": {},
   "source": [
    "However as mentioned before, one can impose a type usine the ```dtype``` option:"
   ]
  },
  {
   "cell_type": "code",
   "execution_count": 20,
   "metadata": {},
   "outputs": [
    {
     "data": {
      "text/plain": [
       "array([[1, 1, 1],\n",
       "       [1, 1, 1]], dtype=int8)"
      ]
     },
     "execution_count": 20,
     "metadata": {},
     "output_type": "execute_result"
    }
   ],
   "source": [
    "one_array_int = np.ones((2,3), dtype=np.int8)\n",
    "one_array_int"
   ]
  },
  {
   "cell_type": "markdown",
   "metadata": {},
   "source": [
    "### Create a numpy array 4x4 where the first diagonal is 1 and all other values are 0."
   ]
  },
  {
   "cell_type": "code",
   "execution_count": 21,
   "metadata": {},
   "outputs": [
    {
     "data": {
      "text/plain": [
       "array([[1., 0., 0., 0.],\n",
       "       [0., 1., 0., 0.],\n",
       "       [0., 0., 1., 0.],\n",
       "       [0., 0., 0., 1.]])"
      ]
     },
     "execution_count": 21,
     "metadata": {},
     "output_type": "execute_result"
    }
   ],
   "source": [
    "np.eye(4)"
   ]
  },
  {
   "cell_type": "markdown",
   "metadata": {},
   "source": [
    "#### Copying the shape\n",
    "- It is possible to create arrays of same shape. This can be done with 'like functions' "
   ]
  },
  {
   "cell_type": "code",
   "execution_count": 22,
   "metadata": {},
   "outputs": [
    {
     "data": {
      "text/plain": [
       "array([[0., 0., 0.],\n",
       "       [0., 0., 0.]])"
      ]
     },
     "execution_count": 22,
     "metadata": {},
     "output_type": "execute_result"
    }
   ],
   "source": [
    "same_shape_array = np.zeros_like(one_array)\n",
    "same_shape_array"
   ]
  },
  {
   "cell_type": "code",
   "execution_count": 23,
   "metadata": {},
   "outputs": [
    {
     "data": {
      "text/plain": [
       "(2, 3)"
      ]
     },
     "execution_count": 23,
     "metadata": {},
     "output_type": "execute_result"
    }
   ],
   "source": [
    "one_array.shape"
   ]
  },
  {
   "cell_type": "code",
   "execution_count": 24,
   "metadata": {},
   "outputs": [
    {
     "data": {
      "text/plain": [
       "(2, 3)"
      ]
     },
     "execution_count": 24,
     "metadata": {},
     "output_type": "execute_result"
    }
   ],
   "source": [
    "same_shape_array.shape"
   ]
  },
  {
   "cell_type": "code",
   "execution_count": 25,
   "metadata": {},
   "outputs": [
    {
     "data": {
      "text/plain": [
       "array([[1., 1., 1.],\n",
       "       [1., 1., 1.]])"
      ]
     },
     "execution_count": 25,
     "metadata": {},
     "output_type": "execute_result"
    }
   ],
   "source": [
    "np.ones_like(one_array)"
   ]
  },
  {
   "cell_type": "markdown",
   "metadata": {},
   "source": [
    "#### Complex arrays\n",
    "- Complex arrays can be containing reguarly arranged numbers, eg. from-to-by-step"
   ]
  },
  {
   "cell_type": "code",
   "execution_count": 29,
   "metadata": {},
   "outputs": [
    {
     "data": {
      "text/plain": [
       "array([ 0,  2,  4,  6,  8, 10])"
      ]
     },
     "execution_count": 29,
     "metadata": {},
     "output_type": "execute_result"
    }
   ],
   "source": [
    "np.arange(0, 11, 2)"
   ]
  },
  {
   "cell_type": "markdown",
   "metadata": {},
   "source": [
    "#### Or equidistant numbers between boundaries:"
   ]
  },
  {
   "cell_type": "code",
   "execution_count": 36,
   "metadata": {},
   "outputs": [
    {
     "data": {
      "text/plain": [
       "array([0.        , 0.11111111, 0.22222222, 0.33333333, 0.44444444,\n",
       "       0.55555556, 0.66666667, 0.77777778, 0.88888889, 1.        ])"
      ]
     },
     "execution_count": 36,
     "metadata": {},
     "output_type": "execute_result"
    }
   ],
   "source": [
    "np.linspace(0, 1, 10)"
   ]
  },
  {
   "cell_type": "markdown",
   "metadata": {},
   "source": [
    "Numpy offers in particular a ```random``` submodules that allows one to create arrays containing values from a wide array of distributions. For example, normally distributed:"
   ]
  },
  {
   "cell_type": "code",
   "execution_count": 37,
   "metadata": {},
   "outputs": [
    {
     "data": {
      "text/plain": [
       "array([[ 8.64035878, 10.88582455, 11.66150493,  7.94241138],\n",
       "       [11.28781443,  9.4742301 , 11.08469864, 11.38082614],\n",
       "       [ 7.82029898, 10.6862214 ,  8.87714472, 10.15674601]])"
      ]
     },
     "execution_count": 37,
     "metadata": {},
     "output_type": "execute_result"
    }
   ],
   "source": [
    "normal_array = np.random.normal(loc=10, scale=2, size=(3,4))\n",
    "normal_array"
   ]
  },
  {
   "cell_type": "code",
   "execution_count": 38,
   "metadata": {},
   "outputs": [
    {
     "data": {
      "text/plain": [
       "array([[5, 4, 9, 7],\n",
       "       [6, 4, 3, 7],\n",
       "       [5, 4, 5, 4]])"
      ]
     },
     "execution_count": 38,
     "metadata": {},
     "output_type": "execute_result"
    }
   ],
   "source": [
    "np.random.poisson(lam=5, size=(3,4))"
   ]
  },
  {
   "cell_type": "markdown",
   "metadata": {},
   "source": [
    "##### Higher dimensions\n"
   ]
  }
 ],
 "metadata": {
  "kernelspec": {
   "display_name": "base",
   "language": "python",
   "name": "python3"
  },
  "language_info": {
   "codemirror_mode": {
    "name": "ipython",
    "version": 3
   },
   "file_extension": ".py",
   "mimetype": "text/x-python",
   "name": "python",
   "nbconvert_exporter": "python",
   "pygments_lexer": "ipython3",
   "version": "3.11.7"
  }
 },
 "nbformat": 4,
 "nbformat_minor": 2
}
