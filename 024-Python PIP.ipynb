{
 "cells": [
  {
   "cell_type": "markdown",
   "metadata": {},
   "source": [
    "#### 001 Python PIP.\n",
    "- PIP is a package manager for Python packages, or modules if you like.\n",
    "\n",
    "##### Package/Module\n",
    "- A package contains all the files you need for a module.\n",
    "- Modules are Python code libraries you can include in your project.\n",
    "\n",
    "- Check PIP version:        pip --version in the terminal\n",
    "- to Uninstall package      pip unistall 'package'\n",
    "-List all packages using list command "
   ]
  },
  {
   "cell_type": "code",
   "execution_count": 9,
   "metadata": {},
   "outputs": [
    {
     "ename": "ModuleNotFoundError",
     "evalue": "No module named 'camelcase'",
     "output_type": "error",
     "traceback": [
      "\u001b[1;31m---------------------------------------------------------------------------\u001b[0m",
      "\u001b[1;31mModuleNotFoundError\u001b[0m                       Traceback (most recent call last)",
      "Cell \u001b[1;32mIn[9], line 4\u001b[0m\n\u001b[0;32m      1\u001b[0m \u001b[38;5;66;03m#Using a package\u001b[39;00m\n\u001b[0;32m      2\u001b[0m \u001b[38;5;66;03m# Import a package called camelcase\u001b[39;00m\n\u001b[1;32m----> 4\u001b[0m \u001b[38;5;28;01mimport\u001b[39;00m \u001b[38;5;21;01mcamelcase\u001b[39;00m \n\u001b[0;32m      5\u001b[0m c \u001b[38;5;241m=\u001b[39m camelcase\u001b[38;5;241m.\u001b[39mCamelCase()\n\u001b[0;32m      6\u001b[0m txt \u001b[38;5;241m=\u001b[39m \u001b[38;5;124m\"\u001b[39m\u001b[38;5;124mhello world\u001b[39m\u001b[38;5;124m\"\u001b[39m\n",
      "\u001b[1;31mModuleNotFoundError\u001b[0m: No module named 'camelcase'"
     ]
    }
   ],
   "source": [
    "#Using a package\n",
    "# Import a package called camelcase\n",
    "\n",
    "import camelcase \n",
    "c = camelcase.CamelCase()\n",
    "txt = \"hello world\"\n",
    "\n",
    "print(c.hump(txt))  # Output: Hello World"
   ]
  },
  {
   "cell_type": "markdown",
   "metadata": {},
   "source": []
  }
 ],
 "metadata": {
  "kernelspec": {
   "display_name": "base",
   "language": "python",
   "name": "python3"
  },
  "language_info": {
   "codemirror_mode": {
    "name": "ipython",
    "version": 3
   },
   "file_extension": ".py",
   "mimetype": "text/x-python",
   "name": "python",
   "nbconvert_exporter": "python",
   "pygments_lexer": "ipython3",
   "version": "3.11.7"
  }
 },
 "nbformat": 4,
 "nbformat_minor": 2
}
