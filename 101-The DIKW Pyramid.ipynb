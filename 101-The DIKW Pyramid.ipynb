{
 "cells": [
  {
   "cell_type": "markdown",
   "metadata": {},
   "source": [
    "#### 001. The Data Information Knowledge and Wisdom Pyramid (DIKW)\n",
    "- Data (D) is converted first into information (I). \n",
    "- Information (I) is converted into knowledge (K).\n",
    "- Knowledge (K) is converted into wisdom (W). \n",
    "- Wisdom (W) enables decisions to be made.\n",
    "\n",
    "- The pyramidal form of this framework shows that the area or size of each level of the pyramid gets smaller as we move from the top to the bottom of the pyramid. In other words . . .\n",
    "\n",
    "- Data is more plentiful than information.\n",
    "- Information is more plentiful than knowledge.\n",
    "- Knowledge is more plentiful than wisdom.\n",
    "- Comparing only the highest and lowest levels of the pyramid, we can also conclude that data is abundant, while wisdom is more scarce. \n",
    "- Wisdom is also far more valuable!"
   ]
  },
  {
   "cell_type": "markdown",
   "metadata": {},
   "source": [
    "#### 002. Key Perfomance Indicators (KPIs)\n",
    "- KPIs are tools used to trackimportant metrics to support data-driven decision making.\n",
    "- A KPI is a metric, or quantifiable measure, to help organizations track their performance on an ongoing basis. \n",
    "- Some KPIs are common across companies and industries, such as KPIs related to revenue, growth, customer acquisition, or cost of goods sold.\n",
    "- KPIs will depend on the industry and business model of the organization.\n",
    "\n",
    "- Organizations will set targets for each KPI to identify the benchmark that the company wants to hit. \n",
    "- Then they will prioritize the projects that will have the largest impact on those KPIs. \n",
    "- When setting KPI targets, we can use the SMART goals framework, which suggests that goals or targets should be \n",
    "-           - Specific, \n",
    "-           - Measurable, \n",
    "-           - Attainable, \n",
    "-           - Relevant, and \n",
    "-           - Timebound. \n",
    "- Having clear, SMART goals can help align the work of everyone at the organization to making an impact on the organization's KPIs. \n"
   ]
  },
  {
   "cell_type": "markdown",
   "metadata": {},
   "source": [
    "#### 003. Data Literacy\n",
    "- Data Literacy includes the ability to read, work with, analyze, and argue with data.\n",
    "- Reading data means being able to access and look at the data in a spreadsheet or other location/format, as well as understanding what the data represents.\n",
    "- Working with data includes creating data, as well as cleaning, transforming, organizing, and managing it.\n",
    "- Analyzing data means using any or all of the four levels of data analysis to extract information from the data.\n",
    "- Arguing with data is what happens when we convert data and information into knowledge for decision-making. \n",
    "- In other words, the journey down the DIKW Pyramid requires us to argue with data!"
   ]
  },
  {
   "cell_type": "markdown",
   "metadata": {},
   "source": [
    "#### 004. Roles in the Data Field\n",
    "\n",
    "##### Data Engineer: \n",
    "- Data engineers develop, test, and maintain the data architecture. \n",
    "- They are involved in the early stages of the data analysis process, making data available to data analysts and data scientists. \n",
    "- They typically are part of a company's engineering team. \n",
    "- Data engineers have strong technical backgrounds in programming and databases. \n",
    "- Adjacent roles include database administrators and data architects.\n",
    "\n",
    "##### Data Analyst: \n",
    "- Data analysts use statistics to organize and analyze data, then extract and communicate insightful information to decision-makers.\n",
    "- They typically rely on programming tools like Python, R, and SQL. \n",
    "- The Data Analyst title can vary depending on function (e.g., Business Intelligence Analyst, Database Analyst, Marketing Data Analyst, etc.).\n",
    "\n",
    "##### Data Scientist: \n",
    "- Data scientists combine computer science, machine learning, statistics, and math skills to conduct advanced statistical analyses and tests, develop processes for modeling data, and implement algorithms and statistical models to uncover insights from data. \n",
    "- Many popular tech products, such as Google Search and Amazon Alexa, are built on algorithms developed by data scientists. \n",
    "- They are considered senior to data analysts. \n",
    "- Adjacent roles include machine learning engineers and statisticians.\n",
    "\n",
    "##### Business Analyst: \n",
    "- Business analysts translate data insights to help make business decisions. \n",
    "- They rely on less technical tools, like Excel, SQL, Power BI, and/or Tableau. \n",
    "- They work collaboratively with other data professionals to translate business requirements and data insights. \n",
    "- Data analysis is just one of their many functions. \n",
    "- More and more non-data roles require the use of data for decision-making, such as financial analysts, product managers, project managers, marketers, and many others.\n"
   ]
  }
 ],
 "metadata": {
  "language_info": {
   "name": "python"
  }
 },
 "nbformat": 4,
 "nbformat_minor": 2
}
