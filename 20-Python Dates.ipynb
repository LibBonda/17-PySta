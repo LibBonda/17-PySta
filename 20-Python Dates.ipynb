{
 "cells": [
  {
   "cell_type": "markdown",
   "metadata": {},
   "source": [
    "### 001 Python Datetime\n",
    "- A date in Python is not a data type of its own, but we can import a module named datetime to work with dates as date objects."
   ]
  },
  {
   "cell_type": "code",
   "execution_count": 19,
   "metadata": {},
   "outputs": [
    {
     "name": "stdout",
     "output_type": "stream",
     "text": [
      "2024-10-22 21:51:14.846385\n",
      "2024\n",
      "2024-10-22\n"
     ]
    }
   ],
   "source": [
    "#Import the datetime module and display the current date\n",
    "import datetime\n",
    "\n",
    "x = datetime.datetime.now()\n",
    "time_min = x.minute\n",
    "\n",
    "print(x)\n",
    "print(x.year)\n",
    "print(x.date())\n",
    "\n",
    "#When we execute the code from the example above the result will be: 2024-10-22 19:12:32.884713\n",
    "#The date contains year, month, day, hour, minute, second, and microsecond."
   ]
  },
  {
   "cell_type": "code",
   "execution_count": 18,
   "metadata": {},
   "outputs": [
    {
     "name": "stdout",
     "output_type": "stream",
     "text": [
      "2024\n",
      "2024-10-22\n",
      "Tuesday\n"
     ]
    }
   ],
   "source": [
    "import datetime\n",
    "\n",
    "x = datetime.datetime.now()\n",
    "\n",
    "print(x.year)\n",
    "print(x.date())\n",
    "print(x.strftime(\"%A\"))"
   ]
  },
  {
   "cell_type": "markdown",
   "metadata": {},
   "source": [
    "### 002 Creating Date Objects\n",
    "- To create a date, we can use the datetime() class (constructor) of the datetime module.\n",
    "- The datetime() class requires three parameters to create a date: year, month, day."
   ]
  },
  {
   "cell_type": "code",
   "execution_count": 14,
   "metadata": {},
   "outputs": [
    {
     "name": "stdout",
     "output_type": "stream",
     "text": [
      "2020-05-18 00:00:00\n"
     ]
    }
   ],
   "source": [
    "import datetime\n",
    "\n",
    "x = datetime.datetime(2020, 5, 18)\n",
    "\n",
    "print(x)    # The datetime() class also takes parameters for time and timezone (hour, minute, second, microsecond, tzone), \n",
    "            # but they are optional, and has a default value of 0, (None for timezone)."
   ]
  },
  {
   "cell_type": "markdown",
   "metadata": {},
   "source": [
    "#### 003 The strftime() Method\n",
    "- The datetime object has a method for formatting date objects into readable strings.\n",
    "- The method is called strftime(), and takes one parameter, format, to specify the format of the returned string:"
   ]
  },
  {
   "cell_type": "code",
   "execution_count": 17,
   "metadata": {},
   "outputs": [
    {
     "name": "stdout",
     "output_type": "stream",
     "text": [
      "Sun\n",
      "Sunday\n",
      "0\n",
      "11\n",
      "Jun\n",
      "June\n",
      "06\n",
      "23\n",
      "2023\n",
      "00\n",
      "12\n",
      "AM\n",
      "00\n",
      "00\n",
      "000000\n",
      "\n",
      "\n",
      "162\n",
      "24\n",
      "23\n",
      "Sun Jun 11 00:00:00 2023\n",
      "20\n",
      "06/11/23\n",
      "00:00:00\n",
      "%\n",
      "2023\n",
      "7\n",
      "23\n"
     ]
    }
   ],
   "source": [
    "import datetime\n",
    "\n",
    "x = datetime.datetime(2023, 6, 11)\n",
    "\n",
    "print(x.strftime(\"%a\")) # Weekday, short version\t            Wed\n",
    "print(x.strftime(\"%A\")) # Weekday, full version\t                Wednesday\n",
    "print(x.strftime(\"%w\")) # Weekday as a number 0-6, 0 is Sunday\t3\n",
    "print(x.strftime(\"%d\")) # Day of month 01-31\t                31\n",
    "print(x.strftime(\"%b\")) # Month name, short version\t            Dec\n",
    "print(x.strftime(\"%B\")) # Month name, full version\t            December\n",
    "print(x.strftime(\"%m\")) # Month as a number 01-12\t            12\n",
    "print(x.strftime(\"%y\")) # Year, short version, without century\t18\n",
    "print(x.strftime(\"%Y\")) # Year, full version\t                2018\n",
    "print(x.strftime(\"%H\")) # Hour 00-23\t                        17\n",
    "print(x.strftime(\"%I\")) # Hour 00-12\t                        05\n",
    "print(x.strftime(\"%p\")) # AM/PM\t                                PM\n",
    "print(x.strftime(\"%M\")) # Minute 00-59\t                        41\n",
    "print(x.strftime(\"%S\")) # Second 00-59\t                        08\n",
    "print(x.strftime(\"%f\")) # Microsecond 000000-999999\t            548513\n",
    "print(x.strftime(\"%z\")) # UTC offset\t                        +0100\n",
    "print(x.strftime(\"%Z\")) # Timezone\t                            GMT\n",
    "print(x.strftime(\"%j\")) # Day number of year 001-366\t        365\n",
    "print(x.strftime(\"%U\")) # Week num of year,Sun as 1st day, 00-53 52\n",
    "print(x.strftime(\"%W\")) # Week num of year,Mon as 1st day, 00-53  52\n",
    "print(x.strftime(\"%c\")) # Local version of date and time        Mon Dec 31 17:41:00 2018\n",
    "print(x.strftime(\"%C\")) # Century\t                            20\n",
    "print(x.strftime(\"%x\")) # Local version of date and time Mon Dec 31 17:41:00 2018\n",
    "print(x.strftime(\"%X\")) # Local version of time\t                 17:41:00\n",
    "print(x.strftime(\"%%\")) # A % character\t                         %\n",
    "print(x.strftime(\"%G\")) # ISO 8601 year\t                        2018\n",
    "print(x.strftime(\"%u\")) # ISO 8601 weekday (1-7)\t            1\n",
    "print(x.strftime(\"%V\")) # ISO 8601 weeknumber (01-53)\t        01"
   ]
  }
 ],
 "metadata": {
  "kernelspec": {
   "display_name": "mypyenv",
   "language": "python",
   "name": "python3"
  },
  "language_info": {
   "codemirror_mode": {
    "name": "ipython",
    "version": 3
   },
   "file_extension": ".py",
   "mimetype": "text/x-python",
   "name": "python",
   "nbconvert_exporter": "python",
   "pygments_lexer": "ipython3",
   "version": "3.12.5"
  }
 },
 "nbformat": 4,
 "nbformat_minor": 2
}
