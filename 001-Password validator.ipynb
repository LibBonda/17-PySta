{
 "cells": [
  {
   "cell_type": "markdown",
   "metadata": {},
   "source": [
    "### Problem 1: Password Validator¶\n",
    "Write a program that checks if a password is valid based on the following criteria:\n",
    "\n",
    "# Conditions:\n",
    "The password length should be at least 8 characters.\n",
    "The password should contain at least one uppercase letter.\n",
    "The password should contain at least one lowercase letter.\n",
    "The password should contain at least one digit."
   ]
  },
  {
   "cell_type": "code",
   "execution_count": 1,
   "metadata": {},
   "outputs": [
    {
     "name": "stdout",
     "output_type": "stream",
     "text": [
      "password is too short\n"
     ]
    }
   ],
   "source": [
    "password = str(input(\"Enter new password: \"))\n",
    "nums = str(1234567890)\n",
    "caps = \"ABCDEFGHIJKLMNOPQRSTUVWXYZ\"\n",
    "smalls = \"abcdefghijklmnopqrstuvwxyz\"\n",
    "permitted_specials = \"!£$%&*()\"\n",
    "\n",
    "#check that password contains at lease one uppercase character, at least one lowercase char and at least one digit, and that password is at least 8 chars long\n",
    "#check password uses at least one special character and is not greater than 25 chars\n",
    "if len(password) < 8 :\n",
    "    print(\"password is too short\")\n",
    "elif not any(char in nums for char in password):\n",
    "    print(\"Password must contain at least one digit\")\n",
    "elif not any(char in caps for char in password):\n",
    "    print(\"Password must contain at least one uppercase character\")\n",
    "elif not any(char in smalls for char in password):\n",
    "    print(\"Password must contain at least one lowercase character\")\n",
    "elif not any(char in permitted_specials for char in password):\n",
    "    print(\"use permitted special character, please try again\")\n",
    "elif len(password) > 25:    \n",
    "    print(\"invalid or too long password\")\n",
    "else:\n",
    "   print(\"login successful\")"
   ]
  }
 ],
 "metadata": {
  "kernelspec": {
   "display_name": "mypyenv",
   "language": "python",
   "name": "python3"
  },
  "language_info": {
   "codemirror_mode": {
    "name": "ipython",
    "version": 3
   },
   "file_extension": ".py",
   "mimetype": "text/x-python",
   "name": "python",
   "nbconvert_exporter": "python",
   "pygments_lexer": "ipython3",
   "version": "3.12.5"
  }
 },
 "nbformat": 4,
 "nbformat_minor": 2
}
