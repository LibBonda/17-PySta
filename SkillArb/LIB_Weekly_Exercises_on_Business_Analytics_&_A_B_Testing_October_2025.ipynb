{
  "cells": [
    {
      "cell_type": "markdown",
      "metadata": {},
      "source": [
        "### **Business Analytics & A/B Testing Project**"
      ]
    },
    {
      "cell_type": "markdown",
      "metadata": {
        "id": "E9uSIqGeDeAt"
      },
      "source": [
        "### Task 1: Data Import and Preparation\n",
        "1.  **Load the Data:** Import the necessary Python libraries (pandas is essential). Then read the CSV file into a DataFrame"
      ]
    },
    {
      "cell_type": "code",
      "execution_count": 7,
      "metadata": {
        "colab": {
          "base_uri": "https://localhost:8080/",
          "height": 206
        },
        "id": "PJloczl_DEv6",
        "outputId": "2d692110-9cde-48c2-f12f-552d87e6d3a3"
      },
      "outputs": [
        {
          "data": {
            "application/vnd.microsoft.datawrangler.viewer.v0+json": {
              "columns": [
                {
                  "name": "index",
                  "rawType": "int64",
                  "type": "integer"
                },
                {
                  "name": "OrderID",
                  "rawType": "object",
                  "type": "string"
                },
                {
                  "name": "CustomerID",
                  "rawType": "object",
                  "type": "string"
                },
                {
                  "name": "OrderDate",
                  "rawType": "object",
                  "type": "string"
                },
                {
                  "name": "ProductCategory",
                  "rawType": "object",
                  "type": "string"
                },
                {
                  "name": "SalesAmount",
                  "rawType": "int64",
                  "type": "integer"
                },
                {
                  "name": "Cost",
                  "rawType": "float64",
                  "type": "float"
                },
                {
                  "name": "Profit",
                  "rawType": "float64",
                  "type": "float"
                },
                {
                  "name": "group",
                  "rawType": "object",
                  "type": "string"
                },
                {
                  "name": "converted",
                  "rawType": "bool",
                  "type": "boolean"
                }
              ],
              "ref": "77742117-7533-44fb-9613-7c85efad68c9",
              "rows": [
                [
                  "0",
                  "ORD1000",
                  "CUST138",
                  "2023-01-01",
                  "Groceries",
                  "4242",
                  "2261.65",
                  "1980.35",
                  "experiment",
                  "False"
                ],
                [
                  "1",
                  "ORD1001",
                  "CUST128",
                  "2023-01-02",
                  "Electronics",
                  "4464",
                  "3175.46",
                  "1288.54",
                  "experiment",
                  "False"
                ],
                [
                  "2",
                  "ORD1002",
                  "CUST114",
                  "2023-01-03",
                  "Books",
                  "4565",
                  "3079.25",
                  "1485.75",
                  "experiment",
                  "True"
                ],
                [
                  "3",
                  "ORD1003",
                  "CUST142",
                  "2023-01-04",
                  "Electronics",
                  "735",
                  "603.32",
                  "131.68",
                  "control",
                  "False"
                ],
                [
                  "4",
                  "ORD1004",
                  "CUST107",
                  "2023-01-05",
                  "Electronics",
                  "1793",
                  "1597.85",
                  "195.15",
                  "experiment",
                  "False"
                ]
              ],
              "shape": {
                "columns": 9,
                "rows": 5
              }
            },
            "text/html": [
              "<div>\n",
              "<style scoped>\n",
              "    .dataframe tbody tr th:only-of-type {\n",
              "        vertical-align: middle;\n",
              "    }\n",
              "\n",
              "    .dataframe tbody tr th {\n",
              "        vertical-align: top;\n",
              "    }\n",
              "\n",
              "    .dataframe thead th {\n",
              "        text-align: right;\n",
              "    }\n",
              "</style>\n",
              "<table border=\"1\" class=\"dataframe\">\n",
              "  <thead>\n",
              "    <tr style=\"text-align: right;\">\n",
              "      <th></th>\n",
              "      <th>OrderID</th>\n",
              "      <th>CustomerID</th>\n",
              "      <th>OrderDate</th>\n",
              "      <th>ProductCategory</th>\n",
              "      <th>SalesAmount</th>\n",
              "      <th>Cost</th>\n",
              "      <th>Profit</th>\n",
              "      <th>group</th>\n",
              "      <th>converted</th>\n",
              "    </tr>\n",
              "  </thead>\n",
              "  <tbody>\n",
              "    <tr>\n",
              "      <th>0</th>\n",
              "      <td>ORD1000</td>\n",
              "      <td>CUST138</td>\n",
              "      <td>2023-01-01</td>\n",
              "      <td>Groceries</td>\n",
              "      <td>4242</td>\n",
              "      <td>2261.65</td>\n",
              "      <td>1980.35</td>\n",
              "      <td>experiment</td>\n",
              "      <td>False</td>\n",
              "    </tr>\n",
              "    <tr>\n",
              "      <th>1</th>\n",
              "      <td>ORD1001</td>\n",
              "      <td>CUST128</td>\n",
              "      <td>2023-01-02</td>\n",
              "      <td>Electronics</td>\n",
              "      <td>4464</td>\n",
              "      <td>3175.46</td>\n",
              "      <td>1288.54</td>\n",
              "      <td>experiment</td>\n",
              "      <td>False</td>\n",
              "    </tr>\n",
              "    <tr>\n",
              "      <th>2</th>\n",
              "      <td>ORD1002</td>\n",
              "      <td>CUST114</td>\n",
              "      <td>2023-01-03</td>\n",
              "      <td>Books</td>\n",
              "      <td>4565</td>\n",
              "      <td>3079.25</td>\n",
              "      <td>1485.75</td>\n",
              "      <td>experiment</td>\n",
              "      <td>True</td>\n",
              "    </tr>\n",
              "    <tr>\n",
              "      <th>3</th>\n",
              "      <td>ORD1003</td>\n",
              "      <td>CUST142</td>\n",
              "      <td>2023-01-04</td>\n",
              "      <td>Electronics</td>\n",
              "      <td>735</td>\n",
              "      <td>603.32</td>\n",
              "      <td>131.68</td>\n",
              "      <td>control</td>\n",
              "      <td>False</td>\n",
              "    </tr>\n",
              "    <tr>\n",
              "      <th>4</th>\n",
              "      <td>ORD1004</td>\n",
              "      <td>CUST107</td>\n",
              "      <td>2023-01-05</td>\n",
              "      <td>Electronics</td>\n",
              "      <td>1793</td>\n",
              "      <td>1597.85</td>\n",
              "      <td>195.15</td>\n",
              "      <td>experiment</td>\n",
              "      <td>False</td>\n",
              "    </tr>\n",
              "  </tbody>\n",
              "</table>\n",
              "</div>"
            ],
            "text/plain": [
              "   OrderID CustomerID   OrderDate ProductCategory  SalesAmount     Cost  \\\n",
              "0  ORD1000    CUST138  2023-01-01       Groceries         4242  2261.65   \n",
              "1  ORD1001    CUST128  2023-01-02     Electronics         4464  3175.46   \n",
              "2  ORD1002    CUST114  2023-01-03           Books         4565  3079.25   \n",
              "3  ORD1003    CUST142  2023-01-04     Electronics          735   603.32   \n",
              "4  ORD1004    CUST107  2023-01-05     Electronics         1793  1597.85   \n",
              "\n",
              "    Profit       group  converted  \n",
              "0  1980.35  experiment      False  \n",
              "1  1288.54  experiment      False  \n",
              "2  1485.75  experiment       True  \n",
              "3   131.68     control      False  \n",
              "4   195.15  experiment      False  "
            ]
          },
          "metadata": {},
          "output_type": "display_data"
        }
      ],
      "source": [
        "import pandas as pd\n",
        "import matplotlib.pyplot as plt\n",
        "import seaborn as sns\n",
        "import numpy as np\n",
        "import datetime as dt\n",
        "\n",
        "\n",
        "# Load the dataframe.\n",
        "df = pd.read_csv('D:/04_Data Analytics/Datasets/business_analytics_data.csv')\n",
        "\n",
        "# Display the first 5 rows.\n",
        "display(df.head())"
      ]
    },
    {
      "cell_type": "markdown",
      "metadata": {
        "id": "kw0hHweqFwE-"
      },
      "source": [
        "2. **Understand the Features**: Examine the columns in the dataset using df.columns and try to understand what each represents.\n",
        "\n"
      ]
    },
    {
      "cell_type": "code",
      "execution_count": 8,
      "metadata": {
        "colab": {
          "base_uri": "https://localhost:8080/"
        },
        "id": "qyhedktoHHoT",
        "outputId": "2ffd049d-d241-42df-df52-d7ffc8007296"
      },
      "outputs": [
        {
          "data": {
            "text/plain": [
              "Index(['OrderID', 'CustomerID', 'OrderDate', 'ProductCategory', 'SalesAmount',\n",
              "       'Cost', 'Profit', 'group', 'converted'],\n",
              "      dtype='object')"
            ]
          },
          "execution_count": 8,
          "metadata": {},
          "output_type": "execute_result"
        }
      ],
      "source": [
        "# use df.columns and try to understand what each column represents.\n",
        "df.columns"
      ]
    },
    {
      "cell_type": "markdown",
      "metadata": {
        "id": "pMWJQyABGkAG"
      },
      "source": [
        "3. **Basic Data Audit:** Check for missing values and duplicates:"
      ]
    },
    {
      "cell_type": "code",
      "execution_count": 9,
      "metadata": {
        "colab": {
          "base_uri": "https://localhost:8080/"
        },
        "id": "6CMvU1WnGfTu",
        "outputId": "9e3c2c8d-cbab-4662-fb3c-8a30a35aed2e"
      },
      "outputs": [
        {
          "name": "stdout",
          "output_type": "stream",
          "text": [
            "<class 'pandas.core.frame.DataFrame'>\n",
            "RangeIndex: 200 entries, 0 to 199\n",
            "Data columns (total 9 columns):\n",
            " #   Column           Non-Null Count  Dtype  \n",
            "---  ------           --------------  -----  \n",
            " 0   OrderID          200 non-null    object \n",
            " 1   CustomerID       200 non-null    object \n",
            " 2   OrderDate        200 non-null    object \n",
            " 3   ProductCategory  200 non-null    object \n",
            " 4   SalesAmount      200 non-null    int64  \n",
            " 5   Cost             200 non-null    float64\n",
            " 6   Profit           200 non-null    float64\n",
            " 7   group            200 non-null    object \n",
            " 8   converted        200 non-null    bool   \n",
            "dtypes: bool(1), float64(2), int64(1), object(5)\n",
            "memory usage: 12.8+ KB\n"
          ]
        }
      ],
      "source": [
        "# Use df.info() to see data types and non-null counts.\n",
        "\n",
        "df.info()"
      ]
    },
    {
      "cell_type": "code",
      "execution_count": 10,
      "metadata": {
        "colab": {
          "base_uri": "https://localhost:8080/",
          "height": 366
        },
        "id": "2ugVgzR-HWFT",
        "outputId": "a8e664fe-b85a-4f0e-c24a-58a5ce6bfbe9"
      },
      "outputs": [
        {
          "data": {
            "application/vnd.microsoft.datawrangler.viewer.v0+json": {
              "columns": [
                {
                  "name": "index",
                  "rawType": "object",
                  "type": "string"
                },
                {
                  "name": "0",
                  "rawType": "int64",
                  "type": "integer"
                }
              ],
              "ref": "b9107eb8-9f8c-4e30-bac6-04d5b36e2a3d",
              "rows": [
                [
                  "OrderID",
                  "0"
                ],
                [
                  "CustomerID",
                  "0"
                ],
                [
                  "OrderDate",
                  "0"
                ],
                [
                  "ProductCategory",
                  "0"
                ],
                [
                  "SalesAmount",
                  "0"
                ],
                [
                  "Cost",
                  "0"
                ],
                [
                  "Profit",
                  "0"
                ],
                [
                  "group",
                  "0"
                ],
                [
                  "converted",
                  "0"
                ]
              ],
              "shape": {
                "columns": 1,
                "rows": 9
              }
            },
            "text/plain": [
              "OrderID            0\n",
              "CustomerID         0\n",
              "OrderDate          0\n",
              "ProductCategory    0\n",
              "SalesAmount        0\n",
              "Cost               0\n",
              "Profit             0\n",
              "group              0\n",
              "converted          0\n",
              "dtype: int64"
            ]
          },
          "execution_count": 10,
          "metadata": {},
          "output_type": "execute_result"
        }
      ],
      "source": [
        "# Use df.isna().sum() to see how many missing entries per column.\n",
        "# If there are missing values, consider how to handle them.\n",
        "\n",
        "df.isna().sum()"
      ]
    },
    {
      "cell_type": "markdown",
      "metadata": {
        "id": "aBgGmPKBIJmc"
      },
      "source": [
        "output indicates that there are no missing values in any of the columns."
      ]
    },
    {
      "cell_type": "code",
      "execution_count": 11,
      "metadata": {
        "colab": {
          "base_uri": "https://localhost:8080/"
        },
        "id": "jZpc8aAVIcEZ",
        "outputId": "0d39aae6-2a9b-4d02-a544-476d24193c41"
      },
      "outputs": [
        {
          "data": {
            "text/plain": [
              "np.int64(0)"
            ]
          },
          "execution_count": 11,
          "metadata": {},
          "output_type": "execute_result"
        }
      ],
      "source": [
        "# Check for duplicate records using df.duplicated().sum().\n",
        "#If duplicates exist, remove them with df.drop_duplicates().\n",
        "\n",
        "df.duplicated().sum()"
      ]
    },
    {
      "cell_type": "markdown",
      "metadata": {
        "id": "-_qakI_8LM-1"
      },
      "source": [
        "The output of df.duplicated().sum() shows the number of duplicate rows in the DataFrame. In this case, the output of np.int64(0) indicates that there are no duplicate rows in the dataset."
      ]
    },
    {
      "cell_type": "markdown",
      "metadata": {
        "id": "UNSZ2U5hLUY3"
      },
      "source": [
        "4. **Data Type Conversion:** Ensure that date columns are in proper datetime format(use pandas.to_datetime on the date column if present). Also, confirm numericfields (Sales, Cost, Profit, etc.) are numeric (int/float). Convert types if necessary for analysis.\n",
        "\n"
      ]
    },
    {
      "cell_type": "code",
      "execution_count": 12,
      "metadata": {
        "colab": {
          "base_uri": "https://localhost:8080/",
          "height": 617
        },
        "id": "atyQpnnQLSlo",
        "outputId": "02bc73aa-b59f-4664-808e-7d01cd45dec1"
      },
      "outputs": [
        {
          "data": {
            "application/vnd.microsoft.datawrangler.viewer.v0+json": {
              "columns": [
                {
                  "name": "index",
                  "rawType": "int64",
                  "type": "integer"
                },
                {
                  "name": "OrderID",
                  "rawType": "object",
                  "type": "string"
                },
                {
                  "name": "CustomerID",
                  "rawType": "object",
                  "type": "string"
                },
                {
                  "name": "OrderDate",
                  "rawType": "datetime64[ns]",
                  "type": "datetime"
                },
                {
                  "name": "ProductCategory",
                  "rawType": "object",
                  "type": "string"
                },
                {
                  "name": "SalesAmount",
                  "rawType": "int64",
                  "type": "integer"
                },
                {
                  "name": "Cost",
                  "rawType": "float64",
                  "type": "float"
                },
                {
                  "name": "Profit",
                  "rawType": "float64",
                  "type": "float"
                },
                {
                  "name": "group",
                  "rawType": "object",
                  "type": "string"
                },
                {
                  "name": "converted",
                  "rawType": "bool",
                  "type": "boolean"
                },
                {
                  "name": "OrderDate_formatted",
                  "rawType": "object",
                  "type": "string"
                }
              ],
              "ref": "979826e8-59bf-4400-83de-36a63aa75ab2",
              "rows": [
                [
                  "0",
                  "ORD1000",
                  "CUST138",
                  "2023-01-01 00:00:00",
                  "Groceries",
                  "4242",
                  "2261.65",
                  "1980.35",
                  "experiment",
                  "False",
                  "01-01-2023"
                ],
                [
                  "1",
                  "ORD1001",
                  "CUST128",
                  "2023-01-02 00:00:00",
                  "Electronics",
                  "4464",
                  "3175.46",
                  "1288.54",
                  "experiment",
                  "False",
                  "02-01-2023"
                ],
                [
                  "2",
                  "ORD1002",
                  "CUST114",
                  "2023-01-03 00:00:00",
                  "Books",
                  "4565",
                  "3079.25",
                  "1485.75",
                  "experiment",
                  "True",
                  "03-01-2023"
                ],
                [
                  "3",
                  "ORD1003",
                  "CUST142",
                  "2023-01-04 00:00:00",
                  "Electronics",
                  "735",
                  "603.32",
                  "131.68",
                  "control",
                  "False",
                  "04-01-2023"
                ],
                [
                  "4",
                  "ORD1004",
                  "CUST107",
                  "2023-01-05 00:00:00",
                  "Electronics",
                  "1793",
                  "1597.85",
                  "195.15",
                  "experiment",
                  "False",
                  "05-01-2023"
                ],
                [
                  "5",
                  "ORD1005",
                  "CUST120",
                  "2023-01-06 00:00:00",
                  "Clothing",
                  "1782",
                  "1287.32",
                  "494.68",
                  "experiment",
                  "False",
                  "06-01-2023"
                ],
                [
                  "6",
                  "ORD1006",
                  "CUST138",
                  "2023-01-07 00:00:00",
                  "Books",
                  "4852",
                  "3052.27",
                  "1799.73",
                  "experiment",
                  "False",
                  "07-01-2023"
                ],
                [
                  "7",
                  "ORD1007",
                  "CUST118",
                  "2023-01-08 00:00:00",
                  "Books",
                  "219",
                  "113.3",
                  "105.7",
                  "control",
                  "False",
                  "08-01-2023"
                ],
                [
                  "8",
                  "ORD1008",
                  "CUST122",
                  "2023-01-09 00:00:00",
                  "Clothing",
                  "930",
                  "808.97",
                  "121.03",
                  "experiment",
                  "False",
                  "09-01-2023"
                ],
                [
                  "9",
                  "ORD1009",
                  "CUST110",
                  "2023-01-10 00:00:00",
                  "Groceries",
                  "3775",
                  "3275.36",
                  "499.64",
                  "control",
                  "False",
                  "10-01-2023"
                ],
                [
                  "10",
                  "ORD1010",
                  "CUST110",
                  "2023-01-11 00:00:00",
                  "Electronics",
                  "1469",
                  "883.16",
                  "585.84",
                  "control",
                  "False",
                  "11-01-2023"
                ],
                [
                  "11",
                  "ORD1011",
                  "CUST123",
                  "2023-01-12 00:00:00",
                  "Toys",
                  "840",
                  "653.66",
                  "186.34",
                  "control",
                  "False",
                  "12-01-2023"
                ],
                [
                  "12",
                  "ORD1012",
                  "CUST135",
                  "2023-01-13 00:00:00",
                  "Electronics",
                  "216",
                  "114.52",
                  "101.48",
                  "control",
                  "True",
                  "13-01-2023"
                ],
                [
                  "13",
                  "ORD1013",
                  "CUST139",
                  "2023-01-14 00:00:00",
                  "Electronics",
                  "2938",
                  "1664.34",
                  "1273.66",
                  "control",
                  "False",
                  "14-01-2023"
                ],
                [
                  "14",
                  "ORD1014",
                  "CUST123",
                  "2023-01-15 00:00:00",
                  "Groceries",
                  "1250",
                  "733.4",
                  "516.6",
                  "control",
                  "False",
                  "15-01-2023"
                ],
                [
                  "15",
                  "ORD1015",
                  "CUST102",
                  "2023-01-16 00:00:00",
                  "Electronics",
                  "2031",
                  "1254.75",
                  "776.25",
                  "experiment",
                  "False",
                  "16-01-2023"
                ],
                [
                  "16",
                  "ORD1016",
                  "CUST121",
                  "2023-01-17 00:00:00",
                  "Clothing",
                  "1112",
                  "998.95",
                  "113.05",
                  "control",
                  "False",
                  "17-01-2023"
                ],
                [
                  "17",
                  "ORD1017",
                  "CUST101",
                  "2023-01-18 00:00:00",
                  "Clothing",
                  "1764",
                  "1373.75",
                  "390.25",
                  "experiment",
                  "False",
                  "18-01-2023"
                ],
                [
                  "18",
                  "ORD1018",
                  "CUST123",
                  "2023-01-19 00:00:00",
                  "Books",
                  "1181",
                  "772.0",
                  "409.0",
                  "experiment",
                  "False",
                  "19-01-2023"
                ],
                [
                  "19",
                  "ORD1019",
                  "CUST143",
                  "2023-01-20 00:00:00",
                  "Toys",
                  "4829",
                  "3838.28",
                  "990.72",
                  "control",
                  "False",
                  "20-01-2023"
                ],
                [
                  "20",
                  "ORD1020",
                  "CUST129",
                  "2023-01-21 00:00:00",
                  "Electronics",
                  "612",
                  "530.05",
                  "81.95",
                  "experiment",
                  "False",
                  "21-01-2023"
                ],
                [
                  "21",
                  "ORD1021",
                  "CUST137",
                  "2023-01-22 00:00:00",
                  "Electronics",
                  "2949",
                  "2605.39",
                  "343.61",
                  "experiment",
                  "False",
                  "22-01-2023"
                ],
                [
                  "22",
                  "ORD1022",
                  "CUST101",
                  "2023-01-23 00:00:00",
                  "Groceries",
                  "659",
                  "344.75",
                  "314.25",
                  "experiment",
                  "False",
                  "23-01-2023"
                ],
                [
                  "23",
                  "ORD1023",
                  "CUST120",
                  "2023-01-24 00:00:00",
                  "Clothing",
                  "3772",
                  "2481.25",
                  "1290.75",
                  "experiment",
                  "False",
                  "24-01-2023"
                ],
                [
                  "24",
                  "ORD1024",
                  "CUST132",
                  "2023-01-25 00:00:00",
                  "Toys",
                  "4683",
                  "2541.48",
                  "2141.52",
                  "control",
                  "False",
                  "25-01-2023"
                ],
                [
                  "25",
                  "ORD1025",
                  "CUST111",
                  "2023-01-26 00:00:00",
                  "Books",
                  "3443",
                  "2183.77",
                  "1259.23",
                  "experiment",
                  "False",
                  "26-01-2023"
                ],
                [
                  "26",
                  "ORD1026",
                  "CUST121",
                  "2023-01-27 00:00:00",
                  "Clothing",
                  "4170",
                  "2368.03",
                  "1801.97",
                  "control",
                  "True",
                  "27-01-2023"
                ],
                [
                  "27",
                  "ORD1027",
                  "CUST143",
                  "2023-01-28 00:00:00",
                  "Books",
                  "4899",
                  "3717.06",
                  "1181.94",
                  "experiment",
                  "False",
                  "28-01-2023"
                ],
                [
                  "28",
                  "ORD1028",
                  "CUST124",
                  "2023-01-29 00:00:00",
                  "Groceries",
                  "1570",
                  "1028.83",
                  "541.17",
                  "experiment",
                  "False",
                  "29-01-2023"
                ],
                [
                  "29",
                  "ORD1029",
                  "CUST148",
                  "2023-01-30 00:00:00",
                  "Groceries",
                  "680",
                  "402.4",
                  "277.6",
                  "control",
                  "False",
                  "30-01-2023"
                ],
                [
                  "30",
                  "ORD1030",
                  "CUST126",
                  "2023-01-31 00:00:00",
                  "Electronics",
                  "2394",
                  "1451.66",
                  "942.34",
                  "experiment",
                  "True",
                  "31-01-2023"
                ],
                [
                  "31",
                  "ORD1031",
                  "CUST141",
                  "2023-02-01 00:00:00",
                  "Toys",
                  "3247",
                  "2091.52",
                  "1155.48",
                  "experiment",
                  "False",
                  "01-02-2023"
                ],
                [
                  "32",
                  "ORD1032",
                  "CUST127",
                  "2023-02-02 00:00:00",
                  "Books",
                  "4349",
                  "2626.71",
                  "1722.29",
                  "experiment",
                  "False",
                  "02-02-2023"
                ],
                [
                  "33",
                  "ORD1033",
                  "CUST115",
                  "2023-02-03 00:00:00",
                  "Clothing",
                  "1779",
                  "1212.03",
                  "566.97",
                  "control",
                  "True",
                  "03-02-2023"
                ],
                [
                  "34",
                  "ORD1034",
                  "CUST114",
                  "2023-02-04 00:00:00",
                  "Groceries",
                  "3606",
                  "1849.61",
                  "1756.39",
                  "experiment",
                  "False",
                  "04-02-2023"
                ],
                [
                  "35",
                  "ORD1035",
                  "CUST146",
                  "2023-02-05 00:00:00",
                  "Electronics",
                  "2844",
                  "1740.26",
                  "1103.74",
                  "control",
                  "False",
                  "05-02-2023"
                ],
                [
                  "36",
                  "ORD1036",
                  "CUST143",
                  "2023-02-06 00:00:00",
                  "Electronics",
                  "3456",
                  "2296.45",
                  "1159.55",
                  "experiment",
                  "False",
                  "06-02-2023"
                ],
                [
                  "37",
                  "ORD1037",
                  "CUST102",
                  "2023-02-07 00:00:00",
                  "Books",
                  "4145",
                  "3071.91",
                  "1073.09",
                  "control",
                  "True",
                  "07-02-2023"
                ],
                [
                  "38",
                  "ORD1038",
                  "CUST136",
                  "2023-02-08 00:00:00",
                  "Groceries",
                  "1343",
                  "817.06",
                  "525.94",
                  "control",
                  "True",
                  "08-02-2023"
                ],
                [
                  "39",
                  "ORD1039",
                  "CUST106",
                  "2023-02-09 00:00:00",
                  "Toys",
                  "3218",
                  "1780.44",
                  "1437.56",
                  "experiment",
                  "True",
                  "09-02-2023"
                ],
                [
                  "40",
                  "ORD1040",
                  "CUST120",
                  "2023-02-10 00:00:00",
                  "Groceries",
                  "2241",
                  "1188.81",
                  "1052.19",
                  "experiment",
                  "False",
                  "10-02-2023"
                ],
                [
                  "41",
                  "ORD1041",
                  "CUST108",
                  "2023-02-11 00:00:00",
                  "Books",
                  "3159",
                  "2767.96",
                  "391.04",
                  "control",
                  "False",
                  "11-02-2023"
                ],
                [
                  "42",
                  "ORD1042",
                  "CUST138",
                  "2023-02-12 00:00:00",
                  "Books",
                  "4648",
                  "3098.62",
                  "1549.38",
                  "control",
                  "False",
                  "12-02-2023"
                ],
                [
                  "43",
                  "ORD1043",
                  "CUST117",
                  "2023-02-13 00:00:00",
                  "Groceries",
                  "3059",
                  "2240.61",
                  "818.39",
                  "experiment",
                  "False",
                  "13-02-2023"
                ],
                [
                  "44",
                  "ORD1044",
                  "CUST103",
                  "2023-02-14 00:00:00",
                  "Books",
                  "2365",
                  "2052.04",
                  "312.96",
                  "control",
                  "False",
                  "14-02-2023"
                ],
                [
                  "45",
                  "ORD1045",
                  "CUST124",
                  "2023-02-15 00:00:00",
                  "Groceries",
                  "2579",
                  "1374.86",
                  "1204.14",
                  "experiment",
                  "False",
                  "15-02-2023"
                ],
                [
                  "46",
                  "ORD1046",
                  "CUST113",
                  "2023-02-16 00:00:00",
                  "Clothing",
                  "4746",
                  "4037.25",
                  "708.75",
                  "experiment",
                  "False",
                  "16-02-2023"
                ],
                [
                  "47",
                  "ORD1047",
                  "CUST149",
                  "2023-02-17 00:00:00",
                  "Groceries",
                  "1735",
                  "1250.3",
                  "484.7",
                  "experiment",
                  "False",
                  "17-02-2023"
                ],
                [
                  "48",
                  "ORD1048",
                  "CUST108",
                  "2023-02-18 00:00:00",
                  "Groceries",
                  "1857",
                  "1050.94",
                  "806.06",
                  "experiment",
                  "False",
                  "18-02-2023"
                ],
                [
                  "49",
                  "ORD1049",
                  "CUST125",
                  "2023-02-19 00:00:00",
                  "Books",
                  "4552",
                  "3024.81",
                  "1527.19",
                  "control",
                  "False",
                  "19-02-2023"
                ]
              ],
              "shape": {
                "columns": 10,
                "rows": 200
              }
            },
            "text/html": [
              "<div>\n",
              "<style scoped>\n",
              "    .dataframe tbody tr th:only-of-type {\n",
              "        vertical-align: middle;\n",
              "    }\n",
              "\n",
              "    .dataframe tbody tr th {\n",
              "        vertical-align: top;\n",
              "    }\n",
              "\n",
              "    .dataframe thead th {\n",
              "        text-align: right;\n",
              "    }\n",
              "</style>\n",
              "<table border=\"1\" class=\"dataframe\">\n",
              "  <thead>\n",
              "    <tr style=\"text-align: right;\">\n",
              "      <th></th>\n",
              "      <th>OrderID</th>\n",
              "      <th>CustomerID</th>\n",
              "      <th>OrderDate</th>\n",
              "      <th>ProductCategory</th>\n",
              "      <th>SalesAmount</th>\n",
              "      <th>Cost</th>\n",
              "      <th>Profit</th>\n",
              "      <th>group</th>\n",
              "      <th>converted</th>\n",
              "      <th>OrderDate_formatted</th>\n",
              "    </tr>\n",
              "  </thead>\n",
              "  <tbody>\n",
              "    <tr>\n",
              "      <th>0</th>\n",
              "      <td>ORD1000</td>\n",
              "      <td>CUST138</td>\n",
              "      <td>2023-01-01</td>\n",
              "      <td>Groceries</td>\n",
              "      <td>4242</td>\n",
              "      <td>2261.65</td>\n",
              "      <td>1980.35</td>\n",
              "      <td>experiment</td>\n",
              "      <td>False</td>\n",
              "      <td>01-01-2023</td>\n",
              "    </tr>\n",
              "    <tr>\n",
              "      <th>1</th>\n",
              "      <td>ORD1001</td>\n",
              "      <td>CUST128</td>\n",
              "      <td>2023-01-02</td>\n",
              "      <td>Electronics</td>\n",
              "      <td>4464</td>\n",
              "      <td>3175.46</td>\n",
              "      <td>1288.54</td>\n",
              "      <td>experiment</td>\n",
              "      <td>False</td>\n",
              "      <td>02-01-2023</td>\n",
              "    </tr>\n",
              "    <tr>\n",
              "      <th>2</th>\n",
              "      <td>ORD1002</td>\n",
              "      <td>CUST114</td>\n",
              "      <td>2023-01-03</td>\n",
              "      <td>Books</td>\n",
              "      <td>4565</td>\n",
              "      <td>3079.25</td>\n",
              "      <td>1485.75</td>\n",
              "      <td>experiment</td>\n",
              "      <td>True</td>\n",
              "      <td>03-01-2023</td>\n",
              "    </tr>\n",
              "    <tr>\n",
              "      <th>3</th>\n",
              "      <td>ORD1003</td>\n",
              "      <td>CUST142</td>\n",
              "      <td>2023-01-04</td>\n",
              "      <td>Electronics</td>\n",
              "      <td>735</td>\n",
              "      <td>603.32</td>\n",
              "      <td>131.68</td>\n",
              "      <td>control</td>\n",
              "      <td>False</td>\n",
              "      <td>04-01-2023</td>\n",
              "    </tr>\n",
              "    <tr>\n",
              "      <th>4</th>\n",
              "      <td>ORD1004</td>\n",
              "      <td>CUST107</td>\n",
              "      <td>2023-01-05</td>\n",
              "      <td>Electronics</td>\n",
              "      <td>1793</td>\n",
              "      <td>1597.85</td>\n",
              "      <td>195.15</td>\n",
              "      <td>experiment</td>\n",
              "      <td>False</td>\n",
              "      <td>05-01-2023</td>\n",
              "    </tr>\n",
              "    <tr>\n",
              "      <th>...</th>\n",
              "      <td>...</td>\n",
              "      <td>...</td>\n",
              "      <td>...</td>\n",
              "      <td>...</td>\n",
              "      <td>...</td>\n",
              "      <td>...</td>\n",
              "      <td>...</td>\n",
              "      <td>...</td>\n",
              "      <td>...</td>\n",
              "      <td>...</td>\n",
              "    </tr>\n",
              "    <tr>\n",
              "      <th>195</th>\n",
              "      <td>ORD1195</td>\n",
              "      <td>CUST136</td>\n",
              "      <td>2023-07-15</td>\n",
              "      <td>Books</td>\n",
              "      <td>4385</td>\n",
              "      <td>2771.93</td>\n",
              "      <td>1613.07</td>\n",
              "      <td>experiment</td>\n",
              "      <td>False</td>\n",
              "      <td>15-07-2023</td>\n",
              "    </tr>\n",
              "    <tr>\n",
              "      <th>196</th>\n",
              "      <td>ORD1196</td>\n",
              "      <td>CUST132</td>\n",
              "      <td>2023-07-16</td>\n",
              "      <td>Toys</td>\n",
              "      <td>604</td>\n",
              "      <td>527.58</td>\n",
              "      <td>76.42</td>\n",
              "      <td>experiment</td>\n",
              "      <td>True</td>\n",
              "      <td>16-07-2023</td>\n",
              "    </tr>\n",
              "    <tr>\n",
              "      <th>197</th>\n",
              "      <td>ORD1197</td>\n",
              "      <td>CUST141</td>\n",
              "      <td>2023-07-17</td>\n",
              "      <td>Books</td>\n",
              "      <td>1314</td>\n",
              "      <td>660.96</td>\n",
              "      <td>653.04</td>\n",
              "      <td>experiment</td>\n",
              "      <td>False</td>\n",
              "      <td>17-07-2023</td>\n",
              "    </tr>\n",
              "    <tr>\n",
              "      <th>198</th>\n",
              "      <td>ORD1198</td>\n",
              "      <td>CUST143</td>\n",
              "      <td>2023-07-18</td>\n",
              "      <td>Toys</td>\n",
              "      <td>1631</td>\n",
              "      <td>962.51</td>\n",
              "      <td>668.49</td>\n",
              "      <td>experiment</td>\n",
              "      <td>False</td>\n",
              "      <td>18-07-2023</td>\n",
              "    </tr>\n",
              "    <tr>\n",
              "      <th>199</th>\n",
              "      <td>ORD1199</td>\n",
              "      <td>CUST123</td>\n",
              "      <td>2023-07-19</td>\n",
              "      <td>Books</td>\n",
              "      <td>3540</td>\n",
              "      <td>2287.35</td>\n",
              "      <td>1252.65</td>\n",
              "      <td>experiment</td>\n",
              "      <td>False</td>\n",
              "      <td>19-07-2023</td>\n",
              "    </tr>\n",
              "  </tbody>\n",
              "</table>\n",
              "<p>200 rows × 10 columns</p>\n",
              "</div>"
            ],
            "text/plain": [
              "     OrderID CustomerID  OrderDate ProductCategory  SalesAmount     Cost  \\\n",
              "0    ORD1000    CUST138 2023-01-01       Groceries         4242  2261.65   \n",
              "1    ORD1001    CUST128 2023-01-02     Electronics         4464  3175.46   \n",
              "2    ORD1002    CUST114 2023-01-03           Books         4565  3079.25   \n",
              "3    ORD1003    CUST142 2023-01-04     Electronics          735   603.32   \n",
              "4    ORD1004    CUST107 2023-01-05     Electronics         1793  1597.85   \n",
              "..       ...        ...        ...             ...          ...      ...   \n",
              "195  ORD1195    CUST136 2023-07-15           Books         4385  2771.93   \n",
              "196  ORD1196    CUST132 2023-07-16            Toys          604   527.58   \n",
              "197  ORD1197    CUST141 2023-07-17           Books         1314   660.96   \n",
              "198  ORD1198    CUST143 2023-07-18            Toys         1631   962.51   \n",
              "199  ORD1199    CUST123 2023-07-19           Books         3540  2287.35   \n",
              "\n",
              "      Profit       group  converted OrderDate_formatted  \n",
              "0    1980.35  experiment      False          01-01-2023  \n",
              "1    1288.54  experiment      False          02-01-2023  \n",
              "2    1485.75  experiment       True          03-01-2023  \n",
              "3     131.68     control      False          04-01-2023  \n",
              "4     195.15  experiment      False          05-01-2023  \n",
              "..       ...         ...        ...                 ...  \n",
              "195  1613.07  experiment      False          15-07-2023  \n",
              "196    76.42  experiment       True          16-07-2023  \n",
              "197   653.04  experiment      False          17-07-2023  \n",
              "198   668.49  experiment      False          18-07-2023  \n",
              "199  1252.65  experiment      False          19-07-2023  \n",
              "\n",
              "[200 rows x 10 columns]"
            ]
          },
          "execution_count": 12,
          "metadata": {},
          "output_type": "execute_result"
        }
      ],
      "source": [
        "# Convert 'OrderDate' to datetime format\n",
        "# Confirm numeric fields (SalesAmount, Cost, Profit, etc.) are numeric (int/float).\n",
        "# df.info() can be used to check data types\n",
        "# Convert types if necessary for analysis (though they appear to be correct based on df.info() output).\n",
        "\n",
        "# Convert to datetime format\n",
        "df['OrderDate'] = pd.to_datetime(df['OrderDate'], errors='coerce')\n",
        "\n",
        "# Format the date as 'DD-MM-YYYY' and store in a new column\n",
        "df['OrderDate_formatted'] = df['OrderDate'].dt.strftime('%d-%m-%Y')\n",
        "\n",
        "df"
      ]
    },
    {
      "cell_type": "markdown",
      "metadata": {
        "id": "qv_y9dvWP7qC"
      },
      "source": [
        "5. **Calculate Additional Fields:** Add some useful calculated columns:\n",
        "\n"
      ]
    },
    {
      "cell_type": "code",
      "execution_count": 13,
      "metadata": {
        "colab": {
          "base_uri": "https://localhost:8080/",
          "height": 313
        },
        "id": "4ZUd2PFKRIRy",
        "outputId": "dbf5726b-7f99-4b5b-b746-8182580285a9"
      },
      "outputs": [
        {
          "data": {
            "application/vnd.microsoft.datawrangler.viewer.v0+json": {
              "columns": [
                {
                  "name": "index",
                  "rawType": "int64",
                  "type": "integer"
                },
                {
                  "name": "OrderID",
                  "rawType": "object",
                  "type": "string"
                },
                {
                  "name": "CustomerID",
                  "rawType": "object",
                  "type": "string"
                },
                {
                  "name": "OrderDate",
                  "rawType": "datetime64[ns]",
                  "type": "datetime"
                },
                {
                  "name": "ProductCategory",
                  "rawType": "object",
                  "type": "string"
                },
                {
                  "name": "SalesAmount",
                  "rawType": "int64",
                  "type": "integer"
                },
                {
                  "name": "Cost",
                  "rawType": "float64",
                  "type": "float"
                },
                {
                  "name": "Profit",
                  "rawType": "float64",
                  "type": "float"
                },
                {
                  "name": "group",
                  "rawType": "object",
                  "type": "string"
                },
                {
                  "name": "converted",
                  "rawType": "bool",
                  "type": "boolean"
                },
                {
                  "name": "OrderDate_formatted",
                  "rawType": "object",
                  "type": "string"
                }
              ],
              "ref": "30716d79-85db-47bb-84bc-5a7ac045223b",
              "rows": [
                [
                  "0",
                  "ORD1000",
                  "CUST138",
                  "2023-01-01 00:00:00",
                  "Groceries",
                  "4242",
                  "2261.65",
                  "1980.35",
                  "experiment",
                  "False",
                  "01-01-2023"
                ],
                [
                  "1",
                  "ORD1001",
                  "CUST128",
                  "2023-01-02 00:00:00",
                  "Electronics",
                  "4464",
                  "3175.46",
                  "1288.54",
                  "experiment",
                  "False",
                  "02-01-2023"
                ],
                [
                  "2",
                  "ORD1002",
                  "CUST114",
                  "2023-01-03 00:00:00",
                  "Books",
                  "4565",
                  "3079.25",
                  "1485.75",
                  "experiment",
                  "True",
                  "03-01-2023"
                ],
                [
                  "3",
                  "ORD1003",
                  "CUST142",
                  "2023-01-04 00:00:00",
                  "Electronics",
                  "735",
                  "603.32",
                  "131.68",
                  "control",
                  "False",
                  "04-01-2023"
                ],
                [
                  "4",
                  "ORD1004",
                  "CUST107",
                  "2023-01-05 00:00:00",
                  "Electronics",
                  "1793",
                  "1597.85",
                  "195.15",
                  "experiment",
                  "False",
                  "05-01-2023"
                ]
              ],
              "shape": {
                "columns": 10,
                "rows": 5
              }
            },
            "text/html": [
              "<div>\n",
              "<style scoped>\n",
              "    .dataframe tbody tr th:only-of-type {\n",
              "        vertical-align: middle;\n",
              "    }\n",
              "\n",
              "    .dataframe tbody tr th {\n",
              "        vertical-align: top;\n",
              "    }\n",
              "\n",
              "    .dataframe thead th {\n",
              "        text-align: right;\n",
              "    }\n",
              "</style>\n",
              "<table border=\"1\" class=\"dataframe\">\n",
              "  <thead>\n",
              "    <tr style=\"text-align: right;\">\n",
              "      <th></th>\n",
              "      <th>OrderID</th>\n",
              "      <th>CustomerID</th>\n",
              "      <th>OrderDate</th>\n",
              "      <th>ProductCategory</th>\n",
              "      <th>SalesAmount</th>\n",
              "      <th>Cost</th>\n",
              "      <th>Profit</th>\n",
              "      <th>group</th>\n",
              "      <th>converted</th>\n",
              "      <th>OrderDate_formatted</th>\n",
              "    </tr>\n",
              "  </thead>\n",
              "  <tbody>\n",
              "    <tr>\n",
              "      <th>0</th>\n",
              "      <td>ORD1000</td>\n",
              "      <td>CUST138</td>\n",
              "      <td>2023-01-01</td>\n",
              "      <td>Groceries</td>\n",
              "      <td>4242</td>\n",
              "      <td>2261.65</td>\n",
              "      <td>1980.35</td>\n",
              "      <td>experiment</td>\n",
              "      <td>False</td>\n",
              "      <td>01-01-2023</td>\n",
              "    </tr>\n",
              "    <tr>\n",
              "      <th>1</th>\n",
              "      <td>ORD1001</td>\n",
              "      <td>CUST128</td>\n",
              "      <td>2023-01-02</td>\n",
              "      <td>Electronics</td>\n",
              "      <td>4464</td>\n",
              "      <td>3175.46</td>\n",
              "      <td>1288.54</td>\n",
              "      <td>experiment</td>\n",
              "      <td>False</td>\n",
              "      <td>02-01-2023</td>\n",
              "    </tr>\n",
              "    <tr>\n",
              "      <th>2</th>\n",
              "      <td>ORD1002</td>\n",
              "      <td>CUST114</td>\n",
              "      <td>2023-01-03</td>\n",
              "      <td>Books</td>\n",
              "      <td>4565</td>\n",
              "      <td>3079.25</td>\n",
              "      <td>1485.75</td>\n",
              "      <td>experiment</td>\n",
              "      <td>True</td>\n",
              "      <td>03-01-2023</td>\n",
              "    </tr>\n",
              "    <tr>\n",
              "      <th>3</th>\n",
              "      <td>ORD1003</td>\n",
              "      <td>CUST142</td>\n",
              "      <td>2023-01-04</td>\n",
              "      <td>Electronics</td>\n",
              "      <td>735</td>\n",
              "      <td>603.32</td>\n",
              "      <td>131.68</td>\n",
              "      <td>control</td>\n",
              "      <td>False</td>\n",
              "      <td>04-01-2023</td>\n",
              "    </tr>\n",
              "    <tr>\n",
              "      <th>4</th>\n",
              "      <td>ORD1004</td>\n",
              "      <td>CUST107</td>\n",
              "      <td>2023-01-05</td>\n",
              "      <td>Electronics</td>\n",
              "      <td>1793</td>\n",
              "      <td>1597.85</td>\n",
              "      <td>195.15</td>\n",
              "      <td>experiment</td>\n",
              "      <td>False</td>\n",
              "      <td>05-01-2023</td>\n",
              "    </tr>\n",
              "  </tbody>\n",
              "</table>\n",
              "</div>"
            ],
            "text/plain": [
              "   OrderID CustomerID  OrderDate ProductCategory  SalesAmount     Cost  \\\n",
              "0  ORD1000    CUST138 2023-01-01       Groceries         4242  2261.65   \n",
              "1  ORD1001    CUST128 2023-01-02     Electronics         4464  3175.46   \n",
              "2  ORD1002    CUST114 2023-01-03           Books         4565  3079.25   \n",
              "3  ORD1003    CUST142 2023-01-04     Electronics          735   603.32   \n",
              "4  ORD1004    CUST107 2023-01-05     Electronics         1793  1597.85   \n",
              "\n",
              "    Profit       group  converted OrderDate_formatted  \n",
              "0  1980.35  experiment      False          01-01-2023  \n",
              "1  1288.54  experiment      False          02-01-2023  \n",
              "2  1485.75  experiment       True          03-01-2023  \n",
              "3   131.68     control      False          04-01-2023  \n",
              "4   195.15  experiment      False          05-01-2023  "
            ]
          },
          "execution_count": 13,
          "metadata": {},
          "output_type": "execute_result"
        }
      ],
      "source": [
        "# Add a new column called Total_Sales to the df and Calculate Total Sales for each order line.\n",
        "\n",
        "#df['Total_Sales'] = df['SalesAmount'] * df['Cost']\n",
        "df.head()"
      ]
    },
    {
      "cell_type": "code",
      "execution_count": 14,
      "metadata": {
        "id": "hoaq5wkTsvHj"
      },
      "outputs": [],
      "source": [
        "# Ensure there is a Profit column. If the dataset provides a profit for each record, great.\n",
        "# If it provides cost and sales, you can compute profit = sales – cost."
      ]
    },
    {
      "cell_type": "markdown",
      "metadata": {
        "id": "EqHdltDjstVi"
      },
      "source": [
        "Data set already has a Profit column"
      ]
    },
    {
      "cell_type": "markdown",
      "metadata": {
        "id": "wDrG4XLss79g"
      },
      "source": [
        "(Optional) If you plan to analyze time-based trends, extract Year or Month\n",
        "from the order date into new columns (e.g., df['OrderMonth'] =\n",
        "df['OrderDate'].dt.to_period('M'))."
      ]
    },
    {
      "cell_type": "code",
      "execution_count": 15,
      "metadata": {
        "colab": {
          "base_uri": "https://localhost:8080/",
          "height": 313
        },
        "id": "QltgY2j-stEn",
        "outputId": "a211f4fb-5a21-4a39-8a06-b45273226b07"
      },
      "outputs": [
        {
          "data": {
            "application/vnd.microsoft.datawrangler.viewer.v0+json": {
              "columns": [
                {
                  "name": "index",
                  "rawType": "int64",
                  "type": "integer"
                },
                {
                  "name": "OrderID",
                  "rawType": "object",
                  "type": "string"
                },
                {
                  "name": "CustomerID",
                  "rawType": "object",
                  "type": "string"
                },
                {
                  "name": "OrderDate",
                  "rawType": "datetime64[ns]",
                  "type": "datetime"
                },
                {
                  "name": "ProductCategory",
                  "rawType": "object",
                  "type": "string"
                },
                {
                  "name": "SalesAmount",
                  "rawType": "int64",
                  "type": "integer"
                },
                {
                  "name": "Cost",
                  "rawType": "float64",
                  "type": "float"
                },
                {
                  "name": "Profit",
                  "rawType": "float64",
                  "type": "float"
                },
                {
                  "name": "group",
                  "rawType": "object",
                  "type": "string"
                },
                {
                  "name": "converted",
                  "rawType": "bool",
                  "type": "boolean"
                },
                {
                  "name": "OrderDate_formatted",
                  "rawType": "object",
                  "type": "string"
                },
                {
                  "name": "OrderMonth",
                  "rawType": "period[M]",
                  "type": "unknown"
                }
              ],
              "ref": "3c34b49d-c2c3-4a3c-b0ae-0c3916917347",
              "rows": [
                [
                  "0",
                  "ORD1000",
                  "CUST138",
                  "2023-01-01 00:00:00",
                  "Groceries",
                  "4242",
                  "2261.65",
                  "1980.35",
                  "experiment",
                  "False",
                  "01-01-2023",
                  "2023-01"
                ],
                [
                  "1",
                  "ORD1001",
                  "CUST128",
                  "2023-01-02 00:00:00",
                  "Electronics",
                  "4464",
                  "3175.46",
                  "1288.54",
                  "experiment",
                  "False",
                  "02-01-2023",
                  "2023-01"
                ],
                [
                  "2",
                  "ORD1002",
                  "CUST114",
                  "2023-01-03 00:00:00",
                  "Books",
                  "4565",
                  "3079.25",
                  "1485.75",
                  "experiment",
                  "True",
                  "03-01-2023",
                  "2023-01"
                ],
                [
                  "3",
                  "ORD1003",
                  "CUST142",
                  "2023-01-04 00:00:00",
                  "Electronics",
                  "735",
                  "603.32",
                  "131.68",
                  "control",
                  "False",
                  "04-01-2023",
                  "2023-01"
                ],
                [
                  "4",
                  "ORD1004",
                  "CUST107",
                  "2023-01-05 00:00:00",
                  "Electronics",
                  "1793",
                  "1597.85",
                  "195.15",
                  "experiment",
                  "False",
                  "05-01-2023",
                  "2023-01"
                ]
              ],
              "shape": {
                "columns": 11,
                "rows": 5
              }
            },
            "text/html": [
              "<div>\n",
              "<style scoped>\n",
              "    .dataframe tbody tr th:only-of-type {\n",
              "        vertical-align: middle;\n",
              "    }\n",
              "\n",
              "    .dataframe tbody tr th {\n",
              "        vertical-align: top;\n",
              "    }\n",
              "\n",
              "    .dataframe thead th {\n",
              "        text-align: right;\n",
              "    }\n",
              "</style>\n",
              "<table border=\"1\" class=\"dataframe\">\n",
              "  <thead>\n",
              "    <tr style=\"text-align: right;\">\n",
              "      <th></th>\n",
              "      <th>OrderID</th>\n",
              "      <th>CustomerID</th>\n",
              "      <th>OrderDate</th>\n",
              "      <th>ProductCategory</th>\n",
              "      <th>SalesAmount</th>\n",
              "      <th>Cost</th>\n",
              "      <th>Profit</th>\n",
              "      <th>group</th>\n",
              "      <th>converted</th>\n",
              "      <th>OrderDate_formatted</th>\n",
              "      <th>OrderMonth</th>\n",
              "    </tr>\n",
              "  </thead>\n",
              "  <tbody>\n",
              "    <tr>\n",
              "      <th>0</th>\n",
              "      <td>ORD1000</td>\n",
              "      <td>CUST138</td>\n",
              "      <td>2023-01-01</td>\n",
              "      <td>Groceries</td>\n",
              "      <td>4242</td>\n",
              "      <td>2261.65</td>\n",
              "      <td>1980.35</td>\n",
              "      <td>experiment</td>\n",
              "      <td>False</td>\n",
              "      <td>01-01-2023</td>\n",
              "      <td>2023-01</td>\n",
              "    </tr>\n",
              "    <tr>\n",
              "      <th>1</th>\n",
              "      <td>ORD1001</td>\n",
              "      <td>CUST128</td>\n",
              "      <td>2023-01-02</td>\n",
              "      <td>Electronics</td>\n",
              "      <td>4464</td>\n",
              "      <td>3175.46</td>\n",
              "      <td>1288.54</td>\n",
              "      <td>experiment</td>\n",
              "      <td>False</td>\n",
              "      <td>02-01-2023</td>\n",
              "      <td>2023-01</td>\n",
              "    </tr>\n",
              "    <tr>\n",
              "      <th>2</th>\n",
              "      <td>ORD1002</td>\n",
              "      <td>CUST114</td>\n",
              "      <td>2023-01-03</td>\n",
              "      <td>Books</td>\n",
              "      <td>4565</td>\n",
              "      <td>3079.25</td>\n",
              "      <td>1485.75</td>\n",
              "      <td>experiment</td>\n",
              "      <td>True</td>\n",
              "      <td>03-01-2023</td>\n",
              "      <td>2023-01</td>\n",
              "    </tr>\n",
              "    <tr>\n",
              "      <th>3</th>\n",
              "      <td>ORD1003</td>\n",
              "      <td>CUST142</td>\n",
              "      <td>2023-01-04</td>\n",
              "      <td>Electronics</td>\n",
              "      <td>735</td>\n",
              "      <td>603.32</td>\n",
              "      <td>131.68</td>\n",
              "      <td>control</td>\n",
              "      <td>False</td>\n",
              "      <td>04-01-2023</td>\n",
              "      <td>2023-01</td>\n",
              "    </tr>\n",
              "    <tr>\n",
              "      <th>4</th>\n",
              "      <td>ORD1004</td>\n",
              "      <td>CUST107</td>\n",
              "      <td>2023-01-05</td>\n",
              "      <td>Electronics</td>\n",
              "      <td>1793</td>\n",
              "      <td>1597.85</td>\n",
              "      <td>195.15</td>\n",
              "      <td>experiment</td>\n",
              "      <td>False</td>\n",
              "      <td>05-01-2023</td>\n",
              "      <td>2023-01</td>\n",
              "    </tr>\n",
              "  </tbody>\n",
              "</table>\n",
              "</div>"
            ],
            "text/plain": [
              "   OrderID CustomerID  OrderDate ProductCategory  SalesAmount     Cost  \\\n",
              "0  ORD1000    CUST138 2023-01-01       Groceries         4242  2261.65   \n",
              "1  ORD1001    CUST128 2023-01-02     Electronics         4464  3175.46   \n",
              "2  ORD1002    CUST114 2023-01-03           Books         4565  3079.25   \n",
              "3  ORD1003    CUST142 2023-01-04     Electronics          735   603.32   \n",
              "4  ORD1004    CUST107 2023-01-05     Electronics         1793  1597.85   \n",
              "\n",
              "    Profit       group  converted OrderDate_formatted OrderMonth  \n",
              "0  1980.35  experiment      False          01-01-2023    2023-01  \n",
              "1  1288.54  experiment      False          02-01-2023    2023-01  \n",
              "2  1485.75  experiment       True          03-01-2023    2023-01  \n",
              "3   131.68     control      False          04-01-2023    2023-01  \n",
              "4   195.15  experiment      False          05-01-2023    2023-01  "
            ]
          },
          "execution_count": 15,
          "metadata": {},
          "output_type": "execute_result"
        }
      ],
      "source": [
        "# To analyze time-based trends, extract Year or Month from the order date into new columns (e.g. df['OrderMonth'] = df['OrderDate'].dt.to_period('M')).\n",
        "\n",
        "df['OrderMonth'] = df['OrderDate'].dt.to_period('M')\n",
        "df.head()"
      ]
    },
    {
      "cell_type": "code",
      "execution_count": 16,
      "metadata": {
        "colab": {
          "base_uri": "https://localhost:8080/",
          "height": 313
        },
        "id": "AmCc6SMatkwG",
        "outputId": "b22c844f-99aa-4859-b73b-cdbdad3b4dc6"
      },
      "outputs": [
        {
          "data": {
            "application/vnd.microsoft.datawrangler.viewer.v0+json": {
              "columns": [
                {
                  "name": "index",
                  "rawType": "int64",
                  "type": "integer"
                },
                {
                  "name": "OrderID",
                  "rawType": "object",
                  "type": "string"
                },
                {
                  "name": "CustomerID",
                  "rawType": "object",
                  "type": "string"
                },
                {
                  "name": "OrderDate",
                  "rawType": "datetime64[ns]",
                  "type": "datetime"
                },
                {
                  "name": "ProductCategory",
                  "rawType": "object",
                  "type": "string"
                },
                {
                  "name": "SalesAmount",
                  "rawType": "int64",
                  "type": "integer"
                },
                {
                  "name": "Cost",
                  "rawType": "float64",
                  "type": "float"
                },
                {
                  "name": "Profit",
                  "rawType": "float64",
                  "type": "float"
                },
                {
                  "name": "group",
                  "rawType": "object",
                  "type": "string"
                },
                {
                  "name": "converted",
                  "rawType": "bool",
                  "type": "boolean"
                },
                {
                  "name": "OrderDate_formatted",
                  "rawType": "object",
                  "type": "string"
                },
                {
                  "name": "OrderMonth",
                  "rawType": "period[M]",
                  "type": "unknown"
                },
                {
                  "name": "OrderYear",
                  "rawType": "int32",
                  "type": "integer"
                }
              ],
              "ref": "3acac7a6-e522-4e54-8d68-03d15c39e1ba",
              "rows": [
                [
                  "0",
                  "ORD1000",
                  "CUST138",
                  "2023-01-01 00:00:00",
                  "Groceries",
                  "4242",
                  "2261.65",
                  "1980.35",
                  "experiment",
                  "False",
                  "01-01-2023",
                  "2023-01",
                  "2023"
                ],
                [
                  "1",
                  "ORD1001",
                  "CUST128",
                  "2023-01-02 00:00:00",
                  "Electronics",
                  "4464",
                  "3175.46",
                  "1288.54",
                  "experiment",
                  "False",
                  "02-01-2023",
                  "2023-01",
                  "2023"
                ],
                [
                  "2",
                  "ORD1002",
                  "CUST114",
                  "2023-01-03 00:00:00",
                  "Books",
                  "4565",
                  "3079.25",
                  "1485.75",
                  "experiment",
                  "True",
                  "03-01-2023",
                  "2023-01",
                  "2023"
                ],
                [
                  "3",
                  "ORD1003",
                  "CUST142",
                  "2023-01-04 00:00:00",
                  "Electronics",
                  "735",
                  "603.32",
                  "131.68",
                  "control",
                  "False",
                  "04-01-2023",
                  "2023-01",
                  "2023"
                ],
                [
                  "4",
                  "ORD1004",
                  "CUST107",
                  "2023-01-05 00:00:00",
                  "Electronics",
                  "1793",
                  "1597.85",
                  "195.15",
                  "experiment",
                  "False",
                  "05-01-2023",
                  "2023-01",
                  "2023"
                ]
              ],
              "shape": {
                "columns": 12,
                "rows": 5
              }
            },
            "text/html": [
              "<div>\n",
              "<style scoped>\n",
              "    .dataframe tbody tr th:only-of-type {\n",
              "        vertical-align: middle;\n",
              "    }\n",
              "\n",
              "    .dataframe tbody tr th {\n",
              "        vertical-align: top;\n",
              "    }\n",
              "\n",
              "    .dataframe thead th {\n",
              "        text-align: right;\n",
              "    }\n",
              "</style>\n",
              "<table border=\"1\" class=\"dataframe\">\n",
              "  <thead>\n",
              "    <tr style=\"text-align: right;\">\n",
              "      <th></th>\n",
              "      <th>OrderID</th>\n",
              "      <th>CustomerID</th>\n",
              "      <th>OrderDate</th>\n",
              "      <th>ProductCategory</th>\n",
              "      <th>SalesAmount</th>\n",
              "      <th>Cost</th>\n",
              "      <th>Profit</th>\n",
              "      <th>group</th>\n",
              "      <th>converted</th>\n",
              "      <th>OrderDate_formatted</th>\n",
              "      <th>OrderMonth</th>\n",
              "      <th>OrderYear</th>\n",
              "    </tr>\n",
              "  </thead>\n",
              "  <tbody>\n",
              "    <tr>\n",
              "      <th>0</th>\n",
              "      <td>ORD1000</td>\n",
              "      <td>CUST138</td>\n",
              "      <td>2023-01-01</td>\n",
              "      <td>Groceries</td>\n",
              "      <td>4242</td>\n",
              "      <td>2261.65</td>\n",
              "      <td>1980.35</td>\n",
              "      <td>experiment</td>\n",
              "      <td>False</td>\n",
              "      <td>01-01-2023</td>\n",
              "      <td>2023-01</td>\n",
              "      <td>2023</td>\n",
              "    </tr>\n",
              "    <tr>\n",
              "      <th>1</th>\n",
              "      <td>ORD1001</td>\n",
              "      <td>CUST128</td>\n",
              "      <td>2023-01-02</td>\n",
              "      <td>Electronics</td>\n",
              "      <td>4464</td>\n",
              "      <td>3175.46</td>\n",
              "      <td>1288.54</td>\n",
              "      <td>experiment</td>\n",
              "      <td>False</td>\n",
              "      <td>02-01-2023</td>\n",
              "      <td>2023-01</td>\n",
              "      <td>2023</td>\n",
              "    </tr>\n",
              "    <tr>\n",
              "      <th>2</th>\n",
              "      <td>ORD1002</td>\n",
              "      <td>CUST114</td>\n",
              "      <td>2023-01-03</td>\n",
              "      <td>Books</td>\n",
              "      <td>4565</td>\n",
              "      <td>3079.25</td>\n",
              "      <td>1485.75</td>\n",
              "      <td>experiment</td>\n",
              "      <td>True</td>\n",
              "      <td>03-01-2023</td>\n",
              "      <td>2023-01</td>\n",
              "      <td>2023</td>\n",
              "    </tr>\n",
              "    <tr>\n",
              "      <th>3</th>\n",
              "      <td>ORD1003</td>\n",
              "      <td>CUST142</td>\n",
              "      <td>2023-01-04</td>\n",
              "      <td>Electronics</td>\n",
              "      <td>735</td>\n",
              "      <td>603.32</td>\n",
              "      <td>131.68</td>\n",
              "      <td>control</td>\n",
              "      <td>False</td>\n",
              "      <td>04-01-2023</td>\n",
              "      <td>2023-01</td>\n",
              "      <td>2023</td>\n",
              "    </tr>\n",
              "    <tr>\n",
              "      <th>4</th>\n",
              "      <td>ORD1004</td>\n",
              "      <td>CUST107</td>\n",
              "      <td>2023-01-05</td>\n",
              "      <td>Electronics</td>\n",
              "      <td>1793</td>\n",
              "      <td>1597.85</td>\n",
              "      <td>195.15</td>\n",
              "      <td>experiment</td>\n",
              "      <td>False</td>\n",
              "      <td>05-01-2023</td>\n",
              "      <td>2023-01</td>\n",
              "      <td>2023</td>\n",
              "    </tr>\n",
              "  </tbody>\n",
              "</table>\n",
              "</div>"
            ],
            "text/plain": [
              "   OrderID CustomerID  OrderDate ProductCategory  SalesAmount     Cost  \\\n",
              "0  ORD1000    CUST138 2023-01-01       Groceries         4242  2261.65   \n",
              "1  ORD1001    CUST128 2023-01-02     Electronics         4464  3175.46   \n",
              "2  ORD1002    CUST114 2023-01-03           Books         4565  3079.25   \n",
              "3  ORD1003    CUST142 2023-01-04     Electronics          735   603.32   \n",
              "4  ORD1004    CUST107 2023-01-05     Electronics         1793  1597.85   \n",
              "\n",
              "    Profit       group  converted OrderDate_formatted OrderMonth  OrderYear  \n",
              "0  1980.35  experiment      False          01-01-2023    2023-01       2023  \n",
              "1  1288.54  experiment      False          02-01-2023    2023-01       2023  \n",
              "2  1485.75  experiment       True          03-01-2023    2023-01       2023  \n",
              "3   131.68     control      False          04-01-2023    2023-01       2023  \n",
              "4   195.15  experiment      False          05-01-2023    2023-01       2023  "
            ]
          },
          "execution_count": 16,
          "metadata": {},
          "output_type": "execute_result"
        }
      ],
      "source": [
        "# extract Year from OrderDate and add to a new column\n",
        "\n",
        "df['OrderYear'] = df['OrderDate'].dt.year\n",
        "df.head()"
      ]
    },
    {
      "cell_type": "markdown",
      "metadata": {
        "id": "4V7R3pjbuC9h"
      },
      "source": [
        "### Reflection and Summary\n",
        "\n",
        "#### Performed data cleaning (handling missing values and duplicates) and feature engineering (e.g., created new time and financial features).\n",
        "\n",
        "**Critical steps in the data cleaning and preparation:**\n",
        "\n",
        "* **Data Loading:** The process started by loading necessary libraries and also loading the data from the CSV file into a pandas DataFrame.\n",
        "\n",
        "* **Understanding Features:** Examined the column names to understand the data types and structure.\n",
        "\n",
        "* **Basic Data Audit:** Checked for missing values using df.isna().sum() and confirmed there were none. Also checked for duplicate rows using df.duplicated().sum() and found no duplicates. These are critical steps to ensure data quality.\n",
        "\n",
        "* **Data Type Conversion:** The 'OrderDate' column, which was initially an object type (string), was converted to a datetime format using pd.to_datetime. This is crucial for any time-based analysis. A new column OrderDate_formatted was created to store the date in a specific 'DD-MM-YYYY' string format.\n",
        "\n",
        "* **Additional Field Calculation** (Feature Engineering): Extracted the month and year from the 'OrderDate' column and added them as new columns ('OrderMonth' and 'OrderYear'). This allows for analysis of trends over time. The 'Profit' column was already present and did not need to be calculated from Sales and Cost.\n",
        "\n",
        "**Summary of issues found:**\n",
        "* An AttributeError was encountered when trying to use the .dt accessor on the 'OrderDate' column before it was converted to a datetime format. This was fixed by using pd.to_datetime(df['OrderDate'], errors='coerce') to ensure the column had the correct data type."
      ]
    },
    {
      "cell_type": "markdown",
      "metadata": {
        "id": "wGWpwVG0x9Tk"
      },
      "source": []
    },
    {
      "cell_type": "markdown",
      "metadata": {
        "id": "IpfwAymFt9vQ"
      },
      "source": [
        "## Task 2: Exploratory Data Analysis (EDA)"
      ]
    },
    {
      "cell_type": "markdown",
      "metadata": {
        "id": "UH_292IMy49f"
      },
      "source": [
        "**2.1. – Descriptive Statistics:**\n",
        "- Start by getting summary statistics of numerical columns.\n",
        "Use df.describe() to see distributions of sales, profit, etc. Note the mean, min, max, and quartiles. This gives a sense of typical order values and profit margins."
      ]
    },
    {
      "cell_type": "code",
      "execution_count": 17,
      "metadata": {
        "colab": {
          "base_uri": "https://localhost:8080/",
          "height": 300
        },
        "id": "CUdxPYQszVAb",
        "outputId": "744785f5-ba9a-4f86-e9b9-f069fe8d1390"
      },
      "outputs": [
        {
          "data": {
            "application/vnd.microsoft.datawrangler.viewer.v0+json": {
              "columns": [
                {
                  "name": "index",
                  "rawType": "object",
                  "type": "string"
                },
                {
                  "name": "OrderDate",
                  "rawType": "object",
                  "type": "unknown"
                },
                {
                  "name": "SalesAmount",
                  "rawType": "float64",
                  "type": "float"
                },
                {
                  "name": "Cost",
                  "rawType": "float64",
                  "type": "float"
                },
                {
                  "name": "Profit",
                  "rawType": "float64",
                  "type": "float"
                },
                {
                  "name": "OrderYear",
                  "rawType": "float64",
                  "type": "float"
                }
              ],
              "ref": "c16bfd67-8846-40ea-8120-465e319f6d14",
              "rows": [
                [
                  "count",
                  "200",
                  "200.0",
                  "200.0",
                  "200.0",
                  "200.0"
                ],
                [
                  "mean",
                  "2023-04-10 12:00:00",
                  "2582.725",
                  "1767.42375",
                  "815.30125",
                  "2023.0"
                ],
                [
                  "min",
                  "2023-01-01 00:00:00",
                  "214.0",
                  "113.3",
                  "39.83",
                  "2023.0"
                ],
                [
                  "25%",
                  "2023-02-19 18:00:00",
                  "1403.75",
                  "959.885",
                  "354.5275",
                  "2023.0"
                ],
                [
                  "50%",
                  "2023-04-10 12:00:00",
                  "2642.5",
                  "1750.1100000000001",
                  "707.645",
                  "2023.0"
                ],
                [
                  "75%",
                  "2023-05-30 06:00:00",
                  "3653.75",
                  "2483.9775",
                  "1231.3725",
                  "2023.0"
                ],
                [
                  "max",
                  "2023-07-19 00:00:00",
                  "4949.0",
                  "4037.25",
                  "2286.11",
                  "2023.0"
                ],
                [
                  "std",
                  null,
                  "1339.6481047640793",
                  "934.8043158759695",
                  "547.8293677127764",
                  "0.0"
                ]
              ],
              "shape": {
                "columns": 5,
                "rows": 8
              }
            },
            "text/html": [
              "<div>\n",
              "<style scoped>\n",
              "    .dataframe tbody tr th:only-of-type {\n",
              "        vertical-align: middle;\n",
              "    }\n",
              "\n",
              "    .dataframe tbody tr th {\n",
              "        vertical-align: top;\n",
              "    }\n",
              "\n",
              "    .dataframe thead th {\n",
              "        text-align: right;\n",
              "    }\n",
              "</style>\n",
              "<table border=\"1\" class=\"dataframe\">\n",
              "  <thead>\n",
              "    <tr style=\"text-align: right;\">\n",
              "      <th></th>\n",
              "      <th>OrderDate</th>\n",
              "      <th>SalesAmount</th>\n",
              "      <th>Cost</th>\n",
              "      <th>Profit</th>\n",
              "      <th>OrderYear</th>\n",
              "    </tr>\n",
              "  </thead>\n",
              "  <tbody>\n",
              "    <tr>\n",
              "      <th>count</th>\n",
              "      <td>200</td>\n",
              "      <td>200.000000</td>\n",
              "      <td>200.000000</td>\n",
              "      <td>200.000000</td>\n",
              "      <td>200.0</td>\n",
              "    </tr>\n",
              "    <tr>\n",
              "      <th>mean</th>\n",
              "      <td>2023-04-10 12:00:00</td>\n",
              "      <td>2582.725000</td>\n",
              "      <td>1767.423750</td>\n",
              "      <td>815.301250</td>\n",
              "      <td>2023.0</td>\n",
              "    </tr>\n",
              "    <tr>\n",
              "      <th>min</th>\n",
              "      <td>2023-01-01 00:00:00</td>\n",
              "      <td>214.000000</td>\n",
              "      <td>113.300000</td>\n",
              "      <td>39.830000</td>\n",
              "      <td>2023.0</td>\n",
              "    </tr>\n",
              "    <tr>\n",
              "      <th>25%</th>\n",
              "      <td>2023-02-19 18:00:00</td>\n",
              "      <td>1403.750000</td>\n",
              "      <td>959.885000</td>\n",
              "      <td>354.527500</td>\n",
              "      <td>2023.0</td>\n",
              "    </tr>\n",
              "    <tr>\n",
              "      <th>50%</th>\n",
              "      <td>2023-04-10 12:00:00</td>\n",
              "      <td>2642.500000</td>\n",
              "      <td>1750.110000</td>\n",
              "      <td>707.645000</td>\n",
              "      <td>2023.0</td>\n",
              "    </tr>\n",
              "    <tr>\n",
              "      <th>75%</th>\n",
              "      <td>2023-05-30 06:00:00</td>\n",
              "      <td>3653.750000</td>\n",
              "      <td>2483.977500</td>\n",
              "      <td>1231.372500</td>\n",
              "      <td>2023.0</td>\n",
              "    </tr>\n",
              "    <tr>\n",
              "      <th>max</th>\n",
              "      <td>2023-07-19 00:00:00</td>\n",
              "      <td>4949.000000</td>\n",
              "      <td>4037.250000</td>\n",
              "      <td>2286.110000</td>\n",
              "      <td>2023.0</td>\n",
              "    </tr>\n",
              "    <tr>\n",
              "      <th>std</th>\n",
              "      <td>NaN</td>\n",
              "      <td>1339.648105</td>\n",
              "      <td>934.804316</td>\n",
              "      <td>547.829368</td>\n",
              "      <td>0.0</td>\n",
              "    </tr>\n",
              "  </tbody>\n",
              "</table>\n",
              "</div>"
            ],
            "text/plain": [
              "                 OrderDate  SalesAmount         Cost       Profit  OrderYear\n",
              "count                  200   200.000000   200.000000   200.000000      200.0\n",
              "mean   2023-04-10 12:00:00  2582.725000  1767.423750   815.301250     2023.0\n",
              "min    2023-01-01 00:00:00   214.000000   113.300000    39.830000     2023.0\n",
              "25%    2023-02-19 18:00:00  1403.750000   959.885000   354.527500     2023.0\n",
              "50%    2023-04-10 12:00:00  2642.500000  1750.110000   707.645000     2023.0\n",
              "75%    2023-05-30 06:00:00  3653.750000  2483.977500  1231.372500     2023.0\n",
              "max    2023-07-19 00:00:00  4949.000000  4037.250000  2286.110000     2023.0\n",
              "std                    NaN  1339.648105   934.804316   547.829368        0.0"
            ]
          },
          "execution_count": 17,
          "metadata": {},
          "output_type": "execute_result"
        }
      ],
      "source": [
        "df.describe()"
      ]
    },
    {
      "cell_type": "markdown",
      "metadata": {
        "id": "rNaqq6elzofL"
      },
      "source": [
        "**2.2 – Sales Performance Overview:**  Answer the following questions like:\n",
        "- What is the total revenue (total sales) in the dataset?"
      ]
    },
    {
      "cell_type": "code",
      "execution_count": 18,
      "metadata": {
        "colab": {
          "base_uri": "https://localhost:8080/"
        },
        "id": "bMChlzL6zycw",
        "outputId": "8cca9506-5b99-420d-fe66-e85180dfcb8c"
      },
      "outputs": [
        {
          "name": "stdout",
          "output_type": "stream",
          "text": [
            "Total Revenue: 516545\n"
          ]
        }
      ],
      "source": [
        "# What is the total revenue (total sales) in the dataset?\n",
        "\n",
        "total_revenue = df['SalesAmount'].sum()\n",
        "print(f\"Total Revenue: {total_revenue}\")"
      ]
    },
    {
      "cell_type": "markdown",
      "metadata": {
        "id": "f6Oj1rbz0krn"
      },
      "source": [
        "- What is the total profit?"
      ]
    },
    {
      "cell_type": "code",
      "execution_count": 19,
      "metadata": {
        "colab": {
          "base_uri": "https://localhost:8080/"
        },
        "id": "jbGPso1l0mmL",
        "outputId": "f5654aba-0837-410e-beb3-d2d5fa91a522"
      },
      "outputs": [
        {
          "name": "stdout",
          "output_type": "stream",
          "text": [
            "Total Profit: 163060.25\n"
          ]
        }
      ],
      "source": [
        "# What is the total profit?\n",
        "\n",
        "total_profit = df['Profit'].sum()\n",
        "print(f\"Total Profit: {total_profit}\")"
      ]
    },
    {
      "cell_type": "markdown",
      "metadata": {
        "id": "aFNQXO1k0vMl"
      },
      "source": [
        "-  How many total orders are recorded? – This could be the number of unique Order IDs or simply the number of rows if each row is an order line."
      ]
    },
    {
      "cell_type": "code",
      "execution_count": 20,
      "metadata": {
        "colab": {
          "base_uri": "https://localhost:8080/"
        },
        "id": "UhRzrw_W0zQO",
        "outputId": "6597e96f-7511-4a38-a4b3-7feb32d75fb2"
      },
      "outputs": [
        {
          "name": "stdout",
          "output_type": "stream",
          "text": [
            "Total Orders: 200\n"
          ]
        }
      ],
      "source": [
        "# How many total orders are recorded?\n",
        "# This could be the number of unique Order IDs or simply the number of rows if each row is an order line.\n",
        "\n",
        "total_orders = df['OrderID'].nunique()\n",
        "print(f\"Total Orders: {total_orders}\")"
      ]
    },
    {
      "cell_type": "markdown",
      "metadata": {
        "id": "Pm1M4CIv1AbS"
      },
      "source": [
        "- How many unique customers made purchases? – Use df['CustomerID'].nunique()."
      ]
    },
    {
      "cell_type": "code",
      "execution_count": 21,
      "metadata": {
        "colab": {
          "base_uri": "https://localhost:8080/"
        },
        "id": "PaoPTDzF1H1A",
        "outputId": "2de57f50-b304-44cd-9bab-f674d99b7053"
      },
      "outputs": [
        {
          "name": "stdout",
          "output_type": "stream",
          "text": [
            "Unique Customers: 49\n"
          ]
        }
      ],
      "source": [
        "#How many unique customers made purchases? – Use df['CustomerID'].nunique().\n",
        "\n",
        "unique_customers = df['CustomerID'].nunique()\n",
        "print(f\"Unique Customers: {unique_customers}\")"
      ]
    },
    {
      "cell_type": "markdown",
      "metadata": {
        "id": "3d-qu8py1NZ2"
      },
      "source": [
        "**2.3 – Time Series Trends:** Use date data is available:"
      ]
    },
    {
      "cell_type": "markdown",
      "metadata": {
        "id": "rGd-CfvO1cVS"
      },
      "source": [
        "- Find the number of orders per month. You can group by month and count orders, or use resampling if using a DateTime index. This will show seasonality or growth over time."
      ]
    },
    {
      "cell_type": "code",
      "execution_count": 22,
      "metadata": {
        "colab": {
          "base_uri": "https://localhost:8080/"
        },
        "id": "no4UeEGP1oi1",
        "outputId": "a032fd2a-1e12-41e0-e2f0-e7d8f7c07756"
      },
      "outputs": [
        {
          "name": "stdout",
          "output_type": "stream",
          "text": [
            "OrderMonth\n",
            "2023-01    31\n",
            "2023-02    28\n",
            "2023-03    31\n",
            "2023-04    30\n",
            "2023-05    31\n",
            "2023-06    30\n",
            "2023-07    19\n",
            "Freq: M, dtype: int64\n"
          ]
        }
      ],
      "source": [
        "# Find the number of orders per month. You can group by month and count orders, or use resampling if using a DateTime index.\n",
        "\n",
        "orders_per_month = df.groupby(df['OrderMonth']).size()\n",
        "print(orders_per_month)"
      ]
    },
    {
      "cell_type": "markdown",
      "metadata": {
        "id": "H71tpScE10Ni"
      },
      "source": [
        "- Find the total sales per month. Group the data by month (df.groupby('OrderMonth')['Sales'].sum()) to see which months had higher\n",
        "sales. Are there any peak periods (e.g., holiday season spikes)?"
      ]
    },
    {
      "cell_type": "code",
      "execution_count": 23,
      "metadata": {
        "colab": {
          "base_uri": "https://localhost:8080/"
        },
        "id": "Tv3pOvBy3Q35",
        "outputId": "3e03c7b7-c64e-4d6e-92fd-db292f8a0ad3"
      },
      "outputs": [
        {
          "name": "stdout",
          "output_type": "stream",
          "text": [
            "OrderMonth\n",
            "2023-01    74818\n",
            "2023-02    81027\n",
            "2023-03    86339\n",
            "2023-04    74620\n",
            "2023-05    78894\n",
            "2023-06    70660\n",
            "2023-07    50187\n",
            "Freq: M, Name: SalesAmount, dtype: int64\n"
          ]
        }
      ],
      "source": [
        "#Find the total sales per month. Group the data by month (df.groupby('OrderMonth')['Sales'].sum()) to see which months had higher sales.\n",
        "# Are there any peak periods (e.g., holiday season spikes)?\n",
        "\n",
        "sales_per_month = df.groupby(df['OrderMonth'])['SalesAmount'].sum()\n",
        "print(sales_per_month)"
      ]
    },
    {
      "cell_type": "markdown",
      "metadata": {
        "id": "V9tLFjAT2cYU"
      },
      "source": [
        "Create a simple line plot of sales over time (month by month) to visualize trends (using matplotlib or seaborn)."
      ]
    },
    {
      "cell_type": "code",
      "execution_count": 24,
      "metadata": {
        "colab": {
          "base_uri": "https://localhost:8080/",
          "height": 405
        },
        "id": "x-kGTz4H2DLQ",
        "outputId": "1b81283b-3894-4bf7-907e-28f06fb82826"
      },
      "outputs": [
        {
          "data": {
            "image/png": "[encoded data removed]",
            "text/plain": [
              "<Figure size 1000x600 with 1 Axes>"
            ]
          },
          "metadata": {},
          "output_type": "display_data"
        }
      ],
      "source": [
        "# #create a simple line plot of sales over time (month by month) to visualize trends (using matplotlib).\n",
        "plt.figure(figsize=(10, 6))\n",
        "sales_per_month.plot(kind='line', marker='o')\n",
        "plt.title('Total Sales Per Month')\n",
        "plt.xlabel('Month')\n",
        "plt.ylabel('Total Sales')\n",
        "plt.grid(True)\n",
        "plt.grid(True)\n",
        "plt.xticks(rotation=45)\n",
        "plt.tight_layout()\n",
        "plt.show()"
      ]
    },
    {
      "cell_type": "markdown",
      "metadata": {
        "id": "CbbmWvU_5N1e"
      },
      "source": [
        "**2.4 – Category or Product Analysis:**\n",
        "Examine which products or categories are performing best:"
      ]
    },
    {
      "cell_type": "markdown",
      "metadata": {
        "id": "LFTDUn385ati"
      },
      "source": [
        "- Top 5 product categories by sales: If a column like ProductCategory exists, group by it and sum the sales. List the top 5 categories with highest total sales."
      ]
    },
    {
      "cell_type": "code",
      "execution_count": 25,
      "metadata": {
        "colab": {
          "base_uri": "https://localhost:8080/"
        },
        "id": "UGfOapya5jbE",
        "outputId": "3e279427-1050-4675-9f35-11a0b53009ab"
      },
      "outputs": [
        {
          "name": "stdout",
          "output_type": "stream",
          "text": [
            "Top 5 Product Categories by Sales:\n",
            "ProductCategory\n",
            "Books          131636\n",
            "Electronics    120672\n",
            "Clothing        97032\n",
            "Groceries       94238\n",
            "Toys            72967\n",
            "Name: SalesAmount, dtype: int64\n"
          ]
        }
      ],
      "source": [
        "# Top 5 product categories by sales: Group by ProductCategory and sum the sales\n",
        "\n",
        "top_5_categories = df.groupby('ProductCategory')['SalesAmount'].sum().sort_values(ascending=False).head(5)\n",
        "print(\"Top 5 Product Categories by Sales:\")\n",
        "print(top_5_categories)"
      ]
    },
    {
      "cell_type": "markdown",
      "metadata": {
        "id": "5UYBy7Zz6Eef"
      },
      "source": [
        "- Top 5 products by number of orders: If individual product IDs or names are available, find which products were ordered most frequently."
      ]
    },
    {
      "cell_type": "code",
      "execution_count": 26,
      "metadata": {
        "colab": {
          "base_uri": "https://localhost:8080/"
        },
        "id": "ZcfeyoTJ6NU0",
        "outputId": "f831cd13-4001-47b8-ccf2-1fc0d94d159c"
      },
      "outputs": [
        {
          "name": "stdout",
          "output_type": "stream",
          "text": [
            "Top 5 Product Categories by Number of Orders:\n",
            "ProductCategory\n",
            "Electronics    49\n",
            "Books          46\n",
            "Groceries      41\n",
            "Clothing       35\n",
            "Toys           29\n",
            "Name: count, dtype: int64\n"
          ]
        }
      ],
      "source": [
        "# Find Top 5 product categories by number of orders: Count the occurrences of each ProductCategory\n",
        "\n",
        "top_5_categories_by_orders = df['ProductCategory'].value_counts().head(5)\n",
        "print(\"Top 5 Product Categories by Number of Orders:\")\n",
        "print(top_5_categories_by_orders)"
      ]
    },
    {
      "cell_type": "markdown",
      "metadata": {
        "id": "Wnz7MyGA6tbJ"
      },
      "source": [
        "- Which category has the highest profit margin overall? (You can compute category-level profit margin by dividing total profit by total sales per category, more on profit margin in Task 3.)"
      ]
    },
    {
      "cell_type": "code",
      "execution_count": 27,
      "metadata": {
        "colab": {
          "base_uri": "https://localhost:8080/"
        },
        "id": "W9ZRbr8I62Y7",
        "outputId": "c9fd9eb2-c9f2-4996-e4c2-8cdafbb58213"
      },
      "outputs": [
        {
          "name": "stdout",
          "output_type": "stream",
          "text": [
            "Category with the highest profit margin: Toys\n",
            "Highest profit margin: 32.78%\n"
          ]
        }
      ],
      "source": [
        "# Which category has the highest profit margin overall?\n",
        "\n",
        "# Calculate total profit and total sales per category\n",
        "category_profit_sales = df.groupby('ProductCategory').agg({\n",
        "    'Profit': 'sum',\n",
        "    'SalesAmount': 'sum'\n",
        "})\n",
        "\n",
        "# Calculate profit margin for each category\n",
        "category_profit_sales['Profit_Margin'] = (category_profit_sales['Profit'] / category_profit_sales['SalesAmount']) * 100\n",
        "\n",
        "# Find the category with the highest profit margin\n",
        "highest_profit_margin_category = category_profit_sales['Profit_Margin'].idxmax()\n",
        "highest_profit_margin_value = category_profit_sales['Profit_Margin'].max()\n",
        "\n",
        "print(f\"Category with the highest profit margin: {highest_profit_margin_category}\")\n",
        "print(f\"Highest profit margin: {highest_profit_margin_value:.2f}%\")"
      ]
    },
    {
      "cell_type": "markdown",
      "metadata": {
        "id": "gXXWSSl67cRH"
      },
      "source": [
        "**2.5 – Customer Behavior:** Investigate customer patterns:"
      ]
    },
    {
      "cell_type": "markdown",
      "metadata": {
        "id": "HwR6712R7ge3"
      },
      "source": [
        "- Average order value (AOV): Calculate total_sales / number_of_orders to see\n",
        "how much, on average, each order is worth."
      ]
    },
    {
      "cell_type": "code",
      "execution_count": 28,
      "metadata": {
        "colab": {
          "base_uri": "https://localhost:8080/"
        },
        "id": "aXdcLeFv7kuQ",
        "outputId": "aaa4d3ee-a1dd-41de-ebc5-973f0db9428a"
      },
      "outputs": [
        {
          "name": "stdout",
          "output_type": "stream",
          "text": [
            "Average Order Value (AOV): 2582.72\n"
          ]
        }
      ],
      "source": [
        "# Average order value (AOV): Calculate total_sales / number_of_orders.\n",
        "\n",
        "total_sales = df['SalesAmount'].sum()\n",
        "number_of_orders = df['OrderID'].nunique()\n",
        "\n",
        "average_order_value = total_sales / number_of_orders\n",
        "print(f\"Average Order Value (AOV): {average_order_value:.2f}\")"
      ]
    },
    {
      "cell_type": "markdown",
      "metadata": {
        "id": "bwIoOj6x-NRD"
      },
      "source": [
        "- Purchases per customer: Calculate the distribution of the number of orders per customer (e.g., use df['CustomerID'].value_counts() to see how many orders each customer made). Churn analysis shows whether most customers buy once or repeatedly."
      ]
    },
    {
      "cell_type": "code",
      "execution_count": 29,
      "metadata": {
        "colab": {
          "base_uri": "https://localhost:8080/"
        },
        "id": "y667492L-R9_",
        "outputId": "e253af67-2614-4d87-9a6c-dfa55ead6fee"
      },
      "outputs": [
        {
          "name": "stdout",
          "output_type": "stream",
          "text": [
            "Purchases per Customer:\n",
            "CustomerID\n",
            "CUST143    10\n",
            "CUST138     9\n",
            "CUST123     8\n",
            "CUST114     7\n",
            "CUST107     7\n",
            "CUST127     7\n",
            "CUST113     6\n",
            "CUST141     6\n",
            "CUST108     6\n",
            "CUST134     6\n",
            "CUST146     5\n",
            "CUST126     5\n",
            "CUST132     5\n",
            "CUST101     5\n",
            "CUST125     5\n",
            "CUST136     5\n",
            "CUST106     5\n",
            "CUST144     5\n",
            "CUST100     5\n",
            "CUST124     5\n",
            "CUST110     4\n",
            "CUST120     4\n",
            "CUST128     4\n",
            "CUST139     4\n",
            "CUST102     4\n",
            "CUST135     4\n",
            "CUST122     4\n",
            "CUST103     4\n",
            "CUST121     4\n",
            "CUST140     3\n",
            "CUST112     3\n",
            "CUST129     3\n",
            "CUST117     3\n",
            "CUST105     3\n",
            "CUST131     3\n",
            "CUST104     2\n",
            "CUST142     2\n",
            "CUST149     2\n",
            "CUST115     2\n",
            "CUST148     2\n",
            "CUST111     2\n",
            "CUST147     2\n",
            "CUST133     2\n",
            "CUST116     2\n",
            "CUST119     2\n",
            "CUST118     1\n",
            "CUST137     1\n",
            "CUST109     1\n",
            "CUST130     1\n",
            "Name: count, dtype: int64\n"
          ]
        }
      ],
      "source": [
        "# Purchases per customer: Calculate the distribution of the number of orders per customer (e.g., use df['CustomerID'].value_counts() to see how many orders each customer made).\n",
        "\n",
        "orders_per_customer = df['CustomerID'].value_counts()\n",
        "print(\"Purchases per Customer:\")\n",
        "print(orders_per_customer)"
      ]
    },
    {
      "cell_type": "markdown",
      "metadata": {
        "id": "jitSugFk_F8Q"
      },
      "source": [
        "**2.6 – Visualizations** (Optional but Encouraged): Create at least one or two simple charts:"
      ]
    },
    {
      "cell_type": "code",
      "execution_count": 35,
      "metadata": {
        "colab": {
          "base_uri": "https://localhost:8080/",
          "height": 405
        },
        "id": "jWYtswhD_LiM",
        "outputId": "89a30b50-9d94-4e47-9cbe-890e1912a17c"
      },
      "outputs": [
        {
          "name": "stderr",
          "output_type": "stream",
          "text": [
            "C:\\Users\\liber\\AppData\\Local\\Temp\\ipykernel_2412\\1934857274.py:7: FutureWarning: \n",
            "\n",
            "Passing `palette` without assigning `hue` is deprecated and will be removed in v0.14.0. Assign the `x` variable to `hue` and set `legend=False` for the same effect.\n",
            "\n",
            "  sns.barplot(x=top_categories.index, y=top_categories.values, palette='viridis')\n"
          ]
        },
        {
          "data": {
            "image/png": "[encoded data removed]",
            "text/plain": [
              "<Figure size 1000x600 with 1 Axes>"
            ]
          },
          "metadata": {},
          "output_type": "display_data"
        }
      ],
      "source": [
        "# Bar chart of sales by top categories using Seaborn\n",
        "# Use the already computed `top_5_categories` series from earlier cells.\n",
        "top_categories = top_5_categories\n",
        "\n",
        "plt.figure(figsize=(10, 6))\n",
        "# No hue needed (using x directly); avoid the undefined variable error\n",
        "sns.barplot(x=top_categories.index, y=top_categories.values, palette='viridis')\n",
        "plt.title('Top 5 Categories by Sales')\n",
        "plt.xlabel('Category')\n",
        "plt.ylabel('Total Sales')\n",
        "plt.xticks(rotation=45)\n",
        "plt.tight_layout()\n",
        "plt.show()"
      ]
    },
    {
      "cell_type": "code",
      "execution_count": 33,
      "metadata": {
        "colab": {
          "base_uri": "https://localhost:8080/",
          "height": 405
        },
        "id": "YwIAHX4ZAaU8",
        "outputId": "e8fc0438-acf4-49fe-d5ce-9c03898d0eb7"
      },
      "outputs": [
        {
          "data": {
            "image/png": "[encoded data removed]",
            "text/plain": [
              "<Figure size 1000x600 with 1 Axes>"
            ]
          },
          "metadata": {},
          "output_type": "display_data"
        }
      ],
      "source": [
        "# Create a Line chart of monthly sales trend using Seaborn\n",
        "# Convert the index (OrderMonth) to a column for Seaborn plotting and convert to string\n",
        "\n",
        "sales_per_month_df = sales_per_month.reset_index()\n",
        "sales_per_month_df.columns = ['OrderMonth', 'Total Sales']\n",
        "sales_per_month_df['OrderMonth'] = sales_per_month_df['OrderMonth'].astype(str)\n",
        "\n",
        "plt.figure(figsize=(10, 6))\n",
        "sns.lineplot(data=sales_per_month_df, x='OrderMonth', y='Total Sales', marker='o')\n",
        "plt.title('Total Sales Per Month (Seaborn)')\n",
        "plt.xlabel('Month')\n",
        "plt.ylabel('Total Sales')\n",
        "plt.grid(True)\n",
        "plt.xticks(rotation=45)\n",
        "plt.tight_layout()\n",
        "plt.show()"
      ]
    },
    {
      "cell_type": "markdown",
      "metadata": {
        "id": "xZagC_85HFfE"
      },
      "source": [
        "### **Insights on the Line Plot**\n",
        "- Based on the line plot of total sales per month (generated from the sales_per_month data), the following can be observed\n",
        "\n",
        "**Overall Trend:**\n",
        "- The total sales per month show fluctuations over the period from January to July 2023. There isn't a clear, consistent upward or downward trend across these months.\n",
        "\n",
        "**Peak Sales:**\n",
        "- March had the highest total sales (86339), suggesting it was the peak month for sales during this period.\n",
        "\n",
        "**Lower Sales:**\n",
        "- July shows a noticeable dip in sales (50187), which is the lowest point in the plotted period. June also saw a dip compared to the preceding months.\n",
        "\n",
        "**Early Months:**\n",
        "- Sales in the early months (January, February, April, May) were relatively stable, fluctuating around the 70,000 to 80,000 range before the dips in June and July.\n",
        "\n",
        "**Explanations:**\n",
        "The fluctuations suggest that sales are not linearly increasing or decreasing but are influenced by other factors that vary month to month.\n",
        "The peak in March could potentially be due to seasonal factors, marketing campaigns, or specific events during that month.\n",
        "The decrease in sales in June and July could also be seasonal (e.g., summer slowdowns in certain industries), or it might indicate other factors affecting sales during that period.\n",
        "\n",
        "It would be prudent to understand the reasons behind these fluctuations. Further investigation of other factors like marketing spend, promotional activities, external events, or product launches during these months, is imperative and should be done if such data were available."
      ]
    },
    {
      "cell_type": "code",
      "execution_count": null,
      "metadata": {
        "colab": {
          "base_uri": "https://localhost:8080/",
          "height": 405
        },
        "id": "Sn-Aa-BwFe75",
        "outputId": "921ae676-7402-4df3-912b-530f56b8dc15"
      },
      "outputs": [
        {
          "data": {
            "image/png": "[encoded data removed]",
            "text/plain": [
              "<Figure size 1000x600 with 1 Axes>"
            ]
          },
          "metadata": {},
          "output_type": "display_data"
        }
      ],
      "source": [
        "# Histogram of order values or number of items per order.\n",
        "\n",
        "# Create a histogram of SalesAmount using Seaborn\n",
        "plt.figure(figsize=(10, 6))\n",
        "sns.histplot(data=df, x='SalesAmount', bins=20, kde=True)\n",
        "plt.title('Distribution of Order Line Sales Amounts')\n",
        "plt.xlabel('Sales Amount')\n",
        "plt.ylabel('Frequency')\n",
        "plt.tight_layout()\n",
        "plt.show()"
      ]
    },
    {
      "cell_type": "markdown",
      "metadata": {
        "id": "Aod2QBqtIo2u"
      },
      "source": [
        "### **Insights:**\n",
        "\n",
        "**Distribution Shape:**\n",
        "- The histogram shows a right-skewed distribution. This means that the majority of order line sales amounts are concentrated at the lower end of the range, while there are fewer instances of higher sales amounts.\n",
        "**Typical Order Value:**\n",
        "- The peak of the histogram is towards the left, indicating that the most frequent order line sales amounts fall within a lower range.\n",
        "\n",
        "**Presence of Higher Value Orders:**\n",
        "- While less frequent, there are still order lines with significantly higher sales amounts, represented by the bars extending towards the right side of the histogram.\n",
        "\n",
        "**Explanations:**\n",
        "The right-skewed distribution is common in sales data, where many small transactions occur alongside a smaller number of larger transactions.\n",
        "This distribution suggests that a significant portion of the revenue might be driven by a smaller number of high-value order lines, even though the majority of orders are of lower value.\n",
        "\n",
        "**Recommendation:**\n",
        "A significant portion of revenue is driven by a smaller high-value order lines, marketing strategies targeting high-value customers may be implemented through marketing campaigns and sales forecasting.\n"
      ]
    },
    {
      "cell_type": "markdown",
      "metadata": {
        "id": "idQwJS84hDYL"
      },
      "source": [
        "### Exercise 2: Key Business Metric Analysis & A/B Testing Exercise (10 Marks)"
      ]
    },
    {
      "cell_type": "markdown",
      "metadata": {
        "id": "d_Th_bLAhLQx"
      },
      "source": [
        "#### **Task 1: Key Business Metric Analysis**\n",
        "- In this task, you will calculate specific business metrics that are crucial in e-commerce: conversion rate, churn rate, and profit margin."
      ]
    },
    {
      "cell_type": "markdown",
      "metadata": {
        "id": "1MdcVoNJhXOi"
      },
      "source": [
        "**Terminology and definitions**\n",
        "\n",
        "**Conversion Rate:**\n",
        "- The percentage of website visitors that convert into customers by completing a desired action (purchase, signup, etc.). In retail, it often refers to the ratio of orders to total website visits.\n",
        "- **Churn Rate:**\n",
        "The percentage of customers who stop using the service or purchasing\n",
        "over a given time period. In e-commerce, this could be interpreted as customers who made a purchase in the past but did not return for a subsequent purchase.\n",
        "- **Profit Margin:** The percentage of revenue that is profit (after all costs). This can be computed per order or overall.\n",
        "- **Conversion Rate:**\n",
        "Is the percentage of the number of conversions over number of website visitors\n",
        "- **Conversion:** means a completed purchase (an order)\n",
        "- **visitor:** means a potential customer who visited the site."
      ]
    },
    {
      "cell_type": "markdown",
      "metadata": {
        "id": "UnxE7kvhi4tq"
      },
      "source": [
        "**Task 1.1:**\n",
        "- **Calculate the conversion rate assuming:**\n",
        "- That in the period covered by this dataset, the website had 100,000 total unique visitors.\n",
        "- The number of conversions can be approximated by the number of unique orders or number of unique customers who made a purchase."
      ]
    },
    {
      "cell_type": "code",
      "execution_count": null,
      "metadata": {
        "colab": {
          "base_uri": "https://localhost:8080/"
        },
        "id": "CyIMP0GblnfS",
        "outputId": "26516593-296a-4098-b340-079e260f2acb"
      },
      "outputs": [
        {
          "name": "stdout",
          "output_type": "stream",
          "text": [
            "Conversion Rate: 0.20%\n"
          ]
        }
      ],
      "source": [
        "# Calculate the conversion rate\n",
        "total_unique_visitors = 100000\n",
        "total_conversions = df['OrderID'].nunique()\n",
        "\n",
        "conversion_rate = (total_conversions / total_unique_visitors) * 100\n",
        "print(f\"Conversion Rate: {conversion_rate:.2f}%\")"
      ]
    },
    {
      "cell_type": "markdown",
      "metadata": {
        "id": "b67D-jIomfTk"
      },
      "source": [
        "**Insights:**\n",
        "- Based on the assumption of 100,000 total unique visitors and 200 unique orders (conversions) during the period covered by the dataset, 0.20% of those unique visitors completed a purchase (converted into customers).\n",
        "- A conversion rate of 0.20% is considered quite low for e-commerce where typical e-commerce conversion rates can range from 1% to 5% or even higher, depending on the factors mentioned above.\n",
        "- However, due to the limitation of the information at hand and not knowing the specific industry, the source of the traffic, the type of products being sold, and the average price point, it's difficult to give a definitive judgment. For example, a conversion rate for a website selling very high-value items might be lower than one selling low-cost goods.\n",
        "Therefore, while 0.20% appears low compared to general e-commerce benchmarks, its true significance depends on comparing it to industry-specific conversion rate benchmarks and considering other factors about the business."
      ]
    },
    {
      "cell_type": "markdown",
      "metadata": {
        "id": "96yrBkxpnd6f"
      },
      "source": [
        "### **1.2 Churn Rate Analysis**\n",
        "- Definition: Churn Rate = (Number of customers lost / total customers) * 100% over a time period. In our context, “lost” customers are those who made a purchase but never came back in the observed period.\n",
        "- A churned customer could be defined as a customer who bought only once (did not make any repeat purchase in the dataset time frame).\n",
        "- A retained customer would be one with multiple orders over time."
      ]
    },
    {
      "cell_type": "markdown",
      "metadata": {
        "id": "RgrKFnj4n4js"
      },
      "source": [
        "**task 1.2.1:**\n",
        "- Estimate the churn rate among the customers in the dataset."
      ]
    },
    {
      "cell_type": "code",
      "execution_count": null,
      "metadata": {
        "colab": {
          "base_uri": "https://localhost:8080/"
        },
        "id": "uXMguVgSsAjl",
        "outputId": "50a25f1e-8ca7-47c7-e4ba-7c3eea1ff69d"
      },
      "outputs": [
        {
          "name": "stdout",
          "output_type": "stream",
          "text": [
            "Number of churned customers (bought only once): 4\n",
            "Total number of unique customers: 49\n",
            "Estimated Churn Rate: 8.16%\n",
            "Estimated Retention Rate: 91.84%\n"
          ]
        }
      ],
      "source": [
        "# Estimate the churn rate among the customers in the dataset.\n",
        "# Count the number of orders per customer\n",
        "orders_per_customer = df['CustomerID'].value_counts()\n",
        "\n",
        "# Identify customers who made only one order (churned customers)\n",
        "churned_customers = orders_per_customer[orders_per_customer == 1].count()\n",
        "\n",
        "# Total number of unique customers\n",
        "total_customers = df['CustomerID'].nunique()\n",
        "\n",
        "# Calculate the churn rate\n",
        "# churned_customers are one-time customers who have only one order.\n",
        "#These are considered “lost” in terms of repeat business\n",
        "churn_rate = (churned_customers / total_customers) * 100\n",
        "\n",
        "# compute the retention rate (percentage of customers who made more than one purchase).\n",
        "# Retention Rate = 100% - Churn Rate, or equivalently(repeat_customers / total_customers * 100).\n",
        "retention_rate = 100 - churn_rate\n",
        "\n",
        "print(f\"Number of churned customers (bought only once): {churned_customers}\")\n",
        "print(f\"Total number of unique customers: {total_customers}\")\n",
        "print(f\"Estimated Churn Rate: {churn_rate:.2f}%\")\n",
        "print(f\"Estimated Retention Rate: {retention_rate:.2f}%\")"
      ]
    },
    {
      "cell_type": "markdown",
      "metadata": {
        "id": "etMqizsA33R5"
      },
      "source": [
        "**Insights:**\n",
        "\n",
        "**Low Estimated Churn Rate:**\n",
        "- An estimated churn rate of 8.16% suggests that a relatively small percentage of customers who made a purchase during the observed period did not return for a subsequent purchase (based on our definition of churn as a one-time buyer).\n",
        "\n",
        "**High Estimated Retention Rate:**\n",
        "- Conversely, an estimated retention rate of 91.84% indicates that a large majority of the unique customers made more than one purchase during the dataset's timeframe.\n",
        "\n",
        "**Reflection on Customer Loyalty:**\n",
        "\n",
        "- Based purely on these estimated rates and the definition of churn used (customers with only one order), the data suggests a relatively high level of customer loyalty within this dataset's timeframe.\n",
        "- A high retention rate means customers are generally coming back to make repeat purchases, which is a strong indicator of loyalty and satisfaction.\n",
        "\n",
        "**Important Considerations:**\n",
        "\n",
        "**Definition of Churn:**\n",
        "- This estimation is based on a specific definition of churn (one-time buyers within the dataset's period). A more sophisticated churn analysis might consider a specific time window for inactivity (e.g., no purchase in 6 or 12 months).\n",
        "\n",
        "**Dataset Timeframe:**\n",
        "- The insights are limited to the timeframe covered by the dataset (January to July 2023). We don't know the behavior of these customers before or after this period.\n",
        "\n",
        "**Customer Lifetime Value:**\n",
        "- High retention is generally correlated with a higher Customer Lifetime Value (CLTV), as repeat customers contribute more revenue over time.\n",
        "\n",
        "In summary, the calculated rates paint a positive picture of customer retention and loyalty within the observed period, but a deeper analysis might be needed for a more comprehensive understanding."
      ]
    },
    {
      "cell_type": "markdown",
      "metadata": {
        "id": "6wfXyL0R6WLR"
      },
      "source": [
        "### **1.3 Profit Margin Calculation**\n",
        "\n",
        "**Definition:**\n",
        "- Profit Margin = (Profit / Revenue) * 100%. This tells what percentage of each dollar of sales is kept as profit. There are variants (gross profit margin, net profit margin)\n",
        "\n"
      ]
    },
    {
      "cell_type": "markdown",
      "metadata": {
        "id": "EPHSbZ5y68iS"
      },
      "source": [
        "**Task 1.3.1:** Calculate profit margins:\n",
        "\n",
        "**Per transaction:**\n",
        "- Add a new column profit_margin% for each record. For each row, profit_margin = (Profit / Sales) * 100.\n",
        "- If an item sold for \\$100 and the  profit is \\$30, the profit margin is 30%. Use vectorized operations in pandas to create this column."
      ]
    },
    {
      "cell_type": "code",
      "execution_count": null,
      "metadata": {
        "colab": {
          "base_uri": "https://localhost:8080/",
          "height": 206
        },
        "id": "kjaChOM1guGJ",
        "outputId": "fb86bbd9-1594-44ca-b79a-50aa86af63b4"
      },
      "outputs": [
        {
          "data": {
            "application/vnd.google.colaboratory.intrinsic+json": {
              "summary": "{\n  \"name\": \"display(df\",\n  \"rows\": 5,\n  \"fields\": [\n    {\n      \"column\": \"OrderID\",\n      \"properties\": {\n        \"dtype\": \"string\",\n        \"num_unique_values\": 5,\n        \"samples\": [\n          \"ORD1001\",\n          \"ORD1004\",\n          \"ORD1002\"\n        ],\n        \"semantic_type\": \"\",\n        \"description\": \"\"\n      }\n    },\n    {\n      \"column\": \"CustomerID\",\n      \"properties\": {\n        \"dtype\": \"string\",\n        \"num_unique_values\": 5,\n        \"samples\": [\n          \"CUST128\",\n          \"CUST107\",\n          \"CUST114\"\n        ],\n        \"semantic_type\": \"\",\n        \"description\": \"\"\n      }\n    },\n    {\n      \"column\": \"OrderDate\",\n      \"properties\": {\n        \"dtype\": \"object\",\n        \"num_unique_values\": 5,\n        \"samples\": [\n          \"2023-01-02\",\n          \"2023-01-05\",\n          \"2023-01-03\"\n        ],\n        \"semantic_type\": \"\",\n        \"description\": \"\"\n      }\n    },\n    {\n      \"column\": \"ProductCategory\",\n      \"properties\": {\n        \"dtype\": \"string\",\n        \"num_unique_values\": 3,\n        \"samples\": [\n          \"Groceries\",\n          \"Electronics\",\n          \"Books\"\n        ],\n        \"semantic_type\": \"\",\n        \"description\": \"\"\n      }\n    },\n    {\n      \"column\": \"SalesAmount\",\n      \"properties\": {\n        \"dtype\": \"number\",\n        \"std\": 1774,\n        \"min\": 735,\n        \"max\": 4565,\n        \"num_unique_values\": 5,\n        \"samples\": [\n          4464,\n          1793,\n          4565\n        ],\n        \"semantic_type\": \"\",\n        \"description\": \"\"\n      }\n    },\n    {\n      \"column\": \"Cost\",\n      \"properties\": {\n        \"dtype\": \"number\",\n        \"std\": 1075.222916575907,\n        \"min\": 603.32,\n        \"max\": 3175.46,\n        \"num_unique_values\": 5,\n        \"samples\": [\n          3175.46,\n          1597.85,\n          3079.25\n        ],\n        \"semantic_type\": \"\",\n        \"description\": \"\"\n      }\n    },\n    {\n      \"column\": \"Profit\",\n      \"properties\": {\n        \"dtype\": \"number\",\n        \"std\": 818.6467781222864,\n        \"min\": 131.68,\n        \"max\": 1980.35,\n        \"num_unique_values\": 5,\n        \"samples\": [\n          1288.54,\n          195.15,\n          1485.75\n        ],\n        \"semantic_type\": \"\",\n        \"description\": \"\"\n      }\n    },\n    {\n      \"column\": \"group\",\n      \"properties\": {\n        \"dtype\": \"category\",\n        \"num_unique_values\": 2,\n        \"samples\": [\n          \"control\",\n          \"experiment\"\n        ],\n        \"semantic_type\": \"\",\n        \"description\": \"\"\n      }\n    },\n    {\n      \"column\": \"converted\",\n      \"properties\": {\n        \"dtype\": \"boolean\",\n        \"num_unique_values\": 2,\n        \"samples\": [\n          true,\n          false\n        ],\n        \"semantic_type\": \"\",\n        \"description\": \"\"\n      }\n    },\n    {\n      \"column\": \"profit_margin%\",\n      \"properties\": {\n        \"dtype\": \"number\",\n        \"std\": 13.812861759968497,\n        \"min\": 10.88,\n        \"max\": 46.68,\n        \"num_unique_values\": 5,\n        \"samples\": [\n          28.87,\n          10.88\n        ],\n        \"semantic_type\": \"\",\n        \"description\": \"\"\n      }\n    }\n  ]\n}",
              "type": "dataframe"
            },
            "text/html": [
              "\n",
              "  <div id=\"df-0ef20c3f-88bd-4810-a850-f49677a2aca5\" class=\"colab-df-container\">\n",
              "    <div>\n",
              "<style scoped>\n",
              "    .dataframe tbody tr th:only-of-type {\n",
              "        vertical-align: middle;\n",
              "    }\n",
              "\n",
              "    .dataframe tbody tr th {\n",
              "        vertical-align: top;\n",
              "    }\n",
              "\n",
              "    .dataframe thead th {\n",
              "        text-align: right;\n",
              "    }\n",
              "</style>\n",
              "<table border=\"1\" class=\"dataframe\">\n",
              "  <thead>\n",
              "    <tr style=\"text-align: right;\">\n",
              "      <th></th>\n",
              "      <th>OrderID</th>\n",
              "      <th>CustomerID</th>\n",
              "      <th>OrderDate</th>\n",
              "      <th>ProductCategory</th>\n",
              "      <th>SalesAmount</th>\n",
              "      <th>Cost</th>\n",
              "      <th>Profit</th>\n",
              "      <th>group</th>\n",
              "      <th>converted</th>\n",
              "      <th>profit_margin%</th>\n",
              "    </tr>\n",
              "  </thead>\n",
              "  <tbody>\n",
              "    <tr>\n",
              "      <th>0</th>\n",
              "      <td>ORD1000</td>\n",
              "      <td>CUST138</td>\n",
              "      <td>2023-01-01</td>\n",
              "      <td>Groceries</td>\n",
              "      <td>4242</td>\n",
              "      <td>2261.65</td>\n",
              "      <td>1980.35</td>\n",
              "      <td>experiment</td>\n",
              "      <td>False</td>\n",
              "      <td>46.68</td>\n",
              "    </tr>\n",
              "    <tr>\n",
              "      <th>1</th>\n",
              "      <td>ORD1001</td>\n",
              "      <td>CUST128</td>\n",
              "      <td>2023-01-02</td>\n",
              "      <td>Electronics</td>\n",
              "      <td>4464</td>\n",
              "      <td>3175.46</td>\n",
              "      <td>1288.54</td>\n",
              "      <td>experiment</td>\n",
              "      <td>False</td>\n",
              "      <td>28.87</td>\n",
              "    </tr>\n",
              "    <tr>\n",
              "      <th>2</th>\n",
              "      <td>ORD1002</td>\n",
              "      <td>CUST114</td>\n",
              "      <td>2023-01-03</td>\n",
              "      <td>Books</td>\n",
              "      <td>4565</td>\n",
              "      <td>3079.25</td>\n",
              "      <td>1485.75</td>\n",
              "      <td>experiment</td>\n",
              "      <td>True</td>\n",
              "      <td>32.55</td>\n",
              "    </tr>\n",
              "    <tr>\n",
              "      <th>3</th>\n",
              "      <td>ORD1003</td>\n",
              "      <td>CUST142</td>\n",
              "      <td>2023-01-04</td>\n",
              "      <td>Electronics</td>\n",
              "      <td>735</td>\n",
              "      <td>603.32</td>\n",
              "      <td>131.68</td>\n",
              "      <td>control</td>\n",
              "      <td>False</td>\n",
              "      <td>17.92</td>\n",
              "    </tr>\n",
              "    <tr>\n",
              "      <th>4</th>\n",
              "      <td>ORD1004</td>\n",
              "      <td>CUST107</td>\n",
              "      <td>2023-01-05</td>\n",
              "      <td>Electronics</td>\n",
              "      <td>1793</td>\n",
              "      <td>1597.85</td>\n",
              "      <td>195.15</td>\n",
              "      <td>experiment</td>\n",
              "      <td>False</td>\n",
              "      <td>10.88</td>\n",
              "    </tr>\n",
              "  </tbody>\n",
              "</table>\n",
              "</div>\n",
              "    <div class=\"colab-df-buttons\">\n",
              "\n",
              "  <div class=\"colab-df-container\">\n",
              "    <button class=\"colab-df-convert\" onclick=\"convertToInteractive('df-0ef20c3f-88bd-4810-a850-f49677a2aca5')\"\n",
              "            title=\"Convert this dataframe to an interactive table.\"\n",
              "            style=\"display:none;\">\n",
              "\n",
              "  <svg xmlns=\"http://www.w3.org/2000/svg\" height=\"24px\" viewBox=\"0 -960 960 960\">\n",
              "    <path d=\"M120-120v-720h720v720H120Zm60-500h600v-160H180v160Zm220 220h160v-160H400v160Zm0 220h160v-160H400v160ZM180-400h160v-160H180v160Zm440 0h160v-160H620v160ZM180-180h160v-160H180v160Zm440 0h160v-160H620v160Z\"/>\n",
              "  </svg>\n",
              "    </button>\n",
              "\n",
              "  <style>\n",
              "    .colab-df-container {\n",
              "      display:flex;\n",
              "      gap: 12px;\n",
              "    }\n",
              "\n",
              "    .colab-df-convert {\n",
              "      background-color: #E8F0FE;\n",
              "      border: none;\n",
              "      border-radius: 50%;\n",
              "      cursor: pointer;\n",
              "      display: none;\n",
              "      fill: #1967D2;\n",
              "      height: 32px;\n",
              "      padding: 0 0 0 0;\n",
              "      width: 32px;\n",
              "    }\n",
              "\n",
              "    .colab-df-convert:hover {\n",
              "      background-color: #E2EBFA;\n",
              "      box-shadow: 0px 1px 2px rgba(60, 64, 67, 0.3), 0px 1px 3px 1px rgba(60, 64, 67, 0.15);\n",
              "      fill: #174EA6;\n",
              "    }\n",
              "\n",
              "    .colab-df-buttons div {\n",
              "      margin-bottom: 4px;\n",
              "    }\n",
              "\n",
              "    [theme=dark] .colab-df-convert {\n",
              "      background-color: #3B4455;\n",
              "      fill: #D2E3FC;\n",
              "    }\n",
              "\n",
              "    [theme=dark] .colab-df-convert:hover {\n",
              "      background-color: #434B5C;\n",
              "      box-shadow: 0px 1px 3px 1px rgba(0, 0, 0, 0.15);\n",
              "      filter: drop-shadow(0px 1px 2px rgba(0, 0, 0, 0.3));\n",
              "      fill: #FFFFFF;\n",
              "    }\n",
              "  </style>\n",
              "\n",
              "    <script>\n",
              "      const buttonEl =\n",
              "        document.querySelector('#df-0ef20c3f-88bd-4810-a850-f49677a2aca5 button.colab-df-convert');\n",
              "      buttonEl.style.display =\n",
              "        google.colab.kernel.accessAllowed ? 'block' : 'none';\n",
              "\n",
              "      async function convertToInteractive(key) {\n",
              "        const element = document.querySelector('#df-0ef20c3f-88bd-4810-a850-f49677a2aca5');\n",
              "        const dataTable =\n",
              "          await google.colab.kernel.invokeFunction('convertToInteractive',\n",
              "                                                    [key], {});\n",
              "        if (!dataTable) return;\n",
              "\n",
              "        const docLinkHtml = 'Like what you see? Visit the ' +\n",
              "          '<a target=\"_blank\" href=https://colab.research.google.com/notebooks/data_table.ipynb>data table notebook</a>'\n",
              "          + ' to learn more about interactive tables.';\n",
              "        element.innerHTML = '';\n",
              "        dataTable['output_type'] = 'display_data';\n",
              "        await google.colab.output.renderOutput(dataTable, element);\n",
              "        const docLink = document.createElement('div');\n",
              "        docLink.innerHTML = docLinkHtml;\n",
              "        element.appendChild(docLink);\n",
              "      }\n",
              "    </script>\n",
              "  </div>\n",
              "\n",
              "\n",
              "    <div id=\"df-7888d9f5-4157-4f58-aedf-37706dfe384e\">\n",
              "      <button class=\"colab-df-quickchart\" onclick=\"quickchart('df-7888d9f5-4157-4f58-aedf-37706dfe384e')\"\n",
              "                title=\"Suggest charts\"\n",
              "                style=\"display:none;\">\n",
              "\n",
              "<svg xmlns=\"http://www.w3.org/2000/svg\" height=\"24px\"viewBox=\"0 0 24 24\"\n",
              "     width=\"24px\">\n",
              "    <g>\n",
              "        <path d=\"M19 3H5c-1.1 0-2 .9-2 2v14c0 1.1.9 2 2 2h14c1.1 0 2-.9 2-2V5c0-1.1-.9-2-2-2zM9 17H7v-7h2v7zm4 0h-2V7h2v10zm4 0h-2v-4h2v4z\"/>\n",
              "    </g>\n",
              "</svg>\n",
              "      </button>\n",
              "\n",
              "<style>\n",
              "  .colab-df-quickchart {\n",
              "      --bg-color: #E8F0FE;\n",
              "      --fill-color: #1967D2;\n",
              "      --hover-bg-color: #E2EBFA;\n",
              "      --hover-fill-color: #174EA6;\n",
              "      --disabled-fill-color: #AAA;\n",
              "      --disabled-bg-color: #DDD;\n",
              "  }\n",
              "\n",
              "  [theme=dark] .colab-df-quickchart {\n",
              "      --bg-color: #3B4455;\n",
              "      --fill-color: #D2E3FC;\n",
              "      --hover-bg-color: #434B5C;\n",
              "      --hover-fill-color: #FFFFFF;\n",
              "      --disabled-bg-color: #3B4455;\n",
              "      --disabled-fill-color: #666;\n",
              "  }\n",
              "\n",
              "  .colab-df-quickchart {\n",
              "    background-color: var(--bg-color);\n",
              "    border: none;\n",
              "    border-radius: 50%;\n",
              "    cursor: pointer;\n",
              "    display: none;\n",
              "    fill: var(--fill-color);\n",
              "    height: 32px;\n",
              "    padding: 0;\n",
              "    width: 32px;\n",
              "  }\n",
              "\n",
              "  .colab-df-quickchart:hover {\n",
              "    background-color: var(--hover-bg-color);\n",
              "    box-shadow: 0 1px 2px rgba(60, 64, 67, 0.3), 0 1px 3px 1px rgba(60, 64, 67, 0.15);\n",
              "    fill: var(--button-hover-fill-color);\n",
              "  }\n",
              "\n",
              "  .colab-df-quickchart-complete:disabled,\n",
              "  .colab-df-quickchart-complete:disabled:hover {\n",
              "    background-color: var(--disabled-bg-color);\n",
              "    fill: var(--disabled-fill-color);\n",
              "    box-shadow: none;\n",
              "  }\n",
              "\n",
              "  .colab-df-spinner {\n",
              "    border: 2px solid var(--fill-color);\n",
              "    border-color: transparent;\n",
              "    border-bottom-color: var(--fill-color);\n",
              "    animation:\n",
              "      spin 1s steps(1) infinite;\n",
              "  }\n",
              "\n",
              "  @keyframes spin {\n",
              "    0% {\n",
              "      border-color: transparent;\n",
              "      border-bottom-color: var(--fill-color);\n",
              "      border-left-color: var(--fill-color);\n",
              "    }\n",
              "    20% {\n",
              "      border-color: transparent;\n",
              "      border-left-color: var(--fill-color);\n",
              "      border-top-color: var(--fill-color);\n",
              "    }\n",
              "    30% {\n",
              "      border-color: transparent;\n",
              "      border-left-color: var(--fill-color);\n",
              "      border-top-color: var(--fill-color);\n",
              "      border-right-color: var(--fill-color);\n",
              "    }\n",
              "    40% {\n",
              "      border-color: transparent;\n",
              "      border-right-color: var(--fill-color);\n",
              "      border-top-color: var(--fill-color);\n",
              "    }\n",
              "    60% {\n",
              "      border-color: transparent;\n",
              "      border-right-color: var(--fill-color);\n",
              "    }\n",
              "    80% {\n",
              "      border-color: transparent;\n",
              "      border-right-color: var(--fill-color);\n",
              "      border-bottom-color: var(--fill-color);\n",
              "    }\n",
              "    90% {\n",
              "      border-color: transparent;\n",
              "      border-bottom-color: var(--fill-color);\n",
              "    }\n",
              "  }\n",
              "</style>\n",
              "\n",
              "      <script>\n",
              "        async function quickchart(key) {\n",
              "          const quickchartButtonEl =\n",
              "            document.querySelector('#' + key + ' button');\n",
              "          quickchartButtonEl.disabled = true;  // To prevent multiple clicks.\n",
              "          quickchartButtonEl.classList.add('colab-df-spinner');\n",
              "          try {\n",
              "            const charts = await google.colab.kernel.invokeFunction(\n",
              "                'suggestCharts', [key], {});\n",
              "          } catch (error) {\n",
              "            console.error('Error during call to suggestCharts:', error);\n",
              "          }\n",
              "          quickchartButtonEl.classList.remove('colab-df-spinner');\n",
              "          quickchartButtonEl.classList.add('colab-df-quickchart-complete');\n",
              "        }\n",
              "        (() => {\n",
              "          let quickchartButtonEl =\n",
              "            document.querySelector('#df-7888d9f5-4157-4f58-aedf-37706dfe384e button');\n",
              "          quickchartButtonEl.style.display =\n",
              "            google.colab.kernel.accessAllowed ? 'block' : 'none';\n",
              "        })();\n",
              "      </script>\n",
              "    </div>\n",
              "\n",
              "    </div>\n",
              "  </div>\n"
            ],
            "text/plain": [
              "   OrderID CustomerID   OrderDate ProductCategory  SalesAmount     Cost  \\\n",
              "0  ORD1000    CUST138  2023-01-01       Groceries         4242  2261.65   \n",
              "1  ORD1001    CUST128  2023-01-02     Electronics         4464  3175.46   \n",
              "2  ORD1002    CUST114  2023-01-03           Books         4565  3079.25   \n",
              "3  ORD1003    CUST142  2023-01-04     Electronics          735   603.32   \n",
              "4  ORD1004    CUST107  2023-01-05     Electronics         1793  1597.85   \n",
              "\n",
              "    Profit       group  converted  profit_margin%  \n",
              "0  1980.35  experiment      False           46.68  \n",
              "1  1288.54  experiment      False           28.87  \n",
              "2  1485.75  experiment       True           32.55  \n",
              "3   131.68     control      False           17.92  \n",
              "4   195.15  experiment      False           10.88  "
            ]
          },
          "metadata": {},
          "output_type": "display_data"
        }
      ],
      "source": [
        "# Calculate profit margin per transaction and add a new column 'profit_margin%'\n",
        "df['profit_margin%'] = ((df['Profit'] / df['SalesAmount'])) * 100\n",
        "\n",
        "#round off profit_margin% to 2 decimals\n",
        "df['profit_margin%'] = df['profit_margin%'].round(2)\n",
        "\n",
        "# Display the first few rows with the new column\n",
        "display(df.head())"
      ]
    },
    {
      "cell_type": "markdown",
      "metadata": {
        "id": "cIwnmRjziJrK"
      },
      "source": [
        "**Overall:**\n",
        "- Calculate the overall profit margin for the entire dataset.\n",
        "- This can be done by total_profit = df['Profit'].sum()\n",
        "- and total_sales = df['Sales'].sum(),\n",
        "- then overall_margin = (total_profit /total_sales) * 100%."
      ]
    },
    {
      "cell_type": "code",
      "execution_count": null,
      "metadata": {
        "colab": {
          "base_uri": "https://localhost:8080/"
        },
        "id": "ikx6IIouiEUp",
        "outputId": "052e6dd7-4c57-4652-9642-9b45829b318c"
      },
      "outputs": [
        {
          "name": "stdout",
          "output_type": "stream",
          "text": [
            "Overall Profit Margin: 31.57%\n"
          ]
        }
      ],
      "source": [
        "# Calculate the overall profit margin for the entire dataset\n",
        "total_profit = df['Profit'].sum()\n",
        "total_sales = df['SalesAmount'].sum()\n",
        "\n",
        "overall_margin = (total_profit / total_sales) * 100\n",
        "print(f\"Overall Profit Margin: {overall_margin:.2f}%\")\n"
      ]
    },
    {
      "cell_type": "markdown",
      "metadata": {
        "id": "RAXGN-2RjK1-"
      },
      "source": [
        "**After computing:**\n",
        "- Inspect a few values of the per-transaction profit margin. It might vary widely by product or order. You could find the average of this new column to see the typical margin.\n",
        "- Note the overall profit margin. For example, if the business’s overall profit margin is 15%, it keeps \\$0.15 of every $1 in sales as profit.\n",
        "- Discuss whether this is healthy or not (for context, many retail businesses operate on thin margins, maybe 5-20%, but it depends on the industry and cost structure)."
      ]
    },
    {
      "cell_type": "code",
      "execution_count": null,
      "metadata": {
        "colab": {
          "base_uri": "https://localhost:8080/",
          "height": 258
        },
        "id": "lgY8MiZJjD-s",
        "outputId": "1dd04595-4fc2-493a-d0da-8329d15b369d"
      },
      "outputs": [
        {
          "name": "stdout",
          "output_type": "stream",
          "text": [
            "Per-transaction Profit Margins:\n"
          ]
        },
        {
          "data": {
            "application/vnd.google.colaboratory.intrinsic+json": {
              "summary": "{\n  \"name\": \"print(f\\\"\\\\nAverage Profit Margin per Transaction: {average_profit_margin_per_transaction:\",\n  \"rows\": 5,\n  \"fields\": [\n    {\n      \"column\": \"OrderID\",\n      \"properties\": {\n        \"dtype\": \"string\",\n        \"num_unique_values\": 5,\n        \"samples\": [\n          \"ORD1001\",\n          \"ORD1004\",\n          \"ORD1002\"\n        ],\n        \"semantic_type\": \"\",\n        \"description\": \"\"\n      }\n    },\n    {\n      \"column\": \"SalesAmount\",\n      \"properties\": {\n        \"dtype\": \"number\",\n        \"std\": 1774,\n        \"min\": 735,\n        \"max\": 4565,\n        \"num_unique_values\": 5,\n        \"samples\": [\n          4464,\n          1793,\n          4565\n        ],\n        \"semantic_type\": \"\",\n        \"description\": \"\"\n      }\n    },\n    {\n      \"column\": \"Profit\",\n      \"properties\": {\n        \"dtype\": \"number\",\n        \"std\": 818.6467781222864,\n        \"min\": 131.68,\n        \"max\": 1980.35,\n        \"num_unique_values\": 5,\n        \"samples\": [\n          1288.54,\n          195.15,\n          1485.75\n        ],\n        \"semantic_type\": \"\",\n        \"description\": \"\"\n      }\n    },\n    {\n      \"column\": \"profit_margin%\",\n      \"properties\": {\n        \"dtype\": \"number\",\n        \"std\": 13.812861759968497,\n        \"min\": 10.88,\n        \"max\": 46.68,\n        \"num_unique_values\": 5,\n        \"samples\": [\n          28.87,\n          10.88,\n          32.55\n        ],\n        \"semantic_type\": \"\",\n        \"description\": \"\"\n      }\n    }\n  ]\n}",
              "type": "dataframe"
            },
            "text/html": [
              "\n",
              "  <div id=\"df-7bc04cbe-97e2-4fe7-a051-cffd483423b4\" class=\"colab-df-container\">\n",
              "    <div>\n",
              "<style scoped>\n",
              "    .dataframe tbody tr th:only-of-type {\n",
              "        vertical-align: middle;\n",
              "    }\n",
              "\n",
              "    .dataframe tbody tr th {\n",
              "        vertical-align: top;\n",
              "    }\n",
              "\n",
              "    .dataframe thead th {\n",
              "        text-align: right;\n",
              "    }\n",
              "</style>\n",
              "<table border=\"1\" class=\"dataframe\">\n",
              "  <thead>\n",
              "    <tr style=\"text-align: right;\">\n",
              "      <th></th>\n",
              "      <th>OrderID</th>\n",
              "      <th>SalesAmount</th>\n",
              "      <th>Profit</th>\n",
              "      <th>profit_margin%</th>\n",
              "    </tr>\n",
              "  </thead>\n",
              "  <tbody>\n",
              "    <tr>\n",
              "      <th>0</th>\n",
              "      <td>ORD1000</td>\n",
              "      <td>4242</td>\n",
              "      <td>1980.35</td>\n",
              "      <td>46.68</td>\n",
              "    </tr>\n",
              "    <tr>\n",
              "      <th>1</th>\n",
              "      <td>ORD1001</td>\n",
              "      <td>4464</td>\n",
              "      <td>1288.54</td>\n",
              "      <td>28.87</td>\n",
              "    </tr>\n",
              "    <tr>\n",
              "      <th>2</th>\n",
              "      <td>ORD1002</td>\n",
              "      <td>4565</td>\n",
              "      <td>1485.75</td>\n",
              "      <td>32.55</td>\n",
              "    </tr>\n",
              "    <tr>\n",
              "      <th>3</th>\n",
              "      <td>ORD1003</td>\n",
              "      <td>735</td>\n",
              "      <td>131.68</td>\n",
              "      <td>17.92</td>\n",
              "    </tr>\n",
              "    <tr>\n",
              "      <th>4</th>\n",
              "      <td>ORD1004</td>\n",
              "      <td>1793</td>\n",
              "      <td>195.15</td>\n",
              "      <td>10.88</td>\n",
              "    </tr>\n",
              "  </tbody>\n",
              "</table>\n",
              "</div>\n",
              "    <div class=\"colab-df-buttons\">\n",
              "\n",
              "  <div class=\"colab-df-container\">\n",
              "    <button class=\"colab-df-convert\" onclick=\"convertToInteractive('df-7bc04cbe-97e2-4fe7-a051-cffd483423b4')\"\n",
              "            title=\"Convert this dataframe to an interactive table.\"\n",
              "            style=\"display:none;\">\n",
              "\n",
              "  <svg xmlns=\"http://www.w3.org/2000/svg\" height=\"24px\" viewBox=\"0 -960 960 960\">\n",
              "    <path d=\"M120-120v-720h720v720H120Zm60-500h600v-160H180v160Zm220 220h160v-160H400v160Zm0 220h160v-160H400v160ZM180-400h160v-160H180v160Zm440 0h160v-160H620v160ZM180-180h160v-160H180v160Zm440 0h160v-160H620v160Z\"/>\n",
              "  </svg>\n",
              "    </button>\n",
              "\n",
              "  <style>\n",
              "    .colab-df-container {\n",
              "      display:flex;\n",
              "      gap: 12px;\n",
              "    }\n",
              "\n",
              "    .colab-df-convert {\n",
              "      background-color: #E8F0FE;\n",
              "      border: none;\n",
              "      border-radius: 50%;\n",
              "      cursor: pointer;\n",
              "      display: none;\n",
              "      fill: #1967D2;\n",
              "      height: 32px;\n",
              "      padding: 0 0 0 0;\n",
              "      width: 32px;\n",
              "    }\n",
              "\n",
              "    .colab-df-convert:hover {\n",
              "      background-color: #E2EBFA;\n",
              "      box-shadow: 0px 1px 2px rgba(60, 64, 67, 0.3), 0px 1px 3px 1px rgba(60, 64, 67, 0.15);\n",
              "      fill: #174EA6;\n",
              "    }\n",
              "\n",
              "    .colab-df-buttons div {\n",
              "      margin-bottom: 4px;\n",
              "    }\n",
              "\n",
              "    [theme=dark] .colab-df-convert {\n",
              "      background-color: #3B4455;\n",
              "      fill: #D2E3FC;\n",
              "    }\n",
              "\n",
              "    [theme=dark] .colab-df-convert:hover {\n",
              "      background-color: #434B5C;\n",
              "      box-shadow: 0px 1px 3px 1px rgba(0, 0, 0, 0.15);\n",
              "      filter: drop-shadow(0px 1px 2px rgba(0, 0, 0, 0.3));\n",
              "      fill: #FFFFFF;\n",
              "    }\n",
              "  </style>\n",
              "\n",
              "    <script>\n",
              "      const buttonEl =\n",
              "        document.querySelector('#df-7bc04cbe-97e2-4fe7-a051-cffd483423b4 button.colab-df-convert');\n",
              "      buttonEl.style.display =\n",
              "        google.colab.kernel.accessAllowed ? 'block' : 'none';\n",
              "\n",
              "      async function convertToInteractive(key) {\n",
              "        const element = document.querySelector('#df-7bc04cbe-97e2-4fe7-a051-cffd483423b4');\n",
              "        const dataTable =\n",
              "          await google.colab.kernel.invokeFunction('convertToInteractive',\n",
              "                                                    [key], {});\n",
              "        if (!dataTable) return;\n",
              "\n",
              "        const docLinkHtml = 'Like what you see? Visit the ' +\n",
              "          '<a target=\"_blank\" href=https://colab.research.google.com/notebooks/data_table.ipynb>data table notebook</a>'\n",
              "          + ' to learn more about interactive tables.';\n",
              "        element.innerHTML = '';\n",
              "        dataTable['output_type'] = 'display_data';\n",
              "        await google.colab.output.renderOutput(dataTable, element);\n",
              "        const docLink = document.createElement('div');\n",
              "        docLink.innerHTML = docLinkHtml;\n",
              "        element.appendChild(docLink);\n",
              "      }\n",
              "    </script>\n",
              "  </div>\n",
              "\n",
              "\n",
              "    <div id=\"df-43bc6903-ecc1-40dc-bd1c-e4d984c28740\">\n",
              "      <button class=\"colab-df-quickchart\" onclick=\"quickchart('df-43bc6903-ecc1-40dc-bd1c-e4d984c28740')\"\n",
              "                title=\"Suggest charts\"\n",
              "                style=\"display:none;\">\n",
              "\n",
              "<svg xmlns=\"http://www.w3.org/2000/svg\" height=\"24px\"viewBox=\"0 0 24 24\"\n",
              "     width=\"24px\">\n",
              "    <g>\n",
              "        <path d=\"M19 3H5c-1.1 0-2 .9-2 2v14c0 1.1.9 2 2 2h14c1.1 0 2-.9 2-2V5c0-1.1-.9-2-2-2zM9 17H7v-7h2v7zm4 0h-2V7h2v10zm4 0h-2v-4h2v4z\"/>\n",
              "    </g>\n",
              "</svg>\n",
              "      </button>\n",
              "\n",
              "<style>\n",
              "  .colab-df-quickchart {\n",
              "      --bg-color: #E8F0FE;\n",
              "      --fill-color: #1967D2;\n",
              "      --hover-bg-color: #E2EBFA;\n",
              "      --hover-fill-color: #174EA6;\n",
              "      --disabled-fill-color: #AAA;\n",
              "      --disabled-bg-color: #DDD;\n",
              "  }\n",
              "\n",
              "  [theme=dark] .colab-df-quickchart {\n",
              "      --bg-color: #3B4455;\n",
              "      --fill-color: #D2E3FC;\n",
              "      --hover-bg-color: #434B5C;\n",
              "      --hover-fill-color: #FFFFFF;\n",
              "      --disabled-bg-color: #3B4455;\n",
              "      --disabled-fill-color: #666;\n",
              "  }\n",
              "\n",
              "  .colab-df-quickchart {\n",
              "    background-color: var(--bg-color);\n",
              "    border: none;\n",
              "    border-radius: 50%;\n",
              "    cursor: pointer;\n",
              "    display: none;\n",
              "    fill: var(--fill-color);\n",
              "    height: 32px;\n",
              "    padding: 0;\n",
              "    width: 32px;\n",
              "  }\n",
              "\n",
              "  .colab-df-quickchart:hover {\n",
              "    background-color: var(--hover-bg-color);\n",
              "    box-shadow: 0 1px 2px rgba(60, 64, 67, 0.3), 0 1px 3px 1px rgba(60, 64, 67, 0.15);\n",
              "    fill: var(--button-hover-fill-color);\n",
              "  }\n",
              "\n",
              "  .colab-df-quickchart-complete:disabled,\n",
              "  .colab-df-quickchart-complete:disabled:hover {\n",
              "    background-color: var(--disabled-bg-color);\n",
              "    fill: var(--disabled-fill-color);\n",
              "    box-shadow: none;\n",
              "  }\n",
              "\n",
              "  .colab-df-spinner {\n",
              "    border: 2px solid var(--fill-color);\n",
              "    border-color: transparent;\n",
              "    border-bottom-color: var(--fill-color);\n",
              "    animation:\n",
              "      spin 1s steps(1) infinite;\n",
              "  }\n",
              "\n",
              "  @keyframes spin {\n",
              "    0% {\n",
              "      border-color: transparent;\n",
              "      border-bottom-color: var(--fill-color);\n",
              "      border-left-color: var(--fill-color);\n",
              "    }\n",
              "    20% {\n",
              "      border-color: transparent;\n",
              "      border-left-color: var(--fill-color);\n",
              "      border-top-color: var(--fill-color);\n",
              "    }\n",
              "    30% {\n",
              "      border-color: transparent;\n",
              "      border-left-color: var(--fill-color);\n",
              "      border-top-color: var(--fill-color);\n",
              "      border-right-color: var(--fill-color);\n",
              "    }\n",
              "    40% {\n",
              "      border-color: transparent;\n",
              "      border-right-color: var(--fill-color);\n",
              "      border-top-color: var(--fill-color);\n",
              "    }\n",
              "    60% {\n",
              "      border-color: transparent;\n",
              "      border-right-color: var(--fill-color);\n",
              "    }\n",
              "    80% {\n",
              "      border-color: transparent;\n",
              "      border-right-color: var(--fill-color);\n",
              "      border-bottom-color: var(--fill-color);\n",
              "    }\n",
              "    90% {\n",
              "      border-color: transparent;\n",
              "      border-bottom-color: var(--fill-color);\n",
              "    }\n",
              "  }\n",
              "</style>\n",
              "\n",
              "      <script>\n",
              "        async function quickchart(key) {\n",
              "          const quickchartButtonEl =\n",
              "            document.querySelector('#' + key + ' button');\n",
              "          quickchartButtonEl.disabled = true;  // To prevent multiple clicks.\n",
              "          quickchartButtonEl.classList.add('colab-df-spinner');\n",
              "          try {\n",
              "            const charts = await google.colab.kernel.invokeFunction(\n",
              "                'suggestCharts', [key], {});\n",
              "          } catch (error) {\n",
              "            console.error('Error during call to suggestCharts:', error);\n",
              "          }\n",
              "          quickchartButtonEl.classList.remove('colab-df-spinner');\n",
              "          quickchartButtonEl.classList.add('colab-df-quickchart-complete');\n",
              "        }\n",
              "        (() => {\n",
              "          let quickchartButtonEl =\n",
              "            document.querySelector('#df-43bc6903-ecc1-40dc-bd1c-e4d984c28740 button');\n",
              "          quickchartButtonEl.style.display =\n",
              "            google.colab.kernel.accessAllowed ? 'block' : 'none';\n",
              "        })();\n",
              "      </script>\n",
              "    </div>\n",
              "\n",
              "    </div>\n",
              "  </div>\n"
            ],
            "text/plain": [
              "   OrderID  SalesAmount   Profit  profit_margin%\n",
              "0  ORD1000         4242  1980.35           46.68\n",
              "1  ORD1001         4464  1288.54           28.87\n",
              "2  ORD1002         4565  1485.75           32.55\n",
              "3  ORD1003          735   131.68           17.92\n",
              "4  ORD1004         1793   195.15           10.88"
            ]
          },
          "metadata": {},
          "output_type": "display_data"
        },
        {
          "name": "stdout",
          "output_type": "stream",
          "text": [
            "\n",
            "Average Profit Margin per Transaction: 30.68%\n"
          ]
        }
      ],
      "source": [
        "# Inspect a few values of the per-transaction profit margin\n",
        "print(\"Per-transaction Profit Margins:\")\n",
        "display(df[['OrderID', 'SalesAmount', 'Profit', 'profit_margin%']].head())\n",
        "\n",
        "# Calculate the average of the new 'profit_margin%' column\n",
        "average_profit_margin_per_transaction = df['profit_margin%'].mean()\n",
        "print(f\"\\nAverage Profit Margin per Transaction: {average_profit_margin_per_transaction:.2f}%\")"
      ]
    },
    {
      "cell_type": "markdown",
      "metadata": {
        "id": "jnq6KyxnvwjG"
      },
      "source": [
        "Discussion on Overall Profit Margin\n",
        "The calculated overall profit margin for the dataset is 31.57%.\n",
        "\n",
        "Is this healthy?\n",
        "\n",
        "Compared to the typical retail profit margins of 5-20%, a 31.57% overall profit margin appears to be quite healthy and robust. This suggests that for every dollar of sales, the business is retaining approximately $0.32 as profit after accounting for costs.\n",
        "\n",
        "Factors to Consider:\n",
        "\n",
        "While this margin seems strong, it's important to consider the following:\n",
        "\n",
        "Industry Benchmarks: The healthiness of a profit margin is highly dependent on the specific industry. Some industries naturally have higher margins than others due to factors like product type, competition, and operating costs. Without knowing the specific industry of this business, it's difficult to make a definitive comparison.\n",
        "Cost Structure: The profit margin is influenced by both sales revenue and the cost of goods sold (COGS) and operating expenses. A high margin could indicate efficient cost management or premium pricing.\n",
        "Business Model: Different business models (e.g., e-commerce, brick-and-mortar, subscription-based) have different typical profit margins.\n",
        "Time Period: The profit margin calculated is based on the data from January to July 2023. It would be beneficial to analyze trends in profit margin over a longer period to see if this is a consistent performance or an anomaly.\n",
        "Conclusion:\n",
        "\n",
        "Based on general retail benchmarks, a 31.57% overall profit margin is indicative of a profitable business. However, a more precise assessment of its health requires comparing it to industry-specific benchmarks and understanding the business's cost structure and model in detail."
      ]
    },
    {
      "cell_type": "markdown",
      "metadata": {
        "id": "ciujvQ1Av_t3"
      },
      "source": [
        "**Profit Margin By Category:**\n",
        "- Group by category and compute (sum of profit)/(sum of sales)*100 for\n",
        "each.\n",
        "- This will show which categories are most profitable percentage-wise (a category might have lower sales but very high margin, or vice versa)."
      ]
    },
    {
      "cell_type": "code",
      "execution_count": null,
      "metadata": {
        "colab": {
          "base_uri": "https://localhost:8080/",
          "height": 272
        },
        "id": "qM-WepixkcXX",
        "outputId": "bf5c4a97-7889-4f27-c6dc-6230b4b5ccd7"
      },
      "outputs": [
        {
          "name": "stdout",
          "output_type": "stream",
          "text": [
            "\n",
            "Profit Margin by Category:\n"
          ]
        },
        {
          "data": {
            "application/vnd.google.colaboratory.intrinsic+json": {
              "summary": "{\n  \"name\": \"display(category_profit_sales\",\n  \"rows\": 5,\n  \"fields\": [\n    {\n      \"column\": \"ProductCategory\",\n      \"properties\": {\n        \"dtype\": \"string\",\n        \"num_unique_values\": 5,\n        \"samples\": [\n          \"Groceries\",\n          \"Books\",\n          \"Clothing\"\n        ],\n        \"semantic_type\": \"\",\n        \"description\": \"\"\n      }\n    },\n    {\n      \"column\": \"Profit\",\n      \"properties\": {\n        \"dtype\": \"number\",\n        \"std\": 6190.481246591416,\n        \"min\": 23917.48,\n        \"max\": 39845.2,\n        \"num_unique_values\": 5,\n        \"samples\": [\n          30769.18,\n          39845.2,\n          31390.27\n        ],\n        \"semantic_type\": \"\",\n        \"description\": \"\"\n      }\n    },\n    {\n      \"column\": \"SalesAmount\",\n      \"properties\": {\n        \"dtype\": \"number\",\n        \"std\": 23163,\n        \"min\": 72967,\n        \"max\": 131636,\n        \"num_unique_values\": 5,\n        \"samples\": [\n          94238,\n          131636,\n          97032\n        ],\n        \"semantic_type\": \"\",\n        \"description\": \"\"\n      }\n    },\n    {\n      \"column\": \"Profit_Margin%\",\n      \"properties\": {\n        \"dtype\": \"number\",\n        \"std\": 1.1576830308853974,\n        \"min\": 30.27,\n        \"max\": 32.78,\n        \"num_unique_values\": 5,\n        \"samples\": [\n          32.65,\n          30.27,\n          32.35\n        ],\n        \"semantic_type\": \"\",\n        \"description\": \"\"\n      }\n    }\n  ]\n}",
              "type": "dataframe"
            },
            "text/html": [
              "\n",
              "  <div id=\"df-e1fca311-dbef-4af7-adea-94ace19b246a\" class=\"colab-df-container\">\n",
              "    <div>\n",
              "<style scoped>\n",
              "    .dataframe tbody tr th:only-of-type {\n",
              "        vertical-align: middle;\n",
              "    }\n",
              "\n",
              "    .dataframe tbody tr th {\n",
              "        vertical-align: top;\n",
              "    }\n",
              "\n",
              "    .dataframe thead th {\n",
              "        text-align: right;\n",
              "    }\n",
              "</style>\n",
              "<table border=\"1\" class=\"dataframe\">\n",
              "  <thead>\n",
              "    <tr style=\"text-align: right;\">\n",
              "      <th></th>\n",
              "      <th>Profit</th>\n",
              "      <th>SalesAmount</th>\n",
              "      <th>Profit_Margin%</th>\n",
              "    </tr>\n",
              "    <tr>\n",
              "      <th>ProductCategory</th>\n",
              "      <th></th>\n",
              "      <th></th>\n",
              "      <th></th>\n",
              "    </tr>\n",
              "  </thead>\n",
              "  <tbody>\n",
              "    <tr>\n",
              "      <th>Toys</th>\n",
              "      <td>23917.48</td>\n",
              "      <td>72967</td>\n",
              "      <td>32.78</td>\n",
              "    </tr>\n",
              "    <tr>\n",
              "      <th>Groceries</th>\n",
              "      <td>30769.18</td>\n",
              "      <td>94238</td>\n",
              "      <td>32.65</td>\n",
              "    </tr>\n",
              "    <tr>\n",
              "      <th>Clothing</th>\n",
              "      <td>31390.27</td>\n",
              "      <td>97032</td>\n",
              "      <td>32.35</td>\n",
              "    </tr>\n",
              "    <tr>\n",
              "      <th>Electronics</th>\n",
              "      <td>37138.12</td>\n",
              "      <td>120672</td>\n",
              "      <td>30.78</td>\n",
              "    </tr>\n",
              "    <tr>\n",
              "      <th>Books</th>\n",
              "      <td>39845.20</td>\n",
              "      <td>131636</td>\n",
              "      <td>30.27</td>\n",
              "    </tr>\n",
              "  </tbody>\n",
              "</table>\n",
              "</div>\n",
              "    <div class=\"colab-df-buttons\">\n",
              "\n",
              "  <div class=\"colab-df-container\">\n",
              "    <button class=\"colab-df-convert\" onclick=\"convertToInteractive('df-e1fca311-dbef-4af7-adea-94ace19b246a')\"\n",
              "            title=\"Convert this dataframe to an interactive table.\"\n",
              "            style=\"display:none;\">\n",
              "\n",
              "  <svg xmlns=\"http://www.w3.org/2000/svg\" height=\"24px\" viewBox=\"0 -960 960 960\">\n",
              "    <path d=\"M120-120v-720h720v720H120Zm60-500h600v-160H180v160Zm220 220h160v-160H400v160Zm0 220h160v-160H400v160ZM180-400h160v-160H180v160Zm440 0h160v-160H620v160ZM180-180h160v-160H180v160Zm440 0h160v-160H620v160Z\"/>\n",
              "  </svg>\n",
              "    </button>\n",
              "\n",
              "  <style>\n",
              "    .colab-df-container {\n",
              "      display:flex;\n",
              "      gap: 12px;\n",
              "    }\n",
              "\n",
              "    .colab-df-convert {\n",
              "      background-color: #E8F0FE;\n",
              "      border: none;\n",
              "      border-radius: 50%;\n",
              "      cursor: pointer;\n",
              "      display: none;\n",
              "      fill: #1967D2;\n",
              "      height: 32px;\n",
              "      padding: 0 0 0 0;\n",
              "      width: 32px;\n",
              "    }\n",
              "\n",
              "    .colab-df-convert:hover {\n",
              "      background-color: #E2EBFA;\n",
              "      box-shadow: 0px 1px 2px rgba(60, 64, 67, 0.3), 0px 1px 3px 1px rgba(60, 64, 67, 0.15);\n",
              "      fill: #174EA6;\n",
              "    }\n",
              "\n",
              "    .colab-df-buttons div {\n",
              "      margin-bottom: 4px;\n",
              "    }\n",
              "\n",
              "    [theme=dark] .colab-df-convert {\n",
              "      background-color: #3B4455;\n",
              "      fill: #D2E3FC;\n",
              "    }\n",
              "\n",
              "    [theme=dark] .colab-df-convert:hover {\n",
              "      background-color: #434B5C;\n",
              "      box-shadow: 0px 1px 3px 1px rgba(0, 0, 0, 0.15);\n",
              "      filter: drop-shadow(0px 1px 2px rgba(0, 0, 0, 0.3));\n",
              "      fill: #FFFFFF;\n",
              "    }\n",
              "  </style>\n",
              "\n",
              "    <script>\n",
              "      const buttonEl =\n",
              "        document.querySelector('#df-e1fca311-dbef-4af7-adea-94ace19b246a button.colab-df-convert');\n",
              "      buttonEl.style.display =\n",
              "        google.colab.kernel.accessAllowed ? 'block' : 'none';\n",
              "\n",
              "      async function convertToInteractive(key) {\n",
              "        const element = document.querySelector('#df-e1fca311-dbef-4af7-adea-94ace19b246a');\n",
              "        const dataTable =\n",
              "          await google.colab.kernel.invokeFunction('convertToInteractive',\n",
              "                                                    [key], {});\n",
              "        if (!dataTable) return;\n",
              "\n",
              "        const docLinkHtml = 'Like what you see? Visit the ' +\n",
              "          '<a target=\"_blank\" href=https://colab.research.google.com/notebooks/data_table.ipynb>data table notebook</a>'\n",
              "          + ' to learn more about interactive tables.';\n",
              "        element.innerHTML = '';\n",
              "        dataTable['output_type'] = 'display_data';\n",
              "        await google.colab.output.renderOutput(dataTable, element);\n",
              "        const docLink = document.createElement('div');\n",
              "        docLink.innerHTML = docLinkHtml;\n",
              "        element.appendChild(docLink);\n",
              "      }\n",
              "    </script>\n",
              "  </div>\n",
              "\n",
              "\n",
              "    <div id=\"df-1bba6717-2696-484f-9a96-45089473c2ea\">\n",
              "      <button class=\"colab-df-quickchart\" onclick=\"quickchart('df-1bba6717-2696-484f-9a96-45089473c2ea')\"\n",
              "                title=\"Suggest charts\"\n",
              "                style=\"display:none;\">\n",
              "\n",
              "<svg xmlns=\"http://www.w3.org/2000/svg\" height=\"24px\"viewBox=\"0 0 24 24\"\n",
              "     width=\"24px\">\n",
              "    <g>\n",
              "        <path d=\"M19 3H5c-1.1 0-2 .9-2 2v14c0 1.1.9 2 2 2h14c1.1 0 2-.9 2-2V5c0-1.1-.9-2-2-2zM9 17H7v-7h2v7zm4 0h-2V7h2v10zm4 0h-2v-4h2v4z\"/>\n",
              "    </g>\n",
              "</svg>\n",
              "      </button>\n",
              "\n",
              "<style>\n",
              "  .colab-df-quickchart {\n",
              "      --bg-color: #E8F0FE;\n",
              "      --fill-color: #1967D2;\n",
              "      --hover-bg-color: #E2EBFA;\n",
              "      --hover-fill-color: #174EA6;\n",
              "      --disabled-fill-color: #AAA;\n",
              "      --disabled-bg-color: #DDD;\n",
              "  }\n",
              "\n",
              "  [theme=dark] .colab-df-quickchart {\n",
              "      --bg-color: #3B4455;\n",
              "      --fill-color: #D2E3FC;\n",
              "      --hover-bg-color: #434B5C;\n",
              "      --hover-fill-color: #FFFFFF;\n",
              "      --disabled-bg-color: #3B4455;\n",
              "      --disabled-fill-color: #666;\n",
              "  }\n",
              "\n",
              "  .colab-df-quickchart {\n",
              "    background-color: var(--bg-color);\n",
              "    border: none;\n",
              "    border-radius: 50%;\n",
              "    cursor: pointer;\n",
              "    display: none;\n",
              "    fill: var(--fill-color);\n",
              "    height: 32px;\n",
              "    padding: 0;\n",
              "    width: 32px;\n",
              "  }\n",
              "\n",
              "  .colab-df-quickchart:hover {\n",
              "    background-color: var(--hover-bg-color);\n",
              "    box-shadow: 0 1px 2px rgba(60, 64, 67, 0.3), 0 1px 3px 1px rgba(60, 64, 67, 0.15);\n",
              "    fill: var(--button-hover-fill-color);\n",
              "  }\n",
              "\n",
              "  .colab-df-quickchart-complete:disabled,\n",
              "  .colab-df-quickchart-complete:disabled:hover {\n",
              "    background-color: var(--disabled-bg-color);\n",
              "    fill: var(--disabled-fill-color);\n",
              "    box-shadow: none;\n",
              "  }\n",
              "\n",
              "  .colab-df-spinner {\n",
              "    border: 2px solid var(--fill-color);\n",
              "    border-color: transparent;\n",
              "    border-bottom-color: var(--fill-color);\n",
              "    animation:\n",
              "      spin 1s steps(1) infinite;\n",
              "  }\n",
              "\n",
              "  @keyframes spin {\n",
              "    0% {\n",
              "      border-color: transparent;\n",
              "      border-bottom-color: var(--fill-color);\n",
              "      border-left-color: var(--fill-color);\n",
              "    }\n",
              "    20% {\n",
              "      border-color: transparent;\n",
              "      border-left-color: var(--fill-color);\n",
              "      border-top-color: var(--fill-color);\n",
              "    }\n",
              "    30% {\n",
              "      border-color: transparent;\n",
              "      border-left-color: var(--fill-color);\n",
              "      border-top-color: var(--fill-color);\n",
              "      border-right-color: var(--fill-color);\n",
              "    }\n",
              "    40% {\n",
              "      border-color: transparent;\n",
              "      border-right-color: var(--fill-color);\n",
              "      border-top-color: var(--fill-color);\n",
              "    }\n",
              "    60% {\n",
              "      border-color: transparent;\n",
              "      border-right-color: var(--fill-color);\n",
              "    }\n",
              "    80% {\n",
              "      border-color: transparent;\n",
              "      border-right-color: var(--fill-color);\n",
              "      border-bottom-color: var(--fill-color);\n",
              "    }\n",
              "    90% {\n",
              "      border-color: transparent;\n",
              "      border-bottom-color: var(--fill-color);\n",
              "    }\n",
              "  }\n",
              "</style>\n",
              "\n",
              "      <script>\n",
              "        async function quickchart(key) {\n",
              "          const quickchartButtonEl =\n",
              "            document.querySelector('#' + key + ' button');\n",
              "          quickchartButtonEl.disabled = true;  // To prevent multiple clicks.\n",
              "          quickchartButtonEl.classList.add('colab-df-spinner');\n",
              "          try {\n",
              "            const charts = await google.colab.kernel.invokeFunction(\n",
              "                'suggestCharts', [key], {});\n",
              "          } catch (error) {\n",
              "            console.error('Error during call to suggestCharts:', error);\n",
              "          }\n",
              "          quickchartButtonEl.classList.remove('colab-df-spinner');\n",
              "          quickchartButtonEl.classList.add('colab-df-quickchart-complete');\n",
              "        }\n",
              "        (() => {\n",
              "          let quickchartButtonEl =\n",
              "            document.querySelector('#df-1bba6717-2696-484f-9a96-45089473c2ea button');\n",
              "          quickchartButtonEl.style.display =\n",
              "            google.colab.kernel.accessAllowed ? 'block' : 'none';\n",
              "        })();\n",
              "      </script>\n",
              "    </div>\n",
              "\n",
              "    </div>\n",
              "  </div>\n"
            ],
            "text/plain": [
              "                   Profit  SalesAmount  Profit_Margin%\n",
              "ProductCategory                                       \n",
              "Toys             23917.48        72967           32.78\n",
              "Groceries        30769.18        94238           32.65\n",
              "Clothing         31390.27        97032           32.35\n",
              "Electronics      37138.12       120672           30.78\n",
              "Books            39845.20       131636           30.27"
            ]
          },
          "metadata": {},
          "output_type": "display_data"
        }
      ],
      "source": [
        "# Calculate profit margin by category\n",
        "category_profit_sales = df.groupby('ProductCategory').agg({\n",
        "    'Profit': 'sum',\n",
        "    'SalesAmount': 'sum'\n",
        "})\n",
        "\n",
        "category_profit_sales['Profit_Margin%'] = ((category_profit_sales['Profit'] / category_profit_sales['SalesAmount']) * 100).round(2)\n",
        "\n",
        "# Display the profit margin by category\n",
        "print(\"\\nProfit Margin by Category:\")\n",
        "display(category_profit_sales.sort_values(by='Profit_Margin%', ascending=False))"
      ]
    },
    {
      "cell_type": "markdown",
      "metadata": {
        "id": "SSWeB4xKwdgM"
      },
      "source": [
        "**1.4 Summarize Your Findings:**\n",
        "Write a brief summary (a few sentences) of what these metrics tell you about the e-commerce business. For instance:\n",
        "- Conversion rate: “We converted X% of site visitors into buyers. This suggests ...(maybe marketing efficiency or room for improvement).”\n",
        "- Churn rate: “Approximately Y% of customers did not return for another purchase, indicating ... (perhaps issues with repeat business or a need for loyalty programs).”\n",
        "- Profit margin: “The overall profit margin is Z%. This means the company retains Z cents per dollar of sales as profit, which is ... (compare to typical margins if known,or just state if it seems sufficient for sustainability).”"
      ]
    },
    {
      "cell_type": "markdown",
      "metadata": {
        "id": "b7b043b7"
      },
      "source": [
        "### Summary of Key Business Metric Findings\n",
        "\n",
        "Based on the analysis of the provided e-commerce data:\n",
        "\n",
        "*   **Conversion Rate:** We estimated a conversion rate of **0.20%** (based on unique orders and an assumed 100,000 visitors). This appears low compared to typical e-commerce benchmarks and suggests potential areas for improvement in attracting and converting website visitors.\n",
        "*   **Churn Rate:** The estimated churn rate is **8.16%** (customers with only one order), with a corresponding retention rate of **91.84%**. This indicates a relatively high level of customer retention and loyalty among those who did make a purchase within the dataset's timeframe.\n",
        "*   **Profit Margin:** The overall profit margin is **31.57%**. This means the company retains approximately \\$0.32 of every \\$1 in sales as profit, which appears healthy compared to general retail benchmarks. The profit margin varies by category, with Toys having the highest percentage margin (32.78%) and Books the lowest (30.27%).\n",
        "\n",
        "Overall, the business shows good customer retention and a healthy profit margin, but the low conversion rate suggests that focusing on improving the website experience and marketing efforts to turn visitors into first-time buyers could be a key area for growth."
      ]
    },
    {
      "cell_type": "markdown",
      "metadata": {
        "id": "U3130pQXx3vP"
      },
      "source": [
        "###**Task 2: A/B Testing Exercise**"
      ]
    },
    {
      "cell_type": "markdown",
      "metadata": {
        "id": "1CEGJ9N7x_9N"
      },
      "source": [
        "**Objective:**\n",
        "- To perform a simple A/B test analysis. A/B testing (also known as split\n",
        "testing) is a method of comparing two versions of something to see which one performs better.\n",
        "- In e-commerce, this is commonly used to test changes in website design, marketing emails, or new features by showing variant A to some users and variant B to others and measuring outcomes (like conversion rate)."
      ]
    },
    {
      "cell_type": "markdown",
      "metadata": {
        "id": "CYqP7L81yTz5"
      },
      "source": [
        "**Scenario:**\n",
        "- Imagine the company wants to improve its conversion rate. The team has\n",
        "created a new version of the website’s landing page and wants to test if it leads to more conversions (purchases) than the current page. They run an A/B test:\n",
        "- Group A (Control): Users who saw the old landing page.\n",
        "- Group B (Experiment): Users who saw the new landing page design.\n",
        "\n",
        "Users were randomly split between the two groups over a period of a few weeks. We have data recorded for each user’s experience: whether they were in group A or B and whether they converted (made a purchase) in that session."
      ]
    },
    {
      "cell_type": "markdown",
      "metadata": {
        "id": "sISxcAbWzWbm"
      },
      "source": [
        "**Dataset for A/B test:**\n",
        "\n",
        "For this exercise, use the A/B test results dataset (for example, a file\n",
        "named ab_data.csv from Kaggle’s “A/B Testing” dataset). This file contains at least the following columns:\n",
        "- user_id – unique identifier for a user/visit in the experiment.\n",
        "- group – which group the user was assigned to (control or experiment).\n",
        "- landing_page – which page variant they saw (old_page or new_page – should\n",
        "align with the group).\n",
        "- converted – a binary outcome (1 if the user converted, 0 if not)."
      ]
    },
    {
      "cell_type": "code",
      "execution_count": null,
      "metadata": {
        "id": "pWCjC9pM5n6b"
      },
      "outputs": [],
      "source": [
        "# Load the A/B test dataset\n",
        "ab_df = pd.read_csv('/content/ab_data.csv')"
      ]
    },
    {
      "cell_type": "markdown",
      "metadata": {
        "id": "pi6I5Hch62Jr"
      },
      "source": [
        "### 1. Understand A/B Data:\n",
        "- Check ab.head()"
      ]
    },
    {
      "cell_type": "code",
      "execution_count": null,
      "metadata": {
        "colab": {
          "base_uri": "https://localhost:8080/",
          "height": 206
        },
        "id": "cjkwF2aR68mp",
        "outputId": "f2f49fbc-ccdd-4d67-e2de-3fb4452cb70a"
      },
      "outputs": [
        {
          "data": {
            "application/vnd.google.colaboratory.intrinsic+json": {
              "summary": "{\n  \"name\": \"display(ab_df\",\n  \"rows\": 5,\n  \"fields\": [\n    {\n      \"column\": \"user_id\",\n      \"properties\": {\n        \"dtype\": \"number\",\n        \"std\": 84593,\n        \"min\": 661590,\n        \"max\": 864975,\n        \"num_unique_values\": 5,\n        \"samples\": [\n          804228,\n          864975,\n          661590\n        ],\n        \"semantic_type\": \"\",\n        \"description\": \"\"\n      }\n    },\n    {\n      \"column\": \"timestamp\",\n      \"properties\": {\n        \"dtype\": \"object\",\n        \"num_unique_values\": 5,\n        \"samples\": [\n          \"2017-01-12 08:01:45.159739\",\n          \"2017-01-21 01:52:26.210827\",\n          \"2017-01-11 16:55:06.154213\"\n        ],\n        \"semantic_type\": \"\",\n        \"description\": \"\"\n      }\n    },\n    {\n      \"column\": \"group\",\n      \"properties\": {\n        \"dtype\": \"category\",\n        \"num_unique_values\": 2,\n        \"samples\": [\n          \"treatment\",\n          \"control\"\n        ],\n        \"semantic_type\": \"\",\n        \"description\": \"\"\n      }\n    },\n    {\n      \"column\": \"landing_page\",\n      \"properties\": {\n        \"dtype\": \"category\",\n        \"num_unique_values\": 2,\n        \"samples\": [\n          \"new_page\",\n          \"old_page\"\n        ],\n        \"semantic_type\": \"\",\n        \"description\": \"\"\n      }\n    },\n    {\n      \"column\": \"converted\",\n      \"properties\": {\n        \"dtype\": \"number\",\n        \"std\": 0,\n        \"min\": 0,\n        \"max\": 1,\n        \"num_unique_values\": 2,\n        \"samples\": [\n          1,\n          0\n        ],\n        \"semantic_type\": \"\",\n        \"description\": \"\"\n      }\n    }\n  ]\n}",
              "type": "dataframe"
            },
            "text/html": [
              "\n",
              "  <div id=\"df-9b13cd23-fa21-42bc-87c6-d495319351a4\" class=\"colab-df-container\">\n",
              "    <div>\n",
              "<style scoped>\n",
              "    .dataframe tbody tr th:only-of-type {\n",
              "        vertical-align: middle;\n",
              "    }\n",
              "\n",
              "    .dataframe tbody tr th {\n",
              "        vertical-align: top;\n",
              "    }\n",
              "\n",
              "    .dataframe thead th {\n",
              "        text-align: right;\n",
              "    }\n",
              "</style>\n",
              "<table border=\"1\" class=\"dataframe\">\n",
              "  <thead>\n",
              "    <tr style=\"text-align: right;\">\n",
              "      <th></th>\n",
              "      <th>user_id</th>\n",
              "      <th>timestamp</th>\n",
              "      <th>group</th>\n",
              "      <th>landing_page</th>\n",
              "      <th>converted</th>\n",
              "    </tr>\n",
              "  </thead>\n",
              "  <tbody>\n",
              "    <tr>\n",
              "      <th>0</th>\n",
              "      <td>851104</td>\n",
              "      <td>2017-01-21 22:11:48.556739</td>\n",
              "      <td>control</td>\n",
              "      <td>old_page</td>\n",
              "      <td>0</td>\n",
              "    </tr>\n",
              "    <tr>\n",
              "      <th>1</th>\n",
              "      <td>804228</td>\n",
              "      <td>2017-01-12 08:01:45.159739</td>\n",
              "      <td>control</td>\n",
              "      <td>old_page</td>\n",
              "      <td>0</td>\n",
              "    </tr>\n",
              "    <tr>\n",
              "      <th>2</th>\n",
              "      <td>661590</td>\n",
              "      <td>2017-01-11 16:55:06.154213</td>\n",
              "      <td>treatment</td>\n",
              "      <td>new_page</td>\n",
              "      <td>0</td>\n",
              "    </tr>\n",
              "    <tr>\n",
              "      <th>3</th>\n",
              "      <td>853541</td>\n",
              "      <td>2017-01-08 18:28:03.143765</td>\n",
              "      <td>treatment</td>\n",
              "      <td>new_page</td>\n",
              "      <td>0</td>\n",
              "    </tr>\n",
              "    <tr>\n",
              "      <th>4</th>\n",
              "      <td>864975</td>\n",
              "      <td>2017-01-21 01:52:26.210827</td>\n",
              "      <td>control</td>\n",
              "      <td>old_page</td>\n",
              "      <td>1</td>\n",
              "    </tr>\n",
              "  </tbody>\n",
              "</table>\n",
              "</div>\n",
              "    <div class=\"colab-df-buttons\">\n",
              "\n",
              "  <div class=\"colab-df-container\">\n",
              "    <button class=\"colab-df-convert\" onclick=\"convertToInteractive('df-9b13cd23-fa21-42bc-87c6-d495319351a4')\"\n",
              "            title=\"Convert this dataframe to an interactive table.\"\n",
              "            style=\"display:none;\">\n",
              "\n",
              "  <svg xmlns=\"http://www.w3.org/2000/svg\" height=\"24px\" viewBox=\"0 -960 960 960\">\n",
              "    <path d=\"M120-120v-720h720v720H120Zm60-500h600v-160H180v160Zm220 220h160v-160H400v160Zm0 220h160v-160H400v160ZM180-400h160v-160H180v160Zm440 0h160v-160H620v160ZM180-180h160v-160H180v160Zm440 0h160v-160H620v160Z\"/>\n",
              "  </svg>\n",
              "    </button>\n",
              "\n",
              "  <style>\n",
              "    .colab-df-container {\n",
              "      display:flex;\n",
              "      gap: 12px;\n",
              "    }\n",
              "\n",
              "    .colab-df-convert {\n",
              "      background-color: #E8F0FE;\n",
              "      border: none;\n",
              "      border-radius: 50%;\n",
              "      cursor: pointer;\n",
              "      display: none;\n",
              "      fill: #1967D2;\n",
              "      height: 32px;\n",
              "      padding: 0 0 0 0;\n",
              "      width: 32px;\n",
              "    }\n",
              "\n",
              "    .colab-df-convert:hover {\n",
              "      background-color: #E2EBFA;\n",
              "      box-shadow: 0px 1px 2px rgba(60, 64, 67, 0.3), 0px 1px 3px 1px rgba(60, 64, 67, 0.15);\n",
              "      fill: #174EA6;\n",
              "    }\n",
              "\n",
              "    .colab-df-buttons div {\n",
              "      margin-bottom: 4px;\n",
              "    }\n",
              "\n",
              "    [theme=dark] .colab-df-convert {\n",
              "      background-color: #3B4455;\n",
              "      fill: #D2E3FC;\n",
              "    }\n",
              "\n",
              "    [theme=dark] .colab-df-convert:hover {\n",
              "      background-color: #434B5C;\n",
              "      box-shadow: 0px 1px 3px 1px rgba(0, 0, 0, 0.15);\n",
              "      filter: drop-shadow(0px 1px 2px rgba(0, 0, 0, 0.3));\n",
              "      fill: #FFFFFF;\n",
              "    }\n",
              "  </style>\n",
              "\n",
              "    <script>\n",
              "      const buttonEl =\n",
              "        document.querySelector('#df-9b13cd23-fa21-42bc-87c6-d495319351a4 button.colab-df-convert');\n",
              "      buttonEl.style.display =\n",
              "        google.colab.kernel.accessAllowed ? 'block' : 'none';\n",
              "\n",
              "      async function convertToInteractive(key) {\n",
              "        const element = document.querySelector('#df-9b13cd23-fa21-42bc-87c6-d495319351a4');\n",
              "        const dataTable =\n",
              "          await google.colab.kernel.invokeFunction('convertToInteractive',\n",
              "                                                    [key], {});\n",
              "        if (!dataTable) return;\n",
              "\n",
              "        const docLinkHtml = 'Like what you see? Visit the ' +\n",
              "          '<a target=\"_blank\" href=https://colab.research.google.com/notebooks/data_table.ipynb>data table notebook</a>'\n",
              "          + ' to learn more about interactive tables.';\n",
              "        element.innerHTML = '';\n",
              "        dataTable['output_type'] = 'display_data';\n",
              "        await google.colab.output.renderOutput(dataTable, element);\n",
              "        const docLink = document.createElement('div');\n",
              "        docLink.innerHTML = docLinkHtml;\n",
              "        element.appendChild(docLink);\n",
              "      }\n",
              "    </script>\n",
              "  </div>\n",
              "\n",
              "\n",
              "    <div id=\"df-44606359-e577-431c-a874-7e7114213836\">\n",
              "      <button class=\"colab-df-quickchart\" onclick=\"quickchart('df-44606359-e577-431c-a874-7e7114213836')\"\n",
              "                title=\"Suggest charts\"\n",
              "                style=\"display:none;\">\n",
              "\n",
              "<svg xmlns=\"http://www.w3.org/2000/svg\" height=\"24px\"viewBox=\"0 0 24 24\"\n",
              "     width=\"24px\">\n",
              "    <g>\n",
              "        <path d=\"M19 3H5c-1.1 0-2 .9-2 2v14c0 1.1.9 2 2 2h14c1.1 0 2-.9 2-2V5c0-1.1-.9-2-2-2zM9 17H7v-7h2v7zm4 0h-2V7h2v10zm4 0h-2v-4h2v4z\"/>\n",
              "    </g>\n",
              "</svg>\n",
              "      </button>\n",
              "\n",
              "<style>\n",
              "  .colab-df-quickchart {\n",
              "      --bg-color: #E8F0FE;\n",
              "      --fill-color: #1967D2;\n",
              "      --hover-bg-color: #E2EBFA;\n",
              "      --hover-fill-color: #174EA6;\n",
              "      --disabled-fill-color: #AAA;\n",
              "      --disabled-bg-color: #DDD;\n",
              "  }\n",
              "\n",
              "  [theme=dark] .colab-df-quickchart {\n",
              "      --bg-color: #3B4455;\n",
              "      --fill-color: #D2E3FC;\n",
              "      --hover-bg-color: #434B5C;\n",
              "      --hover-fill-color: #FFFFFF;\n",
              "      --disabled-bg-color: #3B4455;\n",
              "      --disabled-fill-color: #666;\n",
              "  }\n",
              "\n",
              "  .colab-df-quickchart {\n",
              "    background-color: var(--bg-color);\n",
              "    border: none;\n",
              "    border-radius: 50%;\n",
              "    cursor: pointer;\n",
              "    display: none;\n",
              "    fill: var(--fill-color);\n",
              "    height: 32px;\n",
              "    padding: 0;\n",
              "    width: 32px;\n",
              "  }\n",
              "\n",
              "  .colab-df-quickchart:hover {\n",
              "    background-color: var(--hover-bg-color);\n",
              "    box-shadow: 0 1px 2px rgba(60, 64, 67, 0.3), 0 1px 3px 1px rgba(60, 64, 67, 0.15);\n",
              "    fill: var(--button-hover-fill-color);\n",
              "  }\n",
              "\n",
              "  .colab-df-quickchart-complete:disabled,\n",
              "  .colab-df-quickchart-complete:disabled:hover {\n",
              "    background-color: var(--disabled-bg-color);\n",
              "    fill: var(--disabled-fill-color);\n",
              "    box-shadow: none;\n",
              "  }\n",
              "\n",
              "  .colab-df-spinner {\n",
              "    border: 2px solid var(--fill-color);\n",
              "    border-color: transparent;\n",
              "    border-bottom-color: var(--fill-color);\n",
              "    animation:\n",
              "      spin 1s steps(1) infinite;\n",
              "  }\n",
              "\n",
              "  @keyframes spin {\n",
              "    0% {\n",
              "      border-color: transparent;\n",
              "      border-bottom-color: var(--fill-color);\n",
              "      border-left-color: var(--fill-color);\n",
              "    }\n",
              "    20% {\n",
              "      border-color: transparent;\n",
              "      border-left-color: var(--fill-color);\n",
              "      border-top-color: var(--fill-color);\n",
              "    }\n",
              "    30% {\n",
              "      border-color: transparent;\n",
              "      border-left-color: var(--fill-color);\n",
              "      border-top-color: var(--fill-color);\n",
              "      border-right-color: var(--fill-color);\n",
              "    }\n",
              "    40% {\n",
              "      border-color: transparent;\n",
              "      border-right-color: var(--fill-color);\n",
              "      border-top-color: var(--fill-color);\n",
              "    }\n",
              "    60% {\n",
              "      border-color: transparent;\n",
              "      border-right-color: var(--fill-color);\n",
              "    }\n",
              "    80% {\n",
              "      border-color: transparent;\n",
              "      border-right-color: var(--fill-color);\n",
              "      border-bottom-color: var(--fill-color);\n",
              "    }\n",
              "    90% {\n",
              "      border-color: transparent;\n",
              "      border-bottom-color: var(--fill-color);\n",
              "    }\n",
              "  }\n",
              "</style>\n",
              "\n",
              "      <script>\n",
              "        async function quickchart(key) {\n",
              "          const quickchartButtonEl =\n",
              "            document.querySelector('#' + key + ' button');\n",
              "          quickchartButtonEl.disabled = true;  // To prevent multiple clicks.\n",
              "          quickchartButtonEl.classList.add('colab-df-spinner');\n",
              "          try {\n",
              "            const charts = await google.colab.kernel.invokeFunction(\n",
              "                'suggestCharts', [key], {});\n",
              "          } catch (error) {\n",
              "            console.error('Error during call to suggestCharts:', error);\n",
              "          }\n",
              "          quickchartButtonEl.classList.remove('colab-df-spinner');\n",
              "          quickchartButtonEl.classList.add('colab-df-quickchart-complete');\n",
              "        }\n",
              "        (() => {\n",
              "          let quickchartButtonEl =\n",
              "            document.querySelector('#df-44606359-e577-431c-a874-7e7114213836 button');\n",
              "          quickchartButtonEl.style.display =\n",
              "            google.colab.kernel.accessAllowed ? 'block' : 'none';\n",
              "        })();\n",
              "      </script>\n",
              "    </div>\n",
              "\n",
              "    </div>\n",
              "  </div>\n"
            ],
            "text/plain": [
              "   user_id                   timestamp      group landing_page  converted\n",
              "0   851104  2017-01-21 22:11:48.556739    control     old_page          0\n",
              "1   804228  2017-01-12 08:01:45.159739    control     old_page          0\n",
              "2   661590  2017-01-11 16:55:06.154213  treatment     new_page          0\n",
              "3   853541  2017-01-08 18:28:03.143765  treatment     new_page          0\n",
              "4   864975  2017-01-21 01:52:26.210827    control     old_page          1"
            ]
          },
          "metadata": {},
          "output_type": "display_data"
        }
      ],
      "source": [
        "# Display the first few rows\n",
        "display(ab_df.head())"
      ]
    },
    {
      "cell_type": "markdown",
      "metadata": {
        "id": "6PaE8ytR7BxW"
      },
      "source": [
        "### 2. Overall Conversion Rates:\n",
        "**Calculate the conversion rate for each group:**\n",
        "- Conversion rate for Control (old page) = (number of converted users in\n",
        "control group / total users in control group) * 100%.\n",
        "- Conversion rate for Experiment (new page) = (number of converted users in\n",
        "experiment group / total users in experiment group) * 100%."
      ]
    },
    {
      "cell_type": "code",
      "execution_count": null,
      "metadata": {
        "colab": {
          "base_uri": "https://localhost:8080/"
        },
        "id": "Ux5QSDIs7ctx",
        "outputId": "6c5227c7-48ad-4615-95e7-5e608dab1f47"
      },
      "outputs": [
        {
          "name": "stdout",
          "output_type": "stream",
          "text": [
            "Conversion Rate for Control (old page): 12.04%\n",
            "Conversion Rate for Experiment (new page): 11.89%\n"
          ]
        }
      ],
      "source": [
        "# Calculate Conversion rate for Control\n",
        "control_conversion_rate = (ab_df[ab_df['group'] == 'control']['converted'].sum() / len(ab_df[ab_df['group'] == 'control'])) * 100\n",
        "\n",
        "# Calculate Conversion rate for Experiment\n",
        "experiment_conversion_rate = (ab_df[ab_df['group'] == 'treatment']['converted'].sum() / len(ab_df[ab_df['group'] == 'treatment'])) * 100\n",
        "\n",
        "print(f\"Conversion Rate for Control (old page): {control_conversion_rate:.2f}%\")\n",
        "print(f\"Conversion Rate for Experiment (new page): {experiment_conversion_rate:.2f}%\")"
      ]
    },
    {
      "cell_type": "markdown",
      "metadata": {
        "id": "6FtRuXGxAKC0"
      },
      "source": [
        "### Compare the Conversion Rates:\n",
        "Print out or record the two conversion percentages.\n",
        "- Which page performed better in this experiment?"
      ]
    },
    {
      "cell_type": "code",
      "execution_count": null,
      "metadata": {
        "colab": {
          "base_uri": "https://localhost:8080/"
        },
        "id": "EakYRnToAIcV",
        "outputId": "b559b161-d908-4822-8536-39b18abb327f"
      },
      "outputs": [
        {
          "name": "stdout",
          "output_type": "stream",
          "text": [
            "Conversion Rate for Control (old page): 12.04%\n",
            "Conversion Rate for Experiment (new page): 11.89%\n"
          ]
        }
      ],
      "source": [
        "print(f\"Conversion Rate for Control (old page): {control_conversion_rate:.2f}%\")\n",
        "print(f\"Conversion Rate for Experiment (new page): {experiment_conversion_rate:.2f}%\")"
      ]
    },
    {
      "cell_type": "markdown",
      "metadata": {
        "id": "RKbFkUVNAg6h"
      },
      "source": []
    },
    {
      "cell_type": "markdown",
      "metadata": {
        "id": "c6a15862"
      },
      "source": [
        "### Analysis and Conclusion of Conversion Rates\n",
        "\n",
        "Based on the calculated conversion rates:\n",
        "\n",
        "*   **Control Group (Old Page):** The conversion rate for the control group is **12.04%**. This represents the baseline performance of the original landing page.\n",
        "*   **Experiment Group (New Page):** The conversion rate for the experiment group is **11.89%**. This represents the performance of the new landing page design.\n",
        "\n",
        "**Comparison:**\n",
        "\n",
        "The control group (old page) had a slightly higher conversion rate (12.04%) compared to the experiment group (new page) which had a conversion rate of 11.89%.\n",
        "\n",
        "**Conclusion:**\n",
        "\n",
        "Based on this A/B test, the new landing page design **did not perform better** than the old landing page in terms of conversion rate. In fact, the old page had a marginally higher conversion rate.\n",
        "\n",
        "**Important Considerations:**\n",
        "\n",
        "*   **Statistical Significance:** While there is a difference in the observed conversion rates, it's crucial to perform a statistical test (like a z-test or chi-squared test) to determine if this difference is statistically significant or simply due to random chance. A small difference might not be statistically significant, meaning we cannot confidently say that one page is truly better than the other.\n",
        "*   **Duration of the Test:** The duration of the A/B test is important. Running the test for a sufficient period ensures that you capture variations in user behavior over time and have enough data to detect a statistically significant difference if one exists.\n",
        "*   **Other Metrics:** Conversion rate is a key metric, but it's also beneficial to look at other metrics like bounce rate, time on page, and average order value to get a more comprehensive understanding of how the new page performed.\n",
        "*   **External Factors:** Consider if any external factors or events occurred during the A/B test that might have influenced the results.\n",
        "\n",
        "In summary, based solely on the conversion rates, the new landing page design did not show an improvement over the old page. Further statistical analysis is needed to confirm if this difference is statistically significant."
      ]
    },
    {
      "cell_type": "markdown",
      "metadata": {
        "id": "ce55845e"
      },
      "source": [
        "### Business Recommendations Based on A/B Testing Outcome\n",
        "\n",
        "Given that the A/B test indicated the new landing page did not perform better than the old one in terms of conversion rate, here are some business recommendations:\n",
        "\n",
        "1.  **Do Not Implement the New Landing Page:** Since the new design did not show an improvement and even had a slightly lower conversion rate, it is recommended *not* to replace the old landing page with the new one at this time. Implementing the new page could potentially lead to a decrease in overall conversions.\n",
        "\n",
        "2.  **Analyze User Behavior on the New Page:** Although the overall conversion rate was lower, it's important to understand *why*. Analyze user behavior data on the new page. This could involve:\n",
        "    *   **Heatmaps and Click Tracking:** See where users are clicking, scrolling, and spending time on the new page compared to the old one.\n",
        "    *   **User Session Recordings:** Watch recordings of user sessions on the new page to identify points of confusion, frustration, or elements that are not working as intended.\n",
        "    *   **A/B Testing Specific Elements:** Break down the new page design into smaller components (e.g., headline, call-to-action button, layout, images) and A/B test these individual elements to see which ones might be negatively impacting the conversion rate.\n",
        "\n",
        "3.  **Gather User Feedback:** Collect qualitative feedback from users who interacted with the new page. This can be done through:\n",
        "    *   **Surveys:** Ask users for their opinions on the new design.\n",
        "    *   **User Interviews:** Conduct in-depth interviews with a sample of users from the experiment group.\n",
        "    *   **Usability Testing:** Observe users interacting with the new page in a controlled environment.\n",
        "\n",
        "4.  **Iterate and Test Again:** Based on the analysis of user behavior and feedback, iterate on the new landing page design. Make improvements based on the insights gained and then run another A/B test to compare the revised new page against the old page.\n",
        "\n",
        "5.  **Consider Other Metrics:** While conversion rate is critical, also consider other metrics that might have been impacted by the new design, such as:\n",
        "    *   **Bounce Rate:** Did the new page increase or decrease the number of users who left the site after viewing only one page?\n",
        "    *   **Time on Page:** Did users spend more or less time on the new page?\n",
        "    *   **Average Order Value:** Did the new page influence the value of purchases made by converting users?\n",
        "\n",
        "6.  **Ensure Proper Implementation:** Double-check that the A/B test was implemented correctly, ensuring that traffic was split randomly and that there were no technical issues that could have skewed the results."
      ]
    }
  ],
  "metadata": {
    "colab": {
      "provenance": []
    },
    "kernelspec": {
      "display_name": "Python 3",
      "name": "python3"
    },
    "language_info": {
      "codemirror_mode": {
        "name": "ipython",
        "version": 3
      },
      "file_extension": ".py",
      "mimetype": "text/x-python",
      "name": "python",
      "nbconvert_exporter": "python",
      "pygments_lexer": "ipython3",
      "version": "3.13.9"
    }
  },
  "nbformat": 4,
  "nbformat_minor": 0
}
