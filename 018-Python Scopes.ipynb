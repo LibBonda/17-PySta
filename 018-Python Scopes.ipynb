{
 "cells": [
  {
   "cell_type": "markdown",
   "metadata": {},
   "source": [
    "#### 001 Python Scope\n",
    "- refers to the region of the program where a particular variable, function, or object is recognised and accessible.\n",
    "- The scope determines the visibility and lifetime of a variable, meaning where it can be accessed or modified in the code.\n",
    "\n",
    "##### Scopes in Python:\n",
    "- 4 categories exist which follow the LEGB rule.\n",
    " - 1) Local\n",
    " - 2) Enclosing\n",
    " - 3) Global\n",
    " - 4) Built-in"
   ]
  },
  {
   "cell_type": "markdown",
   "metadata": {},
   "source": [
    "#### 002 Local Scope (L)\n",
    "Local scope refers to variables defined inside a function.\n",
    "- Are accessed and executed within the function, and exist as long as the function is executing.\n",
    "- Are destroyed once the function ends."
   ]
  },
  {
   "cell_type": "code",
   "execution_count": 2,
   "metadata": {},
   "outputs": [
    {
     "name": "stdout",
     "output_type": "stream",
     "text": [
      "10\n"
     ]
    }
   ],
   "source": [
    "#Local Scope\n",
    "\n",
    "def my_function():\n",
    "    x = 10          # x is the local variable\n",
    "    print(x)        # x is only accessible only within my_function\n",
    "\n",
    "my_function() # Output: 10\n",
    "print(x) #prints error: x is not defined\n",
    "\n",
    "# x has local scope, and trying to access x outside the function will result in an error."
   ]
  },
  {
   "cell_type": "markdown",
   "metadata": {},
   "source": [
    "#### 003 Enclosing Scope:(E)\n",
    "- enclosing scope refers to the scope of nested functions.\n",
    "- Are accessible only within the inner function and any functions nested within it, but not in the outer functions or global scope."
   ]
  },
  {
   "cell_type": "code",
   "execution_count": 13,
   "metadata": {},
   "outputs": [
    {
     "name": "stdout",
     "output_type": "stream",
     "text": [
      "20 30\n"
     ]
    }
   ],
   "source": [
    "#Enclosing Scope:\n",
    "def outer_function():\n",
    "    outer_variable = 20 #Enclosing variable\n",
    "\n",
    "    def inner_function():\n",
    "        inner_variable = 30 #Inner variable\n",
    "        print(outer_variable, inner_variable) # inner_function can access outer_variable from outer_function\n",
    "\n",
    "    inner_function()\n",
    "\n",
    "outer_function() # Output: 20\n",
    "#print(outer_variable) # Output: Error! outer_variable not defined\n",
    "\n"
   ]
  },
  {
   "cell_type": "markdown",
   "metadata": {},
   "source": [
    "#### 004 Global Scope (G)\n",
    "- Global scope refers to variables defined at the top-level of a script or module, outside of all functions or classes. \n",
    "- Global variables can be accessed from any part of the code, including inside functions (unless overridden by a local variable with the same name).\n",
    "- to modify a global variable inside  a function, it must be explicitly declared as global using the the global keyword.\n",
    "- It's not 'global' without the global keyword."
   ]
  },
  {
   "cell_type": "code",
   "execution_count": 16,
   "metadata": {},
   "outputs": [
    {
     "name": "stdout",
     "output_type": "stream",
     "text": [
      "10\n",
      "10\n",
      "50\n",
      "50\n"
     ]
    }
   ],
   "source": [
    "#Global Scope:\n",
    "\n",
    "global_variable = 10 # Global variable\n",
    "\n",
    "def my_function():\n",
    "    print(global_variable)  # Accessing global variable\n",
    "\n",
    "my_function()\n",
    "print(global_variable)\n",
    "\n",
    "#example 2\n",
    "x = 10      # Global variable\n",
    "\n",
    "def my_func():\n",
    "    global x\n",
    "    x = 50      # Modifying global variable\n",
    "    print(x)    # prints modified function result\n",
    "\n",
    "my_func()\n",
    "print(x)        # Output: 50\n",
    "\n",
    "#Without the global keyword, Python will create a new local variable x inside the function instead of modifying the global x."
   ]
  },
  {
   "cell_type": "markdown",
   "metadata": {},
   "source": [
    "#### 005 Built-In Scope (B)\n",
    "- built-in scope refers to the special reserved names that are part of Python’s built-in functions and objects (such as print(), len(), int(), etc.). \n",
    "- These names are always available in any program unless shadowed by local or global variables.\n",
    "- These functions and keywords exist in the built-in scope, which is the broadest scope available in Pytho"
   ]
  },
  {
   "cell_type": "code",
   "execution_count": 17,
   "metadata": {},
   "outputs": [
    {
     "name": "stdout",
     "output_type": "stream",
     "text": [
      "3\n"
     ]
    }
   ],
   "source": [
    "# Built-In Scope\n",
    "\n",
    "print(len([1, 2, 3]))  # Built-in function len() returns 3"
   ]
  },
  {
   "cell_type": "markdown",
   "metadata": {},
   "source": [
    "#### 006 The LEGB Rule:\n",
    "- Python resolves variable references in a hierarchical manner according to the LEGB rule, which defines the order of scope resolution:\n",
    "Local: \n",
    "        First, Python looks for a variable in the local scope (inside the current function).\n",
    "Enclosing: \n",
    "        If not found, it checks the enclosing scope (the scope of outer functions in case of nested functions).\n",
    "Global: \n",
    "        If it still can’t find the variable, Python looks in the global scope (variables defined outside any function).\n",
    "Built-in: \n",
    "        Lastly, Python checks the built-in scope, which includes Python's built-in functions and objects."
   ]
  },
  {
   "cell_type": "code",
   "execution_count": null,
   "metadata": {},
   "outputs": [],
   "source": [
    "#LEGB in Action.\n",
    "\n",
    "x = \"global\"            # If neither local nor enclosing x existed, Python would check the global x. \n",
    "                        # Finally, if no such variable is found in any of these scopes, Python raises a NameError\n",
    "def outer():\n",
    "    x = \"enclosing\"     #If the local x didn’t exist, Python would check the enclosing scope\n",
    "    \n",
    "    def inner():\n",
    "        x = \"local\"     #is in the local scope of inner()\n",
    "        print(x)  # Local scope\n",
    "    \n",
    "    inner()\n",
    "\n",
    "outer()  # Output: local"
   ]
  },
  {
   "cell_type": "markdown",
   "metadata": {},
   "source": [
    "#### 007 global and nonlocal Keywords\n",
    "- The global keyword is used to modify a global variable inside a function.\n",
    "- The nonlocal keyword is used to modify a variable in the enclosing (non-global) scope within a nested function."
   ]
  },
  {
   "cell_type": "code",
   "execution_count": null,
   "metadata": {},
   "outputs": [],
   "source": [
    "def outer():\n",
    "    x = \"enclosing\"\n",
    "    \n",
    "    def inner():\n",
    "        nonlocal x  # Refers to the enclosing variable\n",
    "        x = \"modified\"\n",
    "        print(x)\n",
    "    \n",
    "    inner()\n",
    "    print(x)\n",
    "\n",
    "outer()\n",
    "# Output: modified (inside inner)\n",
    "# Output: modified (inside outer)"
   ]
  }
 ],
 "metadata": {
  "kernelspec": {
   "display_name": "mypyenv",
   "language": "python",
   "name": "python3"
  },
  "language_info": {
   "codemirror_mode": {
    "name": "ipython",
    "version": 3
   },
   "file_extension": ".py",
   "mimetype": "text/x-python",
   "name": "python",
   "nbconvert_exporter": "python",
   "pygments_lexer": "ipython3",
   "version": "3.12.5"
  }
 },
 "nbformat": 4,
 "nbformat_minor": 2
}
