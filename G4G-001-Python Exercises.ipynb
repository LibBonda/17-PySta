{
 "cells": [
  {
   "cell_type": "markdown",
   "id": "5d566429-65ee-4600-b840-8c477130aa04",
   "metadata": {},
   "source": [
    "### 001.\n",
    "Given a list, write a Python program to swap the first and last element of the list using Python."
   ]
  },
  {
   "cell_type": "code",
   "execution_count": 2,
   "id": "597bf0a6-bc1a-4d7f-ab78-8636f856e753",
   "metadata": {},
   "outputs": [
    {
     "name": "stdout",
     "output_type": "stream",
     "text": [
      "swapped last element with first item: [5, 2, 3, 4, 1]\n"
     ]
    }
   ],
   "source": [
    "#last element in a list has [-1] index\n",
    "#first element in a list has [0] index\n",
    "\n",
    "#initialise list\n",
    "my_list = [1, 2, 3, 4, 5]\n",
    "last_item = my_list[-1]\n",
    "first_item = my_list[0]\n",
    "\n",
    "# interchange last item with first item\n",
    "my_list[0], my_list[-1] = my_list[-1], my_list[0]\n",
    "\n",
    "print(\"swapped last element with first item:\", my_list)"
   ]
  },
  {
   "cell_type": "markdown",
   "id": "c88655ba-8111-4710-97cf-758c4ba0455a",
   "metadata": {},
   "source": [
    "### 002 \n",
    "Interchange first and last elements using Temporary\n",
    "Find the length of the list and simply swap the first element with (n-1)th element."
   ]
  },
  {
   "cell_type": "code",
   "execution_count": 4,
   "id": "982e36b3-9dfa-44e4-954d-dffbcffd6780",
   "metadata": {},
   "outputs": [
    {
     "name": "stdout",
     "output_type": "stream",
     "text": [
      "[32, 25, 8, 47, 12]\n"
     ]
    }
   ],
   "source": [
    "# Python program to swap first and last element in a list\n",
    "\n",
    "#swap function\n",
    "def swapList(newList):\n",
    "    size = len(newList)\n",
    "    \n",
    "    # Swapping \n",
    "    temp = newList[0]\n",
    "    newList[0] =newList[size-1]\n",
    "    newList[size-1] = temp\n",
    "    \n",
    "    return newList\n",
    "# Driver code\n",
    "newList = [12,25, 8, 47, 32]\n",
    "\n",
    "print(swapList(newList))"
   ]
  },
  {
   "cell_type": "markdown",
   "id": "56f13320-5a0e-4e0e-938d-fd037ad44de9",
   "metadata": {},
   "source": [
    "### 003 \n",
    "Swapping first and last items in a list using tuple variable\r\n",
    "Swap the first and last element is using tuple variable. Store the first and last element as a pair in a tuple variable, say get, and unpack those elements with first and last element in that list. Now, the First and last values in that list are swapped. "
   ]
  },
  {
   "cell_type": "code",
   "execution_count": 6,
   "id": "1cdd5166-edb6-42b7-a014-368cf7c57fe9",
   "metadata": {},
   "outputs": [
    {
     "name": "stdout",
     "output_type": "stream",
     "text": [
      "[6, 32, 11, 87, 44, 24]\n"
     ]
    }
   ],
   "source": [
    "# Python3 program to swap first\n",
    "# and last element of a list\n",
    "\n",
    "# Swap function\n",
    "def swapList(list):\n",
    "    # Storing the first and last element\n",
    "    # as a pair in tuple variable get\n",
    "    get = list[-1], list[0]\n",
    "\n",
    "    # unpack those elements\n",
    "    list[0], list[-1] = get\n",
    "    \n",
    "    return list\n",
    "\n",
    "# Driver code\n",
    "newList = [24, 32, 11, 87, 44, 6]\n",
    "print(swapList(newList))"
   ]
  },
  {
   "cell_type": "markdown",
   "id": "2a9be316-3bdd-48b4-915f-19afc1b1b603",
   "metadata": {},
   "source": [
    "### 004 \n",
    "Swap first and last values in a list in Python using * operand\r\n",
    "This operand proposes a change to iterable unpacking syntax, allowing to specify a “catch-all” name which will be assigned a list of all items not assigned to a “regular” name. "
   ]
  },
  {
   "cell_type": "code",
   "execution_count": 13,
   "id": "782918d3-f974-4aa5-a8aa-342199306a97",
   "metadata": {},
   "outputs": [
    {
     "name": "stdout",
     "output_type": "stream",
     "text": [
      "24\n",
      "[32, 11, 87, 44]\n",
      "6\n"
     ]
    }
   ],
   "source": [
    "listA = [24, 32, 11, 87, 44, 6]\n",
    "\n",
    "a, *b, c = listA\n",
    "\n",
    "print(a)\n",
    "print(b)\n",
    "print(c)\n"
   ]
  },
  {
   "cell_type": "markdown",
   "id": "878e17f9-f660-4aa8-a01c-75a93867f85b",
   "metadata": {},
   "source": [
    "### 005\n",
    "Use the # Swap function to swap first  and last element of a list"
   ]
  },
  {
   "cell_type": "code",
   "execution_count": 1,
   "id": "4d81e3a7-54dd-4a98-b859-7245b56fefc4",
   "metadata": {},
   "outputs": [
    {
     "name": "stdout",
     "output_type": "stream",
     "text": [
      "[23, 34, 7, 54, 12]\n"
     ]
    }
   ],
   "source": [
    "#Swap function\n",
    "def swapList(list):\n",
    "    start, *middle, end = list\n",
    "    list = [end, *middle, start]\n",
    "    \n",
    "    return list\n",
    "#executable code\n",
    "newList = [12, 34, 7, 54, 23]\n",
    "\n",
    "print(swapList(newList))"
   ]
  },
  {
   "cell_type": "markdown",
   "id": "83ad9439-fa55-4267-b8d5-54a4c8107373",
   "metadata": {},
   "source": [
    "### 006 \n",
    "To swap first and last values in a list in Python using Slicing,\n",
    "- first check if the list has at least 2 elements\n",
    "- If the list has at least 2 elements, we swap the first and last elements using Python slicing by assigning the value of the last element to the first element and the value of the first element to the last element\n",
    "-Thenn slice the list from the second element to the second-to-last element an,\n",
    "- concatenate it with a list containing the first element and the last element in their new positions."
   ]
  },
  {
   "cell_type": "code",
   "execution_count": 3,
   "id": "669cc6d1-4582-4037-b1d9-bbc2c698ea3e",
   "metadata": {},
   "outputs": [
    {
     "name": "stdout",
     "output_type": "stream",
     "text": [
      "The original input is:  [12, 33, 8, 56, 77, 43]\n",
      "The output after swapping first anand last elements is :  [43, 33, 8, 56, 77, 12]\n"
     ]
    }
   ],
   "source": [
    "def swap_first_last_3(myList):\n",
    "    # Check if list has at least 2 elements in it\n",
    "    if len(myList) >= 2:\n",
    "        #Swap the first and last elements using slicing\n",
    "        myList = myList[-1:] + myList[1:-1] + myList[:1]\n",
    "        return myList\n",
    "\n",
    "#initialise the input\n",
    "inp = [12, 33, 8, 56, 77, 43]\n",
    "\n",
    "#Print the original input\n",
    "print(\"The original input is: \", inp)\n",
    "\n",
    "result = swap_first_last_3(inp)\n",
    "\n",
    "#Print the result\n",
    "print(\"The output after swapping first anand last elements is : \", result)"
   ]
  },
  {
   "cell_type": "markdown",
   "id": "416c7eb2-72bc-4d00-bc46-8918b8a2d5e2",
   "metadata": {},
   "source": [
    "### 007\n",
    "switch the first and last characters in a string Python?\n",
    "To switch the first and last characters in a string in Python, you can use string slicing and concatenation."
   ]
  },
  {
   "cell_type": "code",
   "execution_count": 5,
   "id": "a8e4bfad-7c5b-48b9-8f40-21b1ad9a25c9",
   "metadata": {},
   "outputs": [
    {
     "name": "stdout",
     "output_type": "stream",
     "text": [
      "oellH\n"
     ]
    }
   ],
   "source": [
    "#Sample string\n",
    "my_string = \"Hello\"\n",
    "\n",
    "#swap the string's first and last elements\n",
    "new_string = my_string[-1] + my_string[1 : -1] + my_string[0]\n",
    "\n",
    "print(new_string)"
   ]
  },
  {
   "cell_type": "markdown",
   "id": "b355a031-6e50-4521-9763-faa58943fa56",
   "metadata": {},
   "source": [
    "### 008\n",
    "-To shift elements in a list in Python\r",
    "-Use slicing and concatenation:"
   ]
  },
  {
   "cell_type": "code",
   "execution_count": 9,
   "id": "a8acb6b0-aca8-469f-bcd2-3ab069f2e392",
   "metadata": {},
   "outputs": [
    {
     "name": "stdout",
     "output_type": "stream",
     "text": [
      "[2, 3, 4, 5, 1]\n"
     ]
    }
   ],
   "source": [
    "my_list = [1, 2, 3, 4, 5]\n",
    "\n",
    "#shift elements to the left by one position\n",
    "shifted_list = my_list[1:] + [my_list[0]]\n",
    "\n",
    "print(shifted_list)\n"
   ]
  },
  {
   "cell_type": "markdown",
   "id": "8d757d0a-0791-4687-8436-d6ed97d5d464",
   "metadata": {},
   "source": [
    "### 009\n",
    "To move an element to the end of a list in Python\r",
    "-Use list methods such as pop() and append():"
   ]
  },
  {
   "cell_type": "code",
   "execution_count": 26,
   "id": "a2fd688b-7311-4cba-a073-b038b007e40b",
   "metadata": {},
   "outputs": [
    {
     "name": "stdout",
     "output_type": "stream",
     "text": [
      "[12, 13, 14, 15, 16, 11]\n"
     ]
    }
   ],
   "source": [
    "my_list = [11, 12, 13, 14, 15, 16]\n",
    "my_list.append(my_list.pop(0))\n",
    "\n",
    "print(my_list)"
   ]
  },
  {
   "cell_type": "markdown",
   "id": "1109bfec-0188-494a-a0c4-959561f47761",
   "metadata": {},
   "source": [
    "### 010\n",
    "To swap characters in a string in Python,\n",
    "-convert the string to a list, perform the swap,\n",
    "-and then convert the list back to a string."
   ]
  },
  {
   "cell_type": "code",
   "execution_count": 36,
   "id": "6fce76a3-4d5a-41ba-9706-f651933d5b16",
   "metadata": {},
   "outputs": [
    {
     "name": "stdout",
     "output_type": "stream",
     "text": [
      "nemoL\n"
     ]
    }
   ],
   "source": [
    "my_string = \"Lemon\"\n",
    "my_list = list(my_string) # convert string to list\n",
    "my_list[0], my_list[-1] = my_list[-1], my_list[0] #swap first and last characters\n",
    "new_string = \"\".join(my_list) #convert list back to string\n",
    "\n",
    "print(new_string)"
   ]
  },
  {
   "cell_type": "markdown",
   "id": "23726abb-2e85-4bba-b027-6849c47311e1",
   "metadata": {},
   "source": [
    "### 011\n",
    "-To Swap Two Elements in a List given a list in Python and provided the positions of the elements"
   ]
  },
  {
   "cell_type": "code",
   "execution_count": 1,
   "id": "1fb3b10c-3a93-4acf-b91e-f4e47d673189",
   "metadata": {},
   "outputs": [
    {
     "name": "stdout",
     "output_type": "stream",
     "text": [
      "List after swapping: [100, 400, 300, 200, 500]\n"
     ]
    }
   ],
   "source": [
    "my_list = [100, 200, 300, 400, 500]\n",
    "\n",
    "#swap positions for elements at index 1 and 3\n",
    "pos1, pos2 = 1, 3\n",
    "\n",
    "#swap the elements\n",
    "my_list[pos1], my_list[pos2] = my_list[pos2], my_list[pos1]\n",
    "\n",
    "print(\"List after swapping:\", my_list)"
   ]
  },
  {
   "cell_type": "markdown",
   "id": "4596b3fb-1e3e-4c25-9f04-162cb2722603",
   "metadata": {},
   "source": [
    "### 012\n",
    "# Switch Position of Two Items in a Python list using Temporary Variable\n",
    "-define a function swapPositions that swaps two elements in a list using their positions. The Driver function demonstrates swapping elements at specified positions in the list."
   ]
  },
  {
   "cell_type": "code",
   "execution_count": 3,
   "id": "d71ec34a-853e-47a0-bd3c-556ecc2ab142",
   "metadata": {},
   "outputs": [
    {
     "name": "stdout",
     "output_type": "stream",
     "text": [
      "[16, 65, 20, 81, 35]\n"
     ]
    }
   ],
   "source": [
    "# Swap function\n",
    "def swapPositions(lis, pos1, pos2):\n",
    "    temp = lis[pos1]\n",
    "    lis[pos1] = lis[pos2]\n",
    "    lis[pos2] = temp\n",
    "    return lis\n",
    "# Driver function\n",
    "List = [20, 65, 16, 81, 35]\n",
    "pos1, pos2 = 1, 3\n",
    "\n",
    "print(swapPositions(List, pos1-1, pos2-1))\n",
    "    "
   ]
  },
  {
   "cell_type": "markdown",
   "id": "31d269f7-ee73-473e-9f78-d0364ff9bbb4",
   "metadata": {},
   "source": [
    "### 013\n",
    "# Swap Two Elements in a List Using Tuple Variable\n",
    "-Store the element at pos1 and pos2 as a pair in a tuple variable, say get.\n",
    "-Unpack those elements with pos2 and pos1 positions in that list."
   ]
  },
  {
   "cell_type": "code",
   "execution_count": 3,
   "id": "5e659020-4dd8-451a-a687-2607933f213f",
   "metadata": {},
   "outputs": [
    {
     "name": "stdout",
     "output_type": "stream",
     "text": [
      "[109, 65, 203, 900, 333]\n"
     ]
    }
   ],
   "source": [
    "# Swap function\n",
    "def swapPositions(list, pos1, pos2):\n",
    "    # Storing the two elements as a pair in a tuple variable get\n",
    "    get = list[pos1], list[pos2]\n",
    "\n",
    "    #unpack the elements\n",
    "    list[pos2], list[pos1] = get\n",
    "\n",
    "    return list\n",
    "\n",
    "# Driver Code\n",
    "List = [203, 65, 109, 900, 333]\n",
    "pos1, pos2 = 1, 3\n",
    "print(swapPositions(List, pos1-1, pos2-1))"
   ]
  },
  {
   "cell_type": "markdown",
   "id": "e0e271b7-4851-468f-8c9b-ab4150402560",
   "metadata": {},
   "source": [
    "### 014\n",
    "# Swap Two Elements in a List using Inbuilt list.pop()\n",
    "-Pop the element at pos1 and store it in a variable.\n",
    "-Similarly, pop the element at pos2 and store it in another variable.\n",
    "-Now insert the two popped element at each other’s original position. "
   ]
  },
  {
   "cell_type": "code",
   "execution_count": 7,
   "id": "10783b8c-498e-422a-b646-5568f5c1abed",
   "metadata": {},
   "outputs": [
    {
     "name": "stdout",
     "output_type": "stream",
     "text": [
      "[65, 105, 119, 13, 33]\n"
     ]
    }
   ],
   "source": [
    "#swap elements at given positions\n",
    "\n",
    "#Swap function\n",
    "def swapPositions(list, pos1, pos2):\n",
    "\n",
    "    #pop both elements from list\n",
    "    firstElement = list.pop(pos1)\n",
    "    secondElement = list.pop(pos2-1)\n",
    "    \n",
    "    #inserting in each others positions\n",
    "    list.insert(pos1, secondElement)\n",
    "    list.insert(pos2, firstElement)\n",
    "\n",
    "    return list\n",
    "\n",
    "# Driver function\n",
    "List = [13, 105, 119, 65, 33]\n",
    "pos1, pos2 = 1, 4\n",
    "\n",
    "print(swapPositions(List, pos1-1, pos2-1))"
   ]
  },
  {
   "cell_type": "markdown",
   "id": "2981d6bc-71a3-4b1c-978d-28502dfe37a6",
   "metadata": {},
   "source": [
    "### Swap Two Elements in a List using Enumerate\n",
    "-To swap elements in a list use the enumerate function to get the index and value of each element in the list,\n",
    "-then use a loop to find the elements that need to be swapped and swap them."
   ]
  },
  {
   "cell_type": "code",
   "execution_count": 9,
   "id": "2f19c251-1a11-464e-a156-ed631de4246e",
   "metadata": {},
   "outputs": [
    {
     "name": "stdout",
     "output_type": "stream",
     "text": [
      "[77, 23, 65, 19, 90]\n"
     ]
    }
   ],
   "source": [
    "#Sawp function\n",
    "def swapPositions(lis, pos1, pos2):\n",
    "    for i, x in enumerate(lis):\n",
    "        if i == pos1:\n",
    "            element1 = x\n",
    "        if i == pos2:\n",
    "            element2 = x\n",
    "    lis[pos1] = element2\n",
    "    lis[pos2] = element1\n",
    "    return lis\n",
    "List = [19, 23, 65, 77, 90]\n",
    "pos1, pos2 = 1, 4\n",
    "print(swapPositions(List, pos1-1, pos2-1))"
   ]
  },
  {
   "cell_type": "code",
   "execution_count": null,
   "id": "f13d67d9-509b-4417-979e-5c7c980b5e50",
   "metadata": {},
   "outputs": [],
   "source": []
  }
 ],
 "metadata": {
  "kernelspec": {
   "display_name": "Python 3 (ipykernel)",
   "language": "python",
   "name": "python3"
  },
  "language_info": {
   "codemirror_mode": {
    "name": "ipython",
    "version": 3
   },
   "file_extension": ".py",
   "mimetype": "text/x-python",
   "name": "python",
   "nbconvert_exporter": "python",
   "pygments_lexer": "ipython3",
   "version": "3.11.7"
  }
 },
 "nbformat": 4,
 "nbformat_minor": 5
}
