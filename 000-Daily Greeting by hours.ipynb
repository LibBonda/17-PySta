{
 "cells": [
  {
   "cell_type": "code",
   "execution_count": 7,
   "id": "be48a2a7-e6b5-40bc-bcb5-896541ba90aa",
   "metadata": {},
   "outputs": [
    {
     "name": "stdout",
     "output_type": "stream",
     "text": [
      "Good Afternoon\n"
     ]
    }
   ],
   "source": [
    "hours = int(input(\"Enter hours: \"))\n",
    "\n",
    "if hours < 12:\n",
    "    print(\"Good Morning\")\n",
    "elif hours < 16:\n",
    "    print(\"Good Afternoon\")\n",
    "elif hours < 19:\n",
    "    print(\"Good Evening\")\n",
    "else:\n",
    "    print(\"Good Night\")"
   ]
  },
  {
   "cell_type": "code",
   "execution_count": 2,
   "id": "f3fbdd1c-68cc-4a82-8c27-85ef8a14fab3",
   "metadata": {},
   "outputs": [
    {
     "name": "stdout",
     "output_type": "stream",
     "text": [
      "Python\n"
     ]
    }
   ],
   "source": [
    "p = \"python\"\n",
    "#p[0] = \"P\"\n",
    "print(p.capitalize())"
   ]
  },
  {
   "cell_type": "code",
   "execution_count": 3,
   "id": "0a25d5b3-ee09-4fdd-8c34-8a2269e0f6e4",
   "metadata": {},
   "outputs": [
    {
     "name": "stdout",
     "output_type": "stream",
     "text": [
      "maJ\n"
     ]
    }
   ],
   "source": [
    "var = \"James Bond\"\n",
    "print(var[2::-1])"
   ]
  },
  {
   "cell_type": "code",
   "execution_count": 4,
   "id": "0146339c-aa50-4599-a2ea-0d3233816dc7",
   "metadata": {},
   "outputs": [
    {
     "name": "stdout",
     "output_type": "stream",
     "text": [
      "10 20 30\n"
     ]
    }
   ],
   "source": [
    "p, q, r = 10, 20 ,30\n",
    "print(p, q, r)"
   ]
  },
  {
   "cell_type": "code",
   "execution_count": 5,
   "id": "c87cf49e-3f83-485f-9047-3e3bead6d6c5",
   "metadata": {},
   "outputs": [
    {
     "name": "stdout",
     "output_type": "stream",
     "text": [
      "Salary: 8000\n",
      "Salary: 12000\n"
     ]
    }
   ],
   "source": [
    "salary = 8000\n",
    "\n",
    "def printSalary():\n",
    "  salary = 12000\n",
    "  print(\"Salary:\", salary)\n",
    "  \n",
    "print(\"Salary:\", salary)\n",
    "printSalary()"
   ]
  },
  {
   "cell_type": "code",
   "execution_count": 6,
   "id": "85a6bfca-2a91-41a6-a631-bfae8352109e",
   "metadata": {},
   "outputs": [
    {
     "name": "stdout",
     "output_type": "stream",
     "text": [
      "\n",
      "\n",
      "Printing Employee Details\n",
      "Name Salary Company\n",
      "James Bond 2000 CGHQ\n"
     ]
    }
   ],
   "source": [
    "# take three values from user\n",
    "name = input(\"Enter Employee Name: \")\n",
    "salary = input(\"Enter salary: \")\n",
    "company = input(\"Enter Company name: \")\n",
    "\n",
    "# Display all values on screen\n",
    "print(\"\\n\")\n",
    "print(\"Printing Employee Details\")\n",
    "print(\"Name\", \"Salary\", \"Company\")\n",
    "print(name, salary, company)\n"
   ]
  }
 ],
 "metadata": {
  "kernelspec": {
   "display_name": "Python 3",
   "language": "python",
   "name": "python3"
  },
  "language_info": {
   "codemirror_mode": {
    "name": "ipython",
    "version": 3
   },
   "file_extension": ".py",
   "mimetype": "text/x-python",
   "name": "python",
   "nbconvert_exporter": "python",
   "pygments_lexer": "ipython3",
   "version": "3.13.6"
  }
 },
 "nbformat": 4,
 "nbformat_minor": 5
}
