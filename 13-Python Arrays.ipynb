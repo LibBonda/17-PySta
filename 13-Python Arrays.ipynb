{
 "cells": [
  {
   "cell_type": "markdown",
   "metadata": {},
   "source": [
    "### 001 Arrays\n",
    "- definition: An array is a special variable which can hold more than one value at a time.\n",
    "- eg.   # Create an array containing car names:\n",
    "        cars = ['Peugeot', 'Ford', 'Volvo', 'Toyota']\n",
    "- Note: Python does not have built-in support for Arrays, but Python Lists can be used instead.\n",
    "- use LISTS as ARRAYS, however, to work with arrays in Python you will have to import a library, like the NumPy library."
   ]
  },
  {
   "cell_type": "code",
   "execution_count": 2,
   "metadata": {},
   "outputs": [
    {
     "name": "stdout",
     "output_type": "stream",
     "text": [
      "Peugeot\n",
      "4\n"
     ]
    }
   ],
   "source": [
    "# An array is a variable that can hold many values under a single name, values can be accessed by referring to the index number.\n",
    "\n",
    "# get the value of the firsarray item:\n",
    "\n",
    "# Create an array containing car names:\n",
    "cars = ['Peugeot', 'Ford', 'Volvo', 'Toyota']\n",
    "\n",
    "x = cars[0]\n",
    "\n",
    "# use the len() method to return the length of an array (the number of elements in an array).\n",
    "y = len(cars)\n",
    "\n",
    "print(x)\n",
    "print(y)"
   ]
  },
  {
   "cell_type": "markdown",
   "metadata": {},
   "source": [
    "### 002 Looping in Arrays\n",
    "- Looping Array Elements\n",
    "- You can use the for in loop to loop through all the elements of an array."
   ]
  },
  {
   "cell_type": "code",
   "execution_count": 19,
   "metadata": {},
   "outputs": [
    {
     "name": "stdout",
     "output_type": "stream",
     "text": [
      "Peugeot\n",
      "Ford\n",
      "Volvo\n",
      "Toyota\n"
     ]
    }
   ],
   "source": [
    "# print each item in the cars array\n",
    "for i in cars:\n",
    "    print(i)"
   ]
  },
  {
   "cell_type": "markdown",
   "metadata": {},
   "source": [
    "### 003 Add Array Elements\n",
    "- Use the append() method to add an element to the array"
   ]
  },
  {
   "cell_type": "code",
   "execution_count": 20,
   "metadata": {},
   "outputs": [
    {
     "name": "stdout",
     "output_type": "stream",
     "text": [
      "['Peugeot', 'Ford', 'Volvo', 'Toyota', 'Porsche']\n"
     ]
    }
   ],
   "source": [
    "# Use the append() method to add an element to the array\n",
    "\n",
    "cars.append(\"Porsche\")\n",
    "\n",
    "print(cars)"
   ]
  },
  {
   "cell_type": "markdown",
   "metadata": {},
   "source": [
    "### 004 Remove Array Elements\n",
    "- Use the pop() method to remove an element to the array"
   ]
  },
  {
   "cell_type": "code",
   "execution_count": 21,
   "metadata": {},
   "outputs": [
    {
     "name": "stdout",
     "output_type": "stream",
     "text": [
      "['Peugeot', 'Ford', 'Volvo', 'Toyota']\n"
     ]
    }
   ],
   "source": [
    "# remove fifth element in the array\n",
    "cars.pop()\n",
    "\n",
    "print(cars)"
   ]
  },
  {
   "cell_type": "markdown",
   "metadata": {},
   "source": [
    "### 005 Array Methods\n",
    "Method\t      Description\n",
    "append()\t  Adds an element at the end of the list\n",
    "clear()\t      Removes all the elements from the list\n",
    "copy()\t      Returns a copy of the list\n",
    "count()\t      Returns the number of elements with the specified value\n",
    "extend()\t  Add the elements of a list (or any iterable), to the end of the current list\n",
    "index()\t      Returns the index of the first element with the specified value\n",
    "insert()\t  Adds an element at the specified position\n",
    "pop()\t      Removes the element at the specified position\n",
    "remove()\t  Removes the first item with the specified value\n",
    "reverse()\t  Reverses the order of the list\n",
    "sort()\t      Sorts the list"
   ]
  }
 ],
 "metadata": {
  "kernelspec": {
   "display_name": "mypyenv",
   "language": "python",
   "name": "python3"
  },
  "language_info": {
   "codemirror_mode": {
    "name": "ipython",
    "version": 3
   },
   "file_extension": ".py",
   "mimetype": "text/x-python",
   "name": "python",
   "nbconvert_exporter": "python",
   "pygments_lexer": "ipython3",
   "version": "3.12.5"
  }
 },
 "nbformat": 4,
 "nbformat_minor": 2
}
