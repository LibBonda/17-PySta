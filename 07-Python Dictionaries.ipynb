{
 "cells": [
  {
   "cell_type": "markdown",
   "id": "eb290f29-1030-4da5-924c-4913a315d69c",
   "metadata": {},
   "source": [
    "### Dictionary\r\n",
    "Dictionaries are used to store data values in key:value pairs\r\n",
    "\r\n",
    "A dictionary is a collection which is ordered*, changeable and do not allow duplicates."
   ]
  },
  {
   "cell_type": "code",
   "execution_count": 2,
   "id": "947949b7-cfbe-4267-92ce-7c3805bc971b",
   "metadata": {},
   "outputs": [
    {
     "name": "stdout",
     "output_type": "stream",
     "text": [
      "{'brand': 'Ford', 'model': 'Mustang', 'year': 1964}\n"
     ]
    }
   ],
   "source": [
    "# Create and print a dictionary:\n",
    "car_dict = {\n",
    "  \"brand\": \"Ford\",\n",
    "  \"model\": \"Mustang\",\n",
    "  \"year\": 1964\n",
    "}\n",
    "print(car_dict)"
   ]
  },
  {
   "cell_type": "markdown",
   "id": "f33b4319-c077-4ca0-a6be-be8eb04a2156",
   "metadata": {},
   "source": [
    "### Dictionary Items\n",
    "-Dictionary items are ordered, changeable, and do not allow duplicates.\n",
    "-Dictionary items are presented in key:value pairs, and can be referred to by using the key name.\n",
    "-Dictionaries are ordered, it means that the items have a defined order, and that order will not change.\n",
    "Unordered means that the items do not have a defined order, you cannot refer to an item by using an inde\n",
    "-Dictionaries are changeable, meaning that we can change, add or remove items after the dictionary has been created.\n",
    "-Dictionaries cannot have two items with the same key: Duplicate values will overwrite existing values:x."
   ]
  },
  {
   "cell_type": "code",
   "execution_count": 4,
   "id": "b28f3745-9fda-4ae4-9b15-b37d4cfbe0ba",
   "metadata": {},
   "outputs": [
    {
     "name": "stdout",
     "output_type": "stream",
     "text": [
      "Ford\n"
     ]
    }
   ],
   "source": [
    "# Print the \"brand\" value of the dictionary:\n",
    "\n",
    "car_dict = {\n",
    "  \"brand\": \"Ford\",\n",
    "  \"model\": \"Mustang\",\n",
    "  \"year\": 1964\n",
    "}\n",
    "print(car_dict[\"brand\"])"
   ]
  },
  {
   "cell_type": "code",
   "execution_count": 5,
   "id": "70df0d0b-b06c-45d7-8ba4-867813a756a9",
   "metadata": {},
   "outputs": [
    {
     "name": "stdout",
     "output_type": "stream",
     "text": [
      "{'brand': 'Ford', 'model': 'Mustang', 'year': 2020}\n"
     ]
    }
   ],
   "source": [
    "# Duplicate values will overwrite existing values:\n",
    "\n",
    "car_dict = {\n",
    "  \"brand\": \"Ford\",\n",
    "  \"model\": \"Mustang\",\n",
    "  \"year\": 1964,\n",
    "  \"year\": 2020\n",
    "}\n",
    "print(car_dict)"
   ]
  },
  {
   "cell_type": "markdown",
   "id": "37991e99-db3d-4853-9f73-597e2748ae4c",
   "metadata": {},
   "source": [
    "### Dictionary Length\r\n",
    "To determine how many items a dictionary has, use the len() function:"
   ]
  },
  {
   "cell_type": "code",
   "execution_count": 7,
   "id": "15323fbc-32e6-4a9b-8b50-0002a452922e",
   "metadata": {},
   "outputs": [
    {
     "name": "stdout",
     "output_type": "stream",
     "text": [
      "3\n"
     ]
    }
   ],
   "source": [
    "car_dict = {\n",
    "  \"brand\": \"Ford\",\n",
    "  \"model\": \"Mustang\",\n",
    "  \"year\": 1964,\n",
    "  \"year\": 2020\n",
    "}\n",
    "print(len(car_dict))"
   ]
  },
  {
   "cell_type": "markdown",
   "id": "9d6a2439-be7c-4fb0-bb6a-a8345cefcae5",
   "metadata": {},
   "source": [
    "### Dictionary Items - Data Types\r\n",
    "The values in dictionary items can be of any data type String, int, boolean, and list data types::"
   ]
  },
  {
   "cell_type": "code",
   "execution_count": 9,
   "id": "f67f632f-5171-4657-b5df-c11271a8136f",
   "metadata": {},
   "outputs": [
    {
     "name": "stdout",
     "output_type": "stream",
     "text": [
      "{'brand': 'Ford', 'model': 'Mustang', 'electric': False, 'satnav': True, 'year': 1964, 'colors': ['red', 'white', 'blue', 'yellow']}\n",
      "6\n",
      "<class 'dict'>\n"
     ]
    }
   ],
   "source": [
    "car_dict = {\n",
    "  \"brand\": \"Ford\",\n",
    "  \"model\": \"Mustang\",\n",
    "  \"electric\": False,\n",
    "  \"satnav\": True,\n",
    "  \"year\": 1964,\n",
    "  \"colors\": [\"red\", \"white\", \"blue\", \"yellow\"]\n",
    "}\n",
    "print(car_dict)\n",
    "print(len(car_dict))\n",
    "print(type(car_dict))"
   ]
  },
  {
   "cell_type": "markdown",
   "id": "195062c7-4dba-4132-96eb-25e5ed7b71ec",
   "metadata": {},
   "source": [
    "### The dict() Constructor\n",
    "It is also possible to use the dict() constructor to make a dictionary."
   ]
  },
  {
   "cell_type": "code",
   "execution_count": 11,
   "id": "19fe0247-c9c1-45e0-88f3-736e418c24d5",
   "metadata": {},
   "outputs": [
    {
     "name": "stdout",
     "output_type": "stream",
     "text": [
      "{'name': 'James', 'Surname': 'Bond', 'age': 35, 'country': 'Scotland', 'office': 'GCHQ', 'city': 'London'}\n"
     ]
    }
   ],
   "source": [
    "#Using the dict() method to make a dictionary:\n",
    "\n",
    "mydict = dict(name = \"James\", Surname = \"Bond\", age = 35, country = \"Scotland\", office = \"GCHQ\", city = \"London\")\n",
    "print(mydict)"
   ]
  },
  {
   "cell_type": "markdown",
   "id": "172b5606-fb5e-4e56-a03b-5e27586714e8",
   "metadata": {},
   "source": [
    "### Accessing Items\r\n",
    "You can access the items of a dictionary by referring to its key name, inside square brackets:"
   ]
  },
  {
   "cell_type": "code",
   "execution_count": 13,
   "id": "ed655e07-8efb-45bb-80fc-a68c11f580db",
   "metadata": {},
   "outputs": [
    {
     "name": "stdout",
     "output_type": "stream",
     "text": [
      "Mustang\n"
     ]
    }
   ],
   "source": [
    "# Get the value of the \"model\" key:\n",
    "car_dict = {\n",
    "  \"brand\": \"Ford\",\n",
    "  \"model\": \"Mustang\",\n",
    "  \"electric\": False,\n",
    "  \"satnav\": True,\n",
    "  \"year\": 1964,\n",
    "  \"colors\": [\"red\", \"white\", \"blue\", \"yellow\"]\n",
    "}\n",
    "\n",
    "x = car_dict[\"model\"]\n",
    "print(x)"
   ]
  },
  {
   "cell_type": "markdown",
   "id": "c2759999-1cd4-48a1-af91-01abbda2edf8",
   "metadata": {},
   "source": [
    "### get() method\n",
    "The get() method will give the same result:"
   ]
  },
  {
   "cell_type": "code",
   "execution_count": 15,
   "id": "78d7c454-6753-4381-a1b8-685b8f079722",
   "metadata": {},
   "outputs": [
    {
     "name": "stdout",
     "output_type": "stream",
     "text": [
      "Mustang\n"
     ]
    }
   ],
   "source": [
    "# Use the get() method to get the value of the \"model\" key:\n",
    "car_dict = {\n",
    "  \"brand\": \"Ford\",\n",
    "  \"model\": \"Mustang\",\n",
    "  \"electric\": False,\n",
    "  \"satnav\": True,\n",
    "  \"year\": 1964,\n",
    "  \"colors\": [\"red\", \"white\", \"blue\", \"yellow\"]\n",
    "}\n",
    "\n",
    "x = car_dict.get(\"model\")\n",
    "print(x)"
   ]
  },
  {
   "cell_type": "markdown",
   "id": "b13418ca-1abc-4ccd-b46e-be0e66c024c0",
   "metadata": {},
   "source": [
    "### Get Keys\r\n",
    "The keys() method will return a list of all the keys in the dictionary\n",
    "The list of the keys is a view of the dictionary, meaning that any changes done to the dictionary will be reflected in the keys list.."
   ]
  },
  {
   "cell_type": "code",
   "execution_count": 31,
   "id": "96975b5a-2f8f-4375-ac4e-ed8bccea5a98",
   "metadata": {},
   "outputs": [
    {
     "name": "stdout",
     "output_type": "stream",
     "text": [
      "dict_keys(['brand', 'model', 'electric', 'satnav', 'year', 'colors'])\n"
     ]
    }
   ],
   "source": [
    "#Get a list of the keys:\n",
    "car_dict = {\n",
    "  \"brand\": \"Ford\",\n",
    "  \"model\": \"Mustang\",\n",
    "  \"electric\": False,\n",
    "  \"satnav\": True,\n",
    "  \"year\": 1964,\n",
    "  \"colors\": [\"red\", \"white\", \"blue\", \"yellow\"]\n",
    "}\n",
    "x = car_dict.keys()\n",
    "print(x)"
   ]
  },
  {
   "cell_type": "code",
   "execution_count": 49,
   "id": "2a4e676c-2da4-4e22-a4b3-cec309f2490c",
   "metadata": {},
   "outputs": [
    {
     "name": "stdout",
     "output_type": "stream",
     "text": [
      "dict_keys(['brand', 'model', 'electric', 'satnav', 'year'])\n",
      "dict_keys(['brand', 'model', 'electric', 'satnav', 'year', 'color'])\n"
     ]
    }
   ],
   "source": [
    "# Add a new item to the original dictionary, and see that the keys list gets updated as well:\n",
    "car = {\n",
    "  \"brand\": \"Ford\",\n",
    "  \"model\": \"Mustang\",\n",
    "  \"electric\": False,\n",
    "  \"satnav\": True,\n",
    "  \"year\": 1964,\n",
    "  }\n",
    "x = car.keys()\n",
    "\n",
    "print(x) # before the change\n",
    "\n",
    "car[\"color\"] = \"red\"\n",
    "\n",
    "print(x) #after the change"
   ]
  },
  {
   "cell_type": "markdown",
   "id": "99df1096-3387-4962-86a7-55183d2a6b19",
   "metadata": {},
   "source": [
    "### Get Values\r\n",
    "The values() method will return a list of all the values in the dictionary."
   ]
  },
  {
   "cell_type": "code",
   "execution_count": 65,
   "id": "67a00128-f9e1-497e-96f7-b3f91a7512b6",
   "metadata": {},
   "outputs": [
    {
     "name": "stdout",
     "output_type": "stream",
     "text": [
      "dict_values(['Peugeot', '5008', 2024])\n",
      "dict_values(['Peugeot', '5008', 2022])\n"
     ]
    }
   ],
   "source": [
    "car = {\n",
    "    \"brand\": \"Peugeot\",\n",
    "    \"model\": \"5008\",\n",
    "    \"year\" : 2024\n",
    "}\n",
    "\n",
    "x = car.values() #before the change\n",
    "\n",
    "print(x)\n",
    "\n",
    "car[\"year\"] = 2022\n",
    "\n",
    "print(x) #after the change"
   ]
  },
  {
   "cell_type": "code",
   "execution_count": 67,
   "id": "df085ec2-f2b9-4fd9-ac4a-f9ea17ca1fa4",
   "metadata": {},
   "outputs": [
    {
     "name": "stdout",
     "output_type": "stream",
     "text": [
      "dict_values(['Peugeot', '5008', 2024])\n",
      "dict_values(['Peugeot', '5008', 2024, 'red'])\n"
     ]
    }
   ],
   "source": [
    "# Add a new item to the original dictionary, and see that the values list gets updated as well:\n",
    "car = {\n",
    "    \"brand\": \"Peugeot\",\n",
    "    \"model\": \"5008\",\n",
    "    \"year\" : 2024\n",
    "}\n",
    "\n",
    "x = car.values() #before the change\n",
    "\n",
    "print(x)\n",
    "\n",
    "car[\"color\"] = \"red\"\n",
    "\n",
    "print(x) #after the change\n"
   ]
  },
  {
   "cell_type": "markdown",
   "id": "7c0e15fc-0885-4c1f-a119-17f38c90720d",
   "metadata": {},
   "source": [
    "### Get Items\r\n",
    "The items() method will return each item in a dictionary, as tuples in a list\n",
    "The returned list is a view of the items of the dictionary, meaning that any changes done to the dictionary will be reflected in the items list.."
   ]
  },
  {
   "cell_type": "code",
   "execution_count": 69,
   "id": "e6f09dc9-8d55-4822-a844-184d58fa82ec",
   "metadata": {},
   "outputs": [
    {
     "name": "stdout",
     "output_type": "stream",
     "text": [
      "dict_items([('brand', 'Peugeot'), ('model', '5008'), ('year', 2024)])\n"
     ]
    }
   ],
   "source": [
    "car = {\n",
    "    \"brand\": \"Peugeot\",\n",
    "    \"model\": \"5008\",\n",
    "    \"year\" : 2024\n",
    "}\n",
    "\n",
    "x = car.items() #get items in the dictionary, returns a list \n",
    "\n",
    "print(x)\n"
   ]
  },
  {
   "cell_type": "code",
   "execution_count": 77,
   "id": "06f25841-f5a4-4c64-b4c3-54d80fa4c69f",
   "metadata": {},
   "outputs": [
    {
     "name": "stdout",
     "output_type": "stream",
     "text": [
      "dict_items([('brand', 'Peugeot'), ('model', '5008'), ('year', 2024)])\n",
      "dict_items([('brand', 'Peugeot'), ('model', '208'), ('year', 1994), ('color', 'green')])\n"
     ]
    }
   ],
   "source": [
    "# Make a change in the original dictionary, and see that the items list gets updated as well:\n",
    "# Add a new item to the original dictionary, and see that the items list gets updated as well:\n",
    "car = {\n",
    "    \"brand\": \"Peugeot\",\n",
    "    \"model\": \"5008\",\n",
    "    \"year\" : 2024\n",
    "}\n",
    "\n",
    "x = car.items() #get items in the dictionary, returns a list \n",
    "\n",
    "print(x) # before the change\n",
    "\n",
    "car[\"model\"] = \"208\"\n",
    "car[\"year\"] = 1994\n",
    "car[\"color\"] = \"green\"\n",
    "\n",
    "print(x) # after the change"
   ]
  },
  {
   "cell_type": "markdown",
   "id": "f41c939f-62e0-4665-ac38-9138776a6dc9",
   "metadata": {},
   "source": [
    "### Check if Key Exists\r\n",
    "To determine if a specified key is present in a dictionary use the in keyword\n"
   ]
  },
  {
   "cell_type": "code",
   "execution_count": 79,
   "id": "ad986913-fcbe-4cd5-9a8c-512bcf9b6e9e",
   "metadata": {},
   "outputs": [
    {
     "name": "stdout",
     "output_type": "stream",
     "text": [
      "Yes, 'model' is one of the keys in the thisdict dictionary\n"
     ]
    }
   ],
   "source": [
    "# Check if \"model\" is present in the dictionary:\n",
    "thisdict = {\n",
    "  \"brand\": \"Ford\",\n",
    "  \"model\": \"Mustang\",\n",
    "  \"year\": 1964\n",
    "}\n",
    "if \"model\" in thisdict:\n",
    "  print(\"Yes, 'model' is one of the keys in the thisdict dictionary\")\n",
    "    "
   ]
  },
  {
   "cell_type": "markdown",
   "id": "11fb4ca5-1c31-4f7b-bc25-71214ea92ac4",
   "metadata": {},
   "source": [
    "### Change Values\r\n",
    "You can change the value of a specific item by referring to its key name:"
   ]
  },
  {
   "cell_type": "code",
   "execution_count": 81,
   "id": "8bb313a5-2f07-42aa-9842-0664c49705d0",
   "metadata": {},
   "outputs": [
    {
     "name": "stdout",
     "output_type": "stream",
     "text": [
      "{'brand': 'Ford', 'model': 'Mustang', 'year': 2018}\n"
     ]
    }
   ],
   "source": [
    "# change the \"year\" to 2018\n",
    "thisdict = {\n",
    "  \"brand\": \"Ford\",\n",
    "  \"model\": \"Mustang\",\n",
    "  \"year\": 1964\n",
    "}\n",
    "thisdict[\"year\"] = 2018\n",
    "\n",
    "print(thisdict)"
   ]
  },
  {
   "cell_type": "markdown",
   "id": "aeede01f-acbf-42cb-96e5-1a8c4eb2f7d9",
   "metadata": {},
   "source": [
    "### Update Dictionary\r\n",
    "The update() method will update the dictionary with the items from the given argument\r\n",
    "\r\n",
    "The argument must be a dictionary, or an iterable object with key:value pairs."
   ]
  },
  {
   "cell_type": "code",
   "execution_count": 85,
   "id": "30c8fe19-daf8-4465-8a1c-1ea27bdd7deb",
   "metadata": {},
   "outputs": [
    {
     "name": "stdout",
     "output_type": "stream",
     "text": [
      "{'brand': 'Ford', 'model': 'Mustang', 'year': 2023}\n"
     ]
    }
   ],
   "source": [
    "# Update the \"year\" of the car by using the update() method:\n",
    "thisdict = {\n",
    "  \"brand\": \"Ford\",\n",
    "  \"model\": \"Mustang\",\n",
    "  \"year\": 1964\n",
    "}\n",
    "thisdict.update({\"year\": 2023})\n",
    "\n",
    "print(thisdict)"
   ]
  },
  {
   "cell_type": "markdown",
   "id": "40ab94a2-441a-4c6f-ab6c-4492e2e6518e",
   "metadata": {},
   "source": [
    "### Adding Items\r\n",
    "Adding an item to the dictionary is done by using a new index key and assigning a value to it:"
   ]
  },
  {
   "cell_type": "code",
   "execution_count": 89,
   "id": "1fedd501-5965-4e8e-9d92-aadaf7e7ba44",
   "metadata": {},
   "outputs": [
    {
     "name": "stdout",
     "output_type": "stream",
     "text": [
      "{'brand': 'Ford', 'model': 'Mustang', 'year': 1964, 'color': 'red'}\n"
     ]
    }
   ],
   "source": [
    "mycar = {\n",
    "  \"brand\": \"Ford\",\n",
    "  \"model\": \"Mustang\",\n",
    "  \"year\": 1964\n",
    "}\n",
    "mycar[\"color\"] = \"red\"\n",
    "print(mycar)"
   ]
  },
  {
   "cell_type": "markdown",
   "id": "b1d852b7-f890-497d-99bd-67a8d395ced4",
   "metadata": {},
   "source": [
    "### Update Dictionary\r\n",
    "The update() method will update the dictionary with the items from a given argument. If the item does not exist, the item will be added\r\n",
    "\r\n",
    "The argument must be a dictionary, or an iterable object with key:value pairs."
   ]
  },
  {
   "cell_type": "code",
   "execution_count": 91,
   "id": "6a98ffbf-b538-461c-97a9-1eef73c54d17",
   "metadata": {},
   "outputs": [
    {
     "name": "stdout",
     "output_type": "stream",
     "text": [
      "{'brand': 'Ford', 'model': 'Mustang', 'year': 1964, 'color': 'red'}\n"
     ]
    }
   ],
   "source": [
    "mycar = {\n",
    "  \"brand\": \"Ford\",\n",
    "  \"model\": \"Mustang\",\n",
    "  \"year\": 1964\n",
    "}\n",
    "mycar.update({\"color\": \"red\"})\n",
    "print(mycar)"
   ]
  },
  {
   "cell_type": "markdown",
   "id": "b98e67d8-3701-4771-8ca5-0909241a56a2",
   "metadata": {},
   "source": [
    "### Removing Items\n",
    "The pop() method removes the item with the specified key name:\n",
    "The popitem() method removes the last inserted item (in versions before 3.7, a random item is removed instead)\n",
    "The del keyword removes the item with the specified key name\n",
    "The clear() method empties the dictionary:"
   ]
  },
  {
   "cell_type": "code",
   "execution_count": 93,
   "id": "e6fc2208-4fb9-4d07-826a-0541d06b32c3",
   "metadata": {},
   "outputs": [
    {
     "name": "stdout",
     "output_type": "stream",
     "text": [
      "{'brand': 'Ford', 'year': 1964}\n"
     ]
    }
   ],
   "source": [
    "#pop() method\n",
    "mycar = {\n",
    "  \"brand\": \"Ford\",\n",
    "  \"model\": \"Mustang\",\n",
    "  \"year\": 1964\n",
    "}\n",
    "mycar.pop(\"model\")\n",
    "print(mycar)"
   ]
  },
  {
   "cell_type": "code",
   "execution_count": 97,
   "id": "9494ab5d-a63b-497a-9353-8de76469c388",
   "metadata": {},
   "outputs": [
    {
     "name": "stdout",
     "output_type": "stream",
     "text": [
      "{'brand': 'Ford', 'model': 'Mustang'}\n"
     ]
    }
   ],
   "source": [
    "#popitem() method\n",
    "mycar = {\n",
    "  \"brand\": \"Ford\",\n",
    "  \"model\": \"Mustang\",\n",
    "  \"year\": 1964\n",
    "}\n",
    "mycar.popitem()\n",
    "print(mycar)"
   ]
  },
  {
   "cell_type": "code",
   "execution_count": 99,
   "id": "622eda1d-09d1-4113-9629-603ce3729d1b",
   "metadata": {},
   "outputs": [
    {
     "ename": "NameError",
     "evalue": "name 'mycar' is not defined",
     "output_type": "error",
     "traceback": [
      "\u001b[1;31m---------------------------------------------------------------------------\u001b[0m",
      "\u001b[1;31mNameError\u001b[0m                                 Traceback (most recent call last)",
      "Cell \u001b[1;32mIn[99], line 8\u001b[0m\n\u001b[0;32m      2\u001b[0m mycar \u001b[38;5;241m=\u001b[39m {\n\u001b[0;32m      3\u001b[0m   \u001b[38;5;124m\"\u001b[39m\u001b[38;5;124mbrand\u001b[39m\u001b[38;5;124m\"\u001b[39m: \u001b[38;5;124m\"\u001b[39m\u001b[38;5;124mFord\u001b[39m\u001b[38;5;124m\"\u001b[39m,\n\u001b[0;32m      4\u001b[0m   \u001b[38;5;124m\"\u001b[39m\u001b[38;5;124mmodel\u001b[39m\u001b[38;5;124m\"\u001b[39m: \u001b[38;5;124m\"\u001b[39m\u001b[38;5;124mMustang\u001b[39m\u001b[38;5;124m\"\u001b[39m,\n\u001b[0;32m      5\u001b[0m   \u001b[38;5;124m\"\u001b[39m\u001b[38;5;124myear\u001b[39m\u001b[38;5;124m\"\u001b[39m: \u001b[38;5;241m1964\u001b[39m\n\u001b[0;32m      6\u001b[0m }\n\u001b[0;32m      7\u001b[0m \u001b[38;5;28;01mdel\u001b[39;00m mycar       \n\u001b[1;32m----> 8\u001b[0m \u001b[38;5;28mprint\u001b[39m(mycar)\n",
      "\u001b[1;31mNameError\u001b[0m: name 'mycar' is not defined"
     ]
    }
   ],
   "source": [
    "#del keyword\n",
    "mycar = {\n",
    "  \"brand\": \"Ford\",\n",
    "  \"model\": \"Mustang\",\n",
    "  \"year\": 1964\n",
    "}\n",
    "del mycar       \n",
    "print(mycar) #returns an error because 'mycar' dict does not exist any more"
   ]
  },
  {
   "cell_type": "code",
   "execution_count": 101,
   "id": "22164a08-e27f-4cab-801e-e2b0f4078108",
   "metadata": {},
   "outputs": [
    {
     "name": "stdout",
     "output_type": "stream",
     "text": [
      "{}\n"
     ]
    }
   ],
   "source": [
    "# the clear() method\n",
    "\n",
    "mycar = {\n",
    "  \"brand\": \"Ford\",\n",
    "  \"model\": \"Mustang\",\n",
    "  \"year\": 1964\n",
    "}\n",
    "mycar.clear()\n",
    "print(mycar) #returns an empty dictionary"
   ]
  },
  {
   "cell_type": "markdown",
   "id": "25c54f77-edfe-4215-95a9-681bedc684d3",
   "metadata": {},
   "source": [
    "### Loop Through a Dictionary\r\n",
    "You can loop through a dictionary by using a for loop\r\n",
    "\r\n",
    "When looping through a dictionary, the return value are the keys of the dictionary, but there are methods to return the values as well"
   ]
  },
  {
   "cell_type": "code",
   "execution_count": 109,
   "id": "d2212897-644c-46d1-b35a-0132d2a989ab",
   "metadata": {},
   "outputs": [
    {
     "name": "stdout",
     "output_type": "stream",
     "text": [
      "brand\n",
      "model\n",
      "year\n",
      "color\n"
     ]
    }
   ],
   "source": [
    "#Print all key names in the dictionary, one by one:\n",
    "mycar = {\n",
    "  \"brand\": \"Ford\",\n",
    "  \"model\": \"Mustang\",\n",
    "  \"year\": 1964\n",
    "}\n",
    "mycar[\"color\"] = \"red\" #new additon\n",
    "\n",
    "for x in mycar:\n",
    "    print(x)\n"
   ]
  },
  {
   "cell_type": "code",
   "execution_count": 111,
   "id": "db0c5cf1-91c4-4252-9f56-5f41db4f665d",
   "metadata": {},
   "outputs": [
    {
     "name": "stdout",
     "output_type": "stream",
     "text": [
      "Ford\n",
      "Mustang\n",
      "1964\n",
      "red\n"
     ]
    }
   ],
   "source": [
    "# Print all values in the dict, one by one.\n",
    "mycar = {\n",
    "  \"brand\": \"Ford\",\n",
    "  \"model\": \"Mustang\",\n",
    "  \"year\": 1964\n",
    "}\n",
    "\n",
    "mycar[\"color\"] = \"red\" # new addition\n",
    "\n",
    "for x in mycar:\n",
    "    print(mycar[x])"
   ]
  },
  {
   "cell_type": "code",
   "execution_count": 113,
   "id": "d913194a-01b3-4dc9-bc78-ea3f7f91f7c7",
   "metadata": {},
   "outputs": [
    {
     "name": "stdout",
     "output_type": "stream",
     "text": [
      "Ford\n",
      "Mustang\n",
      "1964\n",
      "red\n"
     ]
    }
   ],
   "source": [
    "#You can also use the values() method to return values of a dictionary:\n",
    "\n",
    "# Print all values in the dict, one by one.\n",
    "mycar = {\n",
    "  \"brand\": \"Ford\",\n",
    "  \"model\": \"Mustang\",\n",
    "  \"year\": 1964\n",
    "}\n",
    "\n",
    "mycar[\"color\"] = \"red\" # new addition\n",
    "\n",
    "for x in mycar.values():\n",
    "    print(x)"
   ]
  },
  {
   "cell_type": "code",
   "execution_count": 115,
   "id": "2448bb7d-28bf-40bf-b3dd-2c6589a61f97",
   "metadata": {},
   "outputs": [
    {
     "name": "stdout",
     "output_type": "stream",
     "text": [
      "brand\n",
      "model\n",
      "year\n",
      "color\n"
     ]
    }
   ],
   "source": [
    "#You can also use the keys() method to return values of a dictionary:\n",
    "\n",
    "# Print all keys in the dict, one by one.\n",
    "mycar = {\n",
    "  \"brand\": \"Ford\",\n",
    "  \"model\": \"Mustang\",\n",
    "  \"year\": 1964\n",
    "}\n",
    "\n",
    "mycar[\"color\"] = \"red\" # new addition\n",
    "\n",
    "for x in mycar.keys():\n",
    "    print(x)"
   ]
  },
  {
   "cell_type": "code",
   "execution_count": 118,
   "id": "70574e7d-f205-4af0-af5c-846ee385daf8",
   "metadata": {},
   "outputs": [
    {
     "name": "stdout",
     "output_type": "stream",
     "text": [
      "brand Ford\n",
      "model Mustang\n",
      "year 1964\n",
      "color red\n"
     ]
    }
   ],
   "source": [
    "# Loop through both keys and values, by using the items() method:\n",
    "mycar = {\n",
    "  \"brand\": \"Ford\",\n",
    "  \"model\": \"Mustang\",\n",
    "  \"year\": 1964\n",
    "}\n",
    "\n",
    "mycar[\"color\"] = \"red\" # new addition\n",
    "\n",
    "for x, y in mycar.items():\n",
    "    print(x, y)\n"
   ]
  },
  {
   "cell_type": "markdown",
   "id": "971f4d6e-9e91-41a6-b2f1-bfb687217224",
   "metadata": {},
   "source": [
    "### Copy a Dictionary\r\n",
    "You cannot copy a dictionary simply by typing dict2 = dict1, because: dict2 will only be a reference to dict1, and changes made in dict1 will automatically also be made in dict2\r",
    "O, one way is to use the built-in Dictionary method copy()."
   ]
  },
  {
   "cell_type": "code",
   "execution_count": 1,
   "id": "e4a9dfa0-980f-4e5a-823b-9dddef5f0407",
   "metadata": {},
   "outputs": [
    {
     "name": "stdout",
     "output_type": "stream",
     "text": [
      "{'name': 'James', 'surname': 'Bond', 'age': 35, 'city': 'London', 'country': 'United Kingdom'}\n"
     ]
    }
   ],
   "source": [
    "# Make a copy of a dictionary with the copy() method:\n",
    "agent1 = {\n",
    "    \"name\": \"James\",\n",
    "    \"surname\": \"Bond\",\n",
    "    \"age\": 35,\n",
    "    \"city\": \"London\",\n",
    "    \"country\": \"United Kingdom\"\n",
    "}\n",
    "agent2 = agent1.copy()\n",
    "print(agent2)"
   ]
  },
  {
   "cell_type": "code",
   "execution_count": 3,
   "id": "4ee06e97-51ea-4a01-8425-56bdf2cd5439",
   "metadata": {},
   "outputs": [
    {
     "name": "stdout",
     "output_type": "stream",
     "text": [
      "{'name': 'James', 'surname': 'Bond', 'age': 35, 'city': 'London', 'country': 'United Kingdom'}\n"
     ]
    }
   ],
   "source": [
    "# Another way to make a copy is to use the built-in function dict().\n",
    "agent1 = {\n",
    "    \"name\": \"James\",\n",
    "    \"surname\": \"Bond\",\n",
    "    \"age\": 35,\n",
    "    \"city\": \"London\",\n",
    "    \"country\": \"United Kingdom\"\n",
    "}\n",
    "agent2 = dict(agent1)\n",
    "print(agent2)"
   ]
  },
  {
   "cell_type": "markdown",
   "id": "75b2e12d-3d54-405a-9837-78535c3d62ed",
   "metadata": {},
   "source": [
    "### Nested Dictionaries\n",
    "A dictionary can contain dictionaries, this is called nested dictionaries."
   ]
  },
  {
   "cell_type": "code",
   "execution_count": 11,
   "id": "1e094acf-0416-4b37-a1b3-4dc5084e1ced",
   "metadata": {},
   "outputs": [
    {
     "name": "stdout",
     "output_type": "stream",
     "text": [
      "{'child1': {'name': 'James', 'surname': 'Bond', 'year': 2002}, 'child2': {'name': 'Lennox', 'surname': 'Bond', 'year': 2005}, 'child3': {'name': 'Thandie', 'surname': 'Bond', 'year': 2010}}\n"
     ]
    }
   ],
   "source": [
    "# Create a dictionary that contain three dictionaries:\n",
    "myfamily = {\n",
    "    \"child1\": {\n",
    "    \"name\": \"James\",\n",
    "    \"surname\": \"Bond\",\n",
    "    \"year\": 2002\n",
    "    },\n",
    "     \"child2\": {\n",
    "    \"name\": \"Lennox\",\n",
    "    \"surname\": \"Bond\",\n",
    "    \"year\": 2005\n",
    "    }, \n",
    "    \"child3\": {\n",
    "    \"name\": \"Thandie\",\n",
    "    \"surname\": \"Bond\",\n",
    "    \"year\": 2010\n",
    "    }\n",
    "}\n",
    "print(myfamily)"
   ]
  },
  {
   "cell_type": "code",
   "execution_count": 15,
   "id": "f18d29fb-2e5f-4191-82fb-2002b5347878",
   "metadata": {},
   "outputs": [
    {
     "name": "stdout",
     "output_type": "stream",
     "text": [
      "{'agentA': {'name': 'James', 'surname': 'Bond', 'age': 35, 'city': 'London', 'country': 'United Kingdom'}, 'agentB': {'name': 'Jason', 'surname': 'Bourne', 'age': 27, 'city': 'New York', 'country': 'United States'}, 'agentC': {'name': 'Oksana', 'surname': 'Ponomarenko', 'age': 25, 'city': 'Kyiv', 'country': 'Ukraine'}}\n"
     ]
    }
   ],
   "source": [
    "#  add three dictionaries into a new dictionary:\n",
    "agentA = {\n",
    "     \"name\": \"James\",\n",
    "    \"surname\": \"Bond\",\n",
    "    \"age\": 35,\n",
    "    \"city\": \"London\",\n",
    "    \"country\": \"United Kingdom\"\n",
    "}\n",
    "agentB = {\n",
    "     \"name\": \"Jason\",\n",
    "    \"surname\": \"Bourne\",\n",
    "    \"age\": 27,\n",
    "    \"city\": \"New York\",\n",
    "    \"country\": \"United States\"\n",
    "}\n",
    "agentC = {\n",
    "     \"name\": \"Oksana\",\n",
    "    \"surname\": \"Ponomarenko\",\n",
    "    \"age\": 25,\n",
    "    \"city\": \"Kyiv\",\n",
    "    \"country\": \"Ukraine\"\n",
    "}\n",
    "\n",
    "Taskforce = {\n",
    "    \"agentA\" : agentA,\n",
    "    \"agentB\" : agentB,\n",
    "    \"agentC\" : agentC\n",
    "}\n",
    "\n",
    "print(Taskforce)"
   ]
  },
  {
   "cell_type": "markdown",
   "id": "1126cfd8-2e1d-49a3-b4f6-fd9d4c4a2fe7",
   "metadata": {},
   "source": [
    "### Access Items in Nested Dictionaries\r\n",
    "To access items from a nested dictionary, you use the name of the dictionaries, starting with the outer dictionary:"
   ]
  },
  {
   "cell_type": "code",
   "execution_count": 21,
   "id": "5d1e7179-23a8-4877-9f4d-03646929a445",
   "metadata": {},
   "outputs": [
    {
     "name": "stdout",
     "output_type": "stream",
     "text": [
      "Lennox\n"
     ]
    }
   ],
   "source": [
    "# Print name of child 2\n",
    "\n",
    "myfamily = {\n",
    "    \"child1\": {\n",
    "    \"name\": \"James\",\n",
    "    \"surname\": \"Bond\",\n",
    "    \"year\": 2002\n",
    "    },\n",
    "     \"child2\": {\n",
    "    \"name\": \"Lennox\",\n",
    "    \"surname\": \"Bond\",\n",
    "    \"year\": 2005\n",
    "    }, \n",
    "    \"child3\": {\n",
    "    \"name\": \"Thandie\",\n",
    "    \"surname\": \"Bond\",\n",
    "    \"year\": 2010\n",
    "    }\n",
    "}\n",
    "print(myfamily[\"child2\"][\"name\"])"
   ]
  },
  {
   "cell_type": "markdown",
   "id": "b12160cc-52fb-4b7d-871f-50fbdb9ccbf4",
   "metadata": {},
   "source": [
    "### Loop Through Nested Dictionaries\r\n",
    "You can loop through a dictionary by using the items() method like this:"
   ]
  },
  {
   "cell_type": "code",
   "execution_count": 27,
   "id": "448147fe-28d4-44ea-a18a-ea0fdc01f610",
   "metadata": {},
   "outputs": [
    {
     "name": "stdout",
     "output_type": "stream",
     "text": [
      "agentA\n",
      "name: James\n",
      "surname: Bond\n",
      "age: 35\n",
      "city: London\n",
      "country: United Kingdom\n",
      "agentB\n",
      "name: Jason\n",
      "surname: Bourne\n",
      "age: 27\n",
      "city: New York\n",
      "country: United States\n",
      "agentC\n",
      "name: Oksana\n",
      "surname: Ponomarenko\n",
      "age: 25\n",
      "city: Kyiv\n",
      "country: Ukraine\n"
     ]
    }
   ],
   "source": [
    "# Loop through the keys and values of all nested dictionaries:\n",
    "taskforce = {\n",
    "    \"agentA\": {\n",
    "     \"name\": \"James\",\n",
    "    \"surname\": \"Bond\",\n",
    "    \"age\": 35,\n",
    "    \"city\": \"London\",\n",
    "    \"country\": \"United Kingdom\"\n",
    "    },\n",
    "    \"agentB\": {\n",
    "     \"name\": \"Jason\",\n",
    "    \"surname\": \"Bourne\",\n",
    "    \"age\": 27,\n",
    "    \"city\": \"New York\",\n",
    "    \"country\": \"United States\"\n",
    "    },\n",
    "    \"agentC\": {\n",
    "     \"name\": \"Oksana\",\n",
    "    \"surname\": \"Ponomarenko\",\n",
    "    \"age\": 25,\n",
    "    \"city\": \"Kyiv\",\n",
    "    \"country\": \"Ukraine\"\n",
    "    }\n",
    "}\n",
    "\n",
    "for x, obj in taskforce.items():\n",
    "    print(x)\n",
    "    \n",
    "    for y in obj:\n",
    "        print(y + \":\", obj[y])\n",
    "\n"
   ]
  },
  {
   "cell_type": "markdown",
   "id": "079db99f-9e46-4587-a76a-31f3f6e30f32",
   "metadata": {},
   "source": [
    "### Method\tDescription\r\n",
    "clear()\tRemoves all the elements from the dictionary\r\n",
    "copy()\tReturns a copy of the dictionary\r\n",
    "fromkeys()\tReturns a dictionary with the specified keys and value\r\n",
    "get()\tReturns the value of the specified key\r\n",
    "items()\tReturns a list containing a tuple for each key value pair\r\n",
    "keys()\tReturns a list containing the dictionary's keys\r\n",
    "pop()\tRemoves the element with the specified key\r\n",
    "popitem()\tRemoves the last inserted key-value pair\r\n",
    "setdefault()\tReturns the value of the specified key. If the key does not exist: insert the key, with the specified value\r\n",
    "update()\tUpdates the dictionary with the specified key-value pairs\r\n",
    "values()\tReturns a list of all the values in the dictionary"
   ]
  }
 ],
 "metadata": {
  "kernelspec": {
   "display_name": "Python 3 (ipykernel)",
   "language": "python",
   "name": "python3"
  },
  "language_info": {
   "codemirror_mode": {
    "name": "ipython",
    "version": 3
   },
   "file_extension": ".py",
   "mimetype": "text/x-python",
   "name": "python",
   "nbconvert_exporter": "python",
   "pygments_lexer": "ipython3",
   "version": "3.11.7"
  }
 },
 "nbformat": 4,
 "nbformat_minor": 5
}
