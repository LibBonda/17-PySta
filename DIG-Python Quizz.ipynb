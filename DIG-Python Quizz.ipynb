{
 "cells": [
  {
   "cell_type": "markdown",
   "metadata": {},
   "source": [
    "### 001\n",
    "- Problem: Write a function that takes a string and returns the number of vowels (a, e, i, o, u) in the string."
   ]
  },
  {
   "cell_type": "code",
   "execution_count": 10,
   "metadata": {},
   "outputs": [
    {
     "name": "stdout",
     "output_type": "stream",
     "text": [
      "vowels,3\n"
     ]
    }
   ],
   "source": [
    "myStr = \"hello world\"\n",
    "count = 0\n",
    "\n",
    "for char in myStr:\n",
    "    if  char in 'aeiou':\n",
    "        count += 1\n",
    "\n",
    "print(f\"vowels,{count}\")\n",
    "\t\n",
    "#Sample Input: \"hello world\"\n",
    "#Sample Output: 3\n"
   ]
  },
  {
   "cell_type": "markdown",
   "metadata": {},
   "source": [
    "### 002\n",
    "- Problem: Write a function that takes a list of integers and returns a new list containing the squares of all the even numbers from the original list. Use the filter and map functions."
   ]
  },
  {
   "cell_type": "code",
   "execution_count": 8,
   "metadata": {},
   "outputs": [
    {
     "name": "stdout",
     "output_type": "stream",
     "text": [
      "[4, 16]\n"
     ]
    }
   ],
   "source": [
    "#initiate function\n",
    "\n",
    "myList = [1, 2, 3, 4, 5]\n",
    "newList = []\n",
    "\n",
    "for i in myList:\n",
    "    if i % 2 == 0:\n",
    "        newList.append(i**2)\n",
    "\n",
    "    \n",
    "print(newList)\n"
   ]
  },
  {
   "cell_type": "code",
   "execution_count": 9,
   "metadata": {},
   "outputs": [
    {
     "name": "stdout",
     "output_type": "stream",
     "text": [
      "[4, 16]\n"
     ]
    }
   ],
   "source": [
    "def squaredNums(numList):\n",
    "    \"\"\"squares all even numbers in a given list, and returns the squares in a new list\"\"\"\n",
    "\n",
    "    return list(map(lambda x: x**2, filter(lambda x: x % 2 == 0, numList)))\n",
    "\n",
    "numList = [1, 2, 3, 4, 5]\n",
    "result = squaredNums(numList)\n",
    "print(result)"
   ]
  },
  {
   "cell_type": "markdown",
   "metadata": {},
   "source": [
    "### 003\n",
    "- Problem: Create a function that reverses a given string but only reverses the order of the words, not the characters in each word.\n",
    "Sample Input: \"hello world\"\n",
    "Sample Output: \"world hello\""
   ]
  },
  {
   "cell_type": "code",
   "execution_count": 29,
   "metadata": {},
   "outputs": [
    {
     "name": "stdout",
     "output_type": "stream",
     "text": [
      "world hello\n"
     ]
    }
   ],
   "source": [
    "#initialise the function\n",
    "def reverse_Str(string):   \n",
    "    myList = string.split() #split string into list of words\n",
    "    #reverse the words in the list\n",
    "    newList = myList[::-1]\n",
    "    return \" \".join(newList) # convert back to a string\n",
    "\n",
    "newStr = input(\"Enter your string: \")\n",
    "revStr = reverse_Str(newStr)\n",
    "print(revStr)"
   ]
  },
  {
   "cell_type": "markdown",
   "metadata": {},
   "source": [
    "### 004\n",
    "- Problem: Write a function that takes two dictionaries and merges them into one. If a key appears in both dictionaries, sum their values.\n",
    "Sample Input: {'a': 1, 'b': 2}, {'b': 3, 'c': 4}\n",
    "Sample Output: {'a': 1, 'b': 5, 'c': 4}"
   ]
  },
  {
   "cell_type": "code",
   "execution_count": 40,
   "metadata": {},
   "outputs": [
    {
     "name": "stdout",
     "output_type": "stream",
     "text": [
      "{'a': 1, 'b': 5, 'c': 4}\n"
     ]
    }
   ],
   "source": [
    "#initiate the function\n",
    "def merge_Dicts(dict1, dict2):\n",
    "    merged_dict = {}\n",
    "\n",
    "    for key in dict1.keys() | dict2.keys(): #merge dictionaries using the | operator\n",
    "         merged_dict[key] = dict1.get(key, 0) + dict2.get(key, 0) #get the values of keys common to both dictionaries\n",
    "\n",
    "    return merged_dict\n",
    "\n",
    "dict1 = {'a': 1, 'b': 2}\n",
    "dict2 = {'b': 3, 'c': 4}\n",
    "\n",
    "merged_dict = merge_Dicts(dict1, dict2) # call the function\n",
    "print(merged_dict)"
   ]
  },
  {
   "cell_type": "markdown",
   "metadata": {},
   "source": [
    "### 005\n",
    "- Problem: Given a list of dictionaries, where each dictionary represents a student with keys \"name\" and \"grade\", write a function to sort this list by grade using a lambda function.\n",
    "\n",
    "Sample Input: [{'name': 'Alice', 'grade': 88}, {'name': 'Bob', 'grade': 75}]\n",
    "Sample Output: [{'name': 'Bob', 'grade': 75}, {'name': 'Alice', 'grade': 88}]"
   ]
  },
  {
   "cell_type": "code",
   "execution_count": 13,
   "metadata": {},
   "outputs": [
    {
     "name": "stdout",
     "output_type": "stream",
     "text": [
      "[{'name': 'Bob', 'grade': 75}, {'name': 'Alice', 'grade': 88}]\n"
     ]
    }
   ],
   "source": [
    "def sortByStudentsGrade(students):\n",
    "    \"\"\"sort student list by dictionary grade \"\"\"\n",
    "    return sorted(students, key=lambda student: student['grade'])\n",
    "\n",
    "students = [{'name': 'Alice', 'grade': 88}, {'name': 'Bob', 'grade': 75}]\n",
    "\n",
    "result = sortByStudentsGrade(students)\n",
    "\n",
    "print(result)\n"
   ]
  },
  {
   "cell_type": "markdown",
   "metadata": {},
   "source": [
    "### 006\n",
    "- Problem: Write a function that takes two lists and returns a list of elements that are common to both lists without using sets.\n",
    "\n",
    "Sample Input: [1, 2, 3], [2, 3, 4]\n",
    "Sample Output: [2, 3]"
   ]
  },
  {
   "cell_type": "code",
   "execution_count": 5,
   "metadata": {},
   "outputs": [
    {
     "name": "stdout",
     "output_type": "stream",
     "text": [
      "[2, 3]\n"
     ]
    }
   ],
   "source": [
    "#initiate function\n",
    "def unionList(listA, listB):\n",
    "    newList = []\n",
    "\n",
    "    for i in listA:\n",
    "        if i in listB:\n",
    "            newList.append(i)\n",
    "\n",
    "    return newList\n",
    "result = unionList([1, 2, 3], [2, 3, 4])\n",
    "\n",
    "print(result)\n"
   ]
  },
  {
   "cell_type": "markdown",
   "metadata": {},
   "source": [
    "### 007\n",
    "- \n",
    "Problem: Create a function that takes a dictionary and inverts it. The values of the dictionary should become keys and the keys should become values. Ensure that the new keys are unique.\n",
    "\n",
    "Sample Input: {'a': 1, 'b': 2}\n",
    "Sample Output: {1: 'a', 2: 'b'}"
   ]
  },
  {
   "cell_type": "code",
   "execution_count": 1,
   "metadata": {},
   "outputs": [
    {
     "name": "stdout",
     "output_type": "stream",
     "text": [
      "{1: 'a', 2: 'b'}\n"
     ]
    }
   ],
   "source": [
    "#initiate function\n",
    "\n",
    "def invertDict(dict1):\n",
    "    \"\"\"takes a given dictionary and inverts key:value pairs by swapping keys to be values and vice versa\"\"\"\n",
    "    newDict = {value: key for key, value in dict1.items()} # use the .items() method to loop through key value pairs.\n",
    "    return newDict\n",
    "\n",
    "sample = {'a': 1, 'b': 2}\n",
    "\n",
    "print(invertDict(sample))"
   ]
  },
  {
   "cell_type": "markdown",
   "metadata": {},
   "source": [
    "### 008\n",
    "- Problem: Write a function that takes a list and two indices, start and end, and returns a new list that is a slice of the original list from start to end (inclusive). Handle negative indices appropriately.\n",
    "\n",
    "Sample Input: [1, 2, 3, 4, 5], 1, 3\n",
    "Sample Output: [2, 3, 4]"
   ]
  },
  {
   "cell_type": "code",
   "execution_count": 9,
   "metadata": {},
   "outputs": [
    {
     "name": "stdout",
     "output_type": "stream",
     "text": [
      "[2, 3, 4]\n"
     ]
    }
   ],
   "source": [
    "#initiate function\n",
    "def newSlicedList(myList, start, end):\n",
    "    \"\"\"takes a list and slices it given a start and an end index and returns the sliced list\"\"\"\n",
    "\n",
    "    # Handle negative indices by adding the length of the list to them.\n",
    "    if start < 0:\n",
    "        start += len(myList)\n",
    "    if end < 0:\n",
    "        end += len(myList)\n",
    "\n",
    "    # ensure that start is less than end.\n",
    "    if start > end:\n",
    "        start, end = end, start\n",
    "\n",
    "    slicedList = myList[start: end+1]\n",
    "\n",
    "    return slicedList\n",
    "\n",
    "myList =  [1, 2, 3, 4, 5]\n",
    "start = 1\n",
    "end = 3\n",
    "\n",
    "result = newSlicedList(myList, start, end)\n",
    "\n",
    "print(result)"
   ]
  },
  {
   "cell_type": "markdown",
   "metadata": {},
   "source": [
    "### 009\n",
    "- Problem: Create a function that takes a string and returns a dictionary with the frequency count of each character in the string.\n",
    "\n",
    "Sample Input: \"hello\"\n",
    "Sample Output: {'h': 1, 'e': 1, 'l': 2, 'o': 1}"
   ]
  },
  {
   "cell_type": "code",
   "execution_count": null,
   "metadata": {},
   "outputs": [],
   "source": [
    "def char_ocurrence(string): #checks the frequency of each character within a string\n",
    "    charCount = {}\n",
    "   \n",
    "    for char in string:\n",
    "        charCount[char] = charCount.get(char,0) + 1 #use the get method\n",
    "   \n",
    "    return charCount\n",
    "\n",
    "myStr = \"hello\"\n",
    "result = char_ocurrence(myStr)\n",
    "\n",
    "print(result)\n"
   ]
  },
  {
   "cell_type": "markdown",
   "metadata": {},
   "source": [
    "### 010\n",
    "- Problem: Implement a custom version of the reduce function that works for any binary operation (e.g., addition, multiplication, concatenation). This function should take a list and a binary operation as input and return the result of applying the operation cumulatively to the elements of the list.\n",
    "\n",
    "Sample Input: [1, 2, 3, 4], lambda x, y: x + y\n",
    "Sample Output: 10"
   ]
  }
 ],
 "metadata": {
  "kernelspec": {
   "display_name": "mypyenv",
   "language": "python",
   "name": "python3"
  },
  "language_info": {
   "codemirror_mode": {
    "name": "ipython",
    "version": 3
   },
   "file_extension": ".py",
   "mimetype": "text/x-python",
   "name": "python",
   "nbconvert_exporter": "python",
   "pygments_lexer": "ipython3",
   "version": "3.12.5"
  }
 },
 "nbformat": 4,
 "nbformat_minor": 2
}
