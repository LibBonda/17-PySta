{
 "cells": [
  {
   "cell_type": "markdown",
   "metadata": {},
   "source": [
    "### 00 A RegEx, or Regular Expression\n",
    "- A regular Expression is a sequence of characters that forms a search pattern.\n",
    "- RegEx can be used to check if a string contains the specified search pattern."
   ]
  },
  {
   "cell_type": "code",
   "execution_count": 1,
   "metadata": {},
   "outputs": [
    {
     "name": "stdout",
     "output_type": "stream",
     "text": [
      "YES! We have a match!\n"
     ]
    }
   ],
   "source": [
    "import re\n",
    "\n",
    "#Search the string to see if it starts with \"The\" and ends with \"Spain\":\n",
    "txt = \"The rain in Spain\"\n",
    "x = re.search(\"^The.*Spain$\", txt)\n",
    "\n",
    "if x:\n",
    "  print(\"YES! We have a match!\")\n",
    "else:\n",
    "  print(\"No match\")"
   ]
  },
  {
   "cell_type": "markdown",
   "metadata": {},
   "source": [
    "#### RegEx Functions\n",
    "- The re module offers a set of functions that allows us to search a string for a match:\n",
    "\n",
    "Function        Description\n",
    "findall\t        Returns a list containing all matches\n",
    "search\t        Returns a Match object if there is a match anywhere in the string\n",
    "split\t        Returns a list where the string has been split at each match\n",
    "sub\t            Replaces one or many matches with a string"
   ]
  },
  {
   "cell_type": "markdown",
   "metadata": {},
   "source": [
    "#### Metacharacters\n",
    "- are characters with special meaning:\n",
    "Character\t    Description\t                                                                        Example\t\n",
    "[]\t            A set of characters\t                                                                \"[a-m]\"\t\n",
    "\\\t            Signals a special sequence (can also be used to escape special characters)\t        \"\\d\"\t\n",
    ".\t            Any character (except newline character)\t                                        \"he..o\"\t\n",
    "^\t            Starts with\t                                                                        \"^hello\"\t\n",
    "$\t            Ends with\t                                                                        \"planet$\"\t\n",
    "*\t            Zero or more occurrences\t                                                        \"he.*o\"\t\n",
    "+\t            One or more occurrences\t                                                            \"he.+o\"\t\n",
    "?\t            Zero or one occurrences\t                                                            \"he.?o\"\t\n",
    "{}\t            Exactly the specified number of occurrences\t                                        \"he.{2}o\"\t\n",
    "|\t            Either or\t                                                                        \"falls|stays\"\t\n",
    "()\t            Capture and group\t "
   ]
  },
  {
   "cell_type": "markdown",
   "metadata": {},
   "source": [
    "#### Special Sequences\n",
    "\n",
    "A special sequence is a \\ followed by one of the characters in the list below, and has a special meaning:\n",
    "\n",
    "Character\tDescription\t                                                                                    Example\n",
    "\\A\t        Returns a match if the specified characters are at the beginning of the string\t                \"\\AThe\"\t\n",
    "\\b\t        Returns a match where the specified characters are at the beginning or at the end of a word     r\"\\bain\"\n",
    "            (the \"r\" in the beginning is making sure that the string is being treated as a \"raw string\")\tr\"ain\\b\"\n",
    "\n",
    "\\B\t        Returns a match where the specified characters are present, but NOT at the beginning            r\"\\Bain\"\n",
    "            (or at the end) of a word\n",
    "            (the \"r\" in the beginning is making sure that the string is being treated as a \"raw string\")\tr\"ain\\B\"\n",
    "                                                                                                           \t\n",
    "\\d\t        Returns a match where the string contains digits (numbers from 0-9)\t                            \"\\d\"\t\n",
    "\\D\t        Returns a match where the string DOES NOT contain digits\t                                    \"\\D\"\t\n",
    "\\s\t        Returns a match where the string contains a white space character\t                            \"\\s\"\t\n",
    "\\S\t        Returns a match where the string DOES NOT contain a white space character\t                    \"\\S\"\t\n",
    "\\w\t        Returns a match where the string contains any word characters \n",
    "            (characters from a to Z, digits from 0-9, and the underscore _ character)\t                    \"\\w\"\t\n",
    "\\W\t        Returns a match where the string DOES NOT contain any word characters\t                        \"\\W\"\t\n",
    "\\Z\t        Returns a match if the specified characters are at the end of the string\t                    \"Spain\\Z\""
   ]
  },
  {
   "cell_type": "code",
   "execution_count": 2,
   "metadata": {},
   "outputs": [
    {
     "name": "stdout",
     "output_type": "stream",
     "text": [
      "['The', 'quick', 'brown', 'fox', 'jumps', 'over', 'the', 'lazy', 'dog']\n"
     ]
    }
   ],
   "source": [
    "import re\n",
    "\n",
    "text = \"The quick brown fox jumps over the lazy dog.\"\n",
    "pattern = r\"\\b\\w+\\b\"  # Matches whole words\n",
    "\n",
    "matches = re.findall(pattern, text)\n",
    "print(matches)  # Output: ['The', 'quick', 'brown', 'fox', 'jumps', 'over', 'the', 'lazy', 'dog']"
   ]
  },
  {
   "cell_type": "markdown",
   "metadata": {},
   "source": [
    "#### 001 The findall() Function\n",
    "- The findall() function returns a list containing all matches.\n",
    "- The list contains the matches in the order they are found.\n",
    "- If no matches are found, an empty list is returned:"
   ]
  },
  {
   "cell_type": "code",
   "execution_count": 7,
   "metadata": {},
   "outputs": [
    {
     "name": "stdout",
     "output_type": "stream",
     "text": [
      "['ai', 'ai']\n",
      "2\n",
      "[]\n"
     ]
    }
   ],
   "source": [
    "#Print a list of all matches:\n",
    "import re\n",
    "\n",
    "txt = \"The rain in Spain\"\n",
    "x = re.findall(\"ai\", txt)\n",
    "print(x)                        # returns list with matches\n",
    "print(len(x))                   # returns number of number of items in list\n",
    "\n",
    "import re\n",
    "\n",
    "txt = \"The rain in Spain\"\n",
    "x = re.findall(\"Portugal\", txt)\n",
    "print(x)                        # returns empty list"
   ]
  },
  {
   "cell_type": "markdown",
   "metadata": {},
   "source": [
    "#### 002 The Search() Function\n",
    "- The search() function searches the string for a match, and returns a Match object if there is a match.\n",
    "- If there is more than one match, only the first occurrence of the match will be returned:\n",
    "- If no matches are found, the value None is returned:"
   ]
  },
  {
   "cell_type": "code",
   "execution_count": 17,
   "metadata": {},
   "outputs": [
    {
     "name": "stdout",
     "output_type": "stream",
     "text": [
      "1st white space character is located in position: 3\n"
     ]
    },
    {
     "name": "stderr",
     "output_type": "stream",
     "text": [
      "<>:4: SyntaxWarning: invalid escape sequence '\\s'\n",
      "<>:4: SyntaxWarning: invalid escape sequence '\\s'\n",
      "C:\\Users\\liber\\AppData\\Local\\Temp\\ipykernel_1516\\4004204474.py:4: SyntaxWarning: invalid escape sequence '\\s'\n",
      "  x = re.search(\"\\s\", txt)\n"
     ]
    }
   ],
   "source": [
    "import re\n",
    "\n",
    "txt = \"The rain in Spain\"\n",
    "x = re.search(\"\\s\", txt)\n",
    "\n",
    "print(\"1st white space character is located in position:\", x.start())"
   ]
  },
  {
   "cell_type": "markdown",
   "metadata": {},
   "source": [
    "#### The split() Function\n",
    "- The split() function returns a list where the string has been split at each match:"
   ]
  },
  {
   "cell_type": "code",
   "execution_count": 19,
   "metadata": {},
   "outputs": [
    {
     "name": "stdout",
     "output_type": "stream",
     "text": [
      "['The', 'rain', 'in', 'Spain']\n"
     ]
    },
    {
     "name": "stderr",
     "output_type": "stream",
     "text": [
      "<>:5: SyntaxWarning: invalid escape sequence '\\s'\n",
      "<>:5: SyntaxWarning: invalid escape sequence '\\s'\n",
      "C:\\Users\\liber\\AppData\\Local\\Temp\\ipykernel_1516\\4008330369.py:5: SyntaxWarning: invalid escape sequence '\\s'\n",
      "  x = re.split('\\s', txt)\n"
     ]
    }
   ],
   "source": [
    "#Split at each white-space character\n",
    "import re\n",
    "\n",
    "txt = \"The rain in Spain\"\n",
    "x = re.split('\\s', txt)\n",
    "print(x)"
   ]
  },
  {
   "cell_type": "code",
   "execution_count": 9,
   "metadata": {},
   "outputs": [
    {
     "name": "stdout",
     "output_type": "stream",
     "text": [
      "vowels 3\n"
     ]
    }
   ],
   "source": [
    "import re\n",
    "\n",
    "text = \"The quick brown fox jumps over the lazy dog.\"\n",
    "pattern = r\"\\b\\w+\\b\"  # Matches whole words\n",
    "\n",
    "match = re.search(pattern, text)\n",
    "if match:\n",
    "    print(match.group())  # Output: The"
   ]
  },
  {
   "cell_type": "markdown",
   "metadata": {},
   "source": [
    "#### Sets\n",
    "A set is a set of characters inside a pair of square brackets [] with a special meaning:\n",
    "\n",
    "Set\t        Description\n",
    "[arn]\t    Returns a match where one of the specified characters (a, r, or n) is present\t\n",
    "[a-n]\t    Returns a match for any lower case character, alphabetically between a and n\t\n",
    "[^arn]\t    Returns a match for any character EXCEPT a, r, and n\t\n",
    "[0123]\t    Returns a match where any of the specified digits (0, 1, 2, or 3) are present\t\n",
    "[0-9]\t    Returns a match for any digit between 0 and 9\t\n",
    "[0-5][0-9]\tReturns a match for any two-digit numbers from 00 and 59\t\n",
    "[a-zA-Z]\tReturns a match for any character alphabetically between a and z, lower case OR upper case\t\n",
    "[+]\t        In sets, +, *, ., |, (), $,{} has no special meaning, so [+] means: return a match for any + character in the string"
   ]
  },
  {
   "cell_type": "code",
   "execution_count": null,
   "metadata": {},
   "outputs": [],
   "source": []
  },
  {
   "cell_type": "code",
   "execution_count": 14,
   "metadata": {},
   "outputs": [
    {
     "name": "stdout",
     "output_type": "stream",
     "text": [
      "5 x 0 = 0\n",
      "5 x 1 = 5\n",
      "5 x 2 = 10\n",
      "5 x 3 = 15\n",
      "5 x 4 = 20\n",
      "5 x 5 = 25\n",
      "5 x 6 = 30\n",
      "5 x 7 = 35\n",
      "5 x 8 = 40\n",
      "5 x 9 = 45\n",
      "5 x 10 = 50\n"
     ]
    }
   ],
   "source": []
  },
  {
   "cell_type": "code",
   "execution_count": 17,
   "metadata": {},
   "outputs": [
    {
     "name": "stdout",
     "output_type": "stream",
     "text": [
      "120\n"
     ]
    }
   ],
   "source": []
  }
 ],
 "metadata": {
  "kernelspec": {
   "display_name": "Python 3",
   "language": "python",
   "name": "python3"
  },
  "language_info": {
   "codemirror_mode": {
    "name": "ipython",
    "version": 3
   },
   "file_extension": ".py",
   "mimetype": "text/x-python",
   "name": "python",
   "nbconvert_exporter": "python",
   "pygments_lexer": "ipython3",
   "version": "3.13.6"
  }
 },
 "nbformat": 4,
 "nbformat_minor": 2
}
