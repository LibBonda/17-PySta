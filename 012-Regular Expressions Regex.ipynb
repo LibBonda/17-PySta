{
 "cells": [
  {
   "cell_type": "markdown",
   "metadata": {},
   "source": [
    "### 00 A RegEx, or Regular Expression\n",
    "- A regular Expression is a sequence of characters that forms a search pattern.\n",
    "- RegEx can be used to check if a string contains the specified search pattern."
   ]
  },
  {
   "cell_type": "code",
   "execution_count": 2,
   "metadata": {},
   "outputs": [
    {
     "name": "stdout",
     "output_type": "stream",
     "text": [
      "YES! We have a match!\n"
     ]
    }
   ],
   "source": [
    "import re\n",
    "\n",
    "#Search the string to see if it starts with \"The\" and ends with \"Spain\":\n",
    "txt = \"The rain in Spain\"\n",
    "x = re.search(\"^The.*Spain$\", txt)\n",
    "\n",
    "if x:\n",
    "  print(\"YES! We have a match!\")\n",
    "else:\n",
    "  print(\"No match\")"
   ]
  },
  {
   "cell_type": "code",
   "execution_count": 5,
   "metadata": {},
   "outputs": [
    {
     "name": "stdout",
     "output_type": "stream",
     "text": [
      "s\n",
      "#\n",
      "*\n",
      "u\n",
      "#\n",
      "*\n",
      "m\n",
      "#\n",
      "*\n"
     ]
    }
   ],
   "source": [
    "for i in 'sum':\n",
    "    print(i)\n",
    "    print('#')\n",
    "    print('*')"
   ]
  },
  {
   "cell_type": "code",
   "execution_count": 8,
   "metadata": {},
   "outputs": [
    {
     "name": "stdout",
     "output_type": "stream",
     "text": [
      "vowels 3\n"
     ]
    }
   ],
   "source": []
  },
  {
   "cell_type": "code",
   "execution_count": 9,
   "metadata": {},
   "outputs": [
    {
     "name": "stdout",
     "output_type": "stream",
     "text": [
      "vowels 3\n"
     ]
    }
   ],
   "source": [
    " #find vowels in 'Ireland'\n",
    "country = 'ireland'\n",
    "vowels = 'aeiou'\n",
    "count = 0\n",
    "\n",
    "for char in 'ireland':\n",
    "    if char in vowels:\n",
    "        count += 1\n",
    "print('vowels', count)   \n"
   ]
  },
  {
   "cell_type": "code",
   "execution_count": 11,
   "metadata": {},
   "outputs": [
    {
     "name": "stdout",
     "output_type": "stream",
     "text": [
      "[21, 11, 19]\n",
      "[12, 14, 24]\n"
     ]
    }
   ],
   "source": [
    "#create 2 lists from the list below. One odd, and one even\n",
    "numbers = [21, 12,14,11,24,19]\n",
    "oddList = []\n",
    "evenList = []\n",
    "\n",
    "for i in numbers:\n",
    "    if i % 2 != 0:\n",
    "        oddList.append(i)\n",
    "    if i % 2 == 0:\n",
    "        evenList.append(i)\n",
    "\n",
    "print(oddList)\n",
    "print(evenList)"
   ]
  },
  {
   "cell_type": "code",
   "execution_count": 2,
   "metadata": {},
   "outputs": [
    {
     "name": "stdout",
     "output_type": "stream",
     "text": [
      "[21, 11, 19] \n",
      " [12, 14, 24]\n",
      "[12, 14, 24]\n"
     ]
    }
   ],
   "source": [
    "#create 2 lists from the list below. One odd, and one even\n",
    "numbers = [21, 12,14,11,24,19]\n",
    "oddList = []\n",
    "evenList = []\n",
    "\n",
    "for i in numbers:\n",
    "    if i % 2 != 0:\n",
    "        oddList.append(i)\n",
    "    else:\n",
    "        evenList.append(i)\n",
    "\n",
    "print(oddList,'\\n',evenList) # print one line over the other\n",
    "print(evenList) # or simply print the evenList in stand alone mode\n"
   ]
  },
  {
   "cell_type": "code",
   "execution_count": 14,
   "metadata": {},
   "outputs": [
    {
     "name": "stdout",
     "output_type": "stream",
     "text": [
      "5 x 0 = 0\n",
      "5 x 1 = 5\n",
      "5 x 2 = 10\n",
      "5 x 3 = 15\n",
      "5 x 4 = 20\n",
      "5 x 5 = 25\n",
      "5 x 6 = 30\n",
      "5 x 7 = 35\n",
      "5 x 8 = 40\n",
      "5 x 9 = 45\n",
      "5 x 10 = 50\n"
     ]
    }
   ],
   "source": [
    "for i in range(0, 11):\n",
    "  print(5,'x',i,'=',5*i)"
   ]
  },
  {
   "cell_type": "code",
   "execution_count": 17,
   "metadata": {},
   "outputs": [
    {
     "name": "stdout",
     "output_type": "stream",
     "text": [
      "120\n"
     ]
    }
   ],
   "source": [
    "#calculate 5 factorial.\n",
    "fact = 1\n",
    "\n",
    "for i in range(1,6):\n",
    "    fact = fact * i\n",
    "print(fact)"
   ]
  }
 ],
 "metadata": {
  "kernelspec": {
   "display_name": "mypyenv",
   "language": "python",
   "name": "python3"
  },
  "language_info": {
   "codemirror_mode": {
    "name": "ipython",
    "version": 3
   },
   "file_extension": ".py",
   "mimetype": "text/x-python",
   "name": "python",
   "nbconvert_exporter": "python",
   "pygments_lexer": "ipython3",
   "version": "3.12.5"
  }
 },
 "nbformat": 4,
 "nbformat_minor": 2
}
