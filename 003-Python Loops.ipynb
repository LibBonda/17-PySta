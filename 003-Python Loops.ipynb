{
 "cells": [
  {
   "cell_type": "markdown",
   "id": "689671d9-2b6f-432b-841d-0372e9708464",
   "metadata": {},
   "source": [
    "### 1. Write some code in python which takes n as input and finds the sum of all even numbers till n.\r\n",
    "\r\n",
    "Sample Input:\r\n",
    "10\r\n",
    "\r\n",
    "Sample Output:-\r\n",
    "30\r\n",
    "\r\n",
    "Explanation:-\r\n",
    "Even numbers till 10 are 2,4,6,8,10"
   ]
  },
  {
   "cell_type": "code",
   "execution_count": 31,
   "id": "a9f5d7cd-a43a-4d63-a34b-bb0b544bac65",
   "metadata": {},
   "outputs": [
    {
     "name": "stdin",
     "output_type": "stream",
     "text": [
      "Enter the number:  20\n"
     ]
    },
    {
     "name": "stdout",
     "output_type": "stream",
     "text": [
      "Sum of all even numbers till 20 is:  110\n"
     ]
    }
   ],
   "source": [
    "sum = 0 #initialise variable to store in sum\n",
    "\n",
    "n = int(input(\"Enter the number: \"))\n",
    "for x in range(n+1):\n",
    "              if x%2 == 0:\n",
    "                  sum = sum + x \n",
    "print(f\"Sum of all even numbers till {n} is: \" , sum)"
   ]
  },
  {
   "cell_type": "markdown",
   "id": "6b3d0d44-f390-4873-92f0-641d7f35789a",
   "metadata": {},
   "source": [
    "### 2. Write some code in python which takes n as input and finds all the prime numbers till n.\r",
    " prime numbers are those numbers which are divisible by 1 or that number itself\r\n",
    "\r\n",
    "Sample Input:\r\n",
    "20\r\n",
    "\r\n",
    "Sample Output:-\r\n",
    "2,3,5,7,11,13,17,19"
   ]
  },
  {
   "cell_type": "code",
   "execution_count": 57,
   "id": "e7cfaca3-9597-4086-95a8-2202ef84c8ad",
   "metadata": {},
   "outputs": [
    {
     "name": "stdin",
     "output_type": "stream",
     "text": [
      "Enter the number:  9\n"
     ]
    }
   ],
   "source": [
    "#initialise variable to store in sum\n",
    "n = int(input(\"Enter the number: \"))\n",
    "for x in range(2, n+1):\n",
    "              if x >1 and all(x % i != 0  for i in range(2, n+1)):\n",
    "                  print(f\"{x} is a prime number\")"
   ]
  },
  {
   "cell_type": "code",
   "execution_count": 7,
   "id": "b462d9e3-0f17-470c-9e6f-e11b36f62723",
   "metadata": {},
   "outputs": [
    {
     "name": "stdout",
     "output_type": "stream",
     "text": [
      "0\n",
      "1\n",
      "2\n",
      "3\n",
      "4\n",
      "5\n",
      "6\n",
      "7\n",
      "8\n",
      "9\n"
     ]
    }
   ],
   "source": [
    "# Print first 10 numbers using a for loop\n",
    "\n",
    "for i in range(10):\n",
    "    print(i)"
   ]
  },
  {
   "cell_type": "code",
   "execution_count": 9,
   "id": "42e56565-dfa2-4c1a-94cc-5b44bf852b8f",
   "metadata": {},
   "outputs": [
    {
     "name": "stdout",
     "output_type": "stream",
     "text": [
      "10\n",
      "12\n",
      "14\n",
      "16\n",
      "18\n",
      "20\n"
     ]
    }
   ],
   "source": [
    "# Print all even numbers from 10 to 20\n",
    "\n",
    "for num in range(10, 21, 2):\n",
    "    print(num)"
   ]
  },
  {
   "cell_type": "code",
   "execution_count": 95,
   "id": "46f1f41e-223c-40d1-8742-04c8d1df4022",
   "metadata": {},
   "outputs": [
    {
     "name": "stdout",
     "output_type": "stream",
     "text": [
      "90\n"
     ]
    }
   ],
   "source": [
    "# Print sum of all even numbers to the nth number\n",
    "\n",
    "sum = 0\n",
    "\n",
    "for i in range(2, 20, 2):\n",
    "    sum = sum + i\n",
    "print(sum)\n",
    "# output "
   ]
  },
  {
   "cell_type": "code",
   "execution_count": 109,
   "id": "ae5252ad-4b01-4f29-b7a5-4106d242bed6",
   "metadata": {},
   "outputs": [
    {
     "name": "stdin",
     "output_type": "stream",
     "text": [
      "Enter start:  0\n",
      "Enter stop:  11\n"
     ]
    },
    {
     "name": "stdout",
     "output_type": "stream",
     "text": [
      "30\n"
     ]
    }
   ],
   "source": [
    "# Print sum of all even numbers between a start number and an end number: sample value 10 to 20 \n",
    "\n",
    "sum = 0\n",
    "a = int(input(\"Enter start: \"))\n",
    "b = int(input(\"Enter stop: \"))\n",
    "\n",
    "for i in range(a, b, 2):\n",
    "    if i % 2 == 0:\n",
    "        sum = sum + i\n",
    "print(sum)\n",
    "# output 90"
   ]
  },
  {
   "cell_type": "code",
   "execution_count": null,
   "id": "3da895d3-7a53-41e5-b51c-0f407c7062c5",
   "metadata": {},
   "outputs": [],
   "source": []
  }
 ],
 "metadata": {
  "kernelspec": {
   "display_name": "Python 3 (ipykernel)",
   "language": "python",
   "name": "python3"
  },
  "language_info": {
   "codemirror_mode": {
    "name": "ipython",
    "version": 3
   },
   "file_extension": ".py",
   "mimetype": "text/x-python",
   "name": "python",
   "nbconvert_exporter": "python",
   "pygments_lexer": "ipython3",
   "version": "3.11.7"
  }
 },
 "nbformat": 4,
 "nbformat_minor": 5
}
