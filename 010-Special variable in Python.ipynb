{
 "cells": [
  {
   "cell_type": "markdown",
   "metadata": {},
   "source": [
    "### 001\n",
    "__name__ (A Special variable) in Python\n",
    "Since there is no main() function in Python, when the command to run a python program is given to the interpreter, the code that is at level 0 indentation is to be executed. However, before doing that, it will define a few special variables. __name__ is one such special variable. If the source file is executed as the main program, the interpreter sets the __name__ variable to have a value \"__main__\". If this file is being imported from another module, __name__ will be set to the module's name.\n",
    "__name__ is a built-in variable which evaluates to the name of the current module. Thus it can be used to check whether the current script is being run on its own or being imported somewhere else by combining it with if statement, as shown below.\n",
    "\n",
    "Consider two separate files File1 and File2."
   ]
  },
  {
   "cell_type": "code",
   "execution_count": null,
   "metadata": {},
   "outputs": [],
   "source": [
    "# File1.py \n",
    "\n",
    "print (\"File1 __name__ = %s\" %__name__) \n",
    "\n",
    "if __name__ == \"__main__\": \n",
    "    print (\"File1 is being run directly\")\n",
    "else: \n",
    "    print (\"File1 is being imported\")"
   ]
  },
  {
   "cell_type": "code",
   "execution_count": null,
   "metadata": {},
   "outputs": [],
   "source": [
    "# File2.py \n",
    "\n",
    "import File1 \n",
    "\n",
    "print (\"File2 __name__ = %s\" %__name__) \n",
    "\n",
    "if __name__ == \"__main__\": \n",
    "    print (\"File2 is being run directly\")\n",
    "else: \n",
    "    print (\"File2 is being imported\")"
   ]
  }
 ],
 "metadata": {
  "language_info": {
   "name": "python"
  }
 },
 "nbformat": 4,
 "nbformat_minor": 2
}
