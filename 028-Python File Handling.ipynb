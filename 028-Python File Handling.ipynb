{
 "cells": [
  {
   "cell_type": "markdown",
   "metadata": {},
   "source": [
    "#### Python File Handling\n",
    "- Python has several functions for creating, reading, updating, and deleting files. CRUD\n",
    "\n",
    "##### File Handling\n",
    "- The open() function takes two parameters; filename, and mode.\n",
    "\n",
    "- Python has four modes or methods for opening a file.\n",
    "- \"r\" - Read - Default value. Opens a file for reading, error if the file does not exist\n",
    "- \"a\" - Append - Opens a file for appending, creates the file if it does not exist\n",
    "- \"w\" - Write - Opens a file for writing, creates the file if it does not exist\n",
    "- \"x\" - Create - Creates the specified file, returns an error if the file exists\n",
    "\n",
    "##### Also\n",
    "-  You can specify if the file should be handled as binary or text mode:\n",
    "- \"t\" - Text - Default value. Text mode\n",
    "- \"b\" - Binary - Binary mode (e.g. images)"
   ]
  },
  {
   "cell_type": "markdown",
   "metadata": {},
   "source": [
    "##### Syntax"
   ]
  },
  {
   "cell_type": "code",
   "execution_count": null,
   "metadata": {},
   "outputs": [],
   "source": [
    "f = open(\"demofile.txt\")\n",
    "\n",
    "#is the same as \n",
    "\n",
    "f = open(\"demofile.txt\", \"rt\") #\"r\" for read and \"t\" for text. these are default and need not be specified"
   ]
  },
  {
   "cell_type": "markdown",
   "metadata": {},
   "source": [
    "#### Open a File on the Server"
   ]
  },
  {
   "cell_type": "markdown",
   "metadata": {},
   "source": [
    "# assume file demofile.txt in same directory as Python\n",
    "demofile.txt\n",
    "\n",
    "Hello! Welcome to demofile.txt\n",
    "This file is for testing purposes.\n",
    "Good Luck!"
   ]
  },
  {
   "cell_type": "code",
   "execution_count": 3,
   "metadata": {},
   "outputs": [
    {
     "name": "stdout",
     "output_type": "stream",
     "text": [
      "Hello! You lovely specimen of a human being! \n",
      "Welcome to demofile.txt\n",
      "This file is for testing purposes.\n",
      "Good Luck!\n"
     ]
    }
   ],
   "source": [
    "#using the open() function\n",
    "\n",
    "f = open(\"D:\\\\zmyFiles\\demofile.txt\", \"r\")\n",
    "print(f.read())"
   ]
  },
  {
   "cell_type": "markdown",
   "metadata": {},
   "source": [
    "#### Read Only Parts of the File\n",
    "By default the read() method returns the whole text, but it's possible to specify how many characters you want to return:"
   ]
  },
  {
   "cell_type": "code",
   "execution_count": 5,
   "metadata": {},
   "outputs": [
    {
     "name": "stdout",
     "output_type": "stream",
     "text": [
      "Hello!\n"
     ]
    }
   ],
   "source": [
    "f = open(\"D:\\\\zmyFiles\\demofile.txt\", \"r\")\n",
    "print(f.read(6))"
   ]
  },
  {
   "cell_type": "markdown",
   "metadata": {},
   "source": [
    "##### Read Lines\n",
    "You can return one line by using the readline() method:"
   ]
  },
  {
   "cell_type": "code",
   "execution_count": 6,
   "metadata": {},
   "outputs": [
    {
     "name": "stdout",
     "output_type": "stream",
     "text": [
      "Hello! You lovely specimen of a human being! \n",
      "\n",
      "Welcome to demofile.txt\n",
      "\n"
     ]
    }
   ],
   "source": [
    "f = open(\"D:\\\\zmyFiles\\demofile.txt\", \"r\")\n",
    "print(f.readline())\n",
    "print(f.readline())\n"
   ]
  },
  {
   "cell_type": "code",
   "execution_count": 8,
   "metadata": {},
   "outputs": [
    {
     "name": "stdout",
     "output_type": "stream",
     "text": [
      "Hello! You lovely specimen of a human being! \n",
      "\n",
      "Welcome to demofile.txt\n",
      "\n",
      "This file is for testing purposes.\n",
      "\n",
      "Good Luck!\n"
     ]
    }
   ],
   "source": [
    "#By looping through the lines of the file, you can read the whole file, line by line:\n",
    "\n",
    "f = open(\"D:\\\\zmyFiles\\demofile.txt\", \"r\")\n",
    "for x in f:\n",
    "    print(x)"
   ]
  },
  {
   "cell_type": "markdown",
   "metadata": {},
   "source": [
    "#####  Close File\n",
    "when done ,always close the file\n",
    "Note: Always close files. In some cases, due to buffering, changes made to a file may not show until the file is closed."
   ]
  },
  {
   "cell_type": "code",
   "execution_count": 9,
   "metadata": {},
   "outputs": [
    {
     "name": "stdout",
     "output_type": "stream",
     "text": [
      "Hello! You lovely specimen of a human being! \n",
      "\n"
     ]
    }
   ],
   "source": [
    "f = open(\"D:\\\\zmyFiles\\demofile.txt\", \"r\")\n",
    "print(f.readline())\n",
    "f.close()"
   ]
  },
  {
   "cell_type": "markdown",
   "metadata": {},
   "source": [
    "### Python File Write\n",
    "\n",
    "#### Write to an Existing File\n",
    "- To write to an existing file, you must add a parameter to the open() function:\n",
    "- \"a\" - Append - will append to the end of the file\n",
    "- \"w\" - Write - will overwrite any existing content"
   ]
  },
  {
   "cell_type": "code",
   "execution_count": 11,
   "metadata": {},
   "outputs": [
    {
     "name": "stdout",
     "output_type": "stream",
     "text": [
      "Hello! You lovely specimen of a human being! \n",
      "Welcome to demofile.txt\n",
      "This file is for testing purposes.\n",
      "Good Luck!Added more content to this lovely file!\n"
     ]
    }
   ],
   "source": [
    "f = open(\"D:\\\\zmyFiles\\demofile2.txt\", \"a\")\n",
    "f.write(\"Added more content to this lovely file!\")\n",
    "f.close()\n",
    "\n",
    "#open and read the appended file\n",
    "f = open(\"D:\\\\zmyFiles\\demofile.txt\", \"r\")\n",
    "print(f.read())"
   ]
  },
  {
   "cell_type": "markdown",
   "metadata": {},
   "source": [
    "- Open demofile3.txt and overwrite the content"
   ]
  },
  {
   "cell_type": "code",
   "execution_count": 13,
   "metadata": {},
   "outputs": [
    {
     "name": "stdout",
     "output_type": "stream",
     "text": [
      "Oopsy! I did it again, Content Deleted!\n"
     ]
    }
   ],
   "source": [
    "f = open(\"D:\\\\zmyFiles\\demofile3.txt\", \"w\")\n",
    "f.write(\"Oopsy! I did it again, Content Deleted!\")\n",
    "f.close()\n",
    "\n",
    "#open and read the file after overwriting:\n",
    "f = open(\"D:\\\\zmyFiles\\demofile3.txt\", \"r\")\n",
    "print(f.read())\n"
   ]
  },
  {
   "cell_type": "markdown",
   "metadata": {},
   "source": [
    "#### Create a New File\n",
    "To create a new file in Python, use the open() method, with one of the following parameters:\n",
    "- \"x\" - Create - will create a file, returns an error if the file exists\n",
    "- \"a\" - Append - will create a file if the specified file does not exists\n",
    "- \"w\" - Write - will create a file if the specified file does not exists"
   ]
  },
  {
   "cell_type": "code",
   "execution_count": 20,
   "metadata": {},
   "outputs": [
    {
     "name": "stdout",
     "output_type": "stream",
     "text": [
      "Upsy Daisy Here's your new fangled file!\n"
     ]
    }
   ],
   "source": [
    "# create a new file called myfile.txt:\n",
    "f = open(\"D:\\\\zmyFiles\\myfile.txt\", \"x\")\n",
    "f = open(\"D:\\\\zmyFiles\\myfile.txt\", \"w\")\n",
    "f.write(\"Upsy Daisy Here's your new fangled file!\")\n",
    "f.close()\n",
    "\n",
    "#open and read the new file\n",
    "f = open(\"D:\\\\zmyFiles\\myfile.txt\", \"r\" )\n",
    "print(f.readline())"
   ]
  },
  {
   "cell_type": "markdown",
   "metadata": {},
   "source": [
    "#### Delete a File\n",
    "- To delete a file, you must import the OS module, and run its os.remove() function:"
   ]
  },
  {
   "cell_type": "code",
   "execution_count": 19,
   "metadata": {},
   "outputs": [],
   "source": [
    "import os\n",
    "os.remove(\"D:\\\\zmyFiles\\myfile.txt\")"
   ]
  },
  {
   "cell_type": "markdown",
   "metadata": {},
   "source": [
    "##### Check if File exist:\n",
    "To avoid getting an error, you might want to check if the file exists before you try to delete it:"
   ]
  },
  {
   "cell_type": "code",
   "execution_count": 22,
   "metadata": {},
   "outputs": [
    {
     "name": "stdout",
     "output_type": "stream",
     "text": [
      "The file does not exist\n"
     ]
    }
   ],
   "source": [
    "#Check if file exists, then delete it:\n",
    "\n",
    "import os\n",
    "if os.path.exists(\"D:\\\\zmyFiles\\myfile1.txt\"):\n",
    "  os.remove(\"D:\\\\zmyFiles\\myfile1.txt\")\n",
    "else:\n",
    "  print(\"The file does not exist\")"
   ]
  },
  {
   "cell_type": "markdown",
   "metadata": {},
   "source": [
    "##### Delete Folder\n",
    "- To delete an entire folder, use the os.rmdir() method:\n",
    "- Note: You can only remove empty folders."
   ]
  },
  {
   "cell_type": "code",
   "execution_count": null,
   "metadata": {},
   "outputs": [],
   "source": [
    "#Remove the folder \"myfolder\":\n",
    "\n",
    "import os\n",
    "os.rmdir(\"myfolder\")"
   ]
  }
 ],
 "metadata": {
  "kernelspec": {
   "display_name": "base",
   "language": "python",
   "name": "python3"
  },
  "language_info": {
   "codemirror_mode": {
    "name": "ipython",
    "version": 3
   },
   "file_extension": ".py",
   "mimetype": "text/x-python",
   "name": "python",
   "nbconvert_exporter": "python",
   "pygments_lexer": "ipython3",
   "version": "3.11.7"
  }
 },
 "nbformat": 4,
 "nbformat_minor": 2
}
