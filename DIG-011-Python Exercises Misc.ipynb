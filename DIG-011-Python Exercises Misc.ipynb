{
 "cells": [
  {
   "cell_type": "markdown",
   "metadata": {},
   "source": [
    "### 001: Write a program to create integer, string and float variables in a single line and print the type of each variables"
   ]
  },
  {
   "cell_type": "code",
   "execution_count": 9,
   "metadata": {},
   "outputs": [
    {
     "name": "stdout",
     "output_type": "stream",
     "text": [
      "<class 'int'>\n",
      "<class 'str'>\n",
      "<class 'float'>\n"
     ]
    }
   ],
   "source": [
    "a, b, c = 2,\"hello\", 3.14\n",
    "print(type(a))\n",
    "print(type(b))\n",
    "print(type(c))"
   ]
  },
  {
   "cell_type": "markdown",
   "metadata": {},
   "source": [
    "### 002: Write a program to swap two variables without using a temporary variable"
   ]
  },
  {
   "cell_type": "code",
   "execution_count": 10,
   "metadata": {},
   "outputs": [
    {
     "name": "stdout",
     "output_type": "stream",
     "text": [
      "Before swapping: a = 10, b = hello\n",
      "After swapping: a = hello, b = 10\n"
     ]
    }
   ],
   "source": [
    "a = 10\n",
    "b = \"hello\"\n",
    "\n",
    "print(f\"Before swapping: a = {a}, b = {b}\")\n",
    "\n",
    "a, b = b, a\n",
    "\n",
    "print(f\"After swapping: a = {a}, b = {b}\")"
   ]
  },
  {
   "cell_type": "markdown",
   "metadata": {},
   "source": [
    "### 003: Write a Python program to calculate the length of a string without using the inbuilt function"
   ]
  },
  {
   "cell_type": "code",
   "execution_count": 11,
   "metadata": {},
   "outputs": [
    {
     "name": "stdout",
     "output_type": "stream",
     "text": [
      "The length of the string is: 13\n"
     ]
    }
   ],
   "source": [
    "str = \"Hello, World!\"\n",
    "length = 0\n",
    "for char in str:\n",
    "    length += 1\n",
    "print(f\"The length of the string is: {length}\")"
   ]
  },
  {
   "cell_type": "markdown",
   "metadata": {},
   "source": [
    "### 004: Create a function to swap 2 variables"
   ]
  },
  {
   "cell_type": "code",
   "execution_count": 12,
   "metadata": {},
   "outputs": [
    {
     "name": "stdout",
     "output_type": "stream",
     "text": [
      "(10, 5)\n"
     ]
    }
   ],
   "source": [
    "def swap_variables(x, y):\n",
    "    return y, x\n",
    "\n",
    "print(swap_variables(5, 10))  # Output: (10, 5)"
   ]
  },
  {
   "cell_type": "markdown",
   "metadata": {},
   "source": [
    "## Scope of Variable Exerises\n",
    "\n",
    "### 005: A guy's name in school was 'john' and in college his name was 'Max' and in work he's registered as 'peter'. He changed his name after leaving each place. Write a python program to create separate functions for each with local variable name and each local variable should represent the respective name from each place."
   ]
  },
  {
   "cell_type": "code",
   "execution_count": null,
   "metadata": {},
   "outputs": [
    {
     "name": "stdout",
     "output_type": "stream",
     "text": [
      "School name: john\n",
      "College name: Max\n",
      "Work name: peter\n"
     ]
    }
   ],
   "source": [
    "school_name = \"john\"\n",
    "college_name = \"Max\"\n",
    "work_name = \"peter\"\n",
    "\n",
    "def school():\n",
    "    name = school_name\n",
    "    print(f\"School name: {name}\")  \n",
    "\n",
    "def college():\n",
    "    name = college_name\n",
    "    print(f\"College name: {name}\")\n",
    "\n",
    "def work():\n",
    "    name = work_name\n",
    "    print(f\"Work name: {name}\")\n",
    "\n",
    "school()\n",
    "college()\n",
    "work()\n"
   ]
  },
  {
   "cell_type": "markdown",
   "metadata": {},
   "source": [
    "### 006: Write a Python program to create a telephone directory which should take name as input and return phone number as output. Create a separate function for each contact and keep phone number as global scope"
   ]
  },
  {
   "cell_type": "code",
   "execution_count": 31,
   "metadata": {},
   "outputs": [
    {
     "name": "stdout",
     "output_type": "stream",
     "text": [
      "peter's phone number is 1122334455\n"
     ]
    }
   ],
   "source": [
    "phone = int()\n",
    "def John():\n",
    "    global phone   \n",
    "    phone = 1234567890\n",
    "\n",
    "def Max():\n",
    "    global phone\n",
    "    phone = 9876543210\n",
    "\n",
    "def Peter():\n",
    "    global phone\n",
    "    phone = 1122334455\n",
    "\n",
    "input_name = input(\"Enter a name to get the phone number: \")\n",
    "\n",
    "if input_name.lower() == \"john\":\n",
    "    John()  \n",
    "elif input_name.lower() == \"max\":\n",
    "    Max()\n",
    "elif input_name.lower() == \"peter\":\n",
    "    Peter()\n",
    "else:\n",
    "    print(\"Name not recognized. Please enter 'John', 'Max', or 'Peter'.\")\n",
    "    exit()\n",
    "\n",
    "print(f\"{input_name}'s phone number is {phone}\")"
   ]
  },
  {
   "cell_type": "markdown",
   "metadata": {},
   "source": [
    "#### Alternative to use of global variable"
   ]
  },
  {
   "cell_type": "code",
   "execution_count": null,
   "metadata": {},
   "outputs": [
    {
     "name": "stdout",
     "output_type": "stream",
     "text": [
      "Name not recognized. Please enter 'John', 'Max', or 'Peter'.\n"
     ]
    }
   ],
   "source": [
    "phonebook = {\n",
    "    \"John\": 1234567890,\n",
    "    \"Max\": 9876543210,\n",
    "    \"Peter\": 1122334455\n",
    "}\n",
    "input_name = input(\"Enter a name to get the phone number: \")\n",
    "if input_name in phonebook:\n",
    "    print(f\"{input_name}'s phone number is {phonebook[input_name]}\")\n",
    "else:\n",
    "    print(\"Name not recognized. Please enter 'John', 'Max', or 'Peter'.\")"
   ]
  },
  {
   "cell_type": "markdown",
   "metadata": {},
   "source": [
    "#### 007: A joint bank account has 2 users and initially the account balance is 0. if user_A credited 500 and user_B credited 600, what will the account balance be? Keep the balance as global. Try to create different functions for each user and credit the amounts from each user. Finally show total amount."
   ]
  },
  {
   "cell_type": "code",
   "execution_count": 38,
   "metadata": {},
   "outputs": [
    {
     "name": "stdout",
     "output_type": "stream",
     "text": [
      "User A credited 570.3. Current balance: 570.3\n",
      "User B credited 600. Current balance: 1170.3\n",
      "Total account balance: 1170.3\n"
     ]
    }
   ],
   "source": [
    "balance = float()\n",
    "def user_A_credit(amount):\n",
    "    global balance\n",
    "    balance += amount\n",
    "    print(f\"User A credited {amount}. Current balance: {balance}\")  \n",
    "\n",
    "def user_B_credit(amount):\n",
    "    global balance\n",
    "    balance += amount\n",
    "    print(f\"User B credited {amount}. Current balance: {balance}\")\n",
    "\n",
    "user_A_credit(570.30)\n",
    "user_B_credit(600) \n",
    "print(f\"Total account balance: {balance}\")\n",
    "def user_A_credit(amount, balance):\n",
    "    balance += amount\n",
    "    print(f\"User A credited {amount}. Current balance: {balance}\")\n",
    "    return balance "
   ]
  },
  {
   "cell_type": "markdown",
   "metadata": {},
   "source": [
    "#### 0087: If you're travelling from Houston, TX to Austin, TX and then from Austin,TX to Dallas, TX. Calculate the total distance and required time if you drive at 70mph, Houston to Austin is 162miles and Austin to Dallas is 195miles"
   ]
  },
  {
   "cell_type": "code",
   "execution_count": 46,
   "metadata": {},
   "outputs": [
    {
     "name": "stdout",
     "output_type": "stream",
     "text": [
      "Total distance: 357 miles\n",
      "Total time required: 5.10 hours\n"
     ]
    }
   ],
   "source": [
    "distHA = 162\n",
    "distAD = 195\n",
    "speed = 70\n",
    "\n",
    "def calculate_total_distance(distHA, distAD):\n",
    "    return distHA + distAD\n",
    "def calculate_time(distance, speed):\n",
    "    return distance / speed\n",
    "\n",
    "\n",
    "total_distance = calculate_total_distance(distHA, distAD)\n",
    "total_time = calculate_time(total_distance, speed)\n",
    "print(f\"Total distance: {total_distance} miles\")\n",
    "print(f\"Total time required: {total_time:.2f} hours\")\n"
   ]
  },
  {
   "cell_type": "markdown",
   "metadata": {},
   "source": [
    "#### 008: Write a program to find the area of a triangle. The area is given by: Area = sqrt(p(p-a)(p-b)(p-c)) where p is half the perimeter or (a+b+c)/2"
   ]
  },
  {
   "cell_type": "code",
   "execution_count": 48,
   "metadata": {},
   "outputs": [
    {
     "name": "stdout",
     "output_type": "stream",
     "text": [
      "The area of the triangle is: 26.83\n"
     ]
    }
   ],
   "source": [
    "import math\n",
    "\n",
    "side1, side2, side3 = 7, 8, 9\n",
    "\n",
    "p = (side1 + side2 + side3) / 2\n",
    "area = math.sqrt(p * (p - side1) * (p - side2) * (p - side3))\n",
    "print(f\"The area of the triangle is: {area:.2f}\")\n",
    "\n"
   ]
  },
  {
   "cell_type": "markdown",
   "metadata": {},
   "source": [
    "### 009: Get an integer(n) from user, perform the following conditional actions with given list(L): list_L = [10, 977, 168, 106, 625, 425, 347, 387, 429, 223, 56, 185, 720, 697, 955, 564, 673, 124, 405, 718]\n",
    "\n",
    "- if n is greater than 1000 print Invalid\n",
    "- if n is odd and not present in list_L, print Great\n",
    "- if n is odd and present in list_L print print Not Great\n",
    "- if n is even and present in list_L, print Great\n",
    "- if n is even and not present in list_L print Not Great "
   ]
  },
  {
   "cell_type": "code",
   "execution_count": 54,
   "metadata": {},
   "outputs": [
    {
     "name": "stdout",
     "output_type": "stream",
     "text": [
      "Great\n"
     ]
    }
   ],
   "source": [
    "user_input = int(input(\"Enter an integer: \"))\n",
    "list_L = [10, 977, 168, 106, 625, 425, 347, 387, 429, 223, 56, 185, 720, 697, 955, 564, 673, 124, 405, 718]\n",
    "\n",
    "if user_input > 1000:\n",
    "    print(\"Invalid\")\n",
    "elif user_input % 2 != 0 and user_input not in list_L:\n",
    "    print(\"Great\")\n",
    "elif user_input  % 2 != 0 and user_input in list_L:\n",
    "    print(\"Not Great\")\n",
    "elif user_input % 2 == 0 and user_input in list_L:\n",
    "    print(\"Great\")\n",
    "if user_input % 2 == 0 and user_input not in list_L:\n",
    "    print(\"Not Great\")"
   ]
  }
 ],
 "metadata": {
  "kernelspec": {
   "display_name": "Python 3",
   "language": "python",
   "name": "python3"
  },
  "language_info": {
   "codemirror_mode": {
    "name": "ipython",
    "version": 3
   },
   "file_extension": ".py",
   "mimetype": "text/x-python",
   "name": "python",
   "nbconvert_exporter": "python",
   "pygments_lexer": "ipython3",
   "version": "3.13.6"
  }
 },
 "nbformat": 4,
 "nbformat_minor": 2
}
