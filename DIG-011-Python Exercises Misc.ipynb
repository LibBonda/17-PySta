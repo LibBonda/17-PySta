{
 "cells": [
  {
   "cell_type": "markdown",
   "metadata": {},
   "source": [
    "### 001: Write a program to create integer, string and float variables in a single line and print the type of each variables"
   ]
  },
  {
   "cell_type": "code",
   "execution_count": 9,
   "metadata": {},
   "outputs": [
    {
     "name": "stdout",
     "output_type": "stream",
     "text": [
      "<class 'int'>\n",
      "<class 'str'>\n",
      "<class 'float'>\n"
     ]
    }
   ],
   "source": [
    "a, b, c = 2,\"hello\", 3.14\n",
    "print(type(a))\n",
    "print(type(b))\n",
    "print(type(c))"
   ]
  },
  {
   "cell_type": "markdown",
   "metadata": {},
   "source": [
    "### 002: Write a program to swap two variables without using a temporary variable"
   ]
  },
  {
   "cell_type": "code",
   "execution_count": 10,
   "metadata": {},
   "outputs": [
    {
     "name": "stdout",
     "output_type": "stream",
     "text": [
      "Before swapping: a = 10, b = hello\n",
      "After swapping: a = hello, b = 10\n"
     ]
    }
   ],
   "source": [
    "a = 10\n",
    "b = \"hello\"\n",
    "\n",
    "print(f\"Before swapping: a = {a}, b = {b}\")\n",
    "\n",
    "a, b = b, a\n",
    "\n",
    "print(f\"After swapping: a = {a}, b = {b}\")"
   ]
  },
  {
   "cell_type": "markdown",
   "metadata": {},
   "source": [
    "### 003: Write a Python program to calculate the length of a string without using the inbuilt function"
   ]
  },
  {
   "cell_type": "code",
   "execution_count": 11,
   "metadata": {},
   "outputs": [
    {
     "name": "stdout",
     "output_type": "stream",
     "text": [
      "The length of the string is: 13\n"
     ]
    }
   ],
   "source": [
    "str = \"Hello, World!\"\n",
    "length = 0\n",
    "for char in str:\n",
    "    length += 1\n",
    "print(f\"The length of the string is: {length}\")"
   ]
  },
  {
   "cell_type": "markdown",
   "metadata": {},
   "source": [
    "### 004: Create a function to swap 2 variables"
   ]
  },
  {
   "cell_type": "code",
   "execution_count": 12,
   "metadata": {},
   "outputs": [
    {
     "name": "stdout",
     "output_type": "stream",
     "text": [
      "(10, 5)\n"
     ]
    }
   ],
   "source": [
    "def swap_variables(x, y):\n",
    "    return y, x\n",
    "\n",
    "print(swap_variables(5, 10))  # Output: (10, 5)"
   ]
  },
  {
   "cell_type": "markdown",
   "metadata": {},
   "source": [
    "## Scope of Variable Exerises\n",
    "\n",
    "### 005: A guy's name in school was 'john' and in college his name was 'Max' and in work he's registered as 'peter'. He changed his name after leaving each place. Write a python program to create separate functions for each with local variable name and each local variable should represent the respective name from each place."
   ]
  },
  {
   "cell_type": "code",
   "execution_count": null,
   "metadata": {},
   "outputs": [
    {
     "name": "stdout",
     "output_type": "stream",
     "text": [
      "School name: john\n",
      "College name: Max\n",
      "Work name: peter\n"
     ]
    }
   ],
   "source": [
    "school_name = \"john\"\n",
    "college_name = \"Max\"\n",
    "work_name = \"peter\"\n",
    "\n",
    "def school():\n",
    "    name = school_name\n",
    "    print(f\"School name: {name}\")  \n",
    "\n",
    "def college():\n",
    "    name = college_name\n",
    "    print(f\"College name: {name}\")\n",
    "\n",
    "def work():\n",
    "    name = work_name\n",
    "    print(f\"Work name: {name}\")\n",
    "\n",
    "school()\n",
    "college()\n",
    "work()\n"
   ]
  },
  {
   "cell_type": "markdown",
   "metadata": {},
   "source": [
    "### 006: Write a Python program to create a telephone directory which should take name as input and return phone number as output. Create a separate function for each contact and keep phone number as global scope"
   ]
  },
  {
   "cell_type": "code",
   "execution_count": 31,
   "metadata": {},
   "outputs": [
    {
     "name": "stdout",
     "output_type": "stream",
     "text": [
      "peter's phone number is 1122334455\n"
     ]
    }
   ],
   "source": [
    "phone = int()\n",
    "def John():\n",
    "    global phone   \n",
    "    phone = 1234567890\n",
    "\n",
    "def Max():\n",
    "    global phone\n",
    "    phone = 9876543210\n",
    "\n",
    "def Peter():\n",
    "    global phone\n",
    "    phone = 1122334455\n",
    "\n",
    "input_name = input(\"Enter a name to get the phone number: \")\n",
    "\n",
    "if input_name.lower() == \"john\":\n",
    "    John()  \n",
    "elif input_name.lower() == \"max\":\n",
    "    Max()\n",
    "elif input_name.lower() == \"peter\":\n",
    "    Peter()\n",
    "else:\n",
    "    print(\"Name not recognized. Please enter 'John', 'Max', or 'Peter'.\")\n",
    "    exit()\n",
    "\n",
    "print(f\"{input_name}'s phone number is {phone}\")"
   ]
  },
  {
   "cell_type": "markdown",
   "metadata": {},
   "source": [
    "#### Alternative to use of global variable"
   ]
  },
  {
   "cell_type": "code",
   "execution_count": null,
   "metadata": {},
   "outputs": [
    {
     "name": "stdout",
     "output_type": "stream",
     "text": [
      "Name not recognized. Please enter 'John', 'Max', or 'Peter'.\n"
     ]
    }
   ],
   "source": [
    "phonebook = {\n",
    "    \"John\": 1234567890,\n",
    "    \"Max\": 9876543210,\n",
    "    \"Peter\": 1122334455\n",
    "}\n",
    "input_name = input(\"Enter a name to get the phone number: \")\n",
    "if input_name in phonebook:\n",
    "    print(f\"{input_name}'s phone number is {phonebook[input_name]}\")\n",
    "else:\n",
    "    print(\"Name not recognized. Please enter 'John', 'Max', or 'Peter'.\")"
   ]
  },
  {
   "cell_type": "markdown",
   "metadata": {},
   "source": [
    "#### 007: A joint bank account has 2 users and initially the account balance is 0. if user_A credited 500 and user_B credited 600, what will the account balance be? Keep the balance as global. Try to create different functions for each user and credit the amounts from each user. Finally show total amount."
   ]
  },
  {
   "cell_type": "code",
   "execution_count": 38,
   "metadata": {},
   "outputs": [
    {
     "name": "stdout",
     "output_type": "stream",
     "text": [
      "User A credited 570.3. Current balance: 570.3\n",
      "User B credited 600. Current balance: 1170.3\n",
      "Total account balance: 1170.3\n"
     ]
    }
   ],
   "source": [
    "balance = float()\n",
    "def user_A_credit(amount):\n",
    "    global balance\n",
    "    balance += amount\n",
    "    print(f\"User A credited {amount}. Current balance: {balance}\")  \n",
    "\n",
    "def user_B_credit(amount):\n",
    "    global balance\n",
    "    balance += amount\n",
    "    print(f\"User B credited {amount}. Current balance: {balance}\")\n",
    "\n",
    "user_A_credit(570.30)\n",
    "user_B_credit(600) \n",
    "print(f\"Total account balance: {balance}\")\n",
    "def user_A_credit(amount, balance):\n",
    "    balance += amount\n",
    "    print(f\"User A credited {amount}. Current balance: {balance}\")\n",
    "    return balance "
   ]
  },
  {
   "cell_type": "markdown",
   "metadata": {},
   "source": [
    "#### 0087: If you're travelling from Houston, TX to Austin, TX and then from Austin,TX to Dallas, TX. Calculate the total distance and required time if you drive at 70mph, Houston to Austin is 162miles and Austin to Dallas is 195miles"
   ]
  },
  {
   "cell_type": "code",
   "execution_count": 46,
   "metadata": {},
   "outputs": [
    {
     "name": "stdout",
     "output_type": "stream",
     "text": [
      "Total distance: 357 miles\n",
      "Total time required: 5.10 hours\n"
     ]
    }
   ],
   "source": [
    "distHA = 162\n",
    "distAD = 195\n",
    "speed = 70\n",
    "\n",
    "def calculate_total_distance(distHA, distAD):\n",
    "    return distHA + distAD\n",
    "def calculate_time(distance, speed):\n",
    "    return distance / speed\n",
    "\n",
    "\n",
    "total_distance = calculate_total_distance(distHA, distAD)\n",
    "total_time = calculate_time(total_distance, speed)\n",
    "print(f\"Total distance: {total_distance} miles\")\n",
    "print(f\"Total time required: {total_time:.2f} hours\")\n"
   ]
  },
  {
   "cell_type": "markdown",
   "metadata": {},
   "source": [
    "#### 008: Write a program to find the area of a triangle. The area is given by: Area = sqrt(p(p-a)(p-b)(p-c)) where p is half the perimeter or (a+b+c)/2"
   ]
  },
  {
   "cell_type": "code",
   "execution_count": 55,
   "metadata": {},
   "outputs": [
    {
     "name": "stdout",
     "output_type": "stream",
     "text": [
      "The area of the triangle is: 14.70\n"
     ]
    }
   ],
   "source": [
    "import math\n",
    "\n",
    "side1 = int(input(\"Enter the length of side 1: \"))\n",
    "side2 = int(input(\"Enter the length of side 2: \"))\n",
    "side3 = int(input(\"Enter the length of side 3: \"))\n",
    "\n",
    "p = (side1 + side2 + side3) / 2\n",
    "area = math.sqrt(p * (p - side1) * (p - side2) * (p - side3))\n",
    "print(f\"The area of the triangle is: {area:.2f}\")\n",
    "\n"
   ]
  },
  {
   "cell_type": "markdown",
   "metadata": {},
   "source": [
    "### 009: Get an integer(n) from user, perform the following conditional actions with given list(L): list_L = [10, 977, 168, 106, 625, 425, 347, 387, 429, 223, 56, 185, 720, 697, 955, 564, 673, 124, 405, 718]\n",
    "\n",
    "- if n is greater than 1000 print Invalid\n",
    "- if n is odd and not present in list_L, print Great\n",
    "- if n is odd and present in list_L print print Not Great\n",
    "- if n is even and present in list_L, print Great\n",
    "- if n is even and not present in list_L print Not Great "
   ]
  },
  {
   "cell_type": "code",
   "execution_count": null,
   "metadata": {},
   "outputs": [
    {
     "name": "stdout",
     "output_type": "stream",
     "text": [
      "Great\n"
     ]
    }
   ],
   "source": [
    "n = int(input(\"Enter an integer: \"))\n",
    "list_L = [10, 977, 168, 106, 625, 425, 347, 387, 429, 223, 56, 185, 720, 697, 955, 564, 673, 124, 405, 718]\n",
    "\n",
    "if n > 1000:\n",
    "    print(\"Invalid\")\n",
    "elif n % 2 != 0 and n not in list_L:\n",
    "    print(\"Great\")\n",
    "elif n  % 2 != 0 and n in list_L:\n",
    "    print(\"Not Great\")\n",
    "elif n % 2 == 0 and n in list_L:\n",
    "    print(\"Great\")\n",
    "if n % 2 == 0 and n not in list_L:\n",
    "    print(\"Not Great\")"
   ]
  },
  {
   "cell_type": "markdown",
   "metadata": {},
   "source": [
    "## Exercise on Comparison, Logical and bitwise Operators\n",
    "\n",
    "#### 011: Teacher's conundrum\n",
    "- Help a teacher to find which students are all scored more than or equal to 35 to check  who are all get pass marks and print the pass students names.\n",
    "- Hel the teacher to find students who failed to get 35 and those who all passed as well as find the students with top marks over 90.\n",
    "- Print the names of students who failed and those of the top students\n"
   ]
  },
  {
   "cell_type": "code",
   "execution_count": 13,
   "metadata": {},
   "outputs": [
    {
     "name": "stdout",
     "output_type": "stream",
     "text": [
      "John is a good student!\n",
      "John is 20 years old and is a good student with a mark of 81.\n",
      "John's mark has been updated to 85.\n",
      "John is a good student!\n",
      "John is 20 years old and is a good student with a mark of 85.\n",
      "Student not found.\n"
     ]
    }
   ],
   "source": [
    "students = {\n",
    "    \"John\": {\"age\": 20, \"mark\": 81},\n",
    "    \"Max\": {\"age\": 22, \"mark\": 90},\n",
    "    \"Peter\": {\"age\": 21, \"mark\": 75},\n",
    "    \"Anne\": {\"age\": 19, \"mark\": 88},\n",
    "    \"Julie\": {\"age\": 23, \"mark\": 95},\n",
    "    \"Tom\": {\"age\": 20, \"mark\": 34},\n",
    "    \"Lucy\": {\"age\": 22, \"mark\": 92}, \n",
    "    \"Mike\": {\"age\": 21, \"mark\": 32},\n",
    "    \"Sara\": {\"age\": 19, \"mark\": 89},\n",
    "    \"Kate\": {\"age\": 23, \"mark\": 24},\n",
    "    \"Alex\": {\"age\": 20, \"mark\": 78},\n",
    "    \"Nina\": {\"age\": 22, \"mark\": 85},\n",
    "    \"Leo\": {\"age\": 21, \"mark\": 67},\n",
    "    \"Eva\": {\"age\": 19, \"mark\": 91}  \n",
    "}\n",
    "\n",
    "def get_student_info(name):\n",
    "    student = students.get(name)\n",
    "    if student:\n",
    "        age = student[\"age\"]\n",
    "        mark = student[\"mark\"]\n",
    "        if mark >= 90:\n",
    "            status = \"top performer\"\n",
    "            print(f\"{name} is a top performer!\")\n",
    "        elif mark >= 80:\n",
    "            status = \"good student\"\n",
    "            print(f\"{name} is a good student!\")\n",
    "        elif mark >= 50:\n",
    "            status = \"passing student\"\n",
    "            print(f\"{name} is a passing student.\")\n",
    "        else:\n",
    "            status = \"failing student\"\n",
    "            print(f\"{name} is a failing student.\")\n",
    "        return f\"{name} is {age} years old and is a {status} with a mark of {mark}.\"\n",
    "    else:\n",
    "        return \"Student not found.\"\n",
    "\n",
    "def update_student_info(name, mark):\n",
    "    if name in students:\n",
    "        students[name][\"mark\"] = mark\n",
    "        return f\"{name}'s mark has been updated to {mark}.\"\n",
    "    else:\n",
    "        return \"Student not found.\"\n",
    "\n",
    "# Example usage\n",
    "print(get_student_info(\"John\"))  # Corrected to pass a student name\n",
    "print(update_student_info(\"John\", 85))  # Example update\n",
    "print(get_student_info(\"John\"))  # Check updated info\n",
    "print(get_student_info(\"Unknown\"))  # Test for non-existent student"
   ]
  },
  {
   "cell_type": "markdown",
   "metadata": {},
   "source": [
    "### Rewrite the code to group students according to perfomance,"
   ]
  },
  {
   "cell_type": "code",
   "execution_count": 14,
   "metadata": {},
   "outputs": [
    {
     "name": "stdout",
     "output_type": "stream",
     "text": [
      "Top Performers (Mark >= 90):\n",
      "Max (90), Julie (95), Lucy (92), Eva (91)\n",
      "\n",
      "Passing Students (Mark 50-89):\n",
      "John (81), Peter (75), Anne (88), Sara (89), Alex (78), Nina (85), Leo (67)\n",
      "\n",
      "Failing Students (Mark < 50):\n",
      "Tom (34), Mike (32), Kate (24)\n"
     ]
    }
   ],
   "source": [
    "students = {\n",
    "    \"John\": {\"age\": 20, \"mark\": 81},\n",
    "    \"Max\": {\"age\": 22, \"mark\": 90},\n",
    "    \"Peter\": {\"age\": 21, \"mark\": 75},\n",
    "    \"Anne\": {\"age\": 19, \"mark\": 88},\n",
    "    \"Julie\": {\"age\": 23, \"mark\": 95},\n",
    "    \"Tom\": {\"age\": 20, \"mark\": 34},\n",
    "    \"Lucy\": {\"age\": 22, \"mark\": 92}, \n",
    "    \"Mike\": {\"age\": 21, \"mark\": 32},\n",
    "    \"Sara\": {\"age\": 19, \"mark\": 89},\n",
    "    \"Kate\": {\"age\": 23, \"mark\": 24},\n",
    "    \"Alex\": {\"age\": 20, \"mark\": 78},\n",
    "    \"Nina\": {\"age\": 22, \"mark\": 85},\n",
    "    \"Leo\": {\"age\": 21, \"mark\": 67},\n",
    "    \"Eva\": {\"age\": 19, \"mark\": 91}  \n",
    "}\n",
    "\n",
    "def categorize_students():\n",
    "    top_performers = []\n",
    "    passing = []\n",
    "    failing = []\n",
    "    \n",
    "    for name, info in students.items():\n",
    "        mark = info[\"mark\"]\n",
    "        student_info = f\"{name} ({mark})\"\n",
    "        if mark >= 90:\n",
    "            top_performers.append(student_info)\n",
    "        elif mark >= 50:\n",
    "            passing.append(student_info)\n",
    "        else:\n",
    "            failing.append(student_info)\n",
    "    \n",
    "    return top_performers, passing, failing\n",
    "\n",
    "# Get the categorized lists\n",
    "top_performers, passing, failing = categorize_students()\n",
    "\n",
    "# Print the results\n",
    "print(\"Top Performers (Mark >= 90):\")\n",
    "print(\", \".join(top_performers) if top_performers else \"None\")\n",
    "print(\"\\nPassing Students (Mark 50-89):\")\n",
    "print(\", \".join(passing) if passing else \"None\")\n",
    "print(\"\\nFailing Students (Mark < 50):\")\n",
    "print(\", \".join(failing) if failing else \"None\")"
   ]
  },
  {
   "cell_type": "markdown",
   "metadata": {},
   "source": [
    "### Sort the students according to high scores:"
   ]
  },
  {
   "cell_type": "code",
   "execution_count": 15,
   "metadata": {},
   "outputs": [
    {
     "name": "stdout",
     "output_type": "stream",
     "text": [
      "Top Performers (Mark >= 90):\n",
      "Julie (95), Lucy (92), Eva (91), Max (90)\n",
      "\n",
      "Passing Students (Mark 50-89):\n",
      "Sara (89), Anne (88), Nina (85), John (81), Alex (78), Peter (75), Leo (67)\n",
      "\n",
      "Failing Students (Mark < 50):\n",
      "Tom (34), Mike (32), Kate (24)\n"
     ]
    }
   ],
   "source": [
    "students = {\n",
    "    \"John\": {\"age\": 20, \"mark\": 81},\n",
    "    \"Max\": {\"age\": 22, \"mark\": 90},\n",
    "    \"Peter\": {\"age\": 21, \"mark\": 75},\n",
    "    \"Anne\": {\"age\": 19, \"mark\": 88},\n",
    "    \"Julie\": {\"age\": 23, \"mark\": 95},\n",
    "    \"Tom\": {\"age\": 20, \"mark\": 34},\n",
    "    \"Lucy\": {\"age\": 22, \"mark\": 92}, \n",
    "    \"Mike\": {\"age\": 21, \"mark\": 32},\n",
    "    \"Sara\": {\"age\": 19, \"mark\": 89},\n",
    "    \"Kate\": {\"age\": 23, \"mark\": 24},\n",
    "    \"Alex\": {\"age\": 20, \"mark\": 78},\n",
    "    \"Nina\": {\"age\": 22, \"mark\": 85},\n",
    "    \"Leo\": {\"age\": 21, \"mark\": 67},\n",
    "    \"Eva\": {\"age\": 19, \"mark\": 91}  \n",
    "}\n",
    "\n",
    "def categorize_students():\n",
    "    top_performers = []\n",
    "    passing = []\n",
    "    failing = []\n",
    "    \n",
    "    for name, info in students.items():\n",
    "        mark = info[\"mark\"]\n",
    "        student_info = (name, mark)\n",
    "        if mark >= 90:\n",
    "            top_performers.append(student_info)\n",
    "        elif mark >= 50:\n",
    "            passing.append(student_info)\n",
    "        else:\n",
    "            failing.append(student_info)\n",
    "    \n",
    "    # Sort each list by mark (index 1 of tuple) in descending order\n",
    "    top_performers = sorted(top_performers, key=lambda x: x[1], reverse=True)\n",
    "    passing = sorted(passing, key=lambda x: x[1], reverse=True)\n",
    "    failing = sorted(failing, key=lambda x: x[1], reverse=True)\n",
    "    \n",
    "    # Format the sorted lists as strings\n",
    "    top_performers = [f\"{name} ({mark})\" for name, mark in top_performers]\n",
    "    passing = [f\"{name} ({mark})\" for name, mark in passing]\n",
    "    failing = [f\"{name} ({mark})\" for name, mark in failing]\n",
    "    \n",
    "    return top_performers, passing, failing\n",
    "\n",
    "# Get the categorized lists\n",
    "top_performers, passing, failing = categorize_students()\n",
    "\n",
    "# Print the results\n",
    "print(\"Top Performers (Mark >= 90):\")\n",
    "print(\", \".join(top_performers) if top_performers else \"None\")\n",
    "print(\"\\nPassing Students (Mark 50-89):\")\n",
    "print(\", \".join(passing) if passing else \"None\")\n",
    "print(\"\\nFailing Students (Mark < 50):\")\n",
    "print(\", \".join(failing) if failing else \"None\")"
   ]
  },
  {
   "cell_type": "markdown",
   "metadata": {},
   "source": [
    "### 012 System Administrator\n",
    "#### Create an access rights providing system for a system administrator, which should help him to allow user access based on their designation.\n",
    "- if their designation id is 'viewer' then they should be able to only view the file\n",
    "- if their designation id is 'Editor' then they can view and edit the file\n",
    "- if their designation id is 'Creator' they can get full access and be able to view, edit and create files"
   ]
  },
  {
   "cell_type": "code",
   "execution_count": 2,
   "metadata": {},
   "outputs": [
    {
     "name": "stdout",
     "output_type": "stream",
     "text": [
      "Viewer access to View: True\n",
      "Viewer access to Edit: False\n",
      "Viewer access to Create: False\n",
      "\n",
      "Editor access to View: True\n",
      "Editor access to Edit: True\n",
      "Editor access to Create: False\n",
      "\n",
      "Creator access to View: True\n",
      "Creator access to Edit: True\n",
      "Creator access to Create: True\n",
      "\n",
      "Guest access to View: False\n"
     ]
    }
   ],
   "source": [
    "#Use bitwise operators to create an access rights system for a system administrator.\n",
    "# Define access levels using bitwise flags\n",
    "\n",
    "VIEW = 1  # 001\n",
    "EDIT = 2  # 010\n",
    "CREATE = 4 # 100\n",
    "\n",
    "# Define access rights for each designation\n",
    "access_rights = {\n",
    "    'Viewer': VIEW,\n",
    "    'Editor': VIEW | EDIT,\n",
    "    'Creator': VIEW | EDIT | CREATE\n",
    "}\n",
    "\n",
    "# Function to check if a user has a specific access right\n",
    "def has_access(user_designation, required_access):\n",
    "  \"\"\"Checks if a user has the required access based on their designation.\"\"\"\n",
    "  user_access = access_rights.get(user_designation, 0) # Get user's access rights, default to 0\n",
    "  return (user_access & required_access) == required_access\n",
    "\n",
    "# Example usage:\n",
    "user1_designation = 'Viewer'\n",
    "user2_designation = 'Editor'\n",
    "user3_designation = 'Creator'\n",
    "user4_designation = 'Guest' # A designation not in the access_rights dictionary\n",
    "\n",
    "print(f\"{user1_designation} access to View: {has_access(user1_designation, VIEW)}\")\n",
    "print(f\"{user1_designation} access to Edit: {has_access(user1_designation, EDIT)}\")\n",
    "print(f\"{user1_designation} access to Create: {has_access(user1_designation, CREATE)}\")\n",
    "\n",
    "print(f\"\\n{user2_designation} access to View: {has_access(user2_designation, VIEW)}\")\n",
    "print(f\"{user2_designation} access to Edit: {has_access(user2_designation, EDIT)}\")\n",
    "print(f\"{user2_designation} access to Create: {has_access(user2_designation, CREATE)}\")\n",
    "\n",
    "print(f\"\\n{user3_designation} access to View: {has_access(user3_designation, VIEW)}\")\n",
    "print(f\"{user3_designation} access to Edit: {has_access(user3_designation, EDIT)}\")\n",
    "print(f\"{user3_designation} access to Create: {has_access(user3_designation, CREATE)}\")\n",
    "\n",
    "print(f\"\\n{user4_designation} access to View: {has_access(user4_designation, VIEW)}\")"
   ]
  },
  {
   "cell_type": "code",
   "execution_count": null,
   "metadata": {},
   "outputs": [],
   "source": [
    "designation = input('Enter your designation: ')\n",
    "if designation.lower() == 'creator':\n",
    "    print(\"Welcome, Creator! You have full access.\")\n",
    "elif designation.lower() == 'editor':\n",
    "    print(\"Welcome, Editor! You have editing privileges.\")\n",
    "elif designation.lower() == 'viewer':\n",
    "    print(\"Welcome, Viewer! You have viewing privileges.\")\n",
    "else:\n",
    "    print(\"Designation not recognized.\")"
   ]
  },
  {
   "cell_type": "code",
   "execution_count": 1,
   "metadata": {},
   "outputs": [
    {
     "name": "stdout",
     "output_type": "stream",
     "text": [
      "Access Rights: View files.\n"
     ]
    }
   ],
   "source": [
    "def check_access(designation):\n",
    "    \"\"\"\n",
    "    Checks and prints the access rights based on the user's designation.\n",
    "\n",
    "    Args:\n",
    "        designation (str): The designation of the user ('viewer', 'editor', or 'creator').\n",
    "    \"\"\"\n",
    "    designation = designation.lower()\n",
    "\n",
    "    if designation == 'viewer':\n",
    "        print(\"Access Rights: View files.\")\n",
    "    elif designation == 'editor':\n",
    "        print(\"Access Rights: View and edit files.\")\n",
    "    elif designation == 'creator':\n",
    "        print(\"Access Rights: View, edit, and create files (Full Access).\")\n",
    "    else:\n",
    "        print(\"Invalid designation. Access denied.\")\n",
    "\n",
    "# Example usage:\n",
    "user_designation = input(\"Enter user designation (viewer, editor, or creator): \")\n",
    "check_access(user_designation)"
   ]
  },
  {
   "cell_type": "code",
   "execution_count": null,
   "metadata": {},
   "outputs": [],
   "source": [
    "\n"
   ]
  }
 ],
 "metadata": {
  "kernelspec": {
   "display_name": "Python 3",
   "language": "python",
   "name": "python3"
  },
  "language_info": {
   "codemirror_mode": {
    "name": "ipython",
    "version": 3
   },
   "file_extension": ".py",
   "mimetype": "text/x-python",
   "name": "python",
   "nbconvert_exporter": "python",
   "pygments_lexer": "ipython3",
   "version": "3.13.7"
  }
 },
 "nbformat": 4,
 "nbformat_minor": 2
}
