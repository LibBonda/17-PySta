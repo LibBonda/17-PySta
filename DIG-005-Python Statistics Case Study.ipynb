{
 "cells": [
  {
   "cell_type": "markdown",
   "metadata": {},
   "source": [
    "#### Case Study: Product Sales Performance\n",
    "\n",
    "\n"
   ]
  },
  {
   "cell_type": "code",
   "execution_count": 1,
   "metadata": {},
   "outputs": [
    {
     "name": "stdout",
     "output_type": "stream",
     "text": [
      "Product A Mean number of units sold is: 187.5\n"
     ]
    }
   ],
   "source": [
    "# 001.\n",
    "# Mean Calculation\n",
    "\n",
    "# Data for product sales\n",
    "unitsSold = {\n",
    "    \"Product A\": [150, 200, 180, 220],\n",
    "    \"Product B\": [120, 140, 160, 190],\n",
    "    \"Product C\": [180, 210, 230, 240],\n",
    "    \"Product D\": [100, 130, 140, 170],\n",
    "    \"Product E\": [190, 220, 210, 250],\n",
    "}\n",
    "\n",
    "#Calculate the mean units sold for Product A\n",
    "productA_sales = unitsSold[\"Product A\"]\n",
    "meanA_unitsSold = sum(productA_sales)/len(productA_sales)\n",
    "\n",
    "#Print result\n",
    "print(f\"Product A Mean number of units sold is: {meanA_unitsSold}\")\n"
   ]
  },
  {
   "cell_type": "code",
   "execution_count": 3,
   "metadata": {},
   "outputs": [
    {
     "name": "stdout",
     "output_type": "stream",
     "text": [
      "Product C mean revenue is : 5025.0\n"
     ]
    }
   ],
   "source": [
    "# Data for product Revenue\n",
    "revenue = {\n",
    "    \"Product A\": [3000, 4500, 4200, 5000],\n",
    "    \"Product B\": [2400, 3100, 3400, 4100],\n",
    "    \"Product C\": [4500, 5000, 5200, 5400],\n",
    "    \"Product D\": [2200, 2700, 3100, 3500],\n",
    "    \"Product E\": [5000, 5500, 5600, 6000],\n",
    "}\n",
    "\n",
    "#calculate mean revenue for Product C\n",
    "productC_revenue = revenue[\"Product C\"]\n",
    "meanC_revenue = sum(productC_revenue)/ len(productC_revenue)\n",
    "\n",
    "print(f\"Product C mean revenue is : {meanC_revenue}\")\n"
   ]
  },
  {
   "cell_type": "code",
   "execution_count": 12,
   "metadata": {},
   "outputs": [
    {
     "name": "stdout",
     "output_type": "stream",
     "text": [
      "8.0\n"
     ]
    }
   ],
   "source": [
    "customerSat = {\n",
    "    \"Product A\": [8],\n",
    "    \"Product B\": [7],\n",
    "    \"Product C\": [9],\n",
    "    \"Product D\": [6],\n",
    "    \"Product E\": [10],\n",
    "}\n",
    "\n",
    "#calculate mean customer satisfaction rating for all products.\n",
    "customerSatoverall = customerSat.values()\n",
    "\n",
    "ratingsAll = []\n",
    "for ratings in customerSat.values():\n",
    "    ratingsAll.extend(ratings)\n",
    "meanCustomerSat = sum(ratingsAll)/len(ratingsAll)\n",
    "\n",
    "print(meanCustomerSat)\n",
    "\n",
    "#print(f\"Mean customer satisfaction rating is : {meanCustomerSat}\")\n"
   ]
  },
  {
   "cell_type": "code",
   "execution_count": 6,
   "metadata": {},
   "outputs": [
    {
     "name": "stdout",
     "output_type": "stream",
     "text": [
      "The median umber of units sold for Product D is: 135.0\n"
     ]
    }
   ],
   "source": [
    "#Calculate Median for units sold for Product D across the four quarters.\n",
    "#4. What is the median number of units sold for Product D across the four quarters?\n",
    "\n",
    "unitsSoldproductD = [100, 130, 140, 170]\n",
    "\n",
    "# sort the list\n",
    "unitsSoldproductD.sort()\n",
    "\n",
    "#calculate the median\n",
    "if len(unitsSoldproductD) % 2 == 0:\n",
    "    #Even number of elements, median is the average of the middle two elements.\n",
    "    median = (unitsSoldproductD[int(len(unitsSoldproductD)/2)] + unitsSoldproductD[int(len(unitsSoldproductD)/2 -1)]) / 2 \n",
    "else:\n",
    "    #Odd number of elements, median is the middle element\n",
    "    median = unitsSoldproductD[int(len(unitsSoldproductD)/2)]\n",
    "\n",
    "print(f'The median number of units sold for Product D is: {median}')"
   ]
  },
  {
   "cell_type": "code",
   "execution_count": 7,
   "metadata": {},
   "outputs": [
    {
     "name": "stdout",
     "output_type": "stream",
     "text": [
      "The median number of revenue for all Products in Q2 Quarter is: 200\n"
     ]
    }
   ],
   "source": [
    "#5. Determine the median revenue for all products in Q2. \n",
    "\n",
    "Q2revenueAllProducts = [200, 140, 210, 130, 220]\n",
    "\n",
    "Q2revenueAllProducts.sort()\n",
    "\n",
    "#calculate the median\n",
    "if len(Q2revenueAllProducts) % 2 == 0:\n",
    "    #Even number of elements, median is the average of the middle two elements.\n",
    "    median = (Q2revenueAllProducts[int(len(Q2revenueAllProducts)/2)] + Q2revenueAllProducts[int(len(Q2revenueAllProducts)/2 -1)]) / 2\n",
    "\n",
    "else:\n",
    "    #Odd number of elements, median is the middle element.\n",
    "    median = Q2revenueAllProducts[int(len(Q2revenueAllProducts)/2)]\n",
    "\n",
    "print(f'The median number of revenue for all Products in Q2 Quarter is: {median}')\n"
   ]
  },
  {
   "cell_type": "code",
   "execution_count": 8,
   "metadata": {},
   "outputs": [
    {
     "name": "stdout",
     "output_type": "stream",
     "text": [
      "Them median customer satisfaction rating is: 8\n"
     ]
    }
   ],
   "source": [
    "#6. What is the median of the customer satisfaction ratings across all products?\n",
    "customerSat = [8, 7, 9, 6, 10]\n",
    "\n",
    "customerSat.sort()\n",
    "\n",
    "#calculate the median\n",
    "\n",
    "if len(customerSat) % 2 == 0:\n",
    "    #Even number of elements, median is the average of the middle two elements.\n",
    "    median = (customerSat[int(len(customerSat)/2)] + customerSat[int(len(customerSat)/2 -1)]) / 2\n",
    "\n",
    "else:\n",
    "    #Odd number of elements, median is the middle element.\n",
    "    median = customerSat[int(len(customerSat)/2)]\n",
    "\n",
    "print(f'Them median customer satisfaction rating is: {median}')"
   ]
  },
  {
   "cell_type": "code",
   "execution_count": 15,
   "metadata": {},
   "outputs": [
    {
     "name": "stdout",
     "output_type": "stream",
     "text": [
      "the mode for units sold for Prdoduct E is: 190\n"
     ]
    }
   ],
   "source": [
    "#Mode Calculation:\n",
    "#7. Is there any mode in the number of units sold for Product E across the four quaters?\n",
    "\n",
    "unitsSoldProductE = [190, 220, 210, 250]\n",
    "from collections import Counter\n",
    "productE_counts = Counter(unitsSoldProductE)\n",
    "\n",
    "# Find the element with the highest frequency\n",
    "\n",
    "mode = productE_counts.most_common(1)[0][0]\n",
    "\n",
    "print(f'the mode for units sold for Prdoduct E is: {mode}')\n"
   ]
  },
  {
   "cell_type": "code",
   "execution_count": 13,
   "metadata": {},
   "outputs": [
    {
     "name": "stdout",
     "output_type": "stream",
     "text": [
      "the mode for units sold for Product E is [190, 220, 210, 250]\n"
     ]
    }
   ],
   "source": [
    "#Without importing libraries ????? Not sure with this!!!\n",
    "def find_mode(nums):\n",
    "    num_counts = {}\n",
    "    for num in nums:\n",
    "        num_counts[num] = num_counts.get(num, 0) + 1\n",
    "\n",
    "    max_count = max(num_counts.values())\n",
    "    mode = []\n",
    "    for num, count in num_counts.items():\n",
    "        if count == max_count:\n",
    "            mode.append(num)\n",
    "    \n",
    "    return mode\n",
    "\n",
    "mode = find_mode(unitsSoldProductE)\n",
    "\n",
    "print(f'the mode for units sold for Product E is', mode)"
   ]
  },
  {
   "cell_type": "code",
   "execution_count": 16,
   "metadata": {},
   "outputs": [
    {
     "name": "stdout",
     "output_type": "stream",
     "text": [
      "the mode revenue for Prdoduct B is: 2400\n"
     ]
    }
   ],
   "source": [
    "#8. Find the mode of revenue for Product B over all four quarters.\n",
    "\n",
    "revenueProductB = [2400, 3100, 3400, 4100]\n",
    "from collections import Counter\n",
    "revenueProductB_counts = Counter(revenueProductB)\n",
    "\n",
    "# Find the element with the highest frequency\n",
    "\n",
    "mode = revenueProductB_counts.most_common(1)[0][0]\n",
    "\n",
    "print(f'the mode revenue for Product B is: {mode}')"
   ]
  },
  {
   "cell_type": "code",
   "execution_count": 3,
   "metadata": {},
   "outputs": [
    {
     "name": "stdout",
     "output_type": "stream",
     "text": [
      "the mode for customer rating is: 8\n"
     ]
    }
   ],
   "source": [
    "#9. Determine if there is a mode in the customer satisfaction ratings of all products.\n",
    "\n",
    "customerSat = [8, 7, 9, 6, 10]\n",
    "from collections import Counter\n",
    "customerSat_counts = Counter(customerSat)\n",
    "\n",
    "# Find the element with the highest frequency\n",
    "\n",
    "mode = customerSat_counts.most_common(1)[0][0]\n",
    "\n",
    "print(f'the mode for customer rating is: {mode}')"
   ]
  },
  {
   "cell_type": "code",
   "execution_count": 1,
   "metadata": {},
   "outputs": [
    {
     "name": "stdout",
     "output_type": "stream",
     "text": [
      "The variance of unitsSoldProductD is: 1176.0\n"
     ]
    }
   ],
   "source": [
    "#Variance Calculation: \n",
    "#10. Calculate the variance in units sold for Product A across all quarters.\n",
    "import numpy as np\n",
    "unitsSoldProductA = [150, 120, 180, 100, 190]\n",
    "\n",
    "# Calculate the variance\n",
    "variance = np.var(unitsSoldProductA)\n",
    "\n",
    "print(\"The variance of unitsSoldProductD is:\", variance)"
   ]
  },
  {
   "cell_type": "code",
   "execution_count": null,
   "metadata": {},
   "outputs": [
    {
     "name": "stdout",
     "output_type": "stream",
     "text": [
      "The revenue variance for Product E is: 126875.0\n"
     ]
    }
   ],
   "source": [
    "#11. Find the variance in the revenue of Product E across all four quarters.\n",
    "import numpy as np\n",
    "revenueProductE = [5000, 5500, 5600, 6000]\n",
    "\n",
    "#calculate the variance\n",
    "revEVariance = np.var(revenueProductE)\n",
    "\n",
    "print(f'The revenue variance for Product E is: {revEVariance}')"
   ]
  },
  {
   "cell_type": "markdown",
   "metadata": {},
   "source": [
    "### Manual Calculation\n",
    "- Calculate the mean (average) of the revenues.\n",
    "- Subtract the mean from each revenue value to find the squared deviations.\n",
    "- Average the squared deviations to get the variance.\n",
    "\n",
    "Mean:\n",
    "        Mean = (5000+5500+5600+6000)/4 = 5525\n",
    "​       \n",
    "Squared deviations:\n",
    "    (5000−5525)² = (−525)² =275625\n",
    "    (5500−5525)² = (−25)² =625\n",
    "    (5600−5525)² = (75)² = 5625\n",
    "    (6000−5525)² = (475)² = 225625\n",
    "\n",
    "Average of squared deviations (variance):\n",
    "\n",
    "Variance = (275625 + 625 + 5625 + 225625)/4 = 507500/4 =126875\n",
    "\n",
    "So the variance in the revenue of Product E is 126875."
   ]
  },
  {
   "cell_type": "code",
   "execution_count": 5,
   "metadata": {},
   "outputs": [
    {
     "name": "stdout",
     "output_type": "stream",
     "text": [
      "Customer satisfaction rating variance is : 2.0\n"
     ]
    }
   ],
   "source": [
    "# 12. What is the variance in customer satisfaction ratings for all products?\n",
    "import numpy as np\n",
    "customerSat = [8, 7, 9, 6, 10]\n",
    "\n",
    "#calculate customer satisfaction variance\n",
    "customerSatVariance = np.var(customerSat)\n",
    "\n",
    "print(f'Customer satisfaction rating variance is : {customerSatVariance}')"
   ]
  },
  {
   "cell_type": "code",
   "execution_count": 6,
   "metadata": {},
   "outputs": [
    {
     "name": "stdout",
     "output_type": "stream",
     "text": [
      "Standard Deviation for Product B units sold is : 25.8602010819715\n"
     ]
    }
   ],
   "source": [
    "#Standard Deviation Calculation: \n",
    "#13. Compute the standard deviation of units sold for Product B.\n",
    "import numpy as np\n",
    "\n",
    "unitsSoldProductB = [120, 140, 160, 190]\n",
    "\n",
    "#calculate standard deviation for product B units sold\n",
    "standardDevProductB = np.std(unitsSoldProductB)\n",
    "\n",
    "print(f'Standard Deviation for Product B units sold is : {standardDevProductB}')"
   ]
  },
  {
   "cell_type": "code",
   "execution_count": null,
   "metadata": {},
   "outputs": [
    {
     "name": "stdout",
     "output_type": "stream",
     "text": [
      "Standard Deviation for Product D is: 481.5340071064556\n"
     ]
    }
   ],
   "source": [
    "#14. Determine the standard deviation of revenue for Product D.\n",
    "import numpy as np\n",
    "revenueProductD = [2200, 2700, 3100, 3500]\n",
    "\n",
    "#calculate standard deveiation for product B revenue\n",
    "revenueStandardDevProductD = np.std(revenueProductD)\n",
    "\n",
    "print(f'Standard Deviation for Product D is: {revenueStandardDevProductD}')\n"
   ]
  },
  {
   "cell_type": "code",
   "execution_count": 10,
   "metadata": {},
   "outputs": [
    {
     "name": "stdout",
     "output_type": "stream",
     "text": [
      "Customer satisfaction rating variance is : 2.0\n"
     ]
    }
   ],
   "source": [
    "#15. What is the standard deviation of customer satisfaction ratings across all products?\n",
    "import numpy as np\n",
    "customerSat = [8, 7, 9, 6, 10]\n",
    "\n",
    "#calculate customer satisfaction variance\n",
    "customerSatStandardDev = np.var(customerSat)\n",
    "\n",
    "print(f'Customer satisfaction rating variance is : {customerSatStandardDev}')"
   ]
  },
  {
   "cell_type": "markdown",
   "metadata": {},
   "source": [
    "#### Sampling Questions"
   ]
  },
  {
   "cell_type": "code",
   "execution_count": 11,
   "metadata": {},
   "outputs": [
    {
     "name": "stdout",
     "output_type": "stream",
     "text": [
      "Probability of selecting at least one product with a rating of 9 or above: 0.7\n"
     ]
    }
   ],
   "source": [
    "#Random Sampling: \n",
    "#16. If you randomly select 2 products from the dataset\n",
    "# what is the probability of selecting a product with a customer satisfaction rating of 9 or above? \n",
    "\n",
    "from itertools import combinations\n",
    "\n",
    "# Customer satisfaction ratings\n",
    "customerSatisfaction = [8, 7, 9, 6, 10]\n",
    "\n",
    "# Count products with ratings of 9 or above\n",
    "products_above_9 = sum(1 for rating in customerSatisfaction if rating >= 9)\n",
    "total_products = len(customerSatisfaction)\n",
    "\n",
    "# Total ways to choose 2 products from the total\n",
    "total_combinations = list(combinations(customerSatisfaction, 2))\n",
    "\n",
    "# Count combinations with at least one product with a rating of 9 or above\n",
    "valid_combinations = sum(1 for combo in total_combinations if any(rating >= 9 for rating in combo))\n",
    "\n",
    "# Calculate probability\n",
    "probability_at_least_one = valid_combinations / len(total_combinations)\n",
    "\n",
    "print(\"Probability of selecting at least one product with a rating of 9 or above:\", probability_at_least_one)\n"
   ]
  }
 ],
 "metadata": {
  "kernelspec": {
   "display_name": "Python 3",
   "language": "python",
   "name": "python3"
  },
  "language_info": {
   "codemirror_mode": {
    "name": "ipython",
    "version": 3
   },
   "file_extension": ".py",
   "mimetype": "text/x-python",
   "name": "python",
   "nbconvert_exporter": "python",
   "pygments_lexer": "ipython3",
   "version": "3.13.6"
  }
 },
 "nbformat": 4,
 "nbformat_minor": 2
}
