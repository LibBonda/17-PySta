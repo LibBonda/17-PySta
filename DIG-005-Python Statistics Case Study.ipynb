{
 "cells": [
  {
   "cell_type": "markdown",
   "metadata": {},
   "source": [
    "#### Case Study: Produ ct Sales Performance\n",
    "\n",
    "\n"
   ]
  },
  {
   "cell_type": "code",
   "execution_count": 2,
   "metadata": {},
   "outputs": [
    {
     "name": "stdout",
     "output_type": "stream",
     "text": [
      "Product A Mean number of units sold is: 187.5\n"
     ]
    }
   ],
   "source": [
    "# 001.\n",
    "# Mean Calculation\n",
    "\n",
    "# Data for product sales\n",
    "unitsSold = {\n",
    "    \"Product A\": [150, 200, 180, 220],\n",
    "    \"Product B\": [120, 140, 160, 190],\n",
    "    \"Product C\": [180, 210, 230, 240],\n",
    "    \"Product D\": [100, 130, 140, 170],\n",
    "    \"Product E\": [190, 220, 210, 250],\n",
    "}\n",
    "\n",
    "#Calculate the mean units sold for Product A\n",
    "productA_sales = unitsSold[\"Product A\"]\n",
    "meanA_unitsSold = sum(productA_sales)/len(productA_sales)\n",
    "\n",
    "#Print result\n",
    "print(f\"Product A Mean number of units sold is: {meanA_unitsSold}\")\n"
   ]
  },
  {
   "cell_type": "code",
   "execution_count": 3,
   "metadata": {},
   "outputs": [
    {
     "name": "stdout",
     "output_type": "stream",
     "text": [
      "Product C mean revenue is : 5025.0\n"
     ]
    }
   ],
   "source": [
    "# Data for product Revenue\n",
    "revenue = {\n",
    "    \"Product A\": [3000, 4500, 4200, 5000],\n",
    "    \"Product B\": [2400, 3100, 3400, 4100],\n",
    "    \"Product C\": [4500, 5000, 5200, 5400],\n",
    "    \"Product D\": [2200, 2700, 3100, 3500],\n",
    "    \"Product E\": [5000, 5500, 5600, 6000],\n",
    "}\n",
    "\n",
    "#calculate mean revenue for Product C\n",
    "productC_revenue = revenue[\"Product C\"]\n",
    "meanC_revenue = sum(productC_revenue)/ len(productC_revenue)\n",
    "\n",
    "print(f\"Product C mean revenue is : {meanC_revenue}\")\n"
   ]
  },
  {
   "cell_type": "code",
   "execution_count": 12,
   "metadata": {},
   "outputs": [
    {
     "name": "stdout",
     "output_type": "stream",
     "text": [
      "8.0\n"
     ]
    }
   ],
   "source": [
    "customerSat = {\n",
    "    \"Product A\": [8],\n",
    "    \"Product B\": [7],\n",
    "    \"Product C\": [9],\n",
    "    \"Product D\": [6],\n",
    "    \"Product E\": [10],\n",
    "}\n",
    "\n",
    "#calculate mean customer satisfaction rating for all products.\n",
    "customerSatoverall = customerSat.values()\n",
    "\n",
    "ratingsAll = []\n",
    "for ratings in customerSat.values():\n",
    "    ratingsAll.extend(ratings)\n",
    "meanCustomerSat = sum(ratingsAll)/len(ratingsAll)\n",
    "\n",
    "print(meanCustomerSat)\n",
    "\n",
    "#print(f\"Mean customer satisfaction rating is : {meanCustomerSat}\")\n"
   ]
  },
  {
   "cell_type": "code",
   "execution_count": null,
   "metadata": {},
   "outputs": [],
   "source": [
    "#Calculate Median\n",
    "#4. "
   ]
  }
 ],
 "metadata": {
  "kernelspec": {
   "display_name": "base",
   "language": "python",
   "name": "python3"
  },
  "language_info": {
   "codemirror_mode": {
    "name": "ipython",
    "version": 3
   },
   "file_extension": ".py",
   "mimetype": "text/x-python",
   "name": "python",
   "nbconvert_exporter": "python",
   "pygments_lexer": "ipython3",
   "version": "3.11.7"
  }
 },
 "nbformat": 4,
 "nbformat_minor": 2
}
