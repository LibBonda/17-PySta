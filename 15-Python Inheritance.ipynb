{
 "cells": [
  {
   "cell_type": "markdown",
   "metadata": {},
   "source": [
    "### 001 Python Inheritance\n",
    "-  is a fundamental concept in object-oriented programming (OOP) that allows you to create new classes (derived classes) based on existing classes (base classes). \n",
    "- This enables code reuse, promotes code organization, and facilitates the creation of hierarchical relationships between classes.\n",
    "\n",
    "# Base Class (Parent Class):\n",
    "- This is the original class that provides the basic structure and functionality.\n",
    "\n",
    "# Derived Class (Child Class): \n",
    "- This is a new class that inherits attributes and methods from the base class. \n",
    "- It can extend the base class's functionality by adding new attributes or methods or overriding existing ones."
   ]
  },
  {
   "cell_type": "markdown",
   "metadata": {},
   "source": [
    "### 002 Key Concepts:\n",
    "\n",
    "Inheritance Hierarchy: \n",
    "- This refers to the relationship between classes where a derived class inherits from a base class, and that base class can itself inherit from another base class, creating a chain of inheritance.\n",
    "\n",
    "Method Overriding: \n",
    "- When a derived class defines a method with the same name as a method in its base class, it overrides the base class's method. \n",
    "- This allows the derived class to provide a different implementation for the method.\n",
    "\n",
    "Method Overloading: \n",
    "- While Python doesn't support method overloading in the strict sense (where methods with the same name but different parameters are  allowed), you can achieve similar behavior using default arguments or variable-length argument lists (*args and **kwargs)."
   ]
  },
  {
   "cell_type": "markdown",
   "metadata": {},
   "source": [
    "### 003 Benefits of Inheritance:\n",
    "\n",
    "Code Reusability: \n",
    "- By inheriting from a base class, you can reuse the code defined in that class without having to rewrite it.\n",
    "\n",
    "Code Organization: \n",
    "- Inheritance helps organize your code into a hierarchical structure, making it easier to understand and maintain.\n",
    "\n",
    "Polymorphism: \n",
    "- Inheritance enables polymorphism, which means that objects of different classes can be treated as if they were of the same type. This allows you to write more flexible and reusable code.\n",
    "\n",
    "Extensibility: \n",
    "- Inheritance allows you to extend the functionality of existing classes by creating new derived classes."
   ]
  },
  {
   "cell_type": "code",
   "execution_count": 1,
   "metadata": {},
   "outputs": [
    {
     "name": "stdout",
     "output_type": "stream",
     "text": [
      "James Bond\n"
     ]
    }
   ],
   "source": [
    "# Create a Parent Class\n",
    "# Create a class named Person, with firstname and lastname properties and a printname method:\n",
    "\n",
    "class Person:\n",
    "    def __init__(self, fname, lname):\n",
    "        self.firstname = fname\n",
    "        self.lastname = lname\n",
    "    \n",
    "    def printname(self):\n",
    "        print(self.firstname, self.lastname)\n",
    "\n",
    "#Use the person class to create an object and then execute the printname method.\n",
    "\n",
    "x = Person(\"James\", \"Bond\")\n",
    "x.printname()"
   ]
  },
  {
   "cell_type": "markdown",
   "metadata": {},
   "source": [
    "# Create a Child Class\n",
    "- To create a class that inherits the functionality from another class, send the parent class as a parameter when creating the child class:"
   ]
  },
  {
   "cell_type": "code",
   "execution_count": null,
   "metadata": {},
   "outputs": [],
   "source": [
    "# Create a class named Agent which will inherit thepropertes and methods from the Person class:\n",
    "class Agent(Person):\n",
    "    pass # the pass keyword is used when there is isufficient or no information to add properties and methods."
   ]
  },
  {
   "cell_type": "code",
   "execution_count": 6,
   "metadata": {},
   "outputs": [
    {
     "name": "stdout",
     "output_type": "stream",
     "text": [
      "James Bond\n",
      "Jane Bourne\n"
     ]
    }
   ],
   "source": [
    "# Create a Parent Class\n",
    "# Create a class named Person, with firstname and lastname properties and a printname method:\n",
    "class Person:\n",
    "    def __init__(self, fname, lname):\n",
    "        self.firstname = fname\n",
    "        self.lastname = lname\n",
    "    \n",
    "    def printname(self):\n",
    "        print(self.firstname, self.lastname)\n",
    "\n",
    "#Use the person class to create an object and then execute the printname method.\n",
    "\n",
    "x = Person(\"James\", \"Bond\")\n",
    "x.printname()\n",
    "\n",
    "# use pass keyword. \n",
    "class Agent(Person):\n",
    "    pass\n",
    "\n",
    "x = Agent(\"Jane\", \"Bourne\")\n",
    "x.printname()"
   ]
  },
  {
   "cell_type": "code",
   "execution_count": 9,
   "metadata": {},
   "outputs": [
    {
     "name": "stdout",
     "output_type": "stream",
     "text": [
      "James Bond\n",
      "Jane Bourne 33 Dublin\n"
     ]
    }
   ],
   "source": [
    "# Create a Parent Class\n",
    "# Create a class named Person, with firstname and lastname properties and a printname method:\n",
    "class Person:\n",
    "    def __init__(self, fname, lname):\n",
    "        self.firstname = fname\n",
    "        self.lastname = lname\n",
    "    \n",
    "    def printname(self):\n",
    "        print(self.firstname, self.lastname)\n",
    "\n",
    "#Use the person class to create an object and then execute the printname method.\n",
    "\n",
    "x = Person(\"James\", \"Bond\")\n",
    "x.printname()\n",
    "\n",
    "# the __init__() function instead of the pass keyword. \n",
    "# When the __init__() is used, the child class will no longer inherit the parent's __init__() function\n",
    "class Agent(Person):\n",
    "    def __init__(self, fname, lname, age, city): # add properties and printname method.\n",
    "        self.firstname = fname\n",
    "        self.lastname = lname\n",
    "        self.age = age\n",
    "        self.city = city  \n",
    "\n",
    "    def printname(self):\n",
    "        print(self.firstname, self.lastname, self.age, self.city)     \n",
    "\n",
    "x2 = Agent(\"Jane\", \"Bourne\", 33, \"Dublin\")\n",
    "x2.printname()"
   ]
  },
  {
   "cell_type": "markdown",
   "metadata": {},
   "source": [
    "### 004 Note: \n",
    "- The child's __init__() function overrides the inheritance of the parent's __init__() function.\n",
    "- To keep the inheritance of the parent's __init__() function, add a call to the parent's __init__() function:"
   ]
  },
  {
   "cell_type": "code",
   "execution_count": 11,
   "metadata": {},
   "outputs": [
    {
     "name": "stdout",
     "output_type": "stream",
     "text": [
      "Emily Stuart\n"
     ]
    }
   ],
   "source": [
    "class Person:\n",
    "  def __init__(self, fname, lname):\n",
    "    self.firstname = fname\n",
    "    self.lastname = lname\n",
    "\n",
    "  def printname(self):\n",
    "    print(self.firstname, self.lastname)\n",
    "\n",
    "class Student(Person):\n",
    "    def __init__(self, fname, lname):\n",
    "        Person.__init__(self, fname, lname)\n",
    "\n",
    "x = Student(\"Emily\", \"Stuart\")\n",
    "x.printname()"
   ]
  },
  {
   "cell_type": "markdown",
   "metadata": {},
   "source": [
    "### 005 Add functionality in the __init__() function\n",
    "- Use the super() Function\n",
    "- Python also has a super() function that will make the child class inherit all the methods and properties from its parent:\n",
    "- using the super() function, means there is no need to use the name of the parent element, it will automatically inherit the methods and properties from its parent."
   ]
  },
  {
   "cell_type": "code",
   "execution_count": 15,
   "metadata": {},
   "outputs": [
    {
     "name": "stdout",
     "output_type": "stream",
     "text": [
      "Elephant grey 21\n"
     ]
    }
   ],
   "source": [
    "class Animal:\n",
    "    def __init__(self, name, color, age):\n",
    "        self.name = name\n",
    "        self.color = color\n",
    "        self.age = age\n",
    "\n",
    "    def printname(self):\n",
    "        print(self.name, self.color, self.age)\n",
    "\n",
    "class Mammal(Animal):\n",
    "    def __init__(self, name, color, age):\n",
    "        super().__init__(name, color, age)\n",
    "\n",
    "x = Mammal(\"Elephant\", \"grey\", 21)\n",
    "x.printname()\n"
   ]
  },
  {
   "cell_type": "markdown",
   "metadata": {},
   "source": [
    "### 006 \n",
    "- Add a property called graduationyear to the Student class:"
   ]
  },
  {
   "cell_type": "code",
   "execution_count": 16,
   "metadata": {},
   "outputs": [
    {
     "name": "stdout",
     "output_type": "stream",
     "text": [
      "2020\n"
     ]
    }
   ],
   "source": [
    "class Person:\n",
    "    def __init__(self, fname, lname):\n",
    "        self.firstname = fname\n",
    "        self.lastname = lname\n",
    "\n",
    "    def printname(self):\n",
    "        print(self.firstname, self.lastname)\n",
    "\n",
    "class Student(Person):\n",
    "    def __init__(self, fname, lname):\n",
    "        super().__init__(fname, lname)\n",
    "        self.graduationyear = 2020\n",
    "\n",
    "x = Student(\"James\", \"Bond\")\n",
    "print(x.graduationyear)\n",
    "print()"
   ]
  },
  {
   "cell_type": "markdown",
   "metadata": {},
   "source": [
    "### 007 \n",
    "- Add a method called welcome to the Student class:"
   ]
  },
  {
   "cell_type": "code",
   "execution_count": 20,
   "metadata": {},
   "outputs": [
    {
     "name": "stdout",
     "output_type": "stream",
     "text": [
      "Welcome James Bond to the class of 2023\n"
     ]
    }
   ],
   "source": [
    "class Person:\n",
    "    def __init__(self, fname, lname):\n",
    "        self.firstname = fname\n",
    "        self.lastname = lname\n",
    "\n",
    "    def printname(self):\n",
    "        print(self.firstname, self.lastname)\n",
    "\n",
    "class Student(Person):\n",
    "    def __init__(self, fname, lname, year):\n",
    "        super().__init__(fname, lname)\n",
    "        self.graduationyear = year\n",
    "\n",
    "    def welcome(self):\n",
    "        print(\"Welcome\", self.firstname, self.lastname, \"to the class of\", self.graduationyear)\n",
    "\n",
    "x = Student(\"James\", \"Bond\", 2023)\n",
    "x.welcome()\n"
   ]
  }
 ],
 "metadata": {
  "kernelspec": {
   "display_name": "mypyenv",
   "language": "python",
   "name": "python3"
  },
  "language_info": {
   "codemirror_mode": {
    "name": "ipython",
    "version": 3
   },
   "file_extension": ".py",
   "mimetype": "text/x-python",
   "name": "python",
   "nbconvert_exporter": "python",
   "pygments_lexer": "ipython3",
   "version": "3.12.5"
  }
 },
 "nbformat": 4,
 "nbformat_minor": 2
}
