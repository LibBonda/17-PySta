{
 "cells": [
  {
   "cell_type": "code",
   "execution_count": 3,
   "metadata": {},
   "outputs": [],
   "source": [
    "import pandas as pd\n",
    "import numpy as np\n",
    "import matplotlib.pyplot as plt\n",
    "import seaborn as sns\n",
    "import datetime as dt\n",
    "import missingno as msno"
   ]
  },
  {
   "cell_type": "markdown",
   "metadata": {},
   "source": [
    "### 40- Introduction to Data Cleaning and Data Types (Python-Based)\n",
    "\n",
    "#### 1.0 Data Cleaning\n",
    "\n",
    "#### 1.1 What is Data Cleaning?\n",
    "- Data Cleaning is the process of detecting and correcting (or removing) incorrect, incomplete, or irrelevant data from a dataset to improve data quality.\n",
    "\n",
    "#### 1.2 Why is Data Cleaning Important?\n",
    "- Accuracy: Clean data leads to more accurate insights and predictions.\n",
    "- Reliability: Consistent and reliable data builds trust in your analysis.\n",
    "- Efficiency: Spending time cleaning data upfront saves time and effort later.\n",
    "- Better Decision Making: Clean data supports informed decision-making.\n",
    "\n",
    "#### 1.3 The Data Cleaning Process:\n",
    "- Identify Data Issues: \n",
    "      - Understanding the types of problems in the data (missing values, duplicates, inconsistencies).\n",
    "- Handle Missing Values: \n",
    "      - Deciding how to deal with missing data, missing values and outliers (imputation, removal).\n",
    "- Remove Duplicates: \n",
    "      - Identifying and removing duplicate and inconsistent data records.\n",
    "- Correct Inconsistent Data: \n",
    "      - Standardizing formats, correcting typos, and resolving inconsistencies improves model performance in machine learning.\n",
    "- Validate Data: \n",
    "      - Ensuring the cleaned data meets quality standards, accuracy and reliability.\n",
    "\n",
    "#### 1.4 Example:\n",
    "- Take for instance, customer data with inconsistent phone number formats (e.g., \"(123) 456-7890\", \"123-456-7890\", \"123.456.7890\").\n",
    "- Data cleaning would involve standardizing these formats to a single consistent one.\n",
    "\n",
    "#### 2.0: Data Types in Python:\n",
    "\n",
    "#### 2.1 Introduction to Data Types:\n",
    "- Data types define the kind of values a variable can hold.\n",
    "- Numeric: int(integers), float(floating-point numbers), complex (complex numbers)\n",
    "- String: (text)\n",
    "- Boolean: (True or False)\n",
    "- Sequence: (list, tuple, range)\n",
    "- Mapping: dict(dictionaries)\n",
    "\n",
    "#### 2.2 Numeric Types"
   ]
  },
  {
   "cell_type": "code",
   "execution_count": 4,
   "metadata": {},
   "outputs": [
    {
     "name": "stdout",
     "output_type": "stream",
     "text": [
      "James\n",
      "{1, 2, 3, 4, 5, 'Jane', 'Bond', 'James'}\n"
     ]
    }
   ],
   "source": [
    "# Numeric Types:\n",
    "age = 30 # int\n",
    "price = 99.99 # float\n",
    "complex_num = 2 +3j # complex\n",
    "\n",
    "# Strings\n",
    "name = 'Bond, James Bond'\n",
    "sms = 'Hello, World!'\n",
    "\n",
    "# Booleans\n",
    "is_mossad_agent = False #bool\n",
    "is_licensed_to_kill = True #bool\n",
    "\n",
    "# Tuples\n",
    "my_tuple = (1, 2, 'agent')\n",
    "# my_tuple[1] = 5 # will trigger an error because tuples are immutable\n",
    "\n",
    "# Dictionaries: Key-Value pairs\n",
    "my_dict = {'name': 'James',\n",
    "           'surname': 'Bond',\n",
    "           'age': 32,\n",
    "           'employer': 'GCHQ'\n",
    "           }\n",
    "\n",
    "print(my_dict['name']) #prints James\n",
    "\n",
    "# Sets: Unordered collections of unique elements\n",
    "my_bunch = {2, 4, 1, 2, \"James\", \"Bond\", \"Jane\", \"Bond\", 5, 3, 3}\n",
    "print(my_bunch) # {1, 2, 3, 4, 5, 'James', 'Bond', 'Jane'}"
   ]
  },
  {
   "cell_type": "markdown",
   "metadata": {},
   "source": [
    "#### 40.3 Type Conversion\n",
    "- Data can be converted between types."
   ]
  },
  {
   "cell_type": "code",
   "execution_count": 5,
   "metadata": {},
   "outputs": [
    {
     "name": "stdout",
     "output_type": "stream",
     "text": [
      "50\n",
      "10\n"
     ]
    }
   ],
   "source": [
    "age = 50\n",
    "age_str = str(age)\n",
    "print(age_str) # int 50 is converted to a string\n",
    "\n",
    "price = 10.99\n",
    "price_int = int(price)\n",
    "print(price_int) # converts price((float) to an integer (truncates)"
   ]
  },
  {
   "cell_type": "markdown",
   "metadata": {},
   "source": [
    "### 3.0 Handling Missing Data\n",
    "\n",
    "#### 3.1 Identifying missing Data:\n",
    "\n",
    "- Using Pandas to identify missing values (represented by NaN - Not a Number)"
   ]
  },
  {
   "cell_type": "code",
   "execution_count": 6,
   "metadata": {},
   "outputs": [
    {
     "name": "stdout",
     "output_type": "stream",
     "text": [
      "       A      B\n",
      "0  False  False\n",
      "1  False   True\n",
      "2   True  False\n",
      "3  False  False\n",
      "A    1\n",
      "B    1\n",
      "dtype: int64\n"
     ]
    }
   ],
   "source": [
    "import pandas as pd\n",
    "data = {'A': [1, 2, None, 4], 'B':[5, None, 7, 8]}\n",
    "df = pd.DataFrame(data)\n",
    "print(df.isnull()) #prints True for missing values and False otherwise\n",
    "print(df.isna().sum()) # prints the number of missing values in each column"
   ]
  },
  {
   "cell_type": "markdown",
   "metadata": {},
   "source": [
    "#### 3.2 Handling Missing Data:\n",
    "- Deletion: Removing rows or columns with missing values."
   ]
  },
  {
   "cell_type": "code",
   "execution_count": null,
   "metadata": {},
   "outputs": [],
   "source": [
    "df.dropna() #removes rows with any missing values.\n",
    "df.dropna(axis=1) # removes columns with any missing values.\n",
    "df.dropna(subset=['A']) # removes rows where column 'A' has missing values"
   ]
  },
  {
   "cell_type": "code",
   "execution_count": 11,
   "metadata": {},
   "outputs": [
    {
     "data": {
      "application/vnd.microsoft.datawrangler.viewer.v0+json": {
       "columns": [
        {
         "name": "index",
         "rawType": "object",
         "type": "string"
        },
        {
         "name": "agent_1",
         "rawType": "object",
         "type": "unknown"
        },
        {
         "name": "agent_2",
         "rawType": "object",
         "type": "unknown"
        },
        {
         "name": "agent_3",
         "rawType": "object",
         "type": "unknown"
        }
       ],
       "conversionMethod": "pd.DataFrame",
       "ref": "84960429-ec41-45ef-a80f-22f1a297a8b7",
       "rows": [
        [
         "age",
         "30",
         "35",
         "40"
        ],
        [
         "name",
         "James",
         "Jane",
         "John"
        ],
        [
         "surname",
         "Bond",
         "Bond",
         "Doe"
        ],
        [
         "employer",
         "MI6",
         "MI6",
         "CIA"
        ],
        [
         "years_in_service",
         "17",
         null,
         "5"
        ],
        [
         "year_of_birth",
         "1990",
         "1995",
         "1995"
        ]
       ],
       "shape": {
        "columns": 3,
        "rows": 6
       }
      },
      "text/html": [
       "<div>\n",
       "<style scoped>\n",
       "    .dataframe tbody tr th:only-of-type {\n",
       "        vertical-align: middle;\n",
       "    }\n",
       "\n",
       "    .dataframe tbody tr th {\n",
       "        vertical-align: top;\n",
       "    }\n",
       "\n",
       "    .dataframe thead th {\n",
       "        text-align: right;\n",
       "    }\n",
       "</style>\n",
       "<table border=\"1\" class=\"dataframe\">\n",
       "  <thead>\n",
       "    <tr style=\"text-align: right;\">\n",
       "      <th></th>\n",
       "      <th>agent_1</th>\n",
       "      <th>agent_2</th>\n",
       "      <th>agent_3</th>\n",
       "    </tr>\n",
       "  </thead>\n",
       "  <tbody>\n",
       "    <tr>\n",
       "      <th>age</th>\n",
       "      <td>30</td>\n",
       "      <td>35</td>\n",
       "      <td>40</td>\n",
       "    </tr>\n",
       "    <tr>\n",
       "      <th>name</th>\n",
       "      <td>James</td>\n",
       "      <td>Jane</td>\n",
       "      <td>John</td>\n",
       "    </tr>\n",
       "    <tr>\n",
       "      <th>surname</th>\n",
       "      <td>Bond</td>\n",
       "      <td>Bond</td>\n",
       "      <td>Doe</td>\n",
       "    </tr>\n",
       "    <tr>\n",
       "      <th>employer</th>\n",
       "      <td>MI6</td>\n",
       "      <td>MI6</td>\n",
       "      <td>CIA</td>\n",
       "    </tr>\n",
       "    <tr>\n",
       "      <th>years_in_service</th>\n",
       "      <td>17</td>\n",
       "      <td>None</td>\n",
       "      <td>5</td>\n",
       "    </tr>\n",
       "    <tr>\n",
       "      <th>year_of_birth</th>\n",
       "      <td>1990</td>\n",
       "      <td>1995</td>\n",
       "      <td>1995</td>\n",
       "    </tr>\n",
       "  </tbody>\n",
       "</table>\n",
       "</div>"
      ],
      "text/plain": [
       "                 agent_1 agent_2 agent_3\n",
       "age                   30      35      40\n",
       "name               James    Jane    John\n",
       "surname             Bond    Bond     Doe\n",
       "employer             MI6     MI6     CIA\n",
       "years_in_service      17    None       5\n",
       "year_of_birth       1990    1995    1995"
      ]
     },
     "execution_count": 11,
     "metadata": {},
     "output_type": "execute_result"
    }
   ],
   "source": [
    "my_agents = {'agent_1': [30, 'James', 'Bond', 'MI6', 17, 1990],\n",
    "             'agent_2': [35, 'Jane', 'Bond', 'MI6', None, 1995],\n",
    "             'agent_3': [40, 'John', 'Doe', 'CIA', 5, 1995],\n",
    "             }\n",
    "\n",
    "#dictionary named my_agents is defined. The dictionary has three keys: 'agent_1', 'agent_2', and 'agent_3'. \n",
    "# Each key is associated with a list of values representing different attributes of the agents:\n",
    "#The list of keys can be replaced with the index parameter to specify the row labels of the DataFrame:\n",
    "\n",
    "df_agents = pd.DataFrame(my_agents, index=['age', 'name', 'surname', 'employer', 'years_in_service', 'year_of_birth']) \n",
    "# creates a DataFrame from the dictionary and rows are labeled with the index parameter\n",
    "\n",
    "df_agents"
   ]
  },
  {
   "cell_type": "code",
   "execution_count": null,
   "metadata": {},
   "outputs": [
    {
     "data": {
      "application/vnd.microsoft.datawrangler.viewer.v0+json": {
       "columns": [
        {
         "name": "index",
         "rawType": "object",
         "type": "string"
        },
        {
         "name": "agent_1",
         "rawType": "object",
         "type": "unknown"
        },
        {
         "name": "agent_2",
         "rawType": "object",
         "type": "unknown"
        },
        {
         "name": "agent_3",
         "rawType": "object",
         "type": "unknown"
        }
       ],
       "conversionMethod": "pd.DataFrame",
       "ref": "85012043-a454-408d-a5d6-545d669cd00d",
       "rows": [
        [
         "age",
         "30",
         "35",
         "40"
        ],
        [
         "name",
         "James",
         "Jane",
         "John"
        ],
        [
         "surname",
         "Bond",
         "Bond",
         "Doe"
        ],
        [
         "employer",
         "MI6",
         "MI6",
         "CIA"
        ],
        [
         "year_of_birth",
         "1990",
         "1995",
         "1995"
        ]
       ],
       "shape": {
        "columns": 3,
        "rows": 5
       }
      },
      "text/html": [
       "<div>\n",
       "<style scoped>\n",
       "    .dataframe tbody tr th:only-of-type {\n",
       "        vertical-align: middle;\n",
       "    }\n",
       "\n",
       "    .dataframe tbody tr th {\n",
       "        vertical-align: top;\n",
       "    }\n",
       "\n",
       "    .dataframe thead th {\n",
       "        text-align: right;\n",
       "    }\n",
       "</style>\n",
       "<table border=\"1\" class=\"dataframe\">\n",
       "  <thead>\n",
       "    <tr style=\"text-align: right;\">\n",
       "      <th></th>\n",
       "      <th>agent_1</th>\n",
       "      <th>agent_2</th>\n",
       "      <th>agent_3</th>\n",
       "    </tr>\n",
       "  </thead>\n",
       "  <tbody>\n",
       "    <tr>\n",
       "      <th>age</th>\n",
       "      <td>30</td>\n",
       "      <td>35</td>\n",
       "      <td>40</td>\n",
       "    </tr>\n",
       "    <tr>\n",
       "      <th>name</th>\n",
       "      <td>James</td>\n",
       "      <td>Jane</td>\n",
       "      <td>John</td>\n",
       "    </tr>\n",
       "    <tr>\n",
       "      <th>surname</th>\n",
       "      <td>Bond</td>\n",
       "      <td>Bond</td>\n",
       "      <td>Doe</td>\n",
       "    </tr>\n",
       "    <tr>\n",
       "      <th>employer</th>\n",
       "      <td>MI6</td>\n",
       "      <td>MI6</td>\n",
       "      <td>CIA</td>\n",
       "    </tr>\n",
       "    <tr>\n",
       "      <th>year_of_birth</th>\n",
       "      <td>1990</td>\n",
       "      <td>1995</td>\n",
       "      <td>1995</td>\n",
       "    </tr>\n",
       "  </tbody>\n",
       "</table>\n",
       "</div>"
      ],
      "text/plain": [
       "              agent_1 agent_2 agent_3\n",
       "age                30      35      40\n",
       "name            James    Jane    John\n",
       "surname          Bond    Bond     Doe\n",
       "employer          MI6     MI6     CIA\n",
       "year_of_birth    1990    1995    1995"
      ]
     },
     "execution_count": 12,
     "metadata": {},
     "output_type": "execute_result"
    }
   ],
   "source": [
    "#df_agents.dropna() # removes rows with any missing values"
   ]
  },
  {
   "cell_type": "code",
   "execution_count": 27,
   "metadata": {},
   "outputs": [
    {
     "data": {
      "application/vnd.microsoft.datawrangler.viewer.v0+json": {
       "columns": [
        {
         "name": "index",
         "rawType": "object",
         "type": "string"
        },
        {
         "name": "agent_1",
         "rawType": "object",
         "type": "unknown"
        },
        {
         "name": "agent_2",
         "rawType": "object",
         "type": "unknown"
        },
        {
         "name": "agent_3",
         "rawType": "object",
         "type": "unknown"
        },
        {
         "name": "agent_5",
         "rawType": "object",
         "type": "unknown"
        },
        {
         "name": "agent_5",
         "rawType": "object",
         "type": "unknown"
        },
        {
         "name": "agent_4",
         "rawType": "object",
         "type": "unknown"
        }
       ],
       "conversionMethod": "pd.DataFrame",
       "ref": "fcc696e7-2073-4742-8370-deec92456785",
       "rows": [
        [
         "age",
         "30",
         "35",
         "40",
         "45",
         "45",
         "45"
        ],
        [
         "name",
         "James",
         "Jane",
         "John",
         "Eve",
         "Eve",
         "Eve"
        ],
        [
         "surname",
         "Bond",
         "Bond",
         "Doe",
         "Monepenny",
         "Monepenny",
         "Monepenny"
        ],
        [
         "employer",
         "MI6",
         "MI6",
         "CIA",
         null,
         null,
         null
        ],
        [
         "years_in_service",
         "17",
         null,
         "5",
         "15",
         "15",
         "15"
        ],
        [
         "year_of_birth",
         "1990",
         "1995",
         "1995",
         "1975",
         "1975",
         "1975"
        ]
       ],
       "shape": {
        "columns": 6,
        "rows": 6
       }
      },
      "text/html": [
       "<div>\n",
       "<style scoped>\n",
       "    .dataframe tbody tr th:only-of-type {\n",
       "        vertical-align: middle;\n",
       "    }\n",
       "\n",
       "    .dataframe tbody tr th {\n",
       "        vertical-align: top;\n",
       "    }\n",
       "\n",
       "    .dataframe thead th {\n",
       "        text-align: right;\n",
       "    }\n",
       "</style>\n",
       "<table border=\"1\" class=\"dataframe\">\n",
       "  <thead>\n",
       "    <tr style=\"text-align: right;\">\n",
       "      <th></th>\n",
       "      <th>agent_1</th>\n",
       "      <th>agent_2</th>\n",
       "      <th>agent_3</th>\n",
       "      <th>agent_5</th>\n",
       "      <th>agent_5</th>\n",
       "      <th>agent_4</th>\n",
       "    </tr>\n",
       "  </thead>\n",
       "  <tbody>\n",
       "    <tr>\n",
       "      <th>age</th>\n",
       "      <td>30</td>\n",
       "      <td>35</td>\n",
       "      <td>40</td>\n",
       "      <td>45</td>\n",
       "      <td>45</td>\n",
       "      <td>45</td>\n",
       "    </tr>\n",
       "    <tr>\n",
       "      <th>name</th>\n",
       "      <td>James</td>\n",
       "      <td>Jane</td>\n",
       "      <td>John</td>\n",
       "      <td>Eve</td>\n",
       "      <td>Eve</td>\n",
       "      <td>Eve</td>\n",
       "    </tr>\n",
       "    <tr>\n",
       "      <th>surname</th>\n",
       "      <td>Bond</td>\n",
       "      <td>Bond</td>\n",
       "      <td>Doe</td>\n",
       "      <td>Monepenny</td>\n",
       "      <td>Monepenny</td>\n",
       "      <td>Monepenny</td>\n",
       "    </tr>\n",
       "    <tr>\n",
       "      <th>employer</th>\n",
       "      <td>MI6</td>\n",
       "      <td>MI6</td>\n",
       "      <td>CIA</td>\n",
       "      <td>None</td>\n",
       "      <td>None</td>\n",
       "      <td>None</td>\n",
       "    </tr>\n",
       "    <tr>\n",
       "      <th>years_in_service</th>\n",
       "      <td>17</td>\n",
       "      <td>None</td>\n",
       "      <td>5</td>\n",
       "      <td>15</td>\n",
       "      <td>15</td>\n",
       "      <td>15</td>\n",
       "    </tr>\n",
       "    <tr>\n",
       "      <th>year_of_birth</th>\n",
       "      <td>1990</td>\n",
       "      <td>1995</td>\n",
       "      <td>1995</td>\n",
       "      <td>1975</td>\n",
       "      <td>1975</td>\n",
       "      <td>1975</td>\n",
       "    </tr>\n",
       "  </tbody>\n",
       "</table>\n",
       "</div>"
      ],
      "text/plain": [
       "                 agent_1 agent_2 agent_3    agent_5    agent_5    agent_4\n",
       "age                   30      35      40         45         45         45\n",
       "name               James    Jane    John        Eve        Eve        Eve\n",
       "surname             Bond    Bond     Doe  Monepenny  Monepenny  Monepenny\n",
       "employer             MI6     MI6     CIA       None       None       None\n",
       "years_in_service      17    None       5         15         15         15\n",
       "year_of_birth       1990    1995    1995       1975       1975       1975"
      ]
     },
     "execution_count": 27,
     "metadata": {},
     "output_type": "execute_result"
    }
   ],
   "source": [
    "#Lets add a new agent to the DataFrame Method 1\n",
    "new_agent = {'agent_4': [ 45, 'Eve', 'Monepenny', None, 15, 1975]}\n",
    "\n",
    "#create a new DataFrame from the new_agent dictionary\n",
    "df_new_agent = pd.DataFrame(new_agent, index=['age', 'name', 'surname', 'employer', 'years_in_service', 'year_of_birth'])\n",
    "\n",
    "#concatentate the new DataFrame with the original DataFrame\n",
    "df_agents = pd.concat([df_agents, df_new_agent], axis=1)\n",
    "\n",
    "df_agents\n",
    "\n",
    "\n"
   ]
  },
  {
   "cell_type": "code",
   "execution_count": null,
   "metadata": {},
   "outputs": [
    {
     "data": {
      "application/vnd.microsoft.datawrangler.viewer.v0+json": {
       "columns": [
        {
         "name": "index",
         "rawType": "object",
         "type": "string"
        },
        {
         "name": "agent_1",
         "rawType": "object",
         "type": "unknown"
        },
        {
         "name": "agent_2",
         "rawType": "object",
         "type": "unknown"
        },
        {
         "name": "agent_3",
         "rawType": "object",
         "type": "unknown"
        },
        {
         "name": "agent_4",
         "rawType": "object",
         "type": "unknown"
        }
       ],
       "conversionMethod": "pd.DataFrame",
       "ref": "864a54c2-6b03-479b-83cd-0980a5c77cbb",
       "rows": [
        [
         "age",
         "30",
         "35",
         "40",
         "45"
        ],
        [
         "name",
         "James",
         "Jane",
         "John",
         "Eve"
        ],
        [
         "surname",
         "Bond",
         "Bond",
         "Doe",
         "Monepenny"
        ],
        [
         "employer",
         "MI6",
         "MI6",
         "CIA",
         null
        ],
        [
         "years_in_service",
         "17",
         null,
         "5",
         "15"
        ],
        [
         "year_of_birth",
         "1990",
         "1995",
         "1995",
         "1975"
        ]
       ],
       "shape": {
        "columns": 4,
        "rows": 6
       }
      },
      "text/html": [
       "<div>\n",
       "<style scoped>\n",
       "    .dataframe tbody tr th:only-of-type {\n",
       "        vertical-align: middle;\n",
       "    }\n",
       "\n",
       "    .dataframe tbody tr th {\n",
       "        vertical-align: top;\n",
       "    }\n",
       "\n",
       "    .dataframe thead th {\n",
       "        text-align: right;\n",
       "    }\n",
       "</style>\n",
       "<table border=\"1\" class=\"dataframe\">\n",
       "  <thead>\n",
       "    <tr style=\"text-align: right;\">\n",
       "      <th></th>\n",
       "      <th>agent_1</th>\n",
       "      <th>agent_2</th>\n",
       "      <th>agent_3</th>\n",
       "      <th>agent_4</th>\n",
       "    </tr>\n",
       "  </thead>\n",
       "  <tbody>\n",
       "    <tr>\n",
       "      <th>age</th>\n",
       "      <td>30</td>\n",
       "      <td>35</td>\n",
       "      <td>40</td>\n",
       "      <td>45</td>\n",
       "    </tr>\n",
       "    <tr>\n",
       "      <th>name</th>\n",
       "      <td>James</td>\n",
       "      <td>Jane</td>\n",
       "      <td>John</td>\n",
       "      <td>Eve</td>\n",
       "    </tr>\n",
       "    <tr>\n",
       "      <th>surname</th>\n",
       "      <td>Bond</td>\n",
       "      <td>Bond</td>\n",
       "      <td>Doe</td>\n",
       "      <td>Monepenny</td>\n",
       "    </tr>\n",
       "    <tr>\n",
       "      <th>employer</th>\n",
       "      <td>MI6</td>\n",
       "      <td>MI6</td>\n",
       "      <td>CIA</td>\n",
       "      <td>None</td>\n",
       "    </tr>\n",
       "    <tr>\n",
       "      <th>years_in_service</th>\n",
       "      <td>17</td>\n",
       "      <td>None</td>\n",
       "      <td>5</td>\n",
       "      <td>15</td>\n",
       "    </tr>\n",
       "    <tr>\n",
       "      <th>year_of_birth</th>\n",
       "      <td>1990</td>\n",
       "      <td>1995</td>\n",
       "      <td>1995</td>\n",
       "      <td>1975</td>\n",
       "    </tr>\n",
       "  </tbody>\n",
       "</table>\n",
       "</div>"
      ],
      "text/plain": [
       "                 agent_1 agent_2 agent_3    agent_4\n",
       "age                   30      35      40         45\n",
       "name               James    Jane    John        Eve\n",
       "surname             Bond    Bond     Doe  Monepenny\n",
       "employer             MI6     MI6     CIA       None\n",
       "years_in_service      17    None       5         15\n",
       "year_of_birth       1990    1995    1995       1975"
      ]
     },
     "execution_count": 28,
     "metadata": {},
     "output_type": "execute_result"
    }
   ],
   "source": [
    "#df_agents.drop(columns=['agent_5'], inplace =True) # removes columns with any missing values\n",
    "\n",
    "df_agents"
   ]
  },
  {
   "cell_type": "markdown",
   "metadata": {},
   "source": [
    "#### 3.3 Imputation Filling in missing values.\n",
    "- Mean/Median Imputation: Filling with the mean or median of the column."
   ]
  },
  {
   "cell_type": "code",
   "execution_count": null,
   "metadata": {},
   "outputs": [
    {
     "name": "stdout",
     "output_type": "stream",
     "text": [
      "          A         B\n",
      "0  1.000000  5.000000\n",
      "1  2.000000  6.666667\n",
      "2  2.333333  7.000000\n",
      "3  4.000000  8.000000\n"
     ]
    }
   ],
   "source": [
    "#df['A'].fillna(df['A'].mean(), inplace = True) # Fills missing values in column A and ONLY in column A. THIS METHOD has now been depricated.\n",
    "\n",
    "#Preferred method, allows for filling missing values in multiple columns.\n",
    "df.fillna({'A': df['A'].mean(), 'B': df['B'].mean()}, inplace = True)\n",
    "print(df)"
   ]
  },
  {
   "cell_type": "code",
   "execution_count": 32,
   "metadata": {},
   "outputs": [
    {
     "data": {
      "application/vnd.microsoft.datawrangler.viewer.v0+json": {
       "columns": [
        {
         "name": "index",
         "rawType": "object",
         "type": "string"
        },
        {
         "name": "agent_1",
         "rawType": "object",
         "type": "unknown"
        },
        {
         "name": "agent_2",
         "rawType": "object",
         "type": "unknown"
        },
        {
         "name": "agent_3",
         "rawType": "object",
         "type": "unknown"
        },
        {
         "name": "agent_4",
         "rawType": "object",
         "type": "unknown"
        }
       ],
       "conversionMethod": "pd.DataFrame",
       "ref": "bfda9176-63bc-4d7c-a7e3-4d0591017572",
       "rows": [
        [
         "age",
         "30",
         "35",
         "40",
         "45"
        ],
        [
         "name",
         "James",
         "Jane",
         "John",
         "Eve"
        ],
        [
         "surname",
         "Bond",
         "Bond",
         "Doe",
         "Monepenny"
        ],
        [
         "employer",
         "MI6",
         "MI6",
         "CIA",
         null
        ],
        [
         "years_in_service",
         "17",
         "12",
         "5",
         "15"
        ],
        [
         "year_of_birth",
         "1990",
         "1995",
         "1995",
         "1975"
        ]
       ],
       "shape": {
        "columns": 4,
        "rows": 6
       }
      },
      "text/html": [
       "<div>\n",
       "<style scoped>\n",
       "    .dataframe tbody tr th:only-of-type {\n",
       "        vertical-align: middle;\n",
       "    }\n",
       "\n",
       "    .dataframe tbody tr th {\n",
       "        vertical-align: top;\n",
       "    }\n",
       "\n",
       "    .dataframe thead th {\n",
       "        text-align: right;\n",
       "    }\n",
       "</style>\n",
       "<table border=\"1\" class=\"dataframe\">\n",
       "  <thead>\n",
       "    <tr style=\"text-align: right;\">\n",
       "      <th></th>\n",
       "      <th>agent_1</th>\n",
       "      <th>agent_2</th>\n",
       "      <th>agent_3</th>\n",
       "      <th>agent_4</th>\n",
       "    </tr>\n",
       "  </thead>\n",
       "  <tbody>\n",
       "    <tr>\n",
       "      <th>age</th>\n",
       "      <td>30</td>\n",
       "      <td>35</td>\n",
       "      <td>40</td>\n",
       "      <td>45</td>\n",
       "    </tr>\n",
       "    <tr>\n",
       "      <th>name</th>\n",
       "      <td>James</td>\n",
       "      <td>Jane</td>\n",
       "      <td>John</td>\n",
       "      <td>Eve</td>\n",
       "    </tr>\n",
       "    <tr>\n",
       "      <th>surname</th>\n",
       "      <td>Bond</td>\n",
       "      <td>Bond</td>\n",
       "      <td>Doe</td>\n",
       "      <td>Monepenny</td>\n",
       "    </tr>\n",
       "    <tr>\n",
       "      <th>employer</th>\n",
       "      <td>MI6</td>\n",
       "      <td>MI6</td>\n",
       "      <td>CIA</td>\n",
       "      <td>None</td>\n",
       "    </tr>\n",
       "    <tr>\n",
       "      <th>years_in_service</th>\n",
       "      <td>17</td>\n",
       "      <td>12</td>\n",
       "      <td>5</td>\n",
       "      <td>15</td>\n",
       "    </tr>\n",
       "    <tr>\n",
       "      <th>year_of_birth</th>\n",
       "      <td>1990</td>\n",
       "      <td>1995</td>\n",
       "      <td>1995</td>\n",
       "      <td>1975</td>\n",
       "    </tr>\n",
       "  </tbody>\n",
       "</table>\n",
       "</div>"
      ],
      "text/plain": [
       "                 agent_1 agent_2 agent_3    agent_4\n",
       "age                   30      35      40         45\n",
       "name               James    Jane    John        Eve\n",
       "surname             Bond    Bond     Doe  Monepenny\n",
       "employer             MI6     MI6     CIA       None\n",
       "years_in_service      17      12       5         15\n",
       "year_of_birth       1990    1995    1995       1975"
      ]
     },
     "execution_count": 32,
     "metadata": {},
     "output_type": "execute_result"
    }
   ],
   "source": [
    "#Add a new value to replace a missing value to 'agent_2' in the 'years_in_service' column\n",
    "\n",
    "# Calculate the mean value for the 'years_in_service' column, ignoring NaN values\n",
    "mean_years_in_service = df_agents.loc['years_in_service'].mean()\n",
    "\n",
    "# Replace the NaN value in 'agent_2' for the 'years_in_service' row with the calculated mean\n",
    "df_agents.loc['years_in_service', 'agent_2'] = int(mean_years_in_service.round())\n",
    "\n",
    "# Display the updated DataFrame\n",
    "df_agents"
   ]
  },
  {
   "cell_type": "markdown",
   "metadata": {},
   "source": []
  }
 ],
 "metadata": {
  "kernelspec": {
   "display_name": "base",
   "language": "python",
   "name": "python3"
  },
  "language_info": {
   "codemirror_mode": {
    "name": "ipython",
    "version": 3
   },
   "file_extension": ".py",
   "mimetype": "text/x-python",
   "name": "python",
   "nbconvert_exporter": "python",
   "pygments_lexer": "ipython3",
   "version": "3.12.7"
  }
 },
 "nbformat": 4,
 "nbformat_minor": 2
}
