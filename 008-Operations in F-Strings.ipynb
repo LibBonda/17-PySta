{
 "cells": [
  {
   "cell_type": "markdown",
   "id": "8d7e037c-c1a5-4fb1-a42c-c28810b0d1c1",
   "metadata": {},
   "source": [
    "### Lists\n",
    " In Python, a list is like a dynamic shopping list. It's a collection of items that can be changed (or mutable) and has a specific order."
   ]
  },
  {
   "cell_type": "markdown",
   "id": "4339fc80-abef-4d59-824d-efcc1bb45891",
   "metadata": {},
   "source": [
    "###  1 Math operation with placeholders\n",
    "\n",
    "Perform a math operation in the placeholder, and return the result"
   ]
  },
  {
   "cell_type": "code",
   "execution_count": 3,
   "id": "aeff36e5-f91e-4796-842d-9845bc7dd7ff",
   "metadata": {},
   "outputs": [
    {
     "name": "stdout",
     "output_type": "stream",
     "text": [
      "The price is 700.000 dollars\n"
     ]
    }
   ],
   "source": [
    "txt = f\"The price is {20*35:.3f} dollars\"\n",
    "print(txt)"
   ]
  },
  {
   "cell_type": "markdown",
   "id": "35ee591f-dd1d-46f8-b2cc-6122edc9d902",
   "metadata": {},
   "source": [
    "### 2\n",
    "Add Taxes before displaying final  if price is £106.37 and taxes are 25%"
   ]
  },
  {
   "cell_type": "code",
   "execution_count": 5,
   "id": "646ad9b2-50cc-4f86-98dc-a2d5b7343397",
   "metadata": {},
   "outputs": [
    {
     "name": "stdout",
     "output_type": "stream",
     "text": [
      "The total price is £132.50\n"
     ]
    }
   ],
   "source": [
    "price = 106\n",
    "tax = (25*1/100)\n",
    "\n",
    "txt = f\"The total price is £{price + (price*tax):.2f}\"\n",
    "print(txt)"
   ]
  },
  {
   "cell_type": "markdown",
   "id": "9f00144b-219d-44e7-9921-4c7d71797341",
   "metadata": {},
   "source": [
    "### 3\n",
    "Return \"Expensive\" if the price is over 50, otherwise return \"Cheap\": Use if ..... else statements"
   ]
  },
  {
   "cell_type": "markdown",
   "id": "f30019e1-02a5-4f5f-9a0e-dcb9528483a8",
   "metadata": {},
   "source": [
    "price = 18\n",
    "txt = f\"It's very {'Expensive' if price > 50 else 'Cheap'}\"\n",
    "\n",
    "print(txt)"
   ]
  },
  {
   "cell_type": "markdown",
   "id": "ebb9d034-6be6-4d58-b510-6d84f6927ea0",
   "metadata": {},
   "source": [
    "### 4\n",
    "Functions can executed in the placeholder. The function need not be a built-in Python method.\n",
    "Use the string method upper()to convert a value into upper case letters:"
   ]
  },
  {
   "cell_type": "code",
   "execution_count": 9,
   "id": "05cd72af-38cd-4e21-b760-9531665a8351",
   "metadata": {},
   "outputs": [
    {
     "name": "stdout",
     "output_type": "stream",
     "text": [
      "One major auto maker is TOYOTA\n"
     ]
    }
   ],
   "source": [
    "car_model = \"toyota\"\n",
    "txt = f\"One major auto maker is {car_model.upper()}\"\n",
    "print(txt)"
   ]
  },
  {
   "cell_type": "markdown",
   "id": "1f61d9bf-7993-4df1-81df-35551fcb5c20",
   "metadata": {},
   "source": [
    "### 5\n",
    "Create a function that converts feet into meters:"
   ]
  },
  {
   "cell_type": "code",
   "execution_count": 11,
   "id": "b671235d-d32f-431f-a84f-8c609d700157",
   "metadata": {},
   "outputs": [
    {
     "name": "stdout",
     "output_type": "stream",
     "text": [
      "The balloon flew at 16764.0m altitude\n"
     ]
    }
   ],
   "source": [
    "def myconverter(x):\n",
    "    return x * 0.3048\n",
    "\n",
    "txt = f\"The balloon flew at {myconverter(55000)}m altitude\"\n",
    "\n",
    "print(txt)"
   ]
  },
  {
   "cell_type": "markdown",
   "id": "bcbd9550-0859-4e7a-83fb-79ac8b5aa788",
   "metadata": {},
   "source": [
    "### 6\n",
    "Use comma as separator."
   ]
  },
  {
   "cell_type": "code",
   "execution_count": 13,
   "id": "4afc1da8-9546-4c4c-a79c-12d66dfa472d",
   "metadata": {},
   "outputs": [
    {
     "name": "stdout",
     "output_type": "stream",
     "text": [
      "The price is 59,000 dollars\n"
     ]
    }
   ],
   "source": [
    "price = 59000\n",
    "txt = f\"The price is {price:,} dollars\"\n",
    "print(txt)"
   ]
  },
  {
   "cell_type": "markdown",
   "id": "3517640e-ba06-4706-9b42-9d7d7fc94dd8",
   "metadata": {},
   "source": [
    "### 7\n",
    "Use \" \" (a space) to insert a space before positive numbers and a minus sign before negative numbers:"
   ]
  },
  {
   "cell_type": "code",
   "execution_count": 15,
   "id": "774cfae2-786c-4774-9f41-432a2a7dec97",
   "metadata": {},
   "outputs": [
    {
     "name": "stdout",
     "output_type": "stream",
     "text": [
      "The temperature is between -3 and  7 degrees celsius.\n"
     ]
    }
   ],
   "source": [
    "txt = f\"The temperature is between {-3: } and {7: } degrees celsius.\"\n",
    "\n",
    "print(txt)"
   ]
  },
  {
   "cell_type": "code",
   "execution_count": 16,
   "id": "5f2c1b82-b8aa-4f70-a5bc-6cb214ee4f7e",
   "metadata": {},
   "outputs": [
    {
     "name": "stdout",
     "output_type": "stream",
     "text": [
      "You scored 25.000000%\n",
      "You scored 25%\n"
     ]
    }
   ],
   "source": [
    "#Use \"%\" to convert the number into a percentage format:\n",
    "\n",
    "txt = f\"You scored {0.25:%}\"\n",
    "print(txt)\n",
    "\n",
    "#Or, without any decimals:\n",
    "\n",
    "txt = f\"You scored {0.25:.0%}\"\n",
    "print(txt)"
   ]
  },
  {
   "cell_type": "markdown",
   "id": "7e65a96c-c3f0-4396-b15d-9f6752bfb728",
   "metadata": {},
   "source": [
    "### 8 \n",
    "You can customize your own function by using the keyword argument key = function.\r",
    "\r\n",
    "The function will return a number that will be used to sort the list (the lowest number first):"
   ]
  },
  {
   "cell_type": "code",
   "execution_count": 18,
   "id": "8520b9bd-d1e5-4aef-98e9-7cbd68bedd2e",
   "metadata": {},
   "outputs": [
    {
     "name": "stdout",
     "output_type": "stream",
     "text": [
      "[50, 65, 23, 82, 100]\n"
     ]
    }
   ],
   "source": [
    "#Sort the list based on how close the number is to 50:\n",
    "def myfunc(n):\n",
    "  return abs(n - 50)\n",
    "\n",
    "thislist = [100, 50, 65, 82, 23]\n",
    "thislist.sort(key = myfunc)\n",
    "print(thislist)"
   ]
  },
  {
   "cell_type": "code",
   "execution_count": 19,
   "id": "416efe31-46d6-427d-874e-f8a7e159a035",
   "metadata": {},
   "outputs": [
    {
     "name": "stdout",
     "output_type": "stream",
     "text": [
      "['Kiwi', 'Orange', 'banana', 'cherry']\n"
     ]
    }
   ],
   "source": [
    "thislist = [\"banana\", \"Orange\", \"Kiwi\", \"cherry\"]\n",
    "thislist.sort()\n",
    "print(thislist)"
   ]
  },
  {
   "cell_type": "code",
   "execution_count": null,
   "id": "e7803119-2839-476b-9b62-5a408e36eafa",
   "metadata": {},
   "outputs": [],
   "source": []
  },
  {
   "cell_type": "code",
   "execution_count": 20,
   "id": "5a4891db-8ac9-4877-9046-bc49601fbe82",
   "metadata": {},
   "outputs": [
    {
     "name": "stdout",
     "output_type": "stream",
     "text": [
      "['banana', 'cherry', 'Kiwi', 'Orange']\n"
     ]
    }
   ],
   "source": [
    "thislist = [\"banana\", \"Orange\", \"Kiwi\", \"cherry\"]\n",
    "thislist.sort(key = str.lower)\n",
    "print(thislist)"
   ]
  },
  {
   "cell_type": "markdown",
   "id": "10a8f6bf-339b-4da6-bc43-9a3c1ec2380e",
   "metadata": {},
   "source": [
    "### Tuple\n",
    "Tuples: Ordered, Immutable Collections\n",
    "Imagine a shopping list. You might write down \"apples,\" \"milk,\" and \"bread.\" Each item on this list is a separate entity, but together they form a collection. In programming, a tuple is like a shopping list, but it's a specific data structure that has some rules:\n",
    "Ordered: The items in a tuple have a specific order. Just like on your shopping list, the first item is \"apples,\" the second is \"milk,\" and so on.\n",
    "Immutable: Once you create a tuple, you cannot change its contents. It's like a sealed bag; once it's closed, you can't add or remove items.\n",
    "\n",
    "In Summary\n",
    "Tuples are ordered collections of elements.\n",
    "Tuples are immutable, meaning their contents cannot be changed once created.\n",
    "Tuples are often used to group related data together or as keys in dictionaries."
   ]
  },
  {
   "cell_type": "code",
   "execution_count": 22,
   "id": "00c0a49a-9160-46d3-aa67-568711cd7e7f",
   "metadata": {},
   "outputs": [
    {
     "name": "stdout",
     "output_type": "stream",
     "text": [
      "('apple', 'milk', 'bread')\n"
     ]
    }
   ],
   "source": [
    "my_tuple = (\"apple\", \"milk\", \"bread\")\n",
    "print(my_tuple)"
   ]
  },
  {
   "cell_type": "markdown",
   "id": "56c7cac5-b260-492d-a0b2-ca21c9a166cd",
   "metadata": {},
   "source": [
    "### changing tuple values (workaround)\n",
    "Once a tuple is created, you cannot change its values. Tuples are unchangeable, or immutable as it also is called.\r\n",
    "But there is a workaround. You can convert the tuple into a list, change the list, and convert the list back into a tupel\n"
   ]
  },
  {
   "cell_type": "code",
   "execution_count": 24,
   "id": "7c4578f5-a49f-4786-a056-ccbae7a9af69",
   "metadata": {},
   "outputs": [
    {
     "name": "stdout",
     "output_type": "stream",
     "text": [
      "('apple', 'kiwi', 'cherry', 'mango')\n"
     ]
    }
   ],
   "source": [
    "x = (\"apple\", \"banana\", \"cherry\", \"mango\")\n",
    "y = list(x)\n",
    "y[1] = \"kiwi\"\n",
    "x = tuple(y)\n",
    "\n",
    "print(x)"
   ]
  },
  {
   "cell_type": "markdown",
   "id": "0fe41486-0953-42f6-81c9-cdae7da59439",
   "metadata": {},
   "source": [
    "### Method 1. adding items to a tuple (workaround)\n",
    "Since tuples are immutable, they do not have a built-in append() method, but there are other ways to add items to a tuple.\n",
    "\r\n",
    "1. Convert into a list: Just like the workaround for changing a tuple, you can convert it into a list, add your item(s), and convert it back into a tuplmple"
   ]
  },
  {
   "cell_type": "code",
   "execution_count": 26,
   "id": "44e40aaf-de88-4f37-94a8-72089f02a8eb",
   "metadata": {},
   "outputs": [
    {
     "name": "stdout",
     "output_type": "stream",
     "text": [
      "('apple', 'banana', 'cherry', 'orange')\n"
     ]
    }
   ],
   "source": [
    "fruits = (\"apple\", \"banana\", \"cherry\")\n",
    "y = list(fruits)\n",
    "y.append(\"orange\")\n",
    "fruits = tuple(y)\n",
    "\n",
    "print(fruits)"
   ]
  },
  {
   "cell_type": "markdown",
   "id": "0998be73-b9cd-4146-aedf-3de7f6a67564",
   "metadata": {},
   "source": [
    "### Method 2. adding tuple to a tuple (workaround)"
   ]
  },
  {
   "cell_type": "code",
   "execution_count": 28,
   "id": "d07c77e8-9793-4b50-8213-e0b9b186f8bd",
   "metadata": {},
   "outputs": [
    {
     "name": "stdout",
     "output_type": "stream",
     "text": [
      "('Ford', 'Toyota', 'BMW', 'Peugeot', 'Pontiac')\n"
     ]
    }
   ],
   "source": [
    "thistuple = (\"Ford\", \"Toyota\", \"BMW\", \"Peugeot\")\n",
    "y = (\"Pontiac\",)\n",
    "thistuple += y\n",
    "\n",
    "print(thistuple)"
   ]
  },
  {
   "cell_type": "markdown",
   "id": "9870348c-404a-4a7b-8a7e-953fd8b11ccd",
   "metadata": {},
   "source": [
    "### Remove Items from a tuple (workaround)\n",
    "Tuples are unchangeable, so you cannot remove items from it, but you can use the same workaround as for changing and adding tuple items:"
   ]
  },
  {
   "cell_type": "code",
   "execution_count": 30,
   "id": "b2ac2127-d892-4bde-9204-f48069c3d3f6",
   "metadata": {},
   "outputs": [
    {
     "name": "stdout",
     "output_type": "stream",
     "text": [
      "('blue', 'orange', 'green')\n"
     ]
    }
   ],
   "source": [
    "colors = (\"blue\", \"yellow\", \"orange\", \"green\")\n",
    "y = list(colors)\n",
    "y.remove(\"yellow\")\n",
    "colors = tuple(y)\n",
    "\n",
    "print(colors)"
   ]
  },
  {
   "cell_type": "markdown",
   "id": "ba396edb-1446-4501-8236-01907e5a3d63",
   "metadata": {},
   "source": [
    "### delete tuple using del"
   ]
  },
  {
   "cell_type": "code",
   "execution_count": 32,
   "id": "eac264d1-af16-4782-9be2-99597ec3a520",
   "metadata": {},
   "outputs": [
    {
     "name": "stdout",
     "output_type": "stream",
     "text": [
      "(1, 2, 3, 4, 5)\n"
     ]
    }
   ],
   "source": [
    "thistuple = (1, 2, 3, 4, 5)\n",
    "#del thistuple\n",
    "\n",
    "print(thistuple) #raises error because tuple no longer exists"
   ]
  },
  {
   "cell_type": "markdown",
   "id": "15b4ce93-372d-437b-bcf8-7c58279709c2",
   "metadata": {},
   "source": [
    "### Unpacking a Tuple\r\n",
    "When we create a tuple, we normally assign values to it. This is called \"packing\" a tuple:"
   ]
  },
  {
   "cell_type": "code",
   "execution_count": 34,
   "id": "112241a1-008b-4846-bc52-9a799172eb42",
   "metadata": {},
   "outputs": [
    {
     "name": "stdout",
     "output_type": "stream",
     "text": [
      "apple\n",
      "banana\n",
      "cherry\n"
     ]
    }
   ],
   "source": [
    "fruits = (\"apple\", \"banana\", \"cherry\")\n",
    "\n",
    "(green, yellow, red) = fruits\n",
    "\n",
    "print(green)\n",
    "print(yellow)\n",
    "print(red)"
   ]
  },
  {
   "cell_type": "markdown",
   "id": "e189601a-9b77-4b03-9edd-4078f04ae910",
   "metadata": {},
   "source": [
    "### Using * Asterisk\r\n",
    "If the number of variables is less than the number of values, you can add an * to the variable name and the values will be assigned to the variable as a list:"
   ]
  },
  {
   "cell_type": "code",
   "execution_count": 36,
   "id": "748a1c73-d896-46c1-ac19-1873796d1c36",
   "metadata": {},
   "outputs": [
    {
     "name": "stdout",
     "output_type": "stream",
     "text": [
      "apple\n",
      "banana\n",
      "['cherry', 'strawberry', 'raspberry']\n"
     ]
    }
   ],
   "source": [
    "fruits = (\"apple\", \"banana\", \"cherry\", \"strawberry\", \"raspberry\")\n",
    "\n",
    "(green, yellow, *red) = fruits\n",
    "\n",
    "print(green)\n",
    "print(yellow)\n",
    "print(red)"
   ]
  },
  {
   "cell_type": "markdown",
   "id": "e98ee0a4-a56f-4cd1-9ec5-f1ca353684c8",
   "metadata": {},
   "source": [
    "### If the asterisk is added to another variable name than the last, \n",
    "Python will assign values to the variable until the number of values left matches the number of variables left."
   ]
  },
  {
   "cell_type": "code",
   "execution_count": 38,
   "id": "0d44d12a-492c-4dbc-9c6a-b46ff9d0f2b2",
   "metadata": {},
   "outputs": [
    {
     "name": "stdout",
     "output_type": "stream",
     "text": [
      "apple\n",
      "['banana', 'cherry', 'strawberry']\n",
      "raspberry\n"
     ]
    }
   ],
   "source": [
    "#add a list of values to the \"summer\" variable:\n",
    "\n",
    "fruits = (\"apple\", \"banana\", \"cherry\", \"strawberry\", \"raspberry\")\n",
    "\n",
    "(green, *summer, red) = fruits\n",
    "\n",
    "print(green)\n",
    "print(summer)\n",
    "print(red)"
   ]
  },
  {
   "cell_type": "markdown",
   "id": "52a5e395-e960-48d0-8fac-f88fa9668c64",
   "metadata": {},
   "source": [
    "### Loop Through a Tuple\n",
    "You can loop through the tuple items by using a for loop."
   ]
  },
  {
   "cell_type": "code",
   "execution_count": 40,
   "id": "5c444e77-9d52-4d9a-88f4-1d5fba1339ea",
   "metadata": {},
   "outputs": [
    {
     "name": "stdout",
     "output_type": "stream",
     "text": [
      "apple\n",
      "banana\n",
      "cherry\n",
      "avocado\n"
     ]
    }
   ],
   "source": [
    "#Iterate through the items and print the values:\n",
    "mytuple = (\"apple\", \"banana\", \"cherry\", \"avocado\")\n",
    "for x in mytuple:\n",
    "    print(x)"
   ]
  },
  {
   "cell_type": "markdown",
   "id": "cb25f22b-e562-4e9e-8254-80bad63604b0",
   "metadata": {},
   "source": [
    "### Loop Through the Index Numbers\r\n",
    "You can also loop through the tuple items by referring to their index number.\n",
    "\r\n",
    "Use the range() and len() functions to create a suitable iterable."
   ]
  },
  {
   "cell_type": "code",
   "execution_count": 42,
   "id": "7f1657af-ed76-4a96-a6bd-a09a1de78646",
   "metadata": {},
   "outputs": [
    {
     "name": "stdout",
     "output_type": "stream",
     "text": [
      "apple\n",
      "banana\n",
      "cherry\n"
     ]
    }
   ],
   "source": [
    "thistuple = (\"apple\", \"banana\", \"cherry\")\n",
    "for i in range(len(thistuple)):\n",
    "  print(thistuple[i])"
   ]
  },
  {
   "cell_type": "markdown",
   "id": "b1654025-9a17-42a4-9ffa-badb7d35b4eb",
   "metadata": {},
   "source": [
    "### Using a While Loop\r\n",
    "You can loop through the tuple items by using a while loop.\n",
    "\r\n",
    "Use the len() function to determine the length of the tuple, then start at 0 and loop your way through the tuple items by referring to their indexe.\r\n",
    "\r\n",
    "Remember to increase the index by 1 after each iteration."
   ]
  },
  {
   "cell_type": "code",
   "execution_count": 44,
   "id": "ce13717f-01a2-4e2a-be57-d65ae2aad2b9",
   "metadata": {},
   "outputs": [
    {
     "name": "stdout",
     "output_type": "stream",
     "text": [
      "Anglia\n",
      "Mercedes\n",
      "Citroen\n",
      "Tesla\n",
      "Nissan\n",
      "Ssangyong\n"
     ]
    }
   ],
   "source": [
    "mytuple = (\"Anglia\", \"Mercedes\", \"Citroen\", \"Tesla\", \"Nissan\", \"Ssangyong\")\n",
    "i = 0\n",
    "while i < len(mytuple):\n",
    "    print(mytuple[i])\n",
    "    i = i + 1"
   ]
  },
  {
   "cell_type": "code",
   "execution_count": 45,
   "id": "2f36f416-0661-4939-ae27-992e12fe504f",
   "metadata": {},
   "outputs": [
    {
     "name": "stdout",
     "output_type": "stream",
     "text": [
      "apple\n",
      "banana\n",
      "cherry\n"
     ]
    }
   ],
   "source": [
    "thistuple = (\"apple\", \"banana\", \"cherry\")\n",
    "i = 0\n",
    "while i < len(thistuple):\n",
    "  print(thistuple[i])\n",
    "  i = i + 1"
   ]
  },
  {
   "cell_type": "markdown",
   "id": "f96470d2-5da3-4c8f-8ec9-6e26fe9c6e56",
   "metadata": {},
   "source": [
    "### Join Two Tuples\r\n",
    "To join two or more tuples you can use the + operator:"
   ]
  },
  {
   "cell_type": "code",
   "execution_count": 47,
   "id": "93171c68-7d05-4507-8724-335e0cb74d67",
   "metadata": {},
   "outputs": [
    {
     "name": "stdout",
     "output_type": "stream",
     "text": [
      "('me', 'myself', 'I', 'you', 'yourself', 'her')\n"
     ]
    }
   ],
   "source": [
    "tuple1 = (\"me\", \"myself\", \"I\")\n",
    "tuple2 = (\"you\", \"yourself\", \"her\")\n",
    "\n",
    "joined_tuple = tuple1 + tuple2\n",
    "\n",
    "print(joined_tuple)"
   ]
  },
  {
   "cell_type": "markdown",
   "id": "519efbae-0735-49b6-8cbe-f31375d2872c",
   "metadata": {},
   "source": [
    "### Multiply Tuples\r\n",
    "If you want to multiply the content of a tuple a given number of times, you can use the * operator:"
   ]
  },
  {
   "cell_type": "code",
   "execution_count": 49,
   "id": "41a83204-27fe-4b20-a0aa-c25b2fe8c498",
   "metadata": {},
   "outputs": [
    {
     "name": "stdout",
     "output_type": "stream",
     "text": [
      "('apple', 'banana', 'cherry', 'apple', 'banana', 'cherry')\n"
     ]
    }
   ],
   "source": [
    "fruits = (\"apple\", \"banana\", \"cherry\")\n",
    "newtuple = fruits * 2\n",
    "\n",
    "print(newtuple)\n"
   ]
  },
  {
   "cell_type": "markdown",
   "id": "aaeb3ab3-89b4-4f6f-8c62-68353d542d7c",
   "metadata": {},
   "source": [
    "### Tuple Methods\n",
    "count()\tReturns the number of times a specified value occurs in a tuple\r\n",
    "index()\tSearches the tuple for a specified value and returns the position of where it was found"
   ]
  },
  {
   "cell_type": "markdown",
   "id": "ffa4d309-6b01-4f70-a27a-76e899291dd4",
   "metadata": {},
   "source": [
    "### Python Sets\n",
    "-Sets are used to store multiple items in a single variable.\n",
    "-Set is one of 4 built-in data types in Python used to store collections of data, the other 3 are List, Tuple, and Dictionary, all with different qualities and usage.\r",
    "-A set is a collection which is unordered, unchangeable*, and undenixen-\n",
    "-Unordered means that the items in a set do not have a defined orr.d--\r\n",
    "Set items can appear in a different order every time you use them, and cannot be referred to by in.r-e\n",
    "-Set items are unchangeable, meaning that the items cannot change after the set has been creeat-.\n",
    "-Once a set is created, you cannot change its items, but you can remove items and add new mite-.\n",
    "-Sets cannot have two items with the same uesva--\n",
    "Set items can be of any data typ. A set can contain different data typs:\n",
    "-From Python's perspective, sets are defined as objects with the data typeed."
   ]
  },
  {
   "cell_type": "code",
   "execution_count": 2,
   "id": "3065a721-cdea-434e-b5ae-c4bae01c5041",
   "metadata": {},
   "outputs": [
    {
     "name": "stdout",
     "output_type": "stream",
     "text": [
      "{'cherry', 'apple', 'banana'}\n"
     ]
    }
   ],
   "source": [
    "myset = {\"apple\", \"banana\", \"cherry\"}\n",
    "print(myset)"
   ]
  },
  {
   "cell_type": "code",
   "execution_count": 104,
   "id": "763312f4-6eff-4169-9197-7ec430e62a58",
   "metadata": {},
   "outputs": [
    {
     "name": "stdout",
     "output_type": "stream",
     "text": [
      "{'cherry', 'banana', 'apple'}\n"
     ]
    }
   ],
   "source": [
    "thisset = {\"apple\", \"banana\", \"cherry\", \"apple\"}\n",
    "\n",
    "print(thisset)"
   ]
  },
  {
   "cell_type": "markdown",
   "id": "d5310fc2-3e3f-417a-9c7f-725418bd9fed",
   "metadata": {},
   "source": [
    "### True = 1, False = 0\n",
    "The values True and 1 are considered the same value in sets, and are treated as duplicates:\n",
    "The values False and 0 are considered the same value in sets, and are treated as duplicates:"
   ]
  },
  {
   "cell_type": "code",
   "execution_count": 55,
   "id": "91030911-04d0-4682-ab73-9987cbd4850d",
   "metadata": {},
   "outputs": [
    {
     "name": "stdout",
     "output_type": "stream",
     "text": [
      "{False, True, 2, 3, 'banana', 'apple', 5, 'cherry'}\n"
     ]
    }
   ],
   "source": [
    "myset = {\"apple\", \"banana\", \"cherry\", True, 1, 2, False, 0, 3, 5}\n",
    "\n",
    "print(myset)"
   ]
  },
  {
   "cell_type": "markdown",
   "id": "409ba3ed-0c23-4c5e-9bce-f1b71b3dd535",
   "metadata": {},
   "source": [
    "### Get the Length of a Set\r\n",
    "To determine how many items a set has, use the len() function."
   ]
  },
  {
   "cell_type": "code",
   "execution_count": 57,
   "id": "d23c0f18-88a9-4908-8bbe-9015da2fbffa",
   "metadata": {},
   "outputs": [
    {
     "name": "stdout",
     "output_type": "stream",
     "text": [
      "8\n"
     ]
    }
   ],
   "source": [
    "myset = {\"apple\", \"banana\", \"cherry\", True, 1, 2, False, 0, 3, 5, \"banana\"} # remember duplicates are ignored\n",
    "\n",
    "print(len(myset))"
   ]
  },
  {
   "cell_type": "markdown",
   "id": "23f4080d-7930-45a3-b95a-684bb3f435cb",
   "metadata": {},
   "source": [
    "### The set() Constructor\r\n",
    "It is also possible to use the set() constructor to make a set."
   ]
  },
  {
   "cell_type": "code",
   "execution_count": 106,
   "id": "98e19a41-6bdb-43b9-9d7c-766e238413d7",
   "metadata": {},
   "outputs": [
    {
     "name": "stdout",
     "output_type": "stream",
     "text": [
      "{'cherry', 'banana', 'apple'}\n"
     ]
    }
   ],
   "source": [
    "thisset = set((\"apple\", \"banana\", \"cherry\")) # note the double round-brackets\n",
    "print(thisset)"
   ]
  },
  {
   "cell_type": "markdown",
   "id": "e94d0184-9f1b-4a34-8619-f5a4c7cfd98b",
   "metadata": {},
   "source": [
    "### Access Items\n",
    "You cannot access items in a set by referring to an index or a key.\n",
    "But you can loop through the set items using a for loop, or ask if a specified value is present in a set, by using the in keyword."
   ]
  },
  {
   "cell_type": "code",
   "execution_count": 4,
   "id": "aa563fac-833c-4863-a185-da1183748d25",
   "metadata": {},
   "outputs": [
    {
     "name": "stdout",
     "output_type": "stream",
     "text": [
      "peach\n",
      "banana\n",
      "cherry\n",
      "apple\n",
      "mango\n"
     ]
    }
   ],
   "source": [
    "#Loop through the set, and print the values:\n",
    "thisset = {\"apple\", \"banana\", \"cherry\", \"mango\", \"peach\"}\n",
    "\n",
    "for x in thisset:\n",
    "  print(x)"
   ]
  },
  {
   "cell_type": "code",
   "execution_count": 62,
   "id": "52cf7975-91f3-4c0b-8380-c706c06e45b9",
   "metadata": {},
   "outputs": [
    {
     "name": "stdout",
     "output_type": "stream",
     "text": [
      "True\n"
     ]
    }
   ],
   "source": [
    "#Check if \"banana\" is present in the set:\n",
    "thisset = {\"apple\", \"banana\", \"cherry\", \"mango\", \"peach\"}\n",
    "\n",
    "print(\"banana\" in thisset)"
   ]
  },
  {
   "cell_type": "code",
   "execution_count": 63,
   "id": "1e86b9e9-82dc-45ef-b2f1-cbf0b77fc3af",
   "metadata": {},
   "outputs": [
    {
     "name": "stdout",
     "output_type": "stream",
     "text": [
      "False\n"
     ]
    }
   ],
   "source": [
    "#Check if \"banana\" is not present in the set:\n",
    "thisset = {\"apple\", \"banana\", \"cherry\", \"mango\", \"peach\"}\n",
    "\n",
    "print(\"banana\" not in thisset)"
   ]
  },
  {
   "cell_type": "markdown",
   "id": "b81db082-f451-46b7-adad-14d6b43e4573",
   "metadata": {},
   "source": [
    "### Add Items\r\n",
    "Once a set is created, you cannot change its items, but you can add new items\r\n",
    "\r\n",
    "To add one item to a set use the add() method."
   ]
  },
  {
   "cell_type": "code",
   "execution_count": 12,
   "id": "e9c6bef3-2de2-41f5-b5a5-aea4a9a16752",
   "metadata": {},
   "outputs": [
    {
     "name": "stdout",
     "output_type": "stream",
     "text": [
      "{'marigold', 'lily', 'orchid', 'tulip'}\n",
      "{'rose', 'marigold', 'lily', 'orchid', 'tulip'}\n"
     ]
    }
   ],
   "source": [
    "flowers ={\"orchid\", \"marigold\", \"tulip\"}\n",
    "flowers.add(\"lily\")\n",
    "\n",
    "print(flowers)\n",
    "\n",
    "flowers.add(\"rose\")\n",
    "print(flowers)"
   ]
  },
  {
   "cell_type": "markdown",
   "id": "551fb283-121f-4723-bc9d-8e8e0938a0a8",
   "metadata": {},
   "source": [
    "### Add Sets\r\n",
    "To add items from another set into the current set, use the update() method."
   ]
  },
  {
   "cell_type": "code",
   "execution_count": 16,
   "id": "2e62bf26-cc90-481e-b1e5-1cf55ce95ed2",
   "metadata": {},
   "outputs": [
    {
     "name": "stdout",
     "output_type": "stream",
     "text": [
      "{'France', 'Zimbabwe', 'Mali', 'Ethiopia', 'Italy', 'Canada', 'Bahamas', 'Indonesia', 'Botswana', 'Czechia', 'Columbia'}\n"
     ]
    }
   ],
   "source": [
    "#Add elements from africa into world:\n",
    "world ={\"France\", \"Indonesia\", \"Bahamas\", \"Columbia\", \"Canada\", \"Italy\", \"Czechia\"}\n",
    "africa = {\"Mali\", \"Zimbabwe\", \"Botswana\", \"Ethiopia\"}\n",
    "\n",
    "world.update(africa)\n",
    "\n",
    "print(world)\n"
   ]
  },
  {
   "cell_type": "markdown",
   "id": "765a2538-4e64-4bef-b8ec-f66613ef9f48",
   "metadata": {},
   "source": [
    "### Add Any Iterable\r\n",
    "The object in the update() method does not have to be a set, it can be any iterable object (tuples, lists, dictionaries etc.)."
   ]
  },
  {
   "cell_type": "code",
   "execution_count": 18,
   "id": "47f3f8a7-26a8-4f0c-be7b-ae347cf34acb",
   "metadata": {},
   "outputs": [
    {
     "name": "stdout",
     "output_type": "stream",
     "text": [
      "{'France', 'Jerusalem', 'Canada', 'Bahamas', 'Pretoria', 'Indonesia', 'Addis Ababa', 'Italy', 'Czechia', 'Lisbon', 'Columbia'}\n"
     ]
    }
   ],
   "source": [
    "#Add elements of a list to the set.\n",
    "\n",
    "world ={\"France\", \"Indonesia\", \"Bahamas\", \"Columbia\", \"Canada\", \"Italy\", \"Czechia\"}\n",
    "capitals = [\"Lisbon\", \"Addis Ababa\", \"Jerusalem\", \"Pretoria\"]\n",
    "\n",
    "world.update(capitals)\n",
    "print(world)"
   ]
  },
  {
   "cell_type": "markdown",
   "id": "e5a3a367-1e9a-4289-8f21-71ebfd279730",
   "metadata": {},
   "source": [
    "### Remove Item\r\n",
    "To remove an item in a set, use the remove(), or the discard() method TAKES only one argument at a time.."
   ]
  },
  {
   "cell_type": "code",
   "execution_count": 26,
   "id": "82cf23a9-1667-436f-9bc7-85367e25cdf6",
   "metadata": {},
   "outputs": [
    {
     "name": "stdout",
     "output_type": "stream",
     "text": [
      "{'Czechia', 'Jerusalem', 'Addis Ababa', 'Canada', 'Bahamas', 'Indonesia', 'Pretoria', 'Lisbon', 'Columbia'}\n"
     ]
    }
   ],
   "source": [
    "#Remove \"Italy\" and \"France\" from wolrd\n",
    "world = {'France', 'Jerusalem', 'Canada', 'Bahamas', 'Pretoria', 'Indonesia', 'Addis Ababa', 'Italy', 'Czechia', 'Lisbon', 'Columbia'}\n",
    "\n",
    "world.remove(\"France\")\n",
    "world.discard(\"Italy\")\n",
    "world.discard(\"Malawi\") #If item does not exist, discard will NOT raise an error\n",
    "\n",
    "print(world)"
   ]
  },
  {
   "cell_type": "markdown",
   "id": "14364888-1684-4455-8bcc-0bcabe70fcb5",
   "metadata": {},
   "source": [
    "### pop() method\n",
    "You can also use the pop() method to remove an item, but this method will remove a random item, so you cannot be sure what item that gets removed.\n",
    "The return value of the pop() method is the removed item."
   ]
  },
  {
   "cell_type": "code",
   "execution_count": 28,
   "id": "47cd6094-1cd8-44b5-b956-dcef547206ef",
   "metadata": {},
   "outputs": [
    {
     "name": "stdout",
     "output_type": "stream",
     "text": [
      "{'Addis Ababa', 'Canada', 'Bahamas', 'Pretoria', 'Indonesia', 'Czechia', 'Lisbon', 'Columbia'}\n"
     ]
    }
   ],
   "source": [
    "world = {'Czechia', 'Jerusalem', 'Addis Ababa', 'Canada', 'Bahamas', 'Indonesia', 'Pretoria', 'Lisbon', 'Columbia'}\n",
    "world.pop() #Will remove a random item\n",
    "print(world)"
   ]
  },
  {
   "cell_type": "markdown",
   "id": "e0a0911f-e110-46fd-9f6b-fe6c23e0ebf5",
   "metadata": {},
   "source": [
    "The clear() method empties the set:\n",
    "The del keyword will delete the set completely:"
   ]
  },
  {
   "cell_type": "code",
   "execution_count": 30,
   "id": "2c2bcb17-9b24-4e6f-9f21-3c2152d559b5",
   "metadata": {},
   "outputs": [
    {
     "name": "stdout",
     "output_type": "stream",
     "text": [
      "set()\n"
     ]
    }
   ],
   "source": [
    "fruits = {\"apple\", \"banana\", \"cherry\"}\n",
    "\n",
    "fruits.clear()\n",
    "\n",
    "print(fruits)"
   ]
  },
  {
   "cell_type": "code",
   "execution_count": null,
   "id": "beb25ddd-68af-4e2d-b2d4-cb632dffdff1",
   "metadata": {},
   "outputs": [],
   "source": [
    "fruits = {\"apple\", \"banana\", \"cherry\"}\n",
    "del fruits\n",
    "\n",
    "print(fruits) #generates an error because the set no longer exists"
   ]
  },
  {
   "cell_type": "markdown",
   "id": "c130f2dd-a9e1-4a7e-a90c-46dc74026345",
   "metadata": {},
   "source": [
    "### Loop Items\r\n",
    "You can loop through the set items by using a for loop:"
   ]
  },
  {
   "cell_type": "code",
   "execution_count": 32,
   "id": "963cdc4b-9b2e-446d-b9c0-3e6a14d7b7a1",
   "metadata": {},
   "outputs": [
    {
     "name": "stdout",
     "output_type": "stream",
     "text": [
      "banana\n",
      "cherry\n",
      "apricot\n",
      "apple\n"
     ]
    }
   ],
   "source": [
    "#Loop through the set, and print the values:\n",
    "\n",
    "fruits = {\"apple\", \"banana\", \"cherry\", \"apricot\"}\n",
    "\n",
    "for x in fruits:\n",
    "    print(x)"
   ]
  },
  {
   "cell_type": "markdown",
   "id": "78298133-6d80-4ddc-9319-698cdccf636e",
   "metadata": {},
   "source": [
    "### Join Sets\r\n",
    "There are several ways to join two or more sets in Python\r\n",
    "\r\n",
    "The union() and update() methods joins all items from both ses.\r\n",
    "\r\n",
    "The intersection() method keeps ONLY the duplictes.\r\n",
    "\r\n",
    "The difference() method keeps the items from the first set that are not in the other et(s).\r\n",
    "\r\n",
    "The symmetric_difference() method keeps all items EXCEPT the duplicates."
   ]
  },
  {
   "cell_type": "code",
   "execution_count": 34,
   "id": "005ddff1-25e2-4303-b103-6882cdeefbbc",
   "metadata": {},
   "outputs": [
    {
     "name": "stdout",
     "output_type": "stream",
     "text": [
      "{1, 2, 'a', 'b', 'c', 3}\n"
     ]
    }
   ],
   "source": [
    "#The union() method returns a new set with all items from both sets.\n",
    "set1 = {\"a\", \"b\", \"c\"}\n",
    "set2 = {1, 2, 3}\n",
    "\n",
    "set3 = set1.union(set2)\n",
    "print(set3)"
   ]
  },
  {
   "cell_type": "code",
   "execution_count": 38,
   "id": "8edb70f0-eb1f-4c1f-9634-01314c660ce9",
   "metadata": {},
   "outputs": [
    {
     "name": "stdout",
     "output_type": "stream",
     "text": [
      "{'France', 'Jerusalem', 'Addis Ababa', 'Italy', 'Canada', 'Bahamas', 'Pretoria', 'Indonesia', 'Czechia', 'Lisbon', 'Columbia'}\n"
     ]
    }
   ],
   "source": [
    "#You can use the | operator instead of the union() method, and you will get the same result.\n",
    "countries ={\"France\", \"Indonesia\", \"Bahamas\", \"Columbia\", \"Canada\", \"Italy\", \"Czechia\"}\n",
    "capitals = {\"Lisbon\", \"Addis Ababa\", \"Jerusalem\", \"Pretoria\"}\n",
    "\n",
    "world = countries | capitals\n",
    "\n",
    "print(world)"
   ]
  },
  {
   "cell_type": "markdown",
   "id": "7b561b20-0731-4848-8aca-0dc620a3e902",
   "metadata": {},
   "source": [
    "Join Multiple Sets\r\n",
    "All the joining methods and operators can be used to join multiple sets\r\n",
    "\r\n",
    "When using a method, just add more sets in the parentheses, separated by commas:"
   ]
  },
  {
   "cell_type": "code",
   "execution_count": 40,
   "id": "fdcf2404-961a-4380-af3b-c06b29d8fbc0",
   "metadata": {},
   "outputs": [
    {
     "name": "stdout",
     "output_type": "stream",
     "text": [
      "{'Zimbabwe', 'a', 'c', 'Mali', 'Ethiopia', 'Emma', 'd', 'b', 'Botswana', 'Tesla', 'Donna', 'BMW', 'Ford', 'John'}\n",
      "{1, 'Zimbabwe', 'a', 'c', 2, 3, 4, 5, 'Mali', 'Botswana', 'Tesla', 'Donna', 'BMW', 'Ethiopia', 'Emma', 'b', 'd', 'Ford', 'John'}\n"
     ]
    }
   ],
   "source": [
    "africa = {\"Mali\", \"Zimbabwe\", \"Botswana\", \"Ethiopia\"}\n",
    "cars = {\"Ford\", \"BMW\", \"Tesla\"}\n",
    "letters = {\"a\", \"b\", \"c\", \"d\"}\n",
    "numbers = {1, 2, 3, 4, 5, 2, 3}\n",
    "names = {\"Emma\", \"John\", \"Donna\"}\n",
    "\n",
    "new_set = africa.union(cars, letters, names)\n",
    "print(new_set)\n",
    "\n",
    "another_set = africa | cars | letters | names | numbers\n",
    "print(another_set)"
   ]
  },
  {
   "cell_type": "markdown",
   "id": "fa29a632-85aa-474c-b622-7820f9c557bc",
   "metadata": {},
   "source": [
    "### Join a Set and a Tuple\r\n",
    "The union() method allows you to join a set with other data types, like lists or tuples\r\n",
    "\r\n",
    "The result will be a s\n",
    "Note: The  | operator only allows you to join sets with sets, and not with other data types like you can with the  union() method.et."
   ]
  },
  {
   "cell_type": "code",
   "execution_count": 44,
   "id": "52f3575a-98ab-4eb4-b1cb-facb95f22344",
   "metadata": {},
   "outputs": [
    {
     "name": "stdout",
     "output_type": "stream",
     "text": [
      "{1, 2, 'a', 'c', 3, 'b'}\n"
     ]
    }
   ],
   "source": [
    "#Join a set with a tuple:\n",
    "x = {\"a\", \"b\", \"c\"}\n",
    "y = (1, 2, 3)\n",
    "\n",
    "z  = x.union(y)\n",
    "print(z)"
   ]
  },
  {
   "cell_type": "markdown",
   "id": "da327660-948f-463f-82c2-2b31e67546ec",
   "metadata": {},
   "source": [
    "### Update\r\n",
    "The update() method inserts all items from one set into another\r\n",
    "\r\n",
    "The update() changes the original set, and does not return a new s\n",
    "Note: Both union() and update() will exclude any duplicate items.et."
   ]
  },
  {
   "cell_type": "code",
   "execution_count": 48,
   "id": "71f47ff0-5ff5-4b70-be55-327dfd44baf9",
   "metadata": {},
   "outputs": [
    {
     "name": "stdout",
     "output_type": "stream",
     "text": [
      "{1, 2, 'a', 'b', 'c', 3}\n"
     ]
    }
   ],
   "source": [
    "set1 = {\"a\", \"b\" , \"c\"}\n",
    "set2 = {1, 2, 3}\n",
    "\n",
    "set1.update(set2)\n",
    "print(set1)"
   ]
  },
  {
   "cell_type": "markdown",
   "id": "da3b476b-b283-4208-b648-00eada697c12",
   "metadata": {},
   "source": [
    "### Intersection\r\n",
    "Keep ONLY the duplicate\r\n",
    "\r\n",
    "The intersection() method will return a new set, that only contains the items that are present in both se\n",
    "You can use the & operator instead of the intersection() method, and you will get the same result\n",
    "## Note: The & operator only allows you to join sets with sets, and not with other data types like you can with the intersection() method.\n",
    "The intersection_update() method will also keep ONLY the duplicates, but it will change the original set instead of returning a new set.ts."
   ]
  },
  {
   "cell_type": "code",
   "execution_count": 50,
   "id": "364b3927-07bb-459f-a118-ee27ebd6e229",
   "metadata": {},
   "outputs": [
    {
     "name": "stdout",
     "output_type": "stream",
     "text": [
      "{'apple'}\n"
     ]
    }
   ],
   "source": [
    "fruits = {\"apple\", \"banana\", \"cherry\"}\n",
    "tech_giants = {\"google\", \"microsoft\", \"apple\"}\n",
    "\n",
    "set3 = fruits.intersection(tech_giants)\n",
    "print(set3)"
   ]
  },
  {
   "cell_type": "code",
   "execution_count": 52,
   "id": "09188511-b230-4dd3-802f-6cc5fa18deac",
   "metadata": {},
   "outputs": [
    {
     "name": "stdout",
     "output_type": "stream",
     "text": [
      "{'apple'}\n"
     ]
    }
   ],
   "source": [
    "fruits = {\"apple\", \"banana\", \"cherry\"}\n",
    "tech_giants = {\"google\", \"microsoft\", \"apple\"}\n",
    "\n",
    "set3 = fruits & tech_giants\n",
    "print(set3)"
   ]
  },
  {
   "cell_type": "code",
   "execution_count": 54,
   "id": "1f1adb10-980a-4d82-a79e-a4d54ab98fbd",
   "metadata": {},
   "outputs": [
    {
     "name": "stdout",
     "output_type": "stream",
     "text": [
      "{'apple'}\n"
     ]
    }
   ],
   "source": [
    "set1 = {\"apple\", \"banana\", \"cherry\"}\n",
    "set2 = {\"google\", \"microsoft\", \"apple\"}\n",
    "\n",
    "set1.intersection_update(set2)\n",
    "\n",
    "print(set1)"
   ]
  },
  {
   "cell_type": "code",
   "execution_count": 56,
   "id": "5fd0d46c-4bf3-491f-a355-85e499aee32f",
   "metadata": {},
   "outputs": [
    {
     "name": "stdout",
     "output_type": "stream",
     "text": [
      "{False, 1, 'apple'}\n"
     ]
    }
   ],
   "source": [
    "#Join sets that contains the values True, False, 1, and 0, and see what is considered as duplicates:\n",
    "set1 = {\"apple\", 1, \"rose\", \"banana\", 0, \"cherry\"}\n",
    "set2 = {False, 1, \"google\", \"apple\", 2, True}\n",
    "\n",
    "set3 = set1.intersection(set2)\n",
    "print(set3)"
   ]
  },
  {
   "cell_type": "markdown",
   "id": "28e6ac2d-a7da-4be0-974f-0f6bb9217af4",
   "metadata": {},
   "source": [
    "### Difference\r\n",
    "The difference() method will return a new set that will contain only the items from the first set that are not present in the other set\n",
    "You can use the - operator instead of the difference() method, and you will get the same result.\n",
    "Note: The - operator only allows you to join sets with sets, and not with other data types like you can with the difference() method.\n",
    "The difference_update() method will also keep the items from the first set that are not in the other set, but it will change the original set instead of returning a new set.."
   ]
  },
  {
   "cell_type": "code",
   "execution_count": 58,
   "id": "5b1c379a-22b6-4a56-9976-a6379f460773",
   "metadata": {},
   "outputs": [
    {
     "name": "stdout",
     "output_type": "stream",
     "text": [
      "{'cherry', 'banana'}\n"
     ]
    }
   ],
   "source": [
    "#Keep all items from set1 that are not in set2:\n",
    "set1 = {\"apple\", \"banana\", \"cherry\"}\n",
    "set2 = {\"google\", \"microsoft\", \"apple\"}\n",
    "\n",
    "set3 = set1.difference(set2)\n",
    "\n",
    "print(set3)\n"
   ]
  },
  {
   "cell_type": "code",
   "execution_count": 62,
   "id": "0849c5d4-7418-466a-8b0d-66a6a94c3a7e",
   "metadata": {},
   "outputs": [
    {
     "name": "stdout",
     "output_type": "stream",
     "text": [
      "{'cherry', 'banana'}\n"
     ]
    }
   ],
   "source": [
    "set1 = {\"apple\", \"banana\", \"cherry\"}\n",
    "set2 = {\"google\", \"microsoft\", \"apple\"}\n",
    "\n",
    "set3 = set1 - set2\n",
    "print(set3)"
   ]
  },
  {
   "cell_type": "markdown",
   "id": "e1007080-af96-40b1-947b-9d1c2653ef5c",
   "metadata": {},
   "source": [
    "### The difference_update() method \n",
    "will also keep the items from the first set that are not in the other set, but it will change the original set instead of returning a new set."
   ]
  },
  {
   "cell_type": "code",
   "execution_count": 64,
   "id": "cc2d378d-e003-448d-b315-64c61e48dce6",
   "metadata": {},
   "outputs": [
    {
     "name": "stdout",
     "output_type": "stream",
     "text": [
      "{'banana', 'cherry'}\n"
     ]
    }
   ],
   "source": [
    "set1 = {\"apple\", \"banana\", \"cherry\"}\n",
    "set2 = {\"google\", \"microsoft\", \"apple\"}\n",
    "\n",
    "set1.difference_update(set2)\n",
    "\n",
    "print(set1)"
   ]
  },
  {
   "cell_type": "markdown",
   "id": "2ea31506-caa0-4d79-bb61-17619c595162",
   "metadata": {},
   "source": [
    "### Symmetric Differences\r\n",
    "The symmetric_difference() method will keep only the elements that are NOT present in both sets\n",
    "You can use the ^ operator instead of the symmetric_difference() method, and you will get the same result.\n",
    "Note: The ^ operator only allows you to join sets with sets, and not with other data types like you can with the symmetric_difference() method.."
   ]
  },
  {
   "cell_type": "code",
   "execution_count": 66,
   "id": "e1196f88-6fcb-4260-ab5a-32ff8063cdf1",
   "metadata": {},
   "outputs": [
    {
     "name": "stdout",
     "output_type": "stream",
     "text": [
      "{'google', 'banana', 'cherry', 'microsoft'}\n"
     ]
    }
   ],
   "source": [
    "set1 = {\"apple\", \"banana\", \"cherry\"}\n",
    "set2 = {\"google\", \"microsoft\", \"apple\"}\n",
    "\n",
    "set3 = set1.symmetric_difference(set2)\n",
    "\n",
    "print(set3)"
   ]
  },
  {
   "cell_type": "code",
   "execution_count": 68,
   "id": "1d913013-13e0-49de-9ec2-a7ce07d73e15",
   "metadata": {},
   "outputs": [
    {
     "name": "stdout",
     "output_type": "stream",
     "text": [
      "{'google', 'banana', 'cherry', 'microsoft'}\n"
     ]
    }
   ],
   "source": [
    "#Use the ^ operator to join two sets\n",
    "set1 = {\"apple\", \"banana\", \"cherry\"}\n",
    "set2 = {\"google\", \"microsoft\", \"apple\"}\n",
    "\n",
    "set3 = set1 ^ set2\n",
    "print(set3)"
   ]
  },
  {
   "cell_type": "markdown",
   "id": "70d818f1-ae5b-4aea-9ab5-e6b5e7d5cc79",
   "metadata": {},
   "source": [
    "### The symmetric_difference_update() method \n",
    "will also keep all but the duplicates, but it will change the original set instead of returning a new set."
   ]
  },
  {
   "cell_type": "code",
   "execution_count": 70,
   "id": "35470d9e-511e-4447-ac09-633188cb180c",
   "metadata": {},
   "outputs": [
    {
     "name": "stdout",
     "output_type": "stream",
     "text": [
      "{'lion', 'cherry', 'tesla'}\n"
     ]
    }
   ],
   "source": [
    "#Use the symmetric_difference_update() method to keep the items that are not present in both sets:\n",
    "cars = {\"tesla\", \"jaguar\", \"cherry\", \"mustang\"}\n",
    "animals = {\"mustang\", \"lion\", \"jaguar\"}\n",
    "\n",
    "cars.symmetric_difference_update(animals)\n",
    "\n",
    "print(cars)"
   ]
  },
  {
   "cell_type": "markdown",
   "id": "804833c5-5058-4120-835c-827baa5828e5",
   "metadata": {},
   "source": [
    "### Method\tShortcut\tDescription\r\n",
    "add()\t \tAdds an element to the se\n",
    "\r\n",
    "clear()\t \tRemoves all the elements from the set\r\n",
    "copy()\t \tReturns a copy of the set\r\n",
    "difference()\t-\tReturns a set containing the difference between two or more sets\r\n",
    "difference_update()\t-=\tRemoves the items in this set that are also included in another, specified set\r\n",
    "discard()\t \tRemove the specified item\r\n",
    "intersection()\t&\tReturns a set, that is the intersection of two other sets\r\n",
    "intersection_update()\t&=\tRemoves the items in this set that are not present in other, specified set(s)\r\n",
    "isdioint()\t \tReturns whether two sets have a intersection or not\r\n",
    "issubset()\t<=\tReturns whether another set contains this s        et or not\r\n",
    " \t<\tReturns whether all items in this set is present in other, specified set(s)\r\n",
    "issuperset()\t>=\tReturns whether this set contains another         set or not\r\n",
    " \t>\tReturns whether all items in other, specified set(s) is present in this set\r\n",
    "pop()\t \tRemoves an element from theet\r\n",
    "remove()\t \tRemoves the specified element\r\n",
    "symmetric_difference()\t^\tReturns a set with the symmetric differences of two sets\r\n",
    "symmetric_difference_update()\t^=\tInserts the symmetric differences from this set and  another\r\n",
    "union()\t|\tReturn a set containing the unio  of sets\r\n",
    "update()\t|=\tUpdate the set with the union of this set and others"
   ]
  }
 ],
 "metadata": {
  "kernelspec": {
   "display_name": "Python 3 (ipykernel)",
   "language": "python",
   "name": "python3"
  },
  "language_info": {
   "codemirror_mode": {
    "name": "ipython",
    "version": 3
   },
   "file_extension": ".py",
   "mimetype": "text/x-python",
   "name": "python",
   "nbconvert_exporter": "python",
   "pygments_lexer": "ipython3",
   "version": "3.11.7"
  }
 },
 "nbformat": 4,
 "nbformat_minor": 5
}
